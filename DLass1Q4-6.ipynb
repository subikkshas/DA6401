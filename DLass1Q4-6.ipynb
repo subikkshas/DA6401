{
  "nbformat": 4,
  "nbformat_minor": 0,
  "metadata": {
    "colab": {
      "provenance": [],
      "authorship_tag": "ABX9TyPVo806+I1fOU3+TwTt/xts",
      "include_colab_link": true
    },
    "kernelspec": {
      "name": "python3",
      "display_name": "Python 3"
    },
    "language_info": {
      "name": "python"
    }
  },
  "cells": [
    {
      "cell_type": "markdown",
      "metadata": {
        "id": "view-in-github",
        "colab_type": "text"
      },
      "source": [
        "<a href=\"https://colab.research.google.com/github/subikkshas/DA6401/blob/main/DLass1Q4-6.ipynb\" target=\"_parent\"><img src=\"https://colab.research.google.com/assets/colab-badge.svg\" alt=\"Open In Colab\"/></a>"
      ]
    },
    {
      "cell_type": "code",
      "source": [
        "import wandb\n",
        "import numpy as np\n",
        "from keras.datasets import fashion_mnist  # Only for dataset loading\n",
        "\n",
        "# 🔹 WandB Login\n",
        "wandb.login()\n",
        "\n",
        "# 🔹 Activation Functions & Their Derivatives\n",
        "def sigmoid(x): return 1 / (1 + np.exp(-x))\n",
        "def tanh(x): return np.tanh(x)\n",
        "def relu(x): return np.maximum(0, x)\n",
        "\n",
        "def sigmoid_derivative(x): return x * (1 - x)\n",
        "def tanh_derivative(x): return 1 - np.tanh(x) ** 2\n",
        "def relu_derivative(x): return np.where(x > 0, 1, 0)\n",
        "\n",
        "activations = {\"sigmoid\": (sigmoid, sigmoid_derivative),\n",
        "               \"tanh\": (tanh, tanh_derivative),\n",
        "               \"ReLU\": (relu, relu_derivative)}\n",
        "\n",
        "# 🔹 Weight Initialization\n",
        "def initialize_weights(layers, method=\"random\"):\n",
        "    weights, biases = [], []\n",
        "    for i in range(len(layers) - 1):\n",
        "        if method == \"random\":\n",
        "            weights.append(np.random.randn(layers[i], layers[i+1]) * 0.01)\n",
        "        elif method == \"Xavier\":\n",
        "            weights.append(np.random.randn(layers[i], layers[i+1]) * np.sqrt(1 / layers[i]))\n",
        "        biases.append(np.zeros((1, layers[i+1])))\n",
        "    return weights, biases\n",
        "\n",
        "# 🔹 Forward Pass\n",
        "def forward_pass(X, weights, biases, activation):\n",
        "    activ, deriv = activations[activation]\n",
        "    activations_list = [X]\n",
        "    pre_activations = []\n",
        "\n",
        "    for W, b in zip(weights, biases):\n",
        "        Z = np.dot(activations_list[-1], W) + b\n",
        "        pre_activations.append(Z)\n",
        "        A = activ(Z)\n",
        "        activations_list.append(A)\n",
        "\n",
        "    return activations_list, pre_activations\n",
        "\n",
        "# 🔹 Backpropagation\n",
        "def backward_pass(activations_list, pre_activations, y, weights, biases, activation):\n",
        "    m = y.shape[0]\n",
        "    activ, deriv = activations[activation]\n",
        "\n",
        "    # One-hot encode y\n",
        "    y_one_hot = np.zeros((m, 10))\n",
        "    y_one_hot[np.arange(m), y] = 1\n",
        "\n",
        "    dZ = activations_list[-1] - y_one_hot  # Softmax gradient\n",
        "    dW, db = [], []\n",
        "\n",
        "    for i in range(len(weights) - 1, -1, -1):\n",
        "        dW_i = np.dot(activations_list[i].T, dZ) / m\n",
        "        db_i = np.sum(dZ, axis=0, keepdims=True) / m\n",
        "        dW.insert(0, dW_i)\n",
        "        db.insert(0, db_i)\n",
        "\n",
        "        if i > 0:\n",
        "            dZ = np.dot(dZ, weights[i].T) * deriv(pre_activations[i-1])\n",
        "\n",
        "    return dW, db\n",
        "\n",
        "# 🔹 Optimizer Class\n",
        "class Optimizer:\n",
        "    def __init__(self, method=\"sgd\", lr=0.01, momentum=0.9, beta1=0.9, beta2=0.999, epsilon=1e-8):\n",
        "        self.method = method\n",
        "        self.lr = lr\n",
        "        self.momentum = momentum\n",
        "        self.beta1 = beta1\n",
        "        self.beta2 = beta2\n",
        "        self.epsilon = epsilon\n",
        "        self.v_dW, self.s_dW = {}, {}\n",
        "        self.v_db, self.s_db = {}, {}\n",
        "        self.t = 0\n",
        "\n",
        "    def update(self, weights, biases, dW, db):\n",
        "        updated_weights, updated_biases = [], []\n",
        "        for i, (W, b, dW_i, db_i) in enumerate(zip(weights, biases, dW, db)):\n",
        "            if self.method == \"sgd\":\n",
        "                W -= self.lr * dW_i\n",
        "                b -= self.lr * db_i\n",
        "            updated_weights.append(W)\n",
        "            updated_biases.append(b)\n",
        "        return updated_weights, updated_biases\n",
        "\n",
        "# 🔹 Load Dataset\n",
        "(X_train, y_train), (X_test, y_test) = fashion_mnist.load_data()\n",
        "X_train, X_test = X_train / 255.0, X_test / 255.0\n",
        "val_size = int(0.1 * len(X_train))\n",
        "X_val, y_val = X_train[:val_size], y_train[:val_size]\n",
        "X_train, y_train = X_train[val_size:], y_train[val_size:]\n",
        "\n",
        "# 🔹 Train Function with Meaningful Sweep Names & Auto-Generated Plots\n",
        "def train():\n",
        "    run = wandb.init(project=\"DA6401-Assignment-1\", group=\"Q4\", config=wandb.config)\n",
        "\n",
        "    # Constructing meaningful name for this sweep\n",
        "    config = wandb.config\n",
        "    sweep_name = f\"hl_{config.hidden_layers}_bs_{config.batch_size}_ac_{config.activation}\"\n",
        "    run.name = sweep_name  # Assign custom name to this run\n",
        "\n",
        "    # Initialize Model Weights & Biases\n",
        "    layers = [784] + [config.hidden_size] * config.hidden_layers + [10]\n",
        "    weights, biases = initialize_weights(layers, method=config.weight_init)\n",
        "    optimizer = Optimizer(config.optimizer, config.learning_rate)\n",
        "\n",
        "    history = {\"loss\": [], \"val_loss\": [], \"accuracy\": [], \"val_accuracy\": []}\n",
        "\n",
        "    for epoch in range(config.epochs):\n",
        "      activations_list, pre_activations = forward_pass(X_train.reshape(-1, 784), weights, biases, config.activation)\n",
        "      dW, db = backward_pass(activations_list, pre_activations, y_train, weights, biases, config.activation)\n",
        "      weights, biases = optimizer.update(weights, biases, dW, db)\n",
        "\n",
        "    # Compute Training Loss & Accuracy\n",
        "      train_preds = np.argmax(activations_list[-1], axis=1)\n",
        "      train_accuracy = np.mean(train_preds == y_train)\n",
        "      train_loss = -np.sum(np.log(activations_list[-1][np.arange(len(y_train)), y_train])) / len(y_train)\n",
        "\n",
        "    # Compute Validation Loss & Accuracy\n",
        "      val_activations, _ = forward_pass(X_val.reshape(-1, 784), weights, biases, config.activation)\n",
        "      val_preds = np.argmax(val_activations[-1], axis=1)\n",
        "      val_accuracy = np.mean(val_preds == y_val)\n",
        "      val_loss = -np.sum(np.log(val_activations[-1][np.arange(len(y_val)), y_val])) / len(y_val)\n",
        "\n",
        "    # 🔹 Correct way to log: Log all values per epoch & explicitly set step=epoch\n",
        "    wandb.log({\n",
        "        \"epoch\": epoch,                # Ensures tracking over time\n",
        "        \"loss\": train_loss,            # Scalar\n",
        "        \"accuracy\": train_accuracy,    # Scalar\n",
        "        \"val_loss\": val_loss,          # Scalar\n",
        "        \"val_accuracy\": val_accuracy   # Scalar\n",
        "    }, step=epoch)  # Ensures all plots use \"epoch\" on the x-axis\n",
        "\n",
        "\n",
        "    run.finish()\n",
        "\n",
        "# 🔹 WandB Sweep Setup with Hyperparameters\n",
        "sweep_config = {\n",
        "    \"method\": \"random\",\n",
        "    \"metric\": {\"name\": \"val_accuracy\", \"goal\": \"maximize\"},\n",
        "    \"parameters\": {\n",
        "        \"epochs\": {\"values\": [5, 10]},\n",
        "        \"hidden_layers\": {\"values\": [3, 4, 5]},\n",
        "        \"hidden_size\": {\"values\": [32, 64, 128]},\n",
        "        \"batch_size\": {\"values\": [16, 32, 64]},\n",
        "        \"weight_init\": {\"values\": [\"random\", \"Xavier\"]},\n",
        "        \"activation\": {\"values\": [\"sigmoid\", \"tanh\", \"ReLU\"]},\n",
        "        \"optimizer\": {\"values\": [\"sgd\", \"adam\"]},\n",
        "        \"learning_rate\": {\"values\": [1e-3, 1e-4]}\n",
        "    }\n",
        "}\n",
        "\n",
        "# 🔹 Run WandB Sweep\n",
        "sweep_id = wandb.sweep(sweep_config, project=\"DA6401-Assignment-1\")\n",
        "wandb.agent(sweep_id, function=train, count=10)  # Run 10 different configurations\n"
      ],
      "metadata": {
        "colab": {
          "base_uri": "https://localhost:8080/",
          "height": 1000
        },
        "id": "Nn3UQCGwLKFN",
        "outputId": "44e14b40-203e-47c3-85b9-71d45adf4de5"
      },
      "execution_count": 1,
      "outputs": [
        {
          "output_type": "stream",
          "name": "stderr",
          "text": [
            "\u001b[34m\u001b[1mwandb\u001b[0m: Using wandb-core as the SDK backend.  Please refer to https://wandb.me/wandb-core for more information.\n",
            "\u001b[34m\u001b[1mwandb\u001b[0m: Currently logged in as: \u001b[33msubikksha\u001b[0m (\u001b[33msubikksha-indian-institute-of-technology-madras\u001b[0m) to \u001b[32mhttps://api.wandb.ai\u001b[0m. Use \u001b[1m`wandb login --relogin`\u001b[0m to force relogin\n"
          ]
        },
        {
          "output_type": "stream",
          "name": "stdout",
          "text": [
            "Create sweep with ID: hyi2rpim\n",
            "Sweep URL: https://wandb.ai/subikksha-indian-institute-of-technology-madras/DA6401-Assignment-1/sweeps/hyi2rpim\n"
          ]
        },
        {
          "output_type": "stream",
          "name": "stderr",
          "text": [
            "\u001b[34m\u001b[1mwandb\u001b[0m: Agent Starting Run: 9fq403pg with config:\n",
            "\u001b[34m\u001b[1mwandb\u001b[0m: \tactivation: sigmoid\n",
            "\u001b[34m\u001b[1mwandb\u001b[0m: \tbatch_size: 16\n",
            "\u001b[34m\u001b[1mwandb\u001b[0m: \tepochs: 10\n",
            "\u001b[34m\u001b[1mwandb\u001b[0m: \thidden_layers: 3\n",
            "\u001b[34m\u001b[1mwandb\u001b[0m: \thidden_size: 64\n",
            "\u001b[34m\u001b[1mwandb\u001b[0m: \tlearning_rate: 0.001\n",
            "\u001b[34m\u001b[1mwandb\u001b[0m: \toptimizer: adam\n",
            "\u001b[34m\u001b[1mwandb\u001b[0m: \tweight_init: Xavier\n"
          ]
        },
        {
          "output_type": "display_data",
          "data": {
            "text/plain": [
              "<IPython.core.display.HTML object>"
            ],
            "text/html": [
              "Ignoring project 'DA6401-Assignment-1' when running a sweep."
            ]
          },
          "metadata": {}
        },
        {
          "output_type": "display_data",
          "data": {
            "text/plain": [
              "<IPython.core.display.HTML object>"
            ],
            "text/html": [
              "Tracking run with wandb version 0.19.7"
            ]
          },
          "metadata": {}
        },
        {
          "output_type": "display_data",
          "data": {
            "text/plain": [
              "<IPython.core.display.HTML object>"
            ],
            "text/html": [
              "Run data is saved locally in <code>/content/wandb/run-20250309_110848-9fq403pg</code>"
            ]
          },
          "metadata": {}
        },
        {
          "output_type": "display_data",
          "data": {
            "text/plain": [
              "<IPython.core.display.HTML object>"
            ],
            "text/html": [
              "Syncing run <strong><a href='https://wandb.ai/subikksha-indian-institute-of-technology-madras/DA6401-Assignment-1/runs/9fq403pg' target=\"_blank\">fanciful-sweep-1</a></strong> to <a href='https://wandb.ai/subikksha-indian-institute-of-technology-madras/DA6401-Assignment-1' target=\"_blank\">Weights & Biases</a> (<a href='https://wandb.me/developer-guide' target=\"_blank\">docs</a>)<br>Sweep page: <a href='https://wandb.ai/subikksha-indian-institute-of-technology-madras/DA6401-Assignment-1/sweeps/hyi2rpim' target=\"_blank\">https://wandb.ai/subikksha-indian-institute-of-technology-madras/DA6401-Assignment-1/sweeps/hyi2rpim</a>"
            ]
          },
          "metadata": {}
        },
        {
          "output_type": "display_data",
          "data": {
            "text/plain": [
              "<IPython.core.display.HTML object>"
            ],
            "text/html": [
              " View project at <a href='https://wandb.ai/subikksha-indian-institute-of-technology-madras/DA6401-Assignment-1' target=\"_blank\">https://wandb.ai/subikksha-indian-institute-of-technology-madras/DA6401-Assignment-1</a>"
            ]
          },
          "metadata": {}
        },
        {
          "output_type": "display_data",
          "data": {
            "text/plain": [
              "<IPython.core.display.HTML object>"
            ],
            "text/html": [
              " View sweep at <a href='https://wandb.ai/subikksha-indian-institute-of-technology-madras/DA6401-Assignment-1/sweeps/hyi2rpim' target=\"_blank\">https://wandb.ai/subikksha-indian-institute-of-technology-madras/DA6401-Assignment-1/sweeps/hyi2rpim</a>"
            ]
          },
          "metadata": {}
        },
        {
          "output_type": "display_data",
          "data": {
            "text/plain": [
              "<IPython.core.display.HTML object>"
            ],
            "text/html": [
              " View run at <a href='https://wandb.ai/subikksha-indian-institute-of-technology-madras/DA6401-Assignment-1/runs/9fq403pg' target=\"_blank\">https://wandb.ai/subikksha-indian-institute-of-technology-madras/DA6401-Assignment-1/runs/9fq403pg</a>"
            ]
          },
          "metadata": {}
        },
        {
          "output_type": "display_data",
          "data": {
            "text/plain": [
              "<IPython.core.display.HTML object>"
            ],
            "text/html": []
          },
          "metadata": {}
        },
        {
          "output_type": "display_data",
          "data": {
            "text/plain": [
              "<IPython.core.display.HTML object>"
            ],
            "text/html": [
              "<br>    <style><br>        .wandb-row {<br>            display: flex;<br>            flex-direction: row;<br>            flex-wrap: wrap;<br>            justify-content: flex-start;<br>            width: 100%;<br>        }<br>        .wandb-col {<br>            display: flex;<br>            flex-direction: column;<br>            flex-basis: 100%;<br>            flex: 1;<br>            padding: 10px;<br>        }<br>    </style><br><div class=\"wandb-row\"><div class=\"wandb-col\"><h3>Run history:</h3><br/><table class=\"wandb\"><tr><td>accuracy</td><td>▁</td></tr><tr><td>epoch</td><td>▁</td></tr><tr><td>loss</td><td>▁</td></tr><tr><td>val_accuracy</td><td>▁</td></tr><tr><td>val_loss</td><td>▁</td></tr></table><br/></div><div class=\"wandb-col\"><h3>Run summary:</h3><br/><table class=\"wandb\"><tr><td>accuracy</td><td>0.09985</td></tr><tr><td>epoch</td><td>9</td></tr><tr><td>loss</td><td>0.78125</td></tr><tr><td>val_accuracy</td><td>0.10133</td></tr><tr><td>val_loss</td><td>0.77967</td></tr></table><br/></div></div>"
            ]
          },
          "metadata": {}
        },
        {
          "output_type": "display_data",
          "data": {
            "text/plain": [
              "<IPython.core.display.HTML object>"
            ],
            "text/html": [
              " View run <strong style=\"color:#cdcd00\">hl_3_bs_16_ac_sigmoid</strong> at: <a href='https://wandb.ai/subikksha-indian-institute-of-technology-madras/DA6401-Assignment-1/runs/9fq403pg' target=\"_blank\">https://wandb.ai/subikksha-indian-institute-of-technology-madras/DA6401-Assignment-1/runs/9fq403pg</a><br> View project at: <a href='https://wandb.ai/subikksha-indian-institute-of-technology-madras/DA6401-Assignment-1' target=\"_blank\">https://wandb.ai/subikksha-indian-institute-of-technology-madras/DA6401-Assignment-1</a><br>Synced 5 W&B file(s), 0 media file(s), 0 artifact file(s) and 0 other file(s)"
            ]
          },
          "metadata": {}
        },
        {
          "output_type": "display_data",
          "data": {
            "text/plain": [
              "<IPython.core.display.HTML object>"
            ],
            "text/html": [
              "Find logs at: <code>./wandb/run-20250309_110848-9fq403pg/logs</code>"
            ]
          },
          "metadata": {}
        },
        {
          "output_type": "stream",
          "name": "stderr",
          "text": [
            "\u001b[34m\u001b[1mwandb\u001b[0m: Agent Starting Run: esillo3n with config:\n",
            "\u001b[34m\u001b[1mwandb\u001b[0m: \tactivation: ReLU\n",
            "\u001b[34m\u001b[1mwandb\u001b[0m: \tbatch_size: 16\n",
            "\u001b[34m\u001b[1mwandb\u001b[0m: \tepochs: 5\n",
            "\u001b[34m\u001b[1mwandb\u001b[0m: \thidden_layers: 3\n",
            "\u001b[34m\u001b[1mwandb\u001b[0m: \thidden_size: 32\n",
            "\u001b[34m\u001b[1mwandb\u001b[0m: \tlearning_rate: 0.001\n",
            "\u001b[34m\u001b[1mwandb\u001b[0m: \toptimizer: sgd\n",
            "\u001b[34m\u001b[1mwandb\u001b[0m: \tweight_init: Xavier\n"
          ]
        },
        {
          "output_type": "display_data",
          "data": {
            "text/plain": [
              "<IPython.core.display.HTML object>"
            ],
            "text/html": [
              "Ignoring project 'DA6401-Assignment-1' when running a sweep."
            ]
          },
          "metadata": {}
        },
        {
          "output_type": "display_data",
          "data": {
            "text/plain": [
              "<IPython.core.display.HTML object>"
            ],
            "text/html": [
              "Tracking run with wandb version 0.19.7"
            ]
          },
          "metadata": {}
        },
        {
          "output_type": "display_data",
          "data": {
            "text/plain": [
              "<IPython.core.display.HTML object>"
            ],
            "text/html": [
              "Run data is saved locally in <code>/content/wandb/run-20250309_110909-esillo3n</code>"
            ]
          },
          "metadata": {}
        },
        {
          "output_type": "display_data",
          "data": {
            "text/plain": [
              "<IPython.core.display.HTML object>"
            ],
            "text/html": [
              "Syncing run <strong><a href='https://wandb.ai/subikksha-indian-institute-of-technology-madras/DA6401-Assignment-1/runs/esillo3n' target=\"_blank\">twilight-sweep-2</a></strong> to <a href='https://wandb.ai/subikksha-indian-institute-of-technology-madras/DA6401-Assignment-1' target=\"_blank\">Weights & Biases</a> (<a href='https://wandb.me/developer-guide' target=\"_blank\">docs</a>)<br>Sweep page: <a href='https://wandb.ai/subikksha-indian-institute-of-technology-madras/DA6401-Assignment-1/sweeps/hyi2rpim' target=\"_blank\">https://wandb.ai/subikksha-indian-institute-of-technology-madras/DA6401-Assignment-1/sweeps/hyi2rpim</a>"
            ]
          },
          "metadata": {}
        },
        {
          "output_type": "display_data",
          "data": {
            "text/plain": [
              "<IPython.core.display.HTML object>"
            ],
            "text/html": [
              " View project at <a href='https://wandb.ai/subikksha-indian-institute-of-technology-madras/DA6401-Assignment-1' target=\"_blank\">https://wandb.ai/subikksha-indian-institute-of-technology-madras/DA6401-Assignment-1</a>"
            ]
          },
          "metadata": {}
        },
        {
          "output_type": "display_data",
          "data": {
            "text/plain": [
              "<IPython.core.display.HTML object>"
            ],
            "text/html": [
              " View sweep at <a href='https://wandb.ai/subikksha-indian-institute-of-technology-madras/DA6401-Assignment-1/sweeps/hyi2rpim' target=\"_blank\">https://wandb.ai/subikksha-indian-institute-of-technology-madras/DA6401-Assignment-1/sweeps/hyi2rpim</a>"
            ]
          },
          "metadata": {}
        },
        {
          "output_type": "display_data",
          "data": {
            "text/plain": [
              "<IPython.core.display.HTML object>"
            ],
            "text/html": [
              " View run at <a href='https://wandb.ai/subikksha-indian-institute-of-technology-madras/DA6401-Assignment-1/runs/esillo3n' target=\"_blank\">https://wandb.ai/subikksha-indian-institute-of-technology-madras/DA6401-Assignment-1/runs/esillo3n</a>"
            ]
          },
          "metadata": {}
        },
        {
          "output_type": "stream",
          "name": "stderr",
          "text": [
            "<ipython-input-1-a9bbe889bc9e>:123: RuntimeWarning: divide by zero encountered in log\n",
            "  train_loss = -np.sum(np.log(activations_list[-1][np.arange(len(y_train)), y_train])) / len(y_train)\n",
            "<ipython-input-1-a9bbe889bc9e>:129: RuntimeWarning: divide by zero encountered in log\n",
            "  val_loss = -np.sum(np.log(val_activations[-1][np.arange(len(y_val)), y_val])) / len(y_val)\n"
          ]
        },
        {
          "output_type": "display_data",
          "data": {
            "text/plain": [
              "<IPython.core.display.HTML object>"
            ],
            "text/html": []
          },
          "metadata": {}
        },
        {
          "output_type": "display_data",
          "data": {
            "text/plain": [
              "<IPython.core.display.HTML object>"
            ],
            "text/html": [
              "<br>    <style><br>        .wandb-row {<br>            display: flex;<br>            flex-direction: row;<br>            flex-wrap: wrap;<br>            justify-content: flex-start;<br>            width: 100%;<br>        }<br>        .wandb-col {<br>            display: flex;<br>            flex-direction: column;<br>            flex-basis: 100%;<br>            flex: 1;<br>            padding: 10px;<br>        }<br>    </style><br><div class=\"wandb-row\"><div class=\"wandb-col\"><h3>Run history:</h3><br/><table class=\"wandb\"><tr><td>accuracy</td><td>▁</td></tr><tr><td>epoch</td><td>▁</td></tr><tr><td>val_accuracy</td><td>▁</td></tr></table><br/></div><div class=\"wandb-col\"><h3>Run summary:</h3><br/><table class=\"wandb\"><tr><td>accuracy</td><td>0.08541</td></tr><tr><td>epoch</td><td>4</td></tr><tr><td>loss</td><td>inf</td></tr><tr><td>val_accuracy</td><td>0.08517</td></tr><tr><td>val_loss</td><td>inf</td></tr></table><br/></div></div>"
            ]
          },
          "metadata": {}
        },
        {
          "output_type": "display_data",
          "data": {
            "text/plain": [
              "<IPython.core.display.HTML object>"
            ],
            "text/html": [
              " View run <strong style=\"color:#cdcd00\">hl_3_bs_16_ac_ReLU</strong> at: <a href='https://wandb.ai/subikksha-indian-institute-of-technology-madras/DA6401-Assignment-1/runs/esillo3n' target=\"_blank\">https://wandb.ai/subikksha-indian-institute-of-technology-madras/DA6401-Assignment-1/runs/esillo3n</a><br> View project at: <a href='https://wandb.ai/subikksha-indian-institute-of-technology-madras/DA6401-Assignment-1' target=\"_blank\">https://wandb.ai/subikksha-indian-institute-of-technology-madras/DA6401-Assignment-1</a><br>Synced 5 W&B file(s), 0 media file(s), 0 artifact file(s) and 0 other file(s)"
            ]
          },
          "metadata": {}
        },
        {
          "output_type": "display_data",
          "data": {
            "text/plain": [
              "<IPython.core.display.HTML object>"
            ],
            "text/html": [
              "Find logs at: <code>./wandb/run-20250309_110909-esillo3n/logs</code>"
            ]
          },
          "metadata": {}
        },
        {
          "output_type": "stream",
          "name": "stderr",
          "text": [
            "\u001b[34m\u001b[1mwandb\u001b[0m: Agent Starting Run: doyikqx1 with config:\n",
            "\u001b[34m\u001b[1mwandb\u001b[0m: \tactivation: ReLU\n",
            "\u001b[34m\u001b[1mwandb\u001b[0m: \tbatch_size: 16\n",
            "\u001b[34m\u001b[1mwandb\u001b[0m: \tepochs: 5\n",
            "\u001b[34m\u001b[1mwandb\u001b[0m: \thidden_layers: 3\n",
            "\u001b[34m\u001b[1mwandb\u001b[0m: \thidden_size: 128\n",
            "\u001b[34m\u001b[1mwandb\u001b[0m: \tlearning_rate: 0.0001\n",
            "\u001b[34m\u001b[1mwandb\u001b[0m: \toptimizer: sgd\n",
            "\u001b[34m\u001b[1mwandb\u001b[0m: \tweight_init: Xavier\n"
          ]
        },
        {
          "output_type": "display_data",
          "data": {
            "text/plain": [
              "<IPython.core.display.HTML object>"
            ],
            "text/html": [
              "Ignoring project 'DA6401-Assignment-1' when running a sweep."
            ]
          },
          "metadata": {}
        },
        {
          "output_type": "display_data",
          "data": {
            "text/plain": [
              "<IPython.core.display.HTML object>"
            ],
            "text/html": [
              "Tracking run with wandb version 0.19.7"
            ]
          },
          "metadata": {}
        },
        {
          "output_type": "display_data",
          "data": {
            "text/plain": [
              "<IPython.core.display.HTML object>"
            ],
            "text/html": [
              "Run data is saved locally in <code>/content/wandb/run-20250309_110919-doyikqx1</code>"
            ]
          },
          "metadata": {}
        },
        {
          "output_type": "display_data",
          "data": {
            "text/plain": [
              "<IPython.core.display.HTML object>"
            ],
            "text/html": [
              "Syncing run <strong><a href='https://wandb.ai/subikksha-indian-institute-of-technology-madras/DA6401-Assignment-1/runs/doyikqx1' target=\"_blank\">fancy-sweep-3</a></strong> to <a href='https://wandb.ai/subikksha-indian-institute-of-technology-madras/DA6401-Assignment-1' target=\"_blank\">Weights & Biases</a> (<a href='https://wandb.me/developer-guide' target=\"_blank\">docs</a>)<br>Sweep page: <a href='https://wandb.ai/subikksha-indian-institute-of-technology-madras/DA6401-Assignment-1/sweeps/hyi2rpim' target=\"_blank\">https://wandb.ai/subikksha-indian-institute-of-technology-madras/DA6401-Assignment-1/sweeps/hyi2rpim</a>"
            ]
          },
          "metadata": {}
        },
        {
          "output_type": "display_data",
          "data": {
            "text/plain": [
              "<IPython.core.display.HTML object>"
            ],
            "text/html": [
              " View project at <a href='https://wandb.ai/subikksha-indian-institute-of-technology-madras/DA6401-Assignment-1' target=\"_blank\">https://wandb.ai/subikksha-indian-institute-of-technology-madras/DA6401-Assignment-1</a>"
            ]
          },
          "metadata": {}
        },
        {
          "output_type": "display_data",
          "data": {
            "text/plain": [
              "<IPython.core.display.HTML object>"
            ],
            "text/html": [
              " View sweep at <a href='https://wandb.ai/subikksha-indian-institute-of-technology-madras/DA6401-Assignment-1/sweeps/hyi2rpim' target=\"_blank\">https://wandb.ai/subikksha-indian-institute-of-technology-madras/DA6401-Assignment-1/sweeps/hyi2rpim</a>"
            ]
          },
          "metadata": {}
        },
        {
          "output_type": "display_data",
          "data": {
            "text/plain": [
              "<IPython.core.display.HTML object>"
            ],
            "text/html": [
              " View run at <a href='https://wandb.ai/subikksha-indian-institute-of-technology-madras/DA6401-Assignment-1/runs/doyikqx1' target=\"_blank\">https://wandb.ai/subikksha-indian-institute-of-technology-madras/DA6401-Assignment-1/runs/doyikqx1</a>"
            ]
          },
          "metadata": {}
        },
        {
          "output_type": "display_data",
          "data": {
            "text/plain": [
              "<IPython.core.display.HTML object>"
            ],
            "text/html": []
          },
          "metadata": {}
        },
        {
          "output_type": "display_data",
          "data": {
            "text/plain": [
              "<IPython.core.display.HTML object>"
            ],
            "text/html": [
              "<br>    <style><br>        .wandb-row {<br>            display: flex;<br>            flex-direction: row;<br>            flex-wrap: wrap;<br>            justify-content: flex-start;<br>            width: 100%;<br>        }<br>        .wandb-col {<br>            display: flex;<br>            flex-direction: column;<br>            flex-basis: 100%;<br>            flex: 1;<br>            padding: 10px;<br>        }<br>    </style><br><div class=\"wandb-row\"><div class=\"wandb-col\"><h3>Run history:</h3><br/><table class=\"wandb\"><tr><td>accuracy</td><td>▁</td></tr><tr><td>epoch</td><td>▁</td></tr><tr><td>val_accuracy</td><td>▁</td></tr></table><br/></div><div class=\"wandb-col\"><h3>Run summary:</h3><br/><table class=\"wandb\"><tr><td>accuracy</td><td>0.1677</td></tr><tr><td>epoch</td><td>4</td></tr><tr><td>loss</td><td>inf</td></tr><tr><td>val_accuracy</td><td>0.16617</td></tr><tr><td>val_loss</td><td>inf</td></tr></table><br/></div></div>"
            ]
          },
          "metadata": {}
        },
        {
          "output_type": "display_data",
          "data": {
            "text/plain": [
              "<IPython.core.display.HTML object>"
            ],
            "text/html": [
              " View run <strong style=\"color:#cdcd00\">hl_3_bs_16_ac_ReLU</strong> at: <a href='https://wandb.ai/subikksha-indian-institute-of-technology-madras/DA6401-Assignment-1/runs/doyikqx1' target=\"_blank\">https://wandb.ai/subikksha-indian-institute-of-technology-madras/DA6401-Assignment-1/runs/doyikqx1</a><br> View project at: <a href='https://wandb.ai/subikksha-indian-institute-of-technology-madras/DA6401-Assignment-1' target=\"_blank\">https://wandb.ai/subikksha-indian-institute-of-technology-madras/DA6401-Assignment-1</a><br>Synced 5 W&B file(s), 0 media file(s), 0 artifact file(s) and 0 other file(s)"
            ]
          },
          "metadata": {}
        },
        {
          "output_type": "display_data",
          "data": {
            "text/plain": [
              "<IPython.core.display.HTML object>"
            ],
            "text/html": [
              "Find logs at: <code>./wandb/run-20250309_110919-doyikqx1/logs</code>"
            ]
          },
          "metadata": {}
        },
        {
          "output_type": "stream",
          "name": "stderr",
          "text": [
            "\u001b[34m\u001b[1mwandb\u001b[0m: Agent Starting Run: q1o4hyrf with config:\n",
            "\u001b[34m\u001b[1mwandb\u001b[0m: \tactivation: tanh\n",
            "\u001b[34m\u001b[1mwandb\u001b[0m: \tbatch_size: 32\n",
            "\u001b[34m\u001b[1mwandb\u001b[0m: \tepochs: 10\n",
            "\u001b[34m\u001b[1mwandb\u001b[0m: \thidden_layers: 4\n",
            "\u001b[34m\u001b[1mwandb\u001b[0m: \thidden_size: 128\n",
            "\u001b[34m\u001b[1mwandb\u001b[0m: \tlearning_rate: 0.0001\n",
            "\u001b[34m\u001b[1mwandb\u001b[0m: \toptimizer: adam\n",
            "\u001b[34m\u001b[1mwandb\u001b[0m: \tweight_init: Xavier\n"
          ]
        },
        {
          "output_type": "display_data",
          "data": {
            "text/plain": [
              "<IPython.core.display.HTML object>"
            ],
            "text/html": [
              "Ignoring project 'DA6401-Assignment-1' when running a sweep."
            ]
          },
          "metadata": {}
        },
        {
          "output_type": "display_data",
          "data": {
            "text/plain": [
              "<IPython.core.display.HTML object>"
            ],
            "text/html": [
              "Tracking run with wandb version 0.19.7"
            ]
          },
          "metadata": {}
        },
        {
          "output_type": "display_data",
          "data": {
            "text/plain": [
              "<IPython.core.display.HTML object>"
            ],
            "text/html": [
              "Run data is saved locally in <code>/content/wandb/run-20250309_110940-q1o4hyrf</code>"
            ]
          },
          "metadata": {}
        },
        {
          "output_type": "display_data",
          "data": {
            "text/plain": [
              "<IPython.core.display.HTML object>"
            ],
            "text/html": [
              "Syncing run <strong><a href='https://wandb.ai/subikksha-indian-institute-of-technology-madras/DA6401-Assignment-1/runs/q1o4hyrf' target=\"_blank\">vibrant-sweep-4</a></strong> to <a href='https://wandb.ai/subikksha-indian-institute-of-technology-madras/DA6401-Assignment-1' target=\"_blank\">Weights & Biases</a> (<a href='https://wandb.me/developer-guide' target=\"_blank\">docs</a>)<br>Sweep page: <a href='https://wandb.ai/subikksha-indian-institute-of-technology-madras/DA6401-Assignment-1/sweeps/hyi2rpim' target=\"_blank\">https://wandb.ai/subikksha-indian-institute-of-technology-madras/DA6401-Assignment-1/sweeps/hyi2rpim</a>"
            ]
          },
          "metadata": {}
        },
        {
          "output_type": "display_data",
          "data": {
            "text/plain": [
              "<IPython.core.display.HTML object>"
            ],
            "text/html": [
              " View project at <a href='https://wandb.ai/subikksha-indian-institute-of-technology-madras/DA6401-Assignment-1' target=\"_blank\">https://wandb.ai/subikksha-indian-institute-of-technology-madras/DA6401-Assignment-1</a>"
            ]
          },
          "metadata": {}
        },
        {
          "output_type": "display_data",
          "data": {
            "text/plain": [
              "<IPython.core.display.HTML object>"
            ],
            "text/html": [
              " View sweep at <a href='https://wandb.ai/subikksha-indian-institute-of-technology-madras/DA6401-Assignment-1/sweeps/hyi2rpim' target=\"_blank\">https://wandb.ai/subikksha-indian-institute-of-technology-madras/DA6401-Assignment-1/sweeps/hyi2rpim</a>"
            ]
          },
          "metadata": {}
        },
        {
          "output_type": "display_data",
          "data": {
            "text/plain": [
              "<IPython.core.display.HTML object>"
            ],
            "text/html": [
              " View run at <a href='https://wandb.ai/subikksha-indian-institute-of-technology-madras/DA6401-Assignment-1/runs/q1o4hyrf' target=\"_blank\">https://wandb.ai/subikksha-indian-institute-of-technology-madras/DA6401-Assignment-1/runs/q1o4hyrf</a>"
            ]
          },
          "metadata": {}
        },
        {
          "output_type": "stream",
          "name": "stderr",
          "text": [
            "<ipython-input-1-a9bbe889bc9e>:123: RuntimeWarning: invalid value encountered in log\n",
            "  train_loss = -np.sum(np.log(activations_list[-1][np.arange(len(y_train)), y_train])) / len(y_train)\n",
            "<ipython-input-1-a9bbe889bc9e>:129: RuntimeWarning: invalid value encountered in log\n",
            "  val_loss = -np.sum(np.log(val_activations[-1][np.arange(len(y_val)), y_val])) / len(y_val)\n"
          ]
        },
        {
          "output_type": "display_data",
          "data": {
            "text/plain": [
              "<IPython.core.display.HTML object>"
            ],
            "text/html": []
          },
          "metadata": {}
        },
        {
          "output_type": "display_data",
          "data": {
            "text/plain": [
              "<IPython.core.display.HTML object>"
            ],
            "text/html": [
              "<br>    <style><br>        .wandb-row {<br>            display: flex;<br>            flex-direction: row;<br>            flex-wrap: wrap;<br>            justify-content: flex-start;<br>            width: 100%;<br>        }<br>        .wandb-col {<br>            display: flex;<br>            flex-direction: column;<br>            flex-basis: 100%;<br>            flex: 1;<br>            padding: 10px;<br>        }<br>    </style><br><div class=\"wandb-row\"><div class=\"wandb-col\"><h3>Run history:</h3><br/><table class=\"wandb\"><tr><td>accuracy</td><td>▁</td></tr><tr><td>epoch</td><td>▁</td></tr><tr><td>val_accuracy</td><td>▁</td></tr></table><br/></div><div class=\"wandb-col\"><h3>Run summary:</h3><br/><table class=\"wandb\"><tr><td>accuracy</td><td>0.14719</td></tr><tr><td>epoch</td><td>9</td></tr><tr><td>loss</td><td>nan</td></tr><tr><td>val_accuracy</td><td>0.15117</td></tr><tr><td>val_loss</td><td>nan</td></tr></table><br/></div></div>"
            ]
          },
          "metadata": {}
        },
        {
          "output_type": "display_data",
          "data": {
            "text/plain": [
              "<IPython.core.display.HTML object>"
            ],
            "text/html": [
              " View run <strong style=\"color:#cdcd00\">hl_4_bs_32_ac_tanh</strong> at: <a href='https://wandb.ai/subikksha-indian-institute-of-technology-madras/DA6401-Assignment-1/runs/q1o4hyrf' target=\"_blank\">https://wandb.ai/subikksha-indian-institute-of-technology-madras/DA6401-Assignment-1/runs/q1o4hyrf</a><br> View project at: <a href='https://wandb.ai/subikksha-indian-institute-of-technology-madras/DA6401-Assignment-1' target=\"_blank\">https://wandb.ai/subikksha-indian-institute-of-technology-madras/DA6401-Assignment-1</a><br>Synced 5 W&B file(s), 0 media file(s), 0 artifact file(s) and 0 other file(s)"
            ]
          },
          "metadata": {}
        },
        {
          "output_type": "display_data",
          "data": {
            "text/plain": [
              "<IPython.core.display.HTML object>"
            ],
            "text/html": [
              "Find logs at: <code>./wandb/run-20250309_110940-q1o4hyrf/logs</code>"
            ]
          },
          "metadata": {}
        },
        {
          "output_type": "stream",
          "name": "stderr",
          "text": [
            "\u001b[34m\u001b[1mwandb\u001b[0m: Sweep Agent: Waiting for job.\n",
            "\u001b[34m\u001b[1mwandb\u001b[0m: Job received.\n",
            "\u001b[34m\u001b[1mwandb\u001b[0m: Agent Starting Run: 0sz0oi0x with config:\n",
            "\u001b[34m\u001b[1mwandb\u001b[0m: \tactivation: ReLU\n",
            "\u001b[34m\u001b[1mwandb\u001b[0m: \tbatch_size: 64\n",
            "\u001b[34m\u001b[1mwandb\u001b[0m: \tepochs: 10\n",
            "\u001b[34m\u001b[1mwandb\u001b[0m: \thidden_layers: 4\n",
            "\u001b[34m\u001b[1mwandb\u001b[0m: \thidden_size: 32\n",
            "\u001b[34m\u001b[1mwandb\u001b[0m: \tlearning_rate: 0.0001\n",
            "\u001b[34m\u001b[1mwandb\u001b[0m: \toptimizer: sgd\n",
            "\u001b[34m\u001b[1mwandb\u001b[0m: \tweight_init: random\n"
          ]
        },
        {
          "output_type": "display_data",
          "data": {
            "text/plain": [
              "<IPython.core.display.HTML object>"
            ],
            "text/html": [
              "Ignoring project 'DA6401-Assignment-1' when running a sweep."
            ]
          },
          "metadata": {}
        },
        {
          "output_type": "display_data",
          "data": {
            "text/plain": [
              "<IPython.core.display.HTML object>"
            ],
            "text/html": [
              "Tracking run with wandb version 0.19.7"
            ]
          },
          "metadata": {}
        },
        {
          "output_type": "display_data",
          "data": {
            "text/plain": [
              "<IPython.core.display.HTML object>"
            ],
            "text/html": [
              "Run data is saved locally in <code>/content/wandb/run-20250309_111102-0sz0oi0x</code>"
            ]
          },
          "metadata": {}
        },
        {
          "output_type": "display_data",
          "data": {
            "text/plain": [
              "<IPython.core.display.HTML object>"
            ],
            "text/html": [
              "Syncing run <strong><a href='https://wandb.ai/subikksha-indian-institute-of-technology-madras/DA6401-Assignment-1/runs/0sz0oi0x' target=\"_blank\">winter-sweep-5</a></strong> to <a href='https://wandb.ai/subikksha-indian-institute-of-technology-madras/DA6401-Assignment-1' target=\"_blank\">Weights & Biases</a> (<a href='https://wandb.me/developer-guide' target=\"_blank\">docs</a>)<br>Sweep page: <a href='https://wandb.ai/subikksha-indian-institute-of-technology-madras/DA6401-Assignment-1/sweeps/hyi2rpim' target=\"_blank\">https://wandb.ai/subikksha-indian-institute-of-technology-madras/DA6401-Assignment-1/sweeps/hyi2rpim</a>"
            ]
          },
          "metadata": {}
        },
        {
          "output_type": "display_data",
          "data": {
            "text/plain": [
              "<IPython.core.display.HTML object>"
            ],
            "text/html": [
              " View project at <a href='https://wandb.ai/subikksha-indian-institute-of-technology-madras/DA6401-Assignment-1' target=\"_blank\">https://wandb.ai/subikksha-indian-institute-of-technology-madras/DA6401-Assignment-1</a>"
            ]
          },
          "metadata": {}
        },
        {
          "output_type": "display_data",
          "data": {
            "text/plain": [
              "<IPython.core.display.HTML object>"
            ],
            "text/html": [
              " View sweep at <a href='https://wandb.ai/subikksha-indian-institute-of-technology-madras/DA6401-Assignment-1/sweeps/hyi2rpim' target=\"_blank\">https://wandb.ai/subikksha-indian-institute-of-technology-madras/DA6401-Assignment-1/sweeps/hyi2rpim</a>"
            ]
          },
          "metadata": {}
        },
        {
          "output_type": "display_data",
          "data": {
            "text/plain": [
              "<IPython.core.display.HTML object>"
            ],
            "text/html": [
              " View run at <a href='https://wandb.ai/subikksha-indian-institute-of-technology-madras/DA6401-Assignment-1/runs/0sz0oi0x' target=\"_blank\">https://wandb.ai/subikksha-indian-institute-of-technology-madras/DA6401-Assignment-1/runs/0sz0oi0x</a>"
            ]
          },
          "metadata": {}
        },
        {
          "output_type": "display_data",
          "data": {
            "text/plain": [
              "<IPython.core.display.HTML object>"
            ],
            "text/html": []
          },
          "metadata": {}
        },
        {
          "output_type": "display_data",
          "data": {
            "text/plain": [
              "<IPython.core.display.HTML object>"
            ],
            "text/html": [
              "<br>    <style><br>        .wandb-row {<br>            display: flex;<br>            flex-direction: row;<br>            flex-wrap: wrap;<br>            justify-content: flex-start;<br>            width: 100%;<br>        }<br>        .wandb-col {<br>            display: flex;<br>            flex-direction: column;<br>            flex-basis: 100%;<br>            flex: 1;<br>            padding: 10px;<br>        }<br>    </style><br><div class=\"wandb-row\"><div class=\"wandb-col\"><h3>Run history:</h3><br/><table class=\"wandb\"><tr><td>accuracy</td><td>▁</td></tr><tr><td>epoch</td><td>▁</td></tr><tr><td>loss</td><td>▁</td></tr><tr><td>val_accuracy</td><td>▁</td></tr><tr><td>val_loss</td><td>▁</td></tr></table><br/></div><div class=\"wandb-col\"><h3>Run summary:</h3><br/><table class=\"wandb\"><tr><td>accuracy</td><td>0.08576</td></tr><tr><td>epoch</td><td>9</td></tr><tr><td>loss</td><td>9.31579</td></tr><tr><td>val_accuracy</td><td>0.08283</td></tr><tr><td>val_loss</td><td>9.21054</td></tr></table><br/></div></div>"
            ]
          },
          "metadata": {}
        },
        {
          "output_type": "display_data",
          "data": {
            "text/plain": [
              "<IPython.core.display.HTML object>"
            ],
            "text/html": [
              " View run <strong style=\"color:#cdcd00\">hl_4_bs_64_ac_ReLU</strong> at: <a href='https://wandb.ai/subikksha-indian-institute-of-technology-madras/DA6401-Assignment-1/runs/0sz0oi0x' target=\"_blank\">https://wandb.ai/subikksha-indian-institute-of-technology-madras/DA6401-Assignment-1/runs/0sz0oi0x</a><br> View project at: <a href='https://wandb.ai/subikksha-indian-institute-of-technology-madras/DA6401-Assignment-1' target=\"_blank\">https://wandb.ai/subikksha-indian-institute-of-technology-madras/DA6401-Assignment-1</a><br>Synced 5 W&B file(s), 0 media file(s), 0 artifact file(s) and 0 other file(s)"
            ]
          },
          "metadata": {}
        },
        {
          "output_type": "display_data",
          "data": {
            "text/plain": [
              "<IPython.core.display.HTML object>"
            ],
            "text/html": [
              "Find logs at: <code>./wandb/run-20250309_111102-0sz0oi0x/logs</code>"
            ]
          },
          "metadata": {}
        },
        {
          "output_type": "stream",
          "name": "stderr",
          "text": [
            "\u001b[34m\u001b[1mwandb\u001b[0m: Agent Starting Run: fqkysfr8 with config:\n",
            "\u001b[34m\u001b[1mwandb\u001b[0m: \tactivation: tanh\n",
            "\u001b[34m\u001b[1mwandb\u001b[0m: \tbatch_size: 16\n",
            "\u001b[34m\u001b[1mwandb\u001b[0m: \tepochs: 10\n",
            "\u001b[34m\u001b[1mwandb\u001b[0m: \thidden_layers: 4\n",
            "\u001b[34m\u001b[1mwandb\u001b[0m: \thidden_size: 128\n",
            "\u001b[34m\u001b[1mwandb\u001b[0m: \tlearning_rate: 0.0001\n",
            "\u001b[34m\u001b[1mwandb\u001b[0m: \toptimizer: adam\n",
            "\u001b[34m\u001b[1mwandb\u001b[0m: \tweight_init: random\n"
          ]
        },
        {
          "output_type": "display_data",
          "data": {
            "text/plain": [
              "<IPython.core.display.HTML object>"
            ],
            "text/html": [
              "Ignoring project 'DA6401-Assignment-1' when running a sweep."
            ]
          },
          "metadata": {}
        },
        {
          "output_type": "display_data",
          "data": {
            "text/plain": [
              "<IPython.core.display.HTML object>"
            ],
            "text/html": [
              "Tracking run with wandb version 0.19.7"
            ]
          },
          "metadata": {}
        },
        {
          "output_type": "display_data",
          "data": {
            "text/plain": [
              "<IPython.core.display.HTML object>"
            ],
            "text/html": [
              "Run data is saved locally in <code>/content/wandb/run-20250309_111118-fqkysfr8</code>"
            ]
          },
          "metadata": {}
        },
        {
          "output_type": "display_data",
          "data": {
            "text/plain": [
              "<IPython.core.display.HTML object>"
            ],
            "text/html": [
              "Syncing run <strong><a href='https://wandb.ai/subikksha-indian-institute-of-technology-madras/DA6401-Assignment-1/runs/fqkysfr8' target=\"_blank\">eager-sweep-6</a></strong> to <a href='https://wandb.ai/subikksha-indian-institute-of-technology-madras/DA6401-Assignment-1' target=\"_blank\">Weights & Biases</a> (<a href='https://wandb.me/developer-guide' target=\"_blank\">docs</a>)<br>Sweep page: <a href='https://wandb.ai/subikksha-indian-institute-of-technology-madras/DA6401-Assignment-1/sweeps/hyi2rpim' target=\"_blank\">https://wandb.ai/subikksha-indian-institute-of-technology-madras/DA6401-Assignment-1/sweeps/hyi2rpim</a>"
            ]
          },
          "metadata": {}
        },
        {
          "output_type": "display_data",
          "data": {
            "text/plain": [
              "<IPython.core.display.HTML object>"
            ],
            "text/html": [
              " View project at <a href='https://wandb.ai/subikksha-indian-institute-of-technology-madras/DA6401-Assignment-1' target=\"_blank\">https://wandb.ai/subikksha-indian-institute-of-technology-madras/DA6401-Assignment-1</a>"
            ]
          },
          "metadata": {}
        },
        {
          "output_type": "display_data",
          "data": {
            "text/plain": [
              "<IPython.core.display.HTML object>"
            ],
            "text/html": [
              " View sweep at <a href='https://wandb.ai/subikksha-indian-institute-of-technology-madras/DA6401-Assignment-1/sweeps/hyi2rpim' target=\"_blank\">https://wandb.ai/subikksha-indian-institute-of-technology-madras/DA6401-Assignment-1/sweeps/hyi2rpim</a>"
            ]
          },
          "metadata": {}
        },
        {
          "output_type": "display_data",
          "data": {
            "text/plain": [
              "<IPython.core.display.HTML object>"
            ],
            "text/html": [
              " View run at <a href='https://wandb.ai/subikksha-indian-institute-of-technology-madras/DA6401-Assignment-1/runs/fqkysfr8' target=\"_blank\">https://wandb.ai/subikksha-indian-institute-of-technology-madras/DA6401-Assignment-1/runs/fqkysfr8</a>"
            ]
          },
          "metadata": {}
        },
        {
          "output_type": "display_data",
          "data": {
            "text/plain": [
              "<IPython.core.display.HTML object>"
            ],
            "text/html": []
          },
          "metadata": {}
        },
        {
          "output_type": "display_data",
          "data": {
            "text/plain": [
              "<IPython.core.display.HTML object>"
            ],
            "text/html": [
              "<br>    <style><br>        .wandb-row {<br>            display: flex;<br>            flex-direction: row;<br>            flex-wrap: wrap;<br>            justify-content: flex-start;<br>            width: 100%;<br>        }<br>        .wandb-col {<br>            display: flex;<br>            flex-direction: column;<br>            flex-basis: 100%;<br>            flex: 1;<br>            padding: 10px;<br>        }<br>    </style><br><div class=\"wandb-row\"><div class=\"wandb-col\"><h3>Run history:</h3><br/><table class=\"wandb\"><tr><td>accuracy</td><td>▁</td></tr><tr><td>epoch</td><td>▁</td></tr><tr><td>val_accuracy</td><td>▁</td></tr></table><br/></div><div class=\"wandb-col\"><h3>Run summary:</h3><br/><table class=\"wandb\"><tr><td>accuracy</td><td>0.09872</td></tr><tr><td>epoch</td><td>9</td></tr><tr><td>loss</td><td>nan</td></tr><tr><td>val_accuracy</td><td>0.09733</td></tr><tr><td>val_loss</td><td>nan</td></tr></table><br/></div></div>"
            ]
          },
          "metadata": {}
        },
        {
          "output_type": "display_data",
          "data": {
            "text/plain": [
              "<IPython.core.display.HTML object>"
            ],
            "text/html": [
              " View run <strong style=\"color:#cdcd00\">hl_4_bs_16_ac_tanh</strong> at: <a href='https://wandb.ai/subikksha-indian-institute-of-technology-madras/DA6401-Assignment-1/runs/fqkysfr8' target=\"_blank\">https://wandb.ai/subikksha-indian-institute-of-technology-madras/DA6401-Assignment-1/runs/fqkysfr8</a><br> View project at: <a href='https://wandb.ai/subikksha-indian-institute-of-technology-madras/DA6401-Assignment-1' target=\"_blank\">https://wandb.ai/subikksha-indian-institute-of-technology-madras/DA6401-Assignment-1</a><br>Synced 5 W&B file(s), 0 media file(s), 0 artifact file(s) and 0 other file(s)"
            ]
          },
          "metadata": {}
        },
        {
          "output_type": "display_data",
          "data": {
            "text/plain": [
              "<IPython.core.display.HTML object>"
            ],
            "text/html": [
              "Find logs at: <code>./wandb/run-20250309_111118-fqkysfr8/logs</code>"
            ]
          },
          "metadata": {}
        },
        {
          "output_type": "stream",
          "name": "stderr",
          "text": [
            "\u001b[34m\u001b[1mwandb\u001b[0m: Agent Starting Run: tiflyxb9 with config:\n",
            "\u001b[34m\u001b[1mwandb\u001b[0m: \tactivation: sigmoid\n",
            "\u001b[34m\u001b[1mwandb\u001b[0m: \tbatch_size: 64\n",
            "\u001b[34m\u001b[1mwandb\u001b[0m: \tepochs: 5\n",
            "\u001b[34m\u001b[1mwandb\u001b[0m: \thidden_layers: 3\n",
            "\u001b[34m\u001b[1mwandb\u001b[0m: \thidden_size: 32\n",
            "\u001b[34m\u001b[1mwandb\u001b[0m: \tlearning_rate: 0.001\n",
            "\u001b[34m\u001b[1mwandb\u001b[0m: \toptimizer: sgd\n",
            "\u001b[34m\u001b[1mwandb\u001b[0m: \tweight_init: random\n"
          ]
        },
        {
          "output_type": "display_data",
          "data": {
            "text/plain": [
              "<IPython.core.display.HTML object>"
            ],
            "text/html": [
              "Ignoring project 'DA6401-Assignment-1' when running a sweep."
            ]
          },
          "metadata": {}
        },
        {
          "output_type": "display_data",
          "data": {
            "text/plain": [
              "<IPython.core.display.HTML object>"
            ],
            "text/html": [
              "Tracking run with wandb version 0.19.7"
            ]
          },
          "metadata": {}
        },
        {
          "output_type": "display_data",
          "data": {
            "text/plain": [
              "<IPython.core.display.HTML object>"
            ],
            "text/html": [
              "Run data is saved locally in <code>/content/wandb/run-20250309_111230-tiflyxb9</code>"
            ]
          },
          "metadata": {}
        },
        {
          "output_type": "display_data",
          "data": {
            "text/plain": [
              "<IPython.core.display.HTML object>"
            ],
            "text/html": [
              "Syncing run <strong><a href='https://wandb.ai/subikksha-indian-institute-of-technology-madras/DA6401-Assignment-1/runs/tiflyxb9' target=\"_blank\">golden-sweep-7</a></strong> to <a href='https://wandb.ai/subikksha-indian-institute-of-technology-madras/DA6401-Assignment-1' target=\"_blank\">Weights & Biases</a> (<a href='https://wandb.me/developer-guide' target=\"_blank\">docs</a>)<br>Sweep page: <a href='https://wandb.ai/subikksha-indian-institute-of-technology-madras/DA6401-Assignment-1/sweeps/hyi2rpim' target=\"_blank\">https://wandb.ai/subikksha-indian-institute-of-technology-madras/DA6401-Assignment-1/sweeps/hyi2rpim</a>"
            ]
          },
          "metadata": {}
        },
        {
          "output_type": "display_data",
          "data": {
            "text/plain": [
              "<IPython.core.display.HTML object>"
            ],
            "text/html": [
              " View project at <a href='https://wandb.ai/subikksha-indian-institute-of-technology-madras/DA6401-Assignment-1' target=\"_blank\">https://wandb.ai/subikksha-indian-institute-of-technology-madras/DA6401-Assignment-1</a>"
            ]
          },
          "metadata": {}
        },
        {
          "output_type": "display_data",
          "data": {
            "text/plain": [
              "<IPython.core.display.HTML object>"
            ],
            "text/html": [
              " View sweep at <a href='https://wandb.ai/subikksha-indian-institute-of-technology-madras/DA6401-Assignment-1/sweeps/hyi2rpim' target=\"_blank\">https://wandb.ai/subikksha-indian-institute-of-technology-madras/DA6401-Assignment-1/sweeps/hyi2rpim</a>"
            ]
          },
          "metadata": {}
        },
        {
          "output_type": "display_data",
          "data": {
            "text/plain": [
              "<IPython.core.display.HTML object>"
            ],
            "text/html": [
              " View run at <a href='https://wandb.ai/subikksha-indian-institute-of-technology-madras/DA6401-Assignment-1/runs/tiflyxb9' target=\"_blank\">https://wandb.ai/subikksha-indian-institute-of-technology-madras/DA6401-Assignment-1/runs/tiflyxb9</a>"
            ]
          },
          "metadata": {}
        },
        {
          "output_type": "display_data",
          "data": {
            "text/plain": [
              "<IPython.core.display.HTML object>"
            ],
            "text/html": []
          },
          "metadata": {}
        },
        {
          "output_type": "display_data",
          "data": {
            "text/plain": [
              "<IPython.core.display.HTML object>"
            ],
            "text/html": [
              "<br>    <style><br>        .wandb-row {<br>            display: flex;<br>            flex-direction: row;<br>            flex-wrap: wrap;<br>            justify-content: flex-start;<br>            width: 100%;<br>        }<br>        .wandb-col {<br>            display: flex;<br>            flex-direction: column;<br>            flex-basis: 100%;<br>            flex: 1;<br>            padding: 10px;<br>        }<br>    </style><br><div class=\"wandb-row\"><div class=\"wandb-col\"><h3>Run history:</h3><br/><table class=\"wandb\"><tr><td>accuracy</td><td>▁</td></tr><tr><td>epoch</td><td>▁</td></tr><tr><td>loss</td><td>▁</td></tr><tr><td>val_accuracy</td><td>▁</td></tr><tr><td>val_loss</td><td>▁</td></tr></table><br/></div><div class=\"wandb-col\"><h3>Run summary:</h3><br/><table class=\"wandb\"><tr><td>accuracy</td><td>0.09978</td></tr><tr><td>epoch</td><td>4</td></tr><tr><td>loss</td><td>0.69787</td></tr><tr><td>val_accuracy</td><td>0.102</td></tr><tr><td>val_loss</td><td>0.69944</td></tr></table><br/></div></div>"
            ]
          },
          "metadata": {}
        },
        {
          "output_type": "display_data",
          "data": {
            "text/plain": [
              "<IPython.core.display.HTML object>"
            ],
            "text/html": [
              " View run <strong style=\"color:#cdcd00\">hl_3_bs_64_ac_sigmoid</strong> at: <a href='https://wandb.ai/subikksha-indian-institute-of-technology-madras/DA6401-Assignment-1/runs/tiflyxb9' target=\"_blank\">https://wandb.ai/subikksha-indian-institute-of-technology-madras/DA6401-Assignment-1/runs/tiflyxb9</a><br> View project at: <a href='https://wandb.ai/subikksha-indian-institute-of-technology-madras/DA6401-Assignment-1' target=\"_blank\">https://wandb.ai/subikksha-indian-institute-of-technology-madras/DA6401-Assignment-1</a><br>Synced 5 W&B file(s), 0 media file(s), 0 artifact file(s) and 0 other file(s)"
            ]
          },
          "metadata": {}
        },
        {
          "output_type": "display_data",
          "data": {
            "text/plain": [
              "<IPython.core.display.HTML object>"
            ],
            "text/html": [
              "Find logs at: <code>./wandb/run-20250309_111230-tiflyxb9/logs</code>"
            ]
          },
          "metadata": {}
        },
        {
          "output_type": "stream",
          "name": "stderr",
          "text": [
            "\u001b[34m\u001b[1mwandb\u001b[0m: Agent Starting Run: bg1z4fq4 with config:\n",
            "\u001b[34m\u001b[1mwandb\u001b[0m: \tactivation: tanh\n",
            "\u001b[34m\u001b[1mwandb\u001b[0m: \tbatch_size: 16\n",
            "\u001b[34m\u001b[1mwandb\u001b[0m: \tepochs: 5\n",
            "\u001b[34m\u001b[1mwandb\u001b[0m: \thidden_layers: 4\n",
            "\u001b[34m\u001b[1mwandb\u001b[0m: \thidden_size: 32\n",
            "\u001b[34m\u001b[1mwandb\u001b[0m: \tlearning_rate: 0.001\n",
            "\u001b[34m\u001b[1mwandb\u001b[0m: \toptimizer: sgd\n",
            "\u001b[34m\u001b[1mwandb\u001b[0m: \tweight_init: Xavier\n"
          ]
        },
        {
          "output_type": "display_data",
          "data": {
            "text/plain": [
              "<IPython.core.display.HTML object>"
            ],
            "text/html": [
              "Ignoring project 'DA6401-Assignment-1' when running a sweep."
            ]
          },
          "metadata": {}
        },
        {
          "output_type": "display_data",
          "data": {
            "text/plain": [
              "<IPython.core.display.HTML object>"
            ],
            "text/html": [
              "Tracking run with wandb version 0.19.7"
            ]
          },
          "metadata": {}
        },
        {
          "output_type": "display_data",
          "data": {
            "text/plain": [
              "<IPython.core.display.HTML object>"
            ],
            "text/html": [
              "Run data is saved locally in <code>/content/wandb/run-20250309_111246-bg1z4fq4</code>"
            ]
          },
          "metadata": {}
        },
        {
          "output_type": "display_data",
          "data": {
            "text/plain": [
              "<IPython.core.display.HTML object>"
            ],
            "text/html": [
              "Syncing run <strong><a href='https://wandb.ai/subikksha-indian-institute-of-technology-madras/DA6401-Assignment-1/runs/bg1z4fq4' target=\"_blank\">exalted-sweep-8</a></strong> to <a href='https://wandb.ai/subikksha-indian-institute-of-technology-madras/DA6401-Assignment-1' target=\"_blank\">Weights & Biases</a> (<a href='https://wandb.me/developer-guide' target=\"_blank\">docs</a>)<br>Sweep page: <a href='https://wandb.ai/subikksha-indian-institute-of-technology-madras/DA6401-Assignment-1/sweeps/hyi2rpim' target=\"_blank\">https://wandb.ai/subikksha-indian-institute-of-technology-madras/DA6401-Assignment-1/sweeps/hyi2rpim</a>"
            ]
          },
          "metadata": {}
        },
        {
          "output_type": "display_data",
          "data": {
            "text/plain": [
              "<IPython.core.display.HTML object>"
            ],
            "text/html": [
              " View project at <a href='https://wandb.ai/subikksha-indian-institute-of-technology-madras/DA6401-Assignment-1' target=\"_blank\">https://wandb.ai/subikksha-indian-institute-of-technology-madras/DA6401-Assignment-1</a>"
            ]
          },
          "metadata": {}
        },
        {
          "output_type": "display_data",
          "data": {
            "text/plain": [
              "<IPython.core.display.HTML object>"
            ],
            "text/html": [
              " View sweep at <a href='https://wandb.ai/subikksha-indian-institute-of-technology-madras/DA6401-Assignment-1/sweeps/hyi2rpim' target=\"_blank\">https://wandb.ai/subikksha-indian-institute-of-technology-madras/DA6401-Assignment-1/sweeps/hyi2rpim</a>"
            ]
          },
          "metadata": {}
        },
        {
          "output_type": "display_data",
          "data": {
            "text/plain": [
              "<IPython.core.display.HTML object>"
            ],
            "text/html": [
              " View run at <a href='https://wandb.ai/subikksha-indian-institute-of-technology-madras/DA6401-Assignment-1/runs/bg1z4fq4' target=\"_blank\">https://wandb.ai/subikksha-indian-institute-of-technology-madras/DA6401-Assignment-1/runs/bg1z4fq4</a>"
            ]
          },
          "metadata": {}
        },
        {
          "output_type": "display_data",
          "data": {
            "text/plain": [
              "<IPython.core.display.HTML object>"
            ],
            "text/html": []
          },
          "metadata": {}
        },
        {
          "output_type": "display_data",
          "data": {
            "text/plain": [
              "<IPython.core.display.HTML object>"
            ],
            "text/html": [
              "<br>    <style><br>        .wandb-row {<br>            display: flex;<br>            flex-direction: row;<br>            flex-wrap: wrap;<br>            justify-content: flex-start;<br>            width: 100%;<br>        }<br>        .wandb-col {<br>            display: flex;<br>            flex-direction: column;<br>            flex-basis: 100%;<br>            flex: 1;<br>            padding: 10px;<br>        }<br>    </style><br><div class=\"wandb-row\"><div class=\"wandb-col\"><h3>Run history:</h3><br/><table class=\"wandb\"><tr><td>accuracy</td><td>▁</td></tr><tr><td>epoch</td><td>▁</td></tr><tr><td>val_accuracy</td><td>▁</td></tr></table><br/></div><div class=\"wandb-col\"><h3>Run summary:</h3><br/><table class=\"wandb\"><tr><td>accuracy</td><td>0.14228</td></tr><tr><td>epoch</td><td>4</td></tr><tr><td>loss</td><td>nan</td></tr><tr><td>val_accuracy</td><td>0.1385</td></tr><tr><td>val_loss</td><td>nan</td></tr></table><br/></div></div>"
            ]
          },
          "metadata": {}
        },
        {
          "output_type": "display_data",
          "data": {
            "text/plain": [
              "<IPython.core.display.HTML object>"
            ],
            "text/html": [
              " View run <strong style=\"color:#cdcd00\">hl_4_bs_16_ac_tanh</strong> at: <a href='https://wandb.ai/subikksha-indian-institute-of-technology-madras/DA6401-Assignment-1/runs/bg1z4fq4' target=\"_blank\">https://wandb.ai/subikksha-indian-institute-of-technology-madras/DA6401-Assignment-1/runs/bg1z4fq4</a><br> View project at: <a href='https://wandb.ai/subikksha-indian-institute-of-technology-madras/DA6401-Assignment-1' target=\"_blank\">https://wandb.ai/subikksha-indian-institute-of-technology-madras/DA6401-Assignment-1</a><br>Synced 5 W&B file(s), 0 media file(s), 0 artifact file(s) and 0 other file(s)"
            ]
          },
          "metadata": {}
        },
        {
          "output_type": "display_data",
          "data": {
            "text/plain": [
              "<IPython.core.display.HTML object>"
            ],
            "text/html": [
              "Find logs at: <code>./wandb/run-20250309_111246-bg1z4fq4/logs</code>"
            ]
          },
          "metadata": {}
        },
        {
          "output_type": "stream",
          "name": "stderr",
          "text": [
            "\u001b[34m\u001b[1mwandb\u001b[0m: Agent Starting Run: xy8p918m with config:\n",
            "\u001b[34m\u001b[1mwandb\u001b[0m: \tactivation: ReLU\n",
            "\u001b[34m\u001b[1mwandb\u001b[0m: \tbatch_size: 16\n",
            "\u001b[34m\u001b[1mwandb\u001b[0m: \tepochs: 5\n",
            "\u001b[34m\u001b[1mwandb\u001b[0m: \thidden_layers: 4\n",
            "\u001b[34m\u001b[1mwandb\u001b[0m: \thidden_size: 32\n",
            "\u001b[34m\u001b[1mwandb\u001b[0m: \tlearning_rate: 0.0001\n",
            "\u001b[34m\u001b[1mwandb\u001b[0m: \toptimizer: sgd\n",
            "\u001b[34m\u001b[1mwandb\u001b[0m: \tweight_init: random\n"
          ]
        },
        {
          "output_type": "display_data",
          "data": {
            "text/plain": [
              "<IPython.core.display.HTML object>"
            ],
            "text/html": [
              "Ignoring project 'DA6401-Assignment-1' when running a sweep."
            ]
          },
          "metadata": {}
        },
        {
          "output_type": "display_data",
          "data": {
            "text/plain": [
              "<IPython.core.display.HTML object>"
            ],
            "text/html": [
              "Tracking run with wandb version 0.19.7"
            ]
          },
          "metadata": {}
        },
        {
          "output_type": "display_data",
          "data": {
            "text/plain": [
              "<IPython.core.display.HTML object>"
            ],
            "text/html": [
              "Run data is saved locally in <code>/content/wandb/run-20250309_111301-xy8p918m</code>"
            ]
          },
          "metadata": {}
        },
        {
          "output_type": "display_data",
          "data": {
            "text/plain": [
              "<IPython.core.display.HTML object>"
            ],
            "text/html": [
              "Syncing run <strong><a href='https://wandb.ai/subikksha-indian-institute-of-technology-madras/DA6401-Assignment-1/runs/xy8p918m' target=\"_blank\">firm-sweep-9</a></strong> to <a href='https://wandb.ai/subikksha-indian-institute-of-technology-madras/DA6401-Assignment-1' target=\"_blank\">Weights & Biases</a> (<a href='https://wandb.me/developer-guide' target=\"_blank\">docs</a>)<br>Sweep page: <a href='https://wandb.ai/subikksha-indian-institute-of-technology-madras/DA6401-Assignment-1/sweeps/hyi2rpim' target=\"_blank\">https://wandb.ai/subikksha-indian-institute-of-technology-madras/DA6401-Assignment-1/sweeps/hyi2rpim</a>"
            ]
          },
          "metadata": {}
        },
        {
          "output_type": "display_data",
          "data": {
            "text/plain": [
              "<IPython.core.display.HTML object>"
            ],
            "text/html": [
              " View project at <a href='https://wandb.ai/subikksha-indian-institute-of-technology-madras/DA6401-Assignment-1' target=\"_blank\">https://wandb.ai/subikksha-indian-institute-of-technology-madras/DA6401-Assignment-1</a>"
            ]
          },
          "metadata": {}
        },
        {
          "output_type": "display_data",
          "data": {
            "text/plain": [
              "<IPython.core.display.HTML object>"
            ],
            "text/html": [
              " View sweep at <a href='https://wandb.ai/subikksha-indian-institute-of-technology-madras/DA6401-Assignment-1/sweeps/hyi2rpim' target=\"_blank\">https://wandb.ai/subikksha-indian-institute-of-technology-madras/DA6401-Assignment-1/sweeps/hyi2rpim</a>"
            ]
          },
          "metadata": {}
        },
        {
          "output_type": "display_data",
          "data": {
            "text/plain": [
              "<IPython.core.display.HTML object>"
            ],
            "text/html": [
              " View run at <a href='https://wandb.ai/subikksha-indian-institute-of-technology-madras/DA6401-Assignment-1/runs/xy8p918m' target=\"_blank\">https://wandb.ai/subikksha-indian-institute-of-technology-madras/DA6401-Assignment-1/runs/xy8p918m</a>"
            ]
          },
          "metadata": {}
        },
        {
          "output_type": "display_data",
          "data": {
            "text/plain": [
              "<IPython.core.display.HTML object>"
            ],
            "text/html": []
          },
          "metadata": {}
        },
        {
          "output_type": "display_data",
          "data": {
            "text/plain": [
              "<IPython.core.display.HTML object>"
            ],
            "text/html": [
              "<br>    <style><br>        .wandb-row {<br>            display: flex;<br>            flex-direction: row;<br>            flex-wrap: wrap;<br>            justify-content: flex-start;<br>            width: 100%;<br>        }<br>        .wandb-col {<br>            display: flex;<br>            flex-direction: column;<br>            flex-basis: 100%;<br>            flex: 1;<br>            padding: 10px;<br>        }<br>    </style><br><div class=\"wandb-row\"><div class=\"wandb-col\"><h3>Run history:</h3><br/><table class=\"wandb\"><tr><td>accuracy</td><td>▁</td></tr><tr><td>epoch</td><td>▁</td></tr><tr><td>loss</td><td>▁</td></tr><tr><td>val_accuracy</td><td>▁</td></tr><tr><td>val_loss</td><td>▁</td></tr></table><br/></div><div class=\"wandb-col\"><h3>Run summary:</h3><br/><table class=\"wandb\"><tr><td>accuracy</td><td>0.06063</td></tr><tr><td>epoch</td><td>4</td></tr><tr><td>loss</td><td>10.12885</td></tr><tr><td>val_accuracy</td><td>0.05267</td></tr><tr><td>val_loss</td><td>9.90528</td></tr></table><br/></div></div>"
            ]
          },
          "metadata": {}
        },
        {
          "output_type": "display_data",
          "data": {
            "text/plain": [
              "<IPython.core.display.HTML object>"
            ],
            "text/html": [
              " View run <strong style=\"color:#cdcd00\">hl_4_bs_16_ac_ReLU</strong> at: <a href='https://wandb.ai/subikksha-indian-institute-of-technology-madras/DA6401-Assignment-1/runs/xy8p918m' target=\"_blank\">https://wandb.ai/subikksha-indian-institute-of-technology-madras/DA6401-Assignment-1/runs/xy8p918m</a><br> View project at: <a href='https://wandb.ai/subikksha-indian-institute-of-technology-madras/DA6401-Assignment-1' target=\"_blank\">https://wandb.ai/subikksha-indian-institute-of-technology-madras/DA6401-Assignment-1</a><br>Synced 5 W&B file(s), 0 media file(s), 0 artifact file(s) and 0 other file(s)"
            ]
          },
          "metadata": {}
        },
        {
          "output_type": "display_data",
          "data": {
            "text/plain": [
              "<IPython.core.display.HTML object>"
            ],
            "text/html": [
              "Find logs at: <code>./wandb/run-20250309_111301-xy8p918m/logs</code>"
            ]
          },
          "metadata": {}
        },
        {
          "output_type": "stream",
          "name": "stderr",
          "text": [
            "\u001b[34m\u001b[1mwandb\u001b[0m: Agent Starting Run: d1e358z1 with config:\n",
            "\u001b[34m\u001b[1mwandb\u001b[0m: \tactivation: tanh\n",
            "\u001b[34m\u001b[1mwandb\u001b[0m: \tbatch_size: 32\n",
            "\u001b[34m\u001b[1mwandb\u001b[0m: \tepochs: 5\n",
            "\u001b[34m\u001b[1mwandb\u001b[0m: \thidden_layers: 3\n",
            "\u001b[34m\u001b[1mwandb\u001b[0m: \thidden_size: 64\n",
            "\u001b[34m\u001b[1mwandb\u001b[0m: \tlearning_rate: 0.0001\n",
            "\u001b[34m\u001b[1mwandb\u001b[0m: \toptimizer: adam\n",
            "\u001b[34m\u001b[1mwandb\u001b[0m: \tweight_init: random\n"
          ]
        },
        {
          "output_type": "display_data",
          "data": {
            "text/plain": [
              "<IPython.core.display.HTML object>"
            ],
            "text/html": [
              "Ignoring project 'DA6401-Assignment-1' when running a sweep."
            ]
          },
          "metadata": {}
        },
        {
          "output_type": "display_data",
          "data": {
            "text/plain": [
              "<IPython.core.display.HTML object>"
            ],
            "text/html": [
              "Tracking run with wandb version 0.19.7"
            ]
          },
          "metadata": {}
        },
        {
          "output_type": "display_data",
          "data": {
            "text/plain": [
              "<IPython.core.display.HTML object>"
            ],
            "text/html": [
              "Run data is saved locally in <code>/content/wandb/run-20250309_111312-d1e358z1</code>"
            ]
          },
          "metadata": {}
        },
        {
          "output_type": "display_data",
          "data": {
            "text/plain": [
              "<IPython.core.display.HTML object>"
            ],
            "text/html": [
              "Syncing run <strong><a href='https://wandb.ai/subikksha-indian-institute-of-technology-madras/DA6401-Assignment-1/runs/d1e358z1' target=\"_blank\">dulcet-sweep-10</a></strong> to <a href='https://wandb.ai/subikksha-indian-institute-of-technology-madras/DA6401-Assignment-1' target=\"_blank\">Weights & Biases</a> (<a href='https://wandb.me/developer-guide' target=\"_blank\">docs</a>)<br>Sweep page: <a href='https://wandb.ai/subikksha-indian-institute-of-technology-madras/DA6401-Assignment-1/sweeps/hyi2rpim' target=\"_blank\">https://wandb.ai/subikksha-indian-institute-of-technology-madras/DA6401-Assignment-1/sweeps/hyi2rpim</a>"
            ]
          },
          "metadata": {}
        },
        {
          "output_type": "display_data",
          "data": {
            "text/plain": [
              "<IPython.core.display.HTML object>"
            ],
            "text/html": [
              " View project at <a href='https://wandb.ai/subikksha-indian-institute-of-technology-madras/DA6401-Assignment-1' target=\"_blank\">https://wandb.ai/subikksha-indian-institute-of-technology-madras/DA6401-Assignment-1</a>"
            ]
          },
          "metadata": {}
        },
        {
          "output_type": "display_data",
          "data": {
            "text/plain": [
              "<IPython.core.display.HTML object>"
            ],
            "text/html": [
              " View sweep at <a href='https://wandb.ai/subikksha-indian-institute-of-technology-madras/DA6401-Assignment-1/sweeps/hyi2rpim' target=\"_blank\">https://wandb.ai/subikksha-indian-institute-of-technology-madras/DA6401-Assignment-1/sweeps/hyi2rpim</a>"
            ]
          },
          "metadata": {}
        },
        {
          "output_type": "display_data",
          "data": {
            "text/plain": [
              "<IPython.core.display.HTML object>"
            ],
            "text/html": [
              " View run at <a href='https://wandb.ai/subikksha-indian-institute-of-technology-madras/DA6401-Assignment-1/runs/d1e358z1' target=\"_blank\">https://wandb.ai/subikksha-indian-institute-of-technology-madras/DA6401-Assignment-1/runs/d1e358z1</a>"
            ]
          },
          "metadata": {}
        },
        {
          "output_type": "display_data",
          "data": {
            "text/plain": [
              "<IPython.core.display.HTML object>"
            ],
            "text/html": []
          },
          "metadata": {}
        },
        {
          "output_type": "display_data",
          "data": {
            "text/plain": [
              "<IPython.core.display.HTML object>"
            ],
            "text/html": [
              "<br>    <style><br>        .wandb-row {<br>            display: flex;<br>            flex-direction: row;<br>            flex-wrap: wrap;<br>            justify-content: flex-start;<br>            width: 100%;<br>        }<br>        .wandb-col {<br>            display: flex;<br>            flex-direction: column;<br>            flex-basis: 100%;<br>            flex: 1;<br>            padding: 10px;<br>        }<br>    </style><br><div class=\"wandb-row\"><div class=\"wandb-col\"><h3>Run history:</h3><br/><table class=\"wandb\"><tr><td>accuracy</td><td>▁</td></tr><tr><td>epoch</td><td>▁</td></tr><tr><td>val_accuracy</td><td>▁</td></tr></table><br/></div><div class=\"wandb-col\"><h3>Run summary:</h3><br/><table class=\"wandb\"><tr><td>accuracy</td><td>0.06976</td></tr><tr><td>epoch</td><td>4</td></tr><tr><td>loss</td><td>nan</td></tr><tr><td>val_accuracy</td><td>0.07</td></tr><tr><td>val_loss</td><td>nan</td></tr></table><br/></div></div>"
            ]
          },
          "metadata": {}
        },
        {
          "output_type": "display_data",
          "data": {
            "text/plain": [
              "<IPython.core.display.HTML object>"
            ],
            "text/html": [
              " View run <strong style=\"color:#cdcd00\">hl_3_bs_32_ac_tanh</strong> at: <a href='https://wandb.ai/subikksha-indian-institute-of-technology-madras/DA6401-Assignment-1/runs/d1e358z1' target=\"_blank\">https://wandb.ai/subikksha-indian-institute-of-technology-madras/DA6401-Assignment-1/runs/d1e358z1</a><br> View project at: <a href='https://wandb.ai/subikksha-indian-institute-of-technology-madras/DA6401-Assignment-1' target=\"_blank\">https://wandb.ai/subikksha-indian-institute-of-technology-madras/DA6401-Assignment-1</a><br>Synced 5 W&B file(s), 0 media file(s), 0 artifact file(s) and 0 other file(s)"
            ]
          },
          "metadata": {}
        },
        {
          "output_type": "display_data",
          "data": {
            "text/plain": [
              "<IPython.core.display.HTML object>"
            ],
            "text/html": [
              "Find logs at: <code>./wandb/run-20250309_111312-d1e358z1/logs</code>"
            ]
          },
          "metadata": {}
        }
      ]
    },
    {
      "cell_type": "code",
      "source": [
        "import wandb\n",
        "import numpy as np\n",
        "from keras.datasets import fashion_mnist  # Allowed for dataset loading\n",
        "\n",
        "# 🔹 WandB Login\n",
        "wandb.login()\n",
        "\n",
        "# 🔹 Activation Functions & Their Derivatives\n",
        "def sigmoid(x): return 1 / (1 + np.exp(-x))\n",
        "def tanh(x): return np.tanh(x)\n",
        "def relu(x): return np.maximum(0, x)\n",
        "\n",
        "def sigmoid_derivative(x): return x * (1 - x)\n",
        "def tanh_derivative(x): return 1 - np.tanh(x) ** 2\n",
        "def relu_derivative(x): return np.where(x > 0, 1, 0)\n",
        "\n",
        "activations = {\"sigmoid\": (sigmoid, sigmoid_derivative),\n",
        "               \"tanh\": (tanh, tanh_derivative),\n",
        "               \"ReLU\": (relu, relu_derivative)}\n",
        "\n",
        "# 🔹 Weight Initialization\n",
        "def initialize_weights(layers, method=\"Xavier\"):\n",
        "    weights, biases = [], []\n",
        "    for i in range(len(layers) - 1):\n",
        "        if method == \"random\":\n",
        "            weights.append(np.random.randn(layers[i], layers[i+1]) * 0.01)\n",
        "        elif method == \"Xavier\":\n",
        "            weights.append(np.random.randn(layers[i], layers[i+1]) * np.sqrt(1 / layers[i]))\n",
        "        elif method == \"He\":  # He initialization for ReLU\n",
        "            weights.append(np.random.randn(layers[i], layers[i+1]) * np.sqrt(2 / layers[i]))\n",
        "        biases.append(np.zeros((1, layers[i+1])))\n",
        "    return weights, biases\n",
        "\n",
        "\n",
        "# 🔹 Forward Pass\n",
        "def forward_pass(X, weights, biases, activation):\n",
        "    activ, deriv = activations[activation]\n",
        "    activations_list = [X]\n",
        "    pre_activations = []\n",
        "\n",
        "    for W, b in zip(weights, biases):\n",
        "        Z = np.dot(activations_list[-1], W) + b\n",
        "        pre_activations.append(Z)\n",
        "        A = activ(Z)\n",
        "        activations_list.append(A)\n",
        "\n",
        "    return activations_list, pre_activations\n",
        "\n",
        "# 🔹 Backpropagation\n",
        "def backward_pass(activations_list, pre_activations, y, weights, biases, activation):\n",
        "    m = y.shape[0]\n",
        "    activ, deriv = activations[activation]\n",
        "\n",
        "    # One-hot encode y\n",
        "    y_one_hot = np.zeros((m, 10))\n",
        "    y_one_hot[np.arange(m), y] = 1\n",
        "\n",
        "    dZ = activations_list[-1] - y_one_hot  # Softmax gradient\n",
        "    dW, db = [], []\n",
        "\n",
        "    for i in range(len(weights) - 1, -1, -1):\n",
        "        dW_i = np.dot(activations_list[i].T, dZ) / m\n",
        "        db_i = np.sum(dZ, axis=0, keepdims=True) / m\n",
        "        dW.insert(0, dW_i)\n",
        "        db.insert(0, db_i)\n",
        "\n",
        "        if i > 0:\n",
        "            dZ = np.dot(dZ, weights[i].T) * deriv(pre_activations[i-1])\n",
        "\n",
        "    return dW, db\n",
        "\n",
        "# 🔹 Optimizer Class\n",
        "class Optimizer:\n",
        "    def __init__(self, method=\"sgd\", lr=0.01):\n",
        "        self.method = method\n",
        "        self.lr = lr\n",
        "\n",
        "    def update(self, weights, biases, dW, db):\n",
        "        updated_weights, updated_biases = [], []\n",
        "        for i, (W, b, dW_i, db_i) in enumerate(zip(weights, biases, dW, db)):\n",
        "            W -= self.lr * dW_i\n",
        "            b -= self.lr * db_i\n",
        "            updated_weights.append(W)\n",
        "            updated_biases.append(b)\n",
        "        return updated_weights, updated_biases\n",
        "\n",
        "# 🔹 Load Dataset\n",
        "(X_train, y_train), (X_test, y_test) = fashion_mnist.load_data()\n",
        "X_train, X_test = X_train / 255.0, X_test / 255.0\n",
        "val_size = int(0.1 * len(X_train))\n",
        "X_val, y_val = X_train[:val_size], y_train[:val_size]\n",
        "X_train, y_train = X_train[val_size:], y_train[val_size:]\n",
        "\n",
        "# 🔹 Train Function with Correct Logging\n",
        "def train():\n",
        "    run = wandb.init(project=\"DA6401-Assignment-1\", group=\"Q4\", config=wandb.config)\n",
        "\n",
        "    # Constructing meaningful name for this sweep\n",
        "    config = wandb.config\n",
        "    sweep_name = f\"hl_{config.hidden_layers}_bs_{config.batch_size}_ac_{config.activation}\"\n",
        "    run.name = sweep_name\n",
        "\n",
        "    layers = [784] + [config.hidden_size] * config.hidden_layers + [10]\n",
        "    weights, biases = initialize_weights(layers, method=config.weight_init)\n",
        "    optimizer = Optimizer(config.optimizer, config.learning_rate)\n",
        "\n",
        "    # 🔹 Ensure logging per epoch\n",
        "    for epoch in range(config.epochs):\n",
        "        activations_list, pre_activations = forward_pass(X_train.reshape(-1, 784), weights, biases, config.activation)\n",
        "        dW, db = backward_pass(activations_list, pre_activations, y_train, weights, biases, config.activation)\n",
        "        weights, biases = optimizer.update(weights, biases, dW, db)\n",
        "\n",
        "        # Compute Training Metrics\n",
        "        train_preds = np.argmax(activations_list[-1], axis=1)\n",
        "        train_accuracy = np.mean(train_preds == y_train)\n",
        "        train_loss = -np.mean(np.log(activations_list[-1][np.arange(len(y_train)), y_train] + 1e-9))  # Avoid log(0)\n",
        "\n",
        "        # Compute Validation Metrics\n",
        "        val_activations, _ = forward_pass(X_val.reshape(-1, 784), weights, biases, config.activation)\n",
        "        val_preds = np.argmax(val_activations[-1], axis=1)\n",
        "        val_accuracy = np.mean(val_preds == y_val)\n",
        "        val_loss = -np.mean(np.log(val_activations[-1][np.arange(len(y_val)), y_val] + 1e-9))  # Avoid log(0)\n",
        "\n",
        "        # 🔹 Corrected WandB Logging for Line Plots\n",
        "        wandb.log({\n",
        "            \"epoch\": epoch,                # Ensures tracking over time\n",
        "            \"loss\": train_loss,            # Scalar\n",
        "            \"accuracy\": train_accuracy,    # Scalar\n",
        "            \"val_loss\": val_loss,          # Scalar\n",
        "            \"val_accuracy\": val_accuracy   # Scalar\n",
        "        }, step=epoch)  # Ensures proper epoch-based tracking\n",
        "\n",
        "    run.finish()\n",
        "\n",
        "# 🔹 WandB Sweep Setup\n",
        "sweep_config = {\n",
        "    \"method\": \"random\",\n",
        "    \"metric\": {\"name\": \"val_accuracy\", \"goal\": \"maximize\"},\n",
        "    \"parameters\": {\n",
        "        \"epochs\": {\"values\": [5, 10]},\n",
        "        \"hidden_layers\": {\"values\": [3, 4, 5]},\n",
        "        \"hidden_size\": {\"values\": [32, 64, 128]},\n",
        "        \"batch_size\": {\"values\": [16, 32, 64]},\n",
        "        \"weight_init\": {\"values\": [\"random\", \"Xavier\"]},\n",
        "        \"activation\": {\"values\": [\"sigmoid\", \"tanh\", \"ReLU\"]},\n",
        "        \"optimizer\": {\"values\": [\"sgd\", \"adam\"]},\n",
        "        \"learning_rate\": {\"values\": [1e-3, 1e-4]}\n",
        "    }\n",
        "}\n",
        "\n",
        "# 🔹 Run WandB Sweep\n",
        "sweep_id = wandb.sweep(sweep_config, project=\"DA6401-Assignment-1\")\n",
        "wandb.agent(sweep_id, function=train, count=10)  # Run 10 different configurations\n"
      ],
      "metadata": {
        "colab": {
          "base_uri": "https://localhost:8080/",
          "height": 1000
        },
        "id": "q71dir_BupQt",
        "outputId": "8e30c396-b357-4816-af0d-30880fc1a385"
      },
      "execution_count": 2,
      "outputs": [
        {
          "output_type": "stream",
          "name": "stdout",
          "text": [
            "Create sweep with ID: rjydpx8s\n",
            "Sweep URL: https://wandb.ai/subikksha-indian-institute-of-technology-madras/DA6401-Assignment-1/sweeps/rjydpx8s\n"
          ]
        },
        {
          "output_type": "stream",
          "name": "stderr",
          "text": [
            "\u001b[34m\u001b[1mwandb\u001b[0m: Agent Starting Run: ffhiss6b with config:\n",
            "\u001b[34m\u001b[1mwandb\u001b[0m: \tactivation: sigmoid\n",
            "\u001b[34m\u001b[1mwandb\u001b[0m: \tbatch_size: 32\n",
            "\u001b[34m\u001b[1mwandb\u001b[0m: \tepochs: 10\n",
            "\u001b[34m\u001b[1mwandb\u001b[0m: \thidden_layers: 5\n",
            "\u001b[34m\u001b[1mwandb\u001b[0m: \thidden_size: 32\n",
            "\u001b[34m\u001b[1mwandb\u001b[0m: \tlearning_rate: 0.001\n",
            "\u001b[34m\u001b[1mwandb\u001b[0m: \toptimizer: sgd\n",
            "\u001b[34m\u001b[1mwandb\u001b[0m: \tweight_init: random\n"
          ]
        },
        {
          "output_type": "display_data",
          "data": {
            "text/plain": [
              "<IPython.core.display.HTML object>"
            ],
            "text/html": [
              "Ignoring project 'DA6401-Assignment-1' when running a sweep."
            ]
          },
          "metadata": {}
        },
        {
          "output_type": "display_data",
          "data": {
            "text/plain": [
              "<IPython.core.display.HTML object>"
            ],
            "text/html": [
              "Tracking run with wandb version 0.19.7"
            ]
          },
          "metadata": {}
        },
        {
          "output_type": "display_data",
          "data": {
            "text/plain": [
              "<IPython.core.display.HTML object>"
            ],
            "text/html": [
              "Run data is saved locally in <code>/content/wandb/run-20250309_132406-ffhiss6b</code>"
            ]
          },
          "metadata": {}
        },
        {
          "output_type": "display_data",
          "data": {
            "text/plain": [
              "<IPython.core.display.HTML object>"
            ],
            "text/html": [
              "Syncing run <strong><a href='https://wandb.ai/subikksha-indian-institute-of-technology-madras/DA6401-Assignment-1/runs/ffhiss6b' target=\"_blank\">colorful-sweep-1</a></strong> to <a href='https://wandb.ai/subikksha-indian-institute-of-technology-madras/DA6401-Assignment-1' target=\"_blank\">Weights & Biases</a> (<a href='https://wandb.me/developer-guide' target=\"_blank\">docs</a>)<br>Sweep page: <a href='https://wandb.ai/subikksha-indian-institute-of-technology-madras/DA6401-Assignment-1/sweeps/rjydpx8s' target=\"_blank\">https://wandb.ai/subikksha-indian-institute-of-technology-madras/DA6401-Assignment-1/sweeps/rjydpx8s</a>"
            ]
          },
          "metadata": {}
        },
        {
          "output_type": "display_data",
          "data": {
            "text/plain": [
              "<IPython.core.display.HTML object>"
            ],
            "text/html": [
              " View project at <a href='https://wandb.ai/subikksha-indian-institute-of-technology-madras/DA6401-Assignment-1' target=\"_blank\">https://wandb.ai/subikksha-indian-institute-of-technology-madras/DA6401-Assignment-1</a>"
            ]
          },
          "metadata": {}
        },
        {
          "output_type": "display_data",
          "data": {
            "text/plain": [
              "<IPython.core.display.HTML object>"
            ],
            "text/html": [
              " View sweep at <a href='https://wandb.ai/subikksha-indian-institute-of-technology-madras/DA6401-Assignment-1/sweeps/rjydpx8s' target=\"_blank\">https://wandb.ai/subikksha-indian-institute-of-technology-madras/DA6401-Assignment-1/sweeps/rjydpx8s</a>"
            ]
          },
          "metadata": {}
        },
        {
          "output_type": "display_data",
          "data": {
            "text/plain": [
              "<IPython.core.display.HTML object>"
            ],
            "text/html": [
              " View run at <a href='https://wandb.ai/subikksha-indian-institute-of-technology-madras/DA6401-Assignment-1/runs/ffhiss6b' target=\"_blank\">https://wandb.ai/subikksha-indian-institute-of-technology-madras/DA6401-Assignment-1/runs/ffhiss6b</a>"
            ]
          },
          "metadata": {}
        },
        {
          "output_type": "display_data",
          "data": {
            "text/plain": [
              "<IPython.core.display.HTML object>"
            ],
            "text/html": []
          },
          "metadata": {}
        },
        {
          "output_type": "display_data",
          "data": {
            "text/plain": [
              "<IPython.core.display.HTML object>"
            ],
            "text/html": [
              "<br>    <style><br>        .wandb-row {<br>            display: flex;<br>            flex-direction: row;<br>            flex-wrap: wrap;<br>            justify-content: flex-start;<br>            width: 100%;<br>        }<br>        .wandb-col {<br>            display: flex;<br>            flex-direction: column;<br>            flex-basis: 100%;<br>            flex: 1;<br>            padding: 10px;<br>        }<br>    </style><br><div class=\"wandb-row\"><div class=\"wandb-col\"><h3>Run history:</h3><br/><table class=\"wandb\"><tr><td>accuracy</td><td>▁▁▁▁▁▁▁▁▁▁</td></tr><tr><td>epoch</td><td>▁▂▃▃▄▅▆▆▇█</td></tr><tr><td>loss</td><td>▁▂▃▃▄▅▆▆▇█</td></tr><tr><td>val_accuracy</td><td>▁▁▁▁▁▁▁▁▁▁</td></tr><tr><td>val_loss</td><td>▁▂▃▃▄▅▆▆▇█</td></tr></table><br/></div><div class=\"wandb-col\"><h3>Run summary:</h3><br/><table class=\"wandb\"><tr><td>accuracy</td><td>0.09996</td></tr><tr><td>epoch</td><td>9</td></tr><tr><td>loss</td><td>0.71532</td></tr><tr><td>val_accuracy</td><td>0.10033</td></tr><tr><td>val_loss</td><td>0.71715</td></tr></table><br/></div></div>"
            ]
          },
          "metadata": {}
        },
        {
          "output_type": "display_data",
          "data": {
            "text/plain": [
              "<IPython.core.display.HTML object>"
            ],
            "text/html": [
              " View run <strong style=\"color:#cdcd00\">hl_5_bs_32_ac_sigmoid</strong> at: <a href='https://wandb.ai/subikksha-indian-institute-of-technology-madras/DA6401-Assignment-1/runs/ffhiss6b' target=\"_blank\">https://wandb.ai/subikksha-indian-institute-of-technology-madras/DA6401-Assignment-1/runs/ffhiss6b</a><br> View project at: <a href='https://wandb.ai/subikksha-indian-institute-of-technology-madras/DA6401-Assignment-1' target=\"_blank\">https://wandb.ai/subikksha-indian-institute-of-technology-madras/DA6401-Assignment-1</a><br>Synced 5 W&B file(s), 0 media file(s), 0 artifact file(s) and 0 other file(s)"
            ]
          },
          "metadata": {}
        },
        {
          "output_type": "display_data",
          "data": {
            "text/plain": [
              "<IPython.core.display.HTML object>"
            ],
            "text/html": [
              "Find logs at: <code>./wandb/run-20250309_132406-ffhiss6b/logs</code>"
            ]
          },
          "metadata": {}
        },
        {
          "output_type": "stream",
          "name": "stderr",
          "text": [
            "\u001b[34m\u001b[1mwandb\u001b[0m: Agent Starting Run: hyslnsa9 with config:\n",
            "\u001b[34m\u001b[1mwandb\u001b[0m: \tactivation: sigmoid\n",
            "\u001b[34m\u001b[1mwandb\u001b[0m: \tbatch_size: 16\n",
            "\u001b[34m\u001b[1mwandb\u001b[0m: \tepochs: 10\n",
            "\u001b[34m\u001b[1mwandb\u001b[0m: \thidden_layers: 3\n",
            "\u001b[34m\u001b[1mwandb\u001b[0m: \thidden_size: 128\n",
            "\u001b[34m\u001b[1mwandb\u001b[0m: \tlearning_rate: 0.001\n",
            "\u001b[34m\u001b[1mwandb\u001b[0m: \toptimizer: adam\n",
            "\u001b[34m\u001b[1mwandb\u001b[0m: \tweight_init: random\n"
          ]
        },
        {
          "output_type": "display_data",
          "data": {
            "text/plain": [
              "<IPython.core.display.HTML object>"
            ],
            "text/html": [
              "Ignoring project 'DA6401-Assignment-1' when running a sweep."
            ]
          },
          "metadata": {}
        },
        {
          "output_type": "display_data",
          "data": {
            "text/plain": [
              "<IPython.core.display.HTML object>"
            ],
            "text/html": [
              "Tracking run with wandb version 0.19.7"
            ]
          },
          "metadata": {}
        },
        {
          "output_type": "display_data",
          "data": {
            "text/plain": [
              "<IPython.core.display.HTML object>"
            ],
            "text/html": [
              "Run data is saved locally in <code>/content/wandb/run-20250309_132426-hyslnsa9</code>"
            ]
          },
          "metadata": {}
        },
        {
          "output_type": "display_data",
          "data": {
            "text/plain": [
              "<IPython.core.display.HTML object>"
            ],
            "text/html": [
              "Syncing run <strong><a href='https://wandb.ai/subikksha-indian-institute-of-technology-madras/DA6401-Assignment-1/runs/hyslnsa9' target=\"_blank\">still-sweep-2</a></strong> to <a href='https://wandb.ai/subikksha-indian-institute-of-technology-madras/DA6401-Assignment-1' target=\"_blank\">Weights & Biases</a> (<a href='https://wandb.me/developer-guide' target=\"_blank\">docs</a>)<br>Sweep page: <a href='https://wandb.ai/subikksha-indian-institute-of-technology-madras/DA6401-Assignment-1/sweeps/rjydpx8s' target=\"_blank\">https://wandb.ai/subikksha-indian-institute-of-technology-madras/DA6401-Assignment-1/sweeps/rjydpx8s</a>"
            ]
          },
          "metadata": {}
        },
        {
          "output_type": "display_data",
          "data": {
            "text/plain": [
              "<IPython.core.display.HTML object>"
            ],
            "text/html": [
              " View project at <a href='https://wandb.ai/subikksha-indian-institute-of-technology-madras/DA6401-Assignment-1' target=\"_blank\">https://wandb.ai/subikksha-indian-institute-of-technology-madras/DA6401-Assignment-1</a>"
            ]
          },
          "metadata": {}
        },
        {
          "output_type": "display_data",
          "data": {
            "text/plain": [
              "<IPython.core.display.HTML object>"
            ],
            "text/html": [
              " View sweep at <a href='https://wandb.ai/subikksha-indian-institute-of-technology-madras/DA6401-Assignment-1/sweeps/rjydpx8s' target=\"_blank\">https://wandb.ai/subikksha-indian-institute-of-technology-madras/DA6401-Assignment-1/sweeps/rjydpx8s</a>"
            ]
          },
          "metadata": {}
        },
        {
          "output_type": "display_data",
          "data": {
            "text/plain": [
              "<IPython.core.display.HTML object>"
            ],
            "text/html": [
              " View run at <a href='https://wandb.ai/subikksha-indian-institute-of-technology-madras/DA6401-Assignment-1/runs/hyslnsa9' target=\"_blank\">https://wandb.ai/subikksha-indian-institute-of-technology-madras/DA6401-Assignment-1/runs/hyslnsa9</a>"
            ]
          },
          "metadata": {}
        },
        {
          "output_type": "display_data",
          "data": {
            "text/plain": [
              "<IPython.core.display.HTML object>"
            ],
            "text/html": []
          },
          "metadata": {}
        },
        {
          "output_type": "display_data",
          "data": {
            "text/plain": [
              "<IPython.core.display.HTML object>"
            ],
            "text/html": [
              "<br>    <style><br>        .wandb-row {<br>            display: flex;<br>            flex-direction: row;<br>            flex-wrap: wrap;<br>            justify-content: flex-start;<br>            width: 100%;<br>        }<br>        .wandb-col {<br>            display: flex;<br>            flex-direction: column;<br>            flex-basis: 100%;<br>            flex: 1;<br>            padding: 10px;<br>        }<br>    </style><br><div class=\"wandb-row\"><div class=\"wandb-col\"><h3>Run history:</h3><br/><table class=\"wandb\"><tr><td>accuracy</td><td>▁▁▁▁▁▁▁▁▁▁</td></tr><tr><td>epoch</td><td>▁▂▃▃▄▅▆▆▇█</td></tr><tr><td>loss</td><td>▁▂▃▃▄▅▆▆▇█</td></tr><tr><td>val_accuracy</td><td>▁▁▁▁▁▁▁▁▁▁</td></tr><tr><td>val_loss</td><td>▁▂▃▃▄▅▆▆▇█</td></tr></table><br/></div><div class=\"wandb-col\"><h3>Run summary:</h3><br/><table class=\"wandb\"><tr><td>accuracy</td><td>0.09996</td></tr><tr><td>epoch</td><td>9</td></tr><tr><td>loss</td><td>0.73966</td></tr><tr><td>val_accuracy</td><td>0.10033</td></tr><tr><td>val_loss</td><td>0.74605</td></tr></table><br/></div></div>"
            ]
          },
          "metadata": {}
        },
        {
          "output_type": "display_data",
          "data": {
            "text/plain": [
              "<IPython.core.display.HTML object>"
            ],
            "text/html": [
              " View run <strong style=\"color:#cdcd00\">hl_3_bs_16_ac_sigmoid</strong> at: <a href='https://wandb.ai/subikksha-indian-institute-of-technology-madras/DA6401-Assignment-1/runs/hyslnsa9' target=\"_blank\">https://wandb.ai/subikksha-indian-institute-of-technology-madras/DA6401-Assignment-1/runs/hyslnsa9</a><br> View project at: <a href='https://wandb.ai/subikksha-indian-institute-of-technology-madras/DA6401-Assignment-1' target=\"_blank\">https://wandb.ai/subikksha-indian-institute-of-technology-madras/DA6401-Assignment-1</a><br>Synced 5 W&B file(s), 0 media file(s), 0 artifact file(s) and 0 other file(s)"
            ]
          },
          "metadata": {}
        },
        {
          "output_type": "display_data",
          "data": {
            "text/plain": [
              "<IPython.core.display.HTML object>"
            ],
            "text/html": [
              "Find logs at: <code>./wandb/run-20250309_132426-hyslnsa9/logs</code>"
            ]
          },
          "metadata": {}
        },
        {
          "output_type": "stream",
          "name": "stderr",
          "text": [
            "\u001b[34m\u001b[1mwandb\u001b[0m: Agent Starting Run: p7zn23l5 with config:\n",
            "\u001b[34m\u001b[1mwandb\u001b[0m: \tactivation: ReLU\n",
            "\u001b[34m\u001b[1mwandb\u001b[0m: \tbatch_size: 16\n",
            "\u001b[34m\u001b[1mwandb\u001b[0m: \tepochs: 5\n",
            "\u001b[34m\u001b[1mwandb\u001b[0m: \thidden_layers: 3\n",
            "\u001b[34m\u001b[1mwandb\u001b[0m: \thidden_size: 32\n",
            "\u001b[34m\u001b[1mwandb\u001b[0m: \tlearning_rate: 0.001\n",
            "\u001b[34m\u001b[1mwandb\u001b[0m: \toptimizer: sgd\n",
            "\u001b[34m\u001b[1mwandb\u001b[0m: \tweight_init: Xavier\n"
          ]
        },
        {
          "output_type": "display_data",
          "data": {
            "text/plain": [
              "<IPython.core.display.HTML object>"
            ],
            "text/html": [
              "Ignoring project 'DA6401-Assignment-1' when running a sweep."
            ]
          },
          "metadata": {}
        },
        {
          "output_type": "display_data",
          "data": {
            "text/plain": [
              "<IPython.core.display.HTML object>"
            ],
            "text/html": [
              "Tracking run with wandb version 0.19.7"
            ]
          },
          "metadata": {}
        },
        {
          "output_type": "display_data",
          "data": {
            "text/plain": [
              "<IPython.core.display.HTML object>"
            ],
            "text/html": [
              "Run data is saved locally in <code>/content/wandb/run-20250309_132502-p7zn23l5</code>"
            ]
          },
          "metadata": {}
        },
        {
          "output_type": "display_data",
          "data": {
            "text/plain": [
              "<IPython.core.display.HTML object>"
            ],
            "text/html": [
              "Syncing run <strong><a href='https://wandb.ai/subikksha-indian-institute-of-technology-madras/DA6401-Assignment-1/runs/p7zn23l5' target=\"_blank\">flowing-sweep-3</a></strong> to <a href='https://wandb.ai/subikksha-indian-institute-of-technology-madras/DA6401-Assignment-1' target=\"_blank\">Weights & Biases</a> (<a href='https://wandb.me/developer-guide' target=\"_blank\">docs</a>)<br>Sweep page: <a href='https://wandb.ai/subikksha-indian-institute-of-technology-madras/DA6401-Assignment-1/sweeps/rjydpx8s' target=\"_blank\">https://wandb.ai/subikksha-indian-institute-of-technology-madras/DA6401-Assignment-1/sweeps/rjydpx8s</a>"
            ]
          },
          "metadata": {}
        },
        {
          "output_type": "display_data",
          "data": {
            "text/plain": [
              "<IPython.core.display.HTML object>"
            ],
            "text/html": [
              " View project at <a href='https://wandb.ai/subikksha-indian-institute-of-technology-madras/DA6401-Assignment-1' target=\"_blank\">https://wandb.ai/subikksha-indian-institute-of-technology-madras/DA6401-Assignment-1</a>"
            ]
          },
          "metadata": {}
        },
        {
          "output_type": "display_data",
          "data": {
            "text/plain": [
              "<IPython.core.display.HTML object>"
            ],
            "text/html": [
              " View sweep at <a href='https://wandb.ai/subikksha-indian-institute-of-technology-madras/DA6401-Assignment-1/sweeps/rjydpx8s' target=\"_blank\">https://wandb.ai/subikksha-indian-institute-of-technology-madras/DA6401-Assignment-1/sweeps/rjydpx8s</a>"
            ]
          },
          "metadata": {}
        },
        {
          "output_type": "display_data",
          "data": {
            "text/plain": [
              "<IPython.core.display.HTML object>"
            ],
            "text/html": [
              " View run at <a href='https://wandb.ai/subikksha-indian-institute-of-technology-madras/DA6401-Assignment-1/runs/p7zn23l5' target=\"_blank\">https://wandb.ai/subikksha-indian-institute-of-technology-madras/DA6401-Assignment-1/runs/p7zn23l5</a>"
            ]
          },
          "metadata": {}
        },
        {
          "output_type": "display_data",
          "data": {
            "text/plain": [
              "<IPython.core.display.HTML object>"
            ],
            "text/html": []
          },
          "metadata": {}
        },
        {
          "output_type": "display_data",
          "data": {
            "text/plain": [
              "<IPython.core.display.HTML object>"
            ],
            "text/html": [
              "<br>    <style><br>        .wandb-row {<br>            display: flex;<br>            flex-direction: row;<br>            flex-wrap: wrap;<br>            justify-content: flex-start;<br>            width: 100%;<br>        }<br>        .wandb-col {<br>            display: flex;<br>            flex-direction: column;<br>            flex-basis: 100%;<br>            flex: 1;<br>            padding: 10px;<br>        }<br>    </style><br><div class=\"wandb-row\"><div class=\"wandb-col\"><h3>Run history:</h3><br/><table class=\"wandb\"><tr><td>accuracy</td><td>█▆▅▃▁</td></tr><tr><td>epoch</td><td>▁▃▅▆█</td></tr><tr><td>loss</td><td>█▆▄▂▁</td></tr><tr><td>val_accuracy</td><td>█▇▆▄▁</td></tr><tr><td>val_loss</td><td>█▆▄▃▁</td></tr></table><br/></div><div class=\"wandb-col\"><h3>Run summary:</h3><br/><table class=\"wandb\"><tr><td>accuracy</td><td>0.0987</td></tr><tr><td>epoch</td><td>4</td></tr><tr><td>loss</td><td>13.76204</td></tr><tr><td>val_accuracy</td><td>0.09533</td></tr><tr><td>val_loss</td><td>13.86203</td></tr></table><br/></div></div>"
            ]
          },
          "metadata": {}
        },
        {
          "output_type": "display_data",
          "data": {
            "text/plain": [
              "<IPython.core.display.HTML object>"
            ],
            "text/html": [
              " View run <strong style=\"color:#cdcd00\">hl_3_bs_16_ac_ReLU</strong> at: <a href='https://wandb.ai/subikksha-indian-institute-of-technology-madras/DA6401-Assignment-1/runs/p7zn23l5' target=\"_blank\">https://wandb.ai/subikksha-indian-institute-of-technology-madras/DA6401-Assignment-1/runs/p7zn23l5</a><br> View project at: <a href='https://wandb.ai/subikksha-indian-institute-of-technology-madras/DA6401-Assignment-1' target=\"_blank\">https://wandb.ai/subikksha-indian-institute-of-technology-madras/DA6401-Assignment-1</a><br>Synced 5 W&B file(s), 0 media file(s), 0 artifact file(s) and 0 other file(s)"
            ]
          },
          "metadata": {}
        },
        {
          "output_type": "display_data",
          "data": {
            "text/plain": [
              "<IPython.core.display.HTML object>"
            ],
            "text/html": [
              "Find logs at: <code>./wandb/run-20250309_132502-p7zn23l5/logs</code>"
            ]
          },
          "metadata": {}
        },
        {
          "output_type": "stream",
          "name": "stderr",
          "text": [
            "\u001b[34m\u001b[1mwandb\u001b[0m: Agent Starting Run: 7u2ixd0r with config:\n",
            "\u001b[34m\u001b[1mwandb\u001b[0m: \tactivation: sigmoid\n",
            "\u001b[34m\u001b[1mwandb\u001b[0m: \tbatch_size: 64\n",
            "\u001b[34m\u001b[1mwandb\u001b[0m: \tepochs: 10\n",
            "\u001b[34m\u001b[1mwandb\u001b[0m: \thidden_layers: 4\n",
            "\u001b[34m\u001b[1mwandb\u001b[0m: \thidden_size: 32\n",
            "\u001b[34m\u001b[1mwandb\u001b[0m: \tlearning_rate: 0.0001\n",
            "\u001b[34m\u001b[1mwandb\u001b[0m: \toptimizer: sgd\n",
            "\u001b[34m\u001b[1mwandb\u001b[0m: \tweight_init: Xavier\n"
          ]
        },
        {
          "output_type": "display_data",
          "data": {
            "text/plain": [
              "<IPython.core.display.HTML object>"
            ],
            "text/html": [
              "Ignoring project 'DA6401-Assignment-1' when running a sweep."
            ]
          },
          "metadata": {}
        },
        {
          "output_type": "display_data",
          "data": {
            "text/plain": [
              "<IPython.core.display.HTML object>"
            ],
            "text/html": [
              "Tracking run with wandb version 0.19.7"
            ]
          },
          "metadata": {}
        },
        {
          "output_type": "display_data",
          "data": {
            "text/plain": [
              "<IPython.core.display.HTML object>"
            ],
            "text/html": [
              "Run data is saved locally in <code>/content/wandb/run-20250309_132512-7u2ixd0r</code>"
            ]
          },
          "metadata": {}
        },
        {
          "output_type": "display_data",
          "data": {
            "text/plain": [
              "<IPython.core.display.HTML object>"
            ],
            "text/html": [
              "Syncing run <strong><a href='https://wandb.ai/subikksha-indian-institute-of-technology-madras/DA6401-Assignment-1/runs/7u2ixd0r' target=\"_blank\">denim-sweep-4</a></strong> to <a href='https://wandb.ai/subikksha-indian-institute-of-technology-madras/DA6401-Assignment-1' target=\"_blank\">Weights & Biases</a> (<a href='https://wandb.me/developer-guide' target=\"_blank\">docs</a>)<br>Sweep page: <a href='https://wandb.ai/subikksha-indian-institute-of-technology-madras/DA6401-Assignment-1/sweeps/rjydpx8s' target=\"_blank\">https://wandb.ai/subikksha-indian-institute-of-technology-madras/DA6401-Assignment-1/sweeps/rjydpx8s</a>"
            ]
          },
          "metadata": {}
        },
        {
          "output_type": "display_data",
          "data": {
            "text/plain": [
              "<IPython.core.display.HTML object>"
            ],
            "text/html": [
              " View project at <a href='https://wandb.ai/subikksha-indian-institute-of-technology-madras/DA6401-Assignment-1' target=\"_blank\">https://wandb.ai/subikksha-indian-institute-of-technology-madras/DA6401-Assignment-1</a>"
            ]
          },
          "metadata": {}
        },
        {
          "output_type": "display_data",
          "data": {
            "text/plain": [
              "<IPython.core.display.HTML object>"
            ],
            "text/html": [
              " View sweep at <a href='https://wandb.ai/subikksha-indian-institute-of-technology-madras/DA6401-Assignment-1/sweeps/rjydpx8s' target=\"_blank\">https://wandb.ai/subikksha-indian-institute-of-technology-madras/DA6401-Assignment-1/sweeps/rjydpx8s</a>"
            ]
          },
          "metadata": {}
        },
        {
          "output_type": "display_data",
          "data": {
            "text/plain": [
              "<IPython.core.display.HTML object>"
            ],
            "text/html": [
              " View run at <a href='https://wandb.ai/subikksha-indian-institute-of-technology-madras/DA6401-Assignment-1/runs/7u2ixd0r' target=\"_blank\">https://wandb.ai/subikksha-indian-institute-of-technology-madras/DA6401-Assignment-1/runs/7u2ixd0r</a>"
            ]
          },
          "metadata": {}
        },
        {
          "output_type": "display_data",
          "data": {
            "text/plain": [
              "<IPython.core.display.HTML object>"
            ],
            "text/html": []
          },
          "metadata": {}
        },
        {
          "output_type": "display_data",
          "data": {
            "text/plain": [
              "<IPython.core.display.HTML object>"
            ],
            "text/html": [
              "<br>    <style><br>        .wandb-row {<br>            display: flex;<br>            flex-direction: row;<br>            flex-wrap: wrap;<br>            justify-content: flex-start;<br>            width: 100%;<br>        }<br>        .wandb-col {<br>            display: flex;<br>            flex-direction: column;<br>            flex-basis: 100%;<br>            flex: 1;<br>            padding: 10px;<br>        }<br>    </style><br><div class=\"wandb-row\"><div class=\"wandb-col\"><h3>Run history:</h3><br/><table class=\"wandb\"><tr><td>accuracy</td><td>▁▁▁▁▁▁▁▁▁▁</td></tr><tr><td>epoch</td><td>▁▂▃▃▄▅▆▆▇█</td></tr><tr><td>loss</td><td>▁▂▃▃▄▅▆▆▇█</td></tr><tr><td>val_accuracy</td><td>▁▁▁▁▁▁▁▁▁▁</td></tr><tr><td>val_loss</td><td>▁▂▃▃▄▅▆▆▇█</td></tr></table><br/></div><div class=\"wandb-col\"><h3>Run summary:</h3><br/><table class=\"wandb\"><tr><td>accuracy</td><td>0.1003</td></tr><tr><td>epoch</td><td>9</td></tr><tr><td>loss</td><td>0.57643</td></tr><tr><td>val_accuracy</td><td>0.09733</td></tr><tr><td>val_loss</td><td>0.57805</td></tr></table><br/></div></div>"
            ]
          },
          "metadata": {}
        },
        {
          "output_type": "display_data",
          "data": {
            "text/plain": [
              "<IPython.core.display.HTML object>"
            ],
            "text/html": [
              " View run <strong style=\"color:#cdcd00\">hl_4_bs_64_ac_sigmoid</strong> at: <a href='https://wandb.ai/subikksha-indian-institute-of-technology-madras/DA6401-Assignment-1/runs/7u2ixd0r' target=\"_blank\">https://wandb.ai/subikksha-indian-institute-of-technology-madras/DA6401-Assignment-1/runs/7u2ixd0r</a><br> View project at: <a href='https://wandb.ai/subikksha-indian-institute-of-technology-madras/DA6401-Assignment-1' target=\"_blank\">https://wandb.ai/subikksha-indian-institute-of-technology-madras/DA6401-Assignment-1</a><br>Synced 5 W&B file(s), 0 media file(s), 0 artifact file(s) and 0 other file(s)"
            ]
          },
          "metadata": {}
        },
        {
          "output_type": "display_data",
          "data": {
            "text/plain": [
              "<IPython.core.display.HTML object>"
            ],
            "text/html": [
              "Find logs at: <code>./wandb/run-20250309_132512-7u2ixd0r/logs</code>"
            ]
          },
          "metadata": {}
        },
        {
          "output_type": "stream",
          "name": "stderr",
          "text": [
            "\u001b[34m\u001b[1mwandb\u001b[0m: Agent Starting Run: fk1v3y6c with config:\n",
            "\u001b[34m\u001b[1mwandb\u001b[0m: \tactivation: sigmoid\n",
            "\u001b[34m\u001b[1mwandb\u001b[0m: \tbatch_size: 32\n",
            "\u001b[34m\u001b[1mwandb\u001b[0m: \tepochs: 10\n",
            "\u001b[34m\u001b[1mwandb\u001b[0m: \thidden_layers: 4\n",
            "\u001b[34m\u001b[1mwandb\u001b[0m: \thidden_size: 64\n",
            "\u001b[34m\u001b[1mwandb\u001b[0m: \tlearning_rate: 0.001\n",
            "\u001b[34m\u001b[1mwandb\u001b[0m: \toptimizer: adam\n",
            "\u001b[34m\u001b[1mwandb\u001b[0m: \tweight_init: random\n"
          ]
        },
        {
          "output_type": "display_data",
          "data": {
            "text/plain": [
              "<IPython.core.display.HTML object>"
            ],
            "text/html": [
              "Ignoring project 'DA6401-Assignment-1' when running a sweep."
            ]
          },
          "metadata": {}
        },
        {
          "output_type": "display_data",
          "data": {
            "text/plain": [
              "<IPython.core.display.HTML object>"
            ],
            "text/html": [
              "Tracking run with wandb version 0.19.7"
            ]
          },
          "metadata": {}
        },
        {
          "output_type": "display_data",
          "data": {
            "text/plain": [
              "<IPython.core.display.HTML object>"
            ],
            "text/html": [
              "Run data is saved locally in <code>/content/wandb/run-20250309_132528-fk1v3y6c</code>"
            ]
          },
          "metadata": {}
        },
        {
          "output_type": "display_data",
          "data": {
            "text/plain": [
              "<IPython.core.display.HTML object>"
            ],
            "text/html": [
              "Syncing run <strong><a href='https://wandb.ai/subikksha-indian-institute-of-technology-madras/DA6401-Assignment-1/runs/fk1v3y6c' target=\"_blank\">skilled-sweep-5</a></strong> to <a href='https://wandb.ai/subikksha-indian-institute-of-technology-madras/DA6401-Assignment-1' target=\"_blank\">Weights & Biases</a> (<a href='https://wandb.me/developer-guide' target=\"_blank\">docs</a>)<br>Sweep page: <a href='https://wandb.ai/subikksha-indian-institute-of-technology-madras/DA6401-Assignment-1/sweeps/rjydpx8s' target=\"_blank\">https://wandb.ai/subikksha-indian-institute-of-technology-madras/DA6401-Assignment-1/sweeps/rjydpx8s</a>"
            ]
          },
          "metadata": {}
        },
        {
          "output_type": "display_data",
          "data": {
            "text/plain": [
              "<IPython.core.display.HTML object>"
            ],
            "text/html": [
              " View project at <a href='https://wandb.ai/subikksha-indian-institute-of-technology-madras/DA6401-Assignment-1' target=\"_blank\">https://wandb.ai/subikksha-indian-institute-of-technology-madras/DA6401-Assignment-1</a>"
            ]
          },
          "metadata": {}
        },
        {
          "output_type": "display_data",
          "data": {
            "text/plain": [
              "<IPython.core.display.HTML object>"
            ],
            "text/html": [
              " View sweep at <a href='https://wandb.ai/subikksha-indian-institute-of-technology-madras/DA6401-Assignment-1/sweeps/rjydpx8s' target=\"_blank\">https://wandb.ai/subikksha-indian-institute-of-technology-madras/DA6401-Assignment-1/sweeps/rjydpx8s</a>"
            ]
          },
          "metadata": {}
        },
        {
          "output_type": "display_data",
          "data": {
            "text/plain": [
              "<IPython.core.display.HTML object>"
            ],
            "text/html": [
              " View run at <a href='https://wandb.ai/subikksha-indian-institute-of-technology-madras/DA6401-Assignment-1/runs/fk1v3y6c' target=\"_blank\">https://wandb.ai/subikksha-indian-institute-of-technology-madras/DA6401-Assignment-1/runs/fk1v3y6c</a>"
            ]
          },
          "metadata": {}
        },
        {
          "output_type": "display_data",
          "data": {
            "text/plain": [
              "<IPython.core.display.HTML object>"
            ],
            "text/html": []
          },
          "metadata": {}
        },
        {
          "output_type": "display_data",
          "data": {
            "text/plain": [
              "<IPython.core.display.HTML object>"
            ],
            "text/html": [
              "<br>    <style><br>        .wandb-row {<br>            display: flex;<br>            flex-direction: row;<br>            flex-wrap: wrap;<br>            justify-content: flex-start;<br>            width: 100%;<br>        }<br>        .wandb-col {<br>            display: flex;<br>            flex-direction: column;<br>            flex-basis: 100%;<br>            flex: 1;<br>            padding: 10px;<br>        }<br>    </style><br><div class=\"wandb-row\"><div class=\"wandb-col\"><h3>Run history:</h3><br/><table class=\"wandb\"><tr><td>accuracy</td><td>▁▁▁▁▁▁▁▁▁▁</td></tr><tr><td>epoch</td><td>▁▂▃▃▄▅▆▆▇█</td></tr><tr><td>loss</td><td>▁▂▃▃▄▅▆▆▇█</td></tr><tr><td>val_accuracy</td><td>▁▁▁▁▁▁▁▁▁▁</td></tr><tr><td>val_loss</td><td>▁▂▃▃▄▅▆▆▇█</td></tr></table><br/></div><div class=\"wandb-col\"><h3>Run summary:</h3><br/><table class=\"wandb\"><tr><td>accuracy</td><td>0.10019</td></tr><tr><td>epoch</td><td>9</td></tr><tr><td>loss</td><td>0.71904</td></tr><tr><td>val_accuracy</td><td>0.09833</td></tr><tr><td>val_loss</td><td>0.72238</td></tr></table><br/></div></div>"
            ]
          },
          "metadata": {}
        },
        {
          "output_type": "display_data",
          "data": {
            "text/plain": [
              "<IPython.core.display.HTML object>"
            ],
            "text/html": [
              " View run <strong style=\"color:#cdcd00\">hl_4_bs_32_ac_sigmoid</strong> at: <a href='https://wandb.ai/subikksha-indian-institute-of-technology-madras/DA6401-Assignment-1/runs/fk1v3y6c' target=\"_blank\">https://wandb.ai/subikksha-indian-institute-of-technology-madras/DA6401-Assignment-1/runs/fk1v3y6c</a><br> View project at: <a href='https://wandb.ai/subikksha-indian-institute-of-technology-madras/DA6401-Assignment-1' target=\"_blank\">https://wandb.ai/subikksha-indian-institute-of-technology-madras/DA6401-Assignment-1</a><br>Synced 5 W&B file(s), 0 media file(s), 0 artifact file(s) and 0 other file(s)"
            ]
          },
          "metadata": {}
        },
        {
          "output_type": "display_data",
          "data": {
            "text/plain": [
              "<IPython.core.display.HTML object>"
            ],
            "text/html": [
              "Find logs at: <code>./wandb/run-20250309_132528-fk1v3y6c/logs</code>"
            ]
          },
          "metadata": {}
        },
        {
          "output_type": "stream",
          "name": "stderr",
          "text": [
            "\u001b[34m\u001b[1mwandb\u001b[0m: Agent Starting Run: 5at46t8t with config:\n",
            "\u001b[34m\u001b[1mwandb\u001b[0m: \tactivation: sigmoid\n",
            "\u001b[34m\u001b[1mwandb\u001b[0m: \tbatch_size: 64\n",
            "\u001b[34m\u001b[1mwandb\u001b[0m: \tepochs: 5\n",
            "\u001b[34m\u001b[1mwandb\u001b[0m: \thidden_layers: 4\n",
            "\u001b[34m\u001b[1mwandb\u001b[0m: \thidden_size: 128\n",
            "\u001b[34m\u001b[1mwandb\u001b[0m: \tlearning_rate: 0.001\n",
            "\u001b[34m\u001b[1mwandb\u001b[0m: \toptimizer: sgd\n",
            "\u001b[34m\u001b[1mwandb\u001b[0m: \tweight_init: random\n"
          ]
        },
        {
          "output_type": "display_data",
          "data": {
            "text/plain": [
              "<IPython.core.display.HTML object>"
            ],
            "text/html": [
              "Ignoring project 'DA6401-Assignment-1' when running a sweep."
            ]
          },
          "metadata": {}
        },
        {
          "output_type": "display_data",
          "data": {
            "text/plain": [
              "<IPython.core.display.HTML object>"
            ],
            "text/html": [
              "Tracking run with wandb version 0.19.7"
            ]
          },
          "metadata": {}
        },
        {
          "output_type": "display_data",
          "data": {
            "text/plain": [
              "<IPython.core.display.HTML object>"
            ],
            "text/html": [
              "Run data is saved locally in <code>/content/wandb/run-20250309_132554-5at46t8t</code>"
            ]
          },
          "metadata": {}
        },
        {
          "output_type": "display_data",
          "data": {
            "text/plain": [
              "<IPython.core.display.HTML object>"
            ],
            "text/html": [
              "Syncing run <strong><a href='https://wandb.ai/subikksha-indian-institute-of-technology-madras/DA6401-Assignment-1/runs/5at46t8t' target=\"_blank\">warm-sweep-6</a></strong> to <a href='https://wandb.ai/subikksha-indian-institute-of-technology-madras/DA6401-Assignment-1' target=\"_blank\">Weights & Biases</a> (<a href='https://wandb.me/developer-guide' target=\"_blank\">docs</a>)<br>Sweep page: <a href='https://wandb.ai/subikksha-indian-institute-of-technology-madras/DA6401-Assignment-1/sweeps/rjydpx8s' target=\"_blank\">https://wandb.ai/subikksha-indian-institute-of-technology-madras/DA6401-Assignment-1/sweeps/rjydpx8s</a>"
            ]
          },
          "metadata": {}
        },
        {
          "output_type": "display_data",
          "data": {
            "text/plain": [
              "<IPython.core.display.HTML object>"
            ],
            "text/html": [
              " View project at <a href='https://wandb.ai/subikksha-indian-institute-of-technology-madras/DA6401-Assignment-1' target=\"_blank\">https://wandb.ai/subikksha-indian-institute-of-technology-madras/DA6401-Assignment-1</a>"
            ]
          },
          "metadata": {}
        },
        {
          "output_type": "display_data",
          "data": {
            "text/plain": [
              "<IPython.core.display.HTML object>"
            ],
            "text/html": [
              " View sweep at <a href='https://wandb.ai/subikksha-indian-institute-of-technology-madras/DA6401-Assignment-1/sweeps/rjydpx8s' target=\"_blank\">https://wandb.ai/subikksha-indian-institute-of-technology-madras/DA6401-Assignment-1/sweeps/rjydpx8s</a>"
            ]
          },
          "metadata": {}
        },
        {
          "output_type": "display_data",
          "data": {
            "text/plain": [
              "<IPython.core.display.HTML object>"
            ],
            "text/html": [
              " View run at <a href='https://wandb.ai/subikksha-indian-institute-of-technology-madras/DA6401-Assignment-1/runs/5at46t8t' target=\"_blank\">https://wandb.ai/subikksha-indian-institute-of-technology-madras/DA6401-Assignment-1/runs/5at46t8t</a>"
            ]
          },
          "metadata": {}
        },
        {
          "output_type": "display_data",
          "data": {
            "text/plain": [
              "<IPython.core.display.HTML object>"
            ],
            "text/html": []
          },
          "metadata": {}
        },
        {
          "output_type": "display_data",
          "data": {
            "text/plain": [
              "<IPython.core.display.HTML object>"
            ],
            "text/html": [
              "<br>    <style><br>        .wandb-row {<br>            display: flex;<br>            flex-direction: row;<br>            flex-wrap: wrap;<br>            justify-content: flex-start;<br>            width: 100%;<br>        }<br>        .wandb-col {<br>            display: flex;<br>            flex-direction: column;<br>            flex-basis: 100%;<br>            flex: 1;<br>            padding: 10px;<br>        }<br>    </style><br><div class=\"wandb-row\"><div class=\"wandb-col\"><h3>Run history:</h3><br/><table class=\"wandb\"><tr><td>accuracy</td><td>▁▁▁▁▁</td></tr><tr><td>epoch</td><td>▁▃▅▆█</td></tr><tr><td>loss</td><td>▁▃▅▆█</td></tr><tr><td>val_accuracy</td><td>▁▁▁▁▁</td></tr><tr><td>val_loss</td><td>▁▃▅▆█</td></tr></table><br/></div><div class=\"wandb-col\"><h3>Run summary:</h3><br/><table class=\"wandb\"><tr><td>accuracy</td><td>0.09978</td></tr><tr><td>epoch</td><td>4</td></tr><tr><td>loss</td><td>0.71192</td></tr><tr><td>val_accuracy</td><td>0.102</td></tr><tr><td>val_loss</td><td>0.71833</td></tr></table><br/></div></div>"
            ]
          },
          "metadata": {}
        },
        {
          "output_type": "display_data",
          "data": {
            "text/plain": [
              "<IPython.core.display.HTML object>"
            ],
            "text/html": [
              " View run <strong style=\"color:#cdcd00\">hl_4_bs_64_ac_sigmoid</strong> at: <a href='https://wandb.ai/subikksha-indian-institute-of-technology-madras/DA6401-Assignment-1/runs/5at46t8t' target=\"_blank\">https://wandb.ai/subikksha-indian-institute-of-technology-madras/DA6401-Assignment-1/runs/5at46t8t</a><br> View project at: <a href='https://wandb.ai/subikksha-indian-institute-of-technology-madras/DA6401-Assignment-1' target=\"_blank\">https://wandb.ai/subikksha-indian-institute-of-technology-madras/DA6401-Assignment-1</a><br>Synced 5 W&B file(s), 0 media file(s), 0 artifact file(s) and 0 other file(s)"
            ]
          },
          "metadata": {}
        },
        {
          "output_type": "display_data",
          "data": {
            "text/plain": [
              "<IPython.core.display.HTML object>"
            ],
            "text/html": [
              "Find logs at: <code>./wandb/run-20250309_132554-5at46t8t/logs</code>"
            ]
          },
          "metadata": {}
        },
        {
          "output_type": "stream",
          "name": "stderr",
          "text": [
            "\u001b[34m\u001b[1mwandb\u001b[0m: Agent Starting Run: 2hk6uaeq with config:\n",
            "\u001b[34m\u001b[1mwandb\u001b[0m: \tactivation: tanh\n",
            "\u001b[34m\u001b[1mwandb\u001b[0m: \tbatch_size: 32\n",
            "\u001b[34m\u001b[1mwandb\u001b[0m: \tepochs: 5\n",
            "\u001b[34m\u001b[1mwandb\u001b[0m: \thidden_layers: 3\n",
            "\u001b[34m\u001b[1mwandb\u001b[0m: \thidden_size: 128\n",
            "\u001b[34m\u001b[1mwandb\u001b[0m: \tlearning_rate: 0.001\n",
            "\u001b[34m\u001b[1mwandb\u001b[0m: \toptimizer: adam\n",
            "\u001b[34m\u001b[1mwandb\u001b[0m: \tweight_init: Xavier\n"
          ]
        },
        {
          "output_type": "display_data",
          "data": {
            "text/plain": [
              "<IPython.core.display.HTML object>"
            ],
            "text/html": [
              "Ignoring project 'DA6401-Assignment-1' when running a sweep."
            ]
          },
          "metadata": {}
        },
        {
          "output_type": "display_data",
          "data": {
            "text/plain": [
              "<IPython.core.display.HTML object>"
            ],
            "text/html": [
              "Tracking run with wandb version 0.19.7"
            ]
          },
          "metadata": {}
        },
        {
          "output_type": "display_data",
          "data": {
            "text/plain": [
              "<IPython.core.display.HTML object>"
            ],
            "text/html": [
              "Run data is saved locally in <code>/content/wandb/run-20250309_132620-2hk6uaeq</code>"
            ]
          },
          "metadata": {}
        },
        {
          "output_type": "display_data",
          "data": {
            "text/plain": [
              "<IPython.core.display.HTML object>"
            ],
            "text/html": [
              "Syncing run <strong><a href='https://wandb.ai/subikksha-indian-institute-of-technology-madras/DA6401-Assignment-1/runs/2hk6uaeq' target=\"_blank\">distinctive-sweep-7</a></strong> to <a href='https://wandb.ai/subikksha-indian-institute-of-technology-madras/DA6401-Assignment-1' target=\"_blank\">Weights & Biases</a> (<a href='https://wandb.me/developer-guide' target=\"_blank\">docs</a>)<br>Sweep page: <a href='https://wandb.ai/subikksha-indian-institute-of-technology-madras/DA6401-Assignment-1/sweeps/rjydpx8s' target=\"_blank\">https://wandb.ai/subikksha-indian-institute-of-technology-madras/DA6401-Assignment-1/sweeps/rjydpx8s</a>"
            ]
          },
          "metadata": {}
        },
        {
          "output_type": "display_data",
          "data": {
            "text/plain": [
              "<IPython.core.display.HTML object>"
            ],
            "text/html": [
              " View project at <a href='https://wandb.ai/subikksha-indian-institute-of-technology-madras/DA6401-Assignment-1' target=\"_blank\">https://wandb.ai/subikksha-indian-institute-of-technology-madras/DA6401-Assignment-1</a>"
            ]
          },
          "metadata": {}
        },
        {
          "output_type": "display_data",
          "data": {
            "text/plain": [
              "<IPython.core.display.HTML object>"
            ],
            "text/html": [
              " View sweep at <a href='https://wandb.ai/subikksha-indian-institute-of-technology-madras/DA6401-Assignment-1/sweeps/rjydpx8s' target=\"_blank\">https://wandb.ai/subikksha-indian-institute-of-technology-madras/DA6401-Assignment-1/sweeps/rjydpx8s</a>"
            ]
          },
          "metadata": {}
        },
        {
          "output_type": "display_data",
          "data": {
            "text/plain": [
              "<IPython.core.display.HTML object>"
            ],
            "text/html": [
              " View run at <a href='https://wandb.ai/subikksha-indian-institute-of-technology-madras/DA6401-Assignment-1/runs/2hk6uaeq' target=\"_blank\">https://wandb.ai/subikksha-indian-institute-of-technology-madras/DA6401-Assignment-1/runs/2hk6uaeq</a>"
            ]
          },
          "metadata": {}
        },
        {
          "output_type": "stream",
          "name": "stderr",
          "text": [
            "<ipython-input-2-9363072f4fa7>:116: RuntimeWarning: invalid value encountered in log\n",
            "  train_loss = -np.mean(np.log(activations_list[-1][np.arange(len(y_train)), y_train] + 1e-9))  # Avoid log(0)\n",
            "<ipython-input-2-9363072f4fa7>:122: RuntimeWarning: invalid value encountered in log\n",
            "  val_loss = -np.mean(np.log(val_activations[-1][np.arange(len(y_val)), y_val] + 1e-9))  # Avoid log(0)\n"
          ]
        },
        {
          "output_type": "display_data",
          "data": {
            "text/plain": [
              "<IPython.core.display.HTML object>"
            ],
            "text/html": []
          },
          "metadata": {}
        },
        {
          "output_type": "display_data",
          "data": {
            "text/plain": [
              "<IPython.core.display.HTML object>"
            ],
            "text/html": [
              "<br>    <style><br>        .wandb-row {<br>            display: flex;<br>            flex-direction: row;<br>            flex-wrap: wrap;<br>            justify-content: flex-start;<br>            width: 100%;<br>        }<br>        .wandb-col {<br>            display: flex;<br>            flex-direction: column;<br>            flex-basis: 100%;<br>            flex: 1;<br>            padding: 10px;<br>        }<br>    </style><br><div class=\"wandb-row\"><div class=\"wandb-col\"><h3>Run history:</h3><br/><table class=\"wandb\"><tr><td>accuracy</td><td>▁▃▅▆█</td></tr><tr><td>epoch</td><td>▁▃▅▆█</td></tr><tr><td>val_accuracy</td><td>▁▄▆▇█</td></tr></table><br/></div><div class=\"wandb-col\"><h3>Run summary:</h3><br/><table class=\"wandb\"><tr><td>accuracy</td><td>0.17954</td></tr><tr><td>epoch</td><td>4</td></tr><tr><td>loss</td><td>nan</td></tr><tr><td>val_accuracy</td><td>0.1755</td></tr><tr><td>val_loss</td><td>nan</td></tr></table><br/></div></div>"
            ]
          },
          "metadata": {}
        },
        {
          "output_type": "display_data",
          "data": {
            "text/plain": [
              "<IPython.core.display.HTML object>"
            ],
            "text/html": [
              " View run <strong style=\"color:#cdcd00\">hl_3_bs_32_ac_tanh</strong> at: <a href='https://wandb.ai/subikksha-indian-institute-of-technology-madras/DA6401-Assignment-1/runs/2hk6uaeq' target=\"_blank\">https://wandb.ai/subikksha-indian-institute-of-technology-madras/DA6401-Assignment-1/runs/2hk6uaeq</a><br> View project at: <a href='https://wandb.ai/subikksha-indian-institute-of-technology-madras/DA6401-Assignment-1' target=\"_blank\">https://wandb.ai/subikksha-indian-institute-of-technology-madras/DA6401-Assignment-1</a><br>Synced 5 W&B file(s), 0 media file(s), 0 artifact file(s) and 0 other file(s)"
            ]
          },
          "metadata": {}
        },
        {
          "output_type": "display_data",
          "data": {
            "text/plain": [
              "<IPython.core.display.HTML object>"
            ],
            "text/html": [
              "Find logs at: <code>./wandb/run-20250309_132620-2hk6uaeq/logs</code>"
            ]
          },
          "metadata": {}
        },
        {
          "output_type": "stream",
          "name": "stderr",
          "text": [
            "\u001b[34m\u001b[1mwandb\u001b[0m: Sweep Agent: Waiting for job.\n",
            "\u001b[34m\u001b[1mwandb\u001b[0m: Job received.\n",
            "\u001b[34m\u001b[1mwandb\u001b[0m: Agent Starting Run: d11jteye with config:\n",
            "\u001b[34m\u001b[1mwandb\u001b[0m: \tactivation: sigmoid\n",
            "\u001b[34m\u001b[1mwandb\u001b[0m: \tbatch_size: 32\n",
            "\u001b[34m\u001b[1mwandb\u001b[0m: \tepochs: 5\n",
            "\u001b[34m\u001b[1mwandb\u001b[0m: \thidden_layers: 5\n",
            "\u001b[34m\u001b[1mwandb\u001b[0m: \thidden_size: 32\n",
            "\u001b[34m\u001b[1mwandb\u001b[0m: \tlearning_rate: 0.001\n",
            "\u001b[34m\u001b[1mwandb\u001b[0m: \toptimizer: sgd\n",
            "\u001b[34m\u001b[1mwandb\u001b[0m: \tweight_init: Xavier\n"
          ]
        },
        {
          "output_type": "display_data",
          "data": {
            "text/plain": [
              "<IPython.core.display.HTML object>"
            ],
            "text/html": [
              "Ignoring project 'DA6401-Assignment-1' when running a sweep."
            ]
          },
          "metadata": {}
        },
        {
          "output_type": "display_data",
          "data": {
            "text/plain": [
              "<IPython.core.display.HTML object>"
            ],
            "text/html": [
              "Tracking run with wandb version 0.19.7"
            ]
          },
          "metadata": {}
        },
        {
          "output_type": "display_data",
          "data": {
            "text/plain": [
              "<IPython.core.display.HTML object>"
            ],
            "text/html": [
              "Run data is saved locally in <code>/content/wandb/run-20250309_132700-d11jteye</code>"
            ]
          },
          "metadata": {}
        },
        {
          "output_type": "display_data",
          "data": {
            "text/plain": [
              "<IPython.core.display.HTML object>"
            ],
            "text/html": [
              "Syncing run <strong><a href='https://wandb.ai/subikksha-indian-institute-of-technology-madras/DA6401-Assignment-1/runs/d11jteye' target=\"_blank\">crimson-sweep-8</a></strong> to <a href='https://wandb.ai/subikksha-indian-institute-of-technology-madras/DA6401-Assignment-1' target=\"_blank\">Weights & Biases</a> (<a href='https://wandb.me/developer-guide' target=\"_blank\">docs</a>)<br>Sweep page: <a href='https://wandb.ai/subikksha-indian-institute-of-technology-madras/DA6401-Assignment-1/sweeps/rjydpx8s' target=\"_blank\">https://wandb.ai/subikksha-indian-institute-of-technology-madras/DA6401-Assignment-1/sweeps/rjydpx8s</a>"
            ]
          },
          "metadata": {}
        },
        {
          "output_type": "display_data",
          "data": {
            "text/plain": [
              "<IPython.core.display.HTML object>"
            ],
            "text/html": [
              " View project at <a href='https://wandb.ai/subikksha-indian-institute-of-technology-madras/DA6401-Assignment-1' target=\"_blank\">https://wandb.ai/subikksha-indian-institute-of-technology-madras/DA6401-Assignment-1</a>"
            ]
          },
          "metadata": {}
        },
        {
          "output_type": "display_data",
          "data": {
            "text/plain": [
              "<IPython.core.display.HTML object>"
            ],
            "text/html": [
              " View sweep at <a href='https://wandb.ai/subikksha-indian-institute-of-technology-madras/DA6401-Assignment-1/sweeps/rjydpx8s' target=\"_blank\">https://wandb.ai/subikksha-indian-institute-of-technology-madras/DA6401-Assignment-1/sweeps/rjydpx8s</a>"
            ]
          },
          "metadata": {}
        },
        {
          "output_type": "display_data",
          "data": {
            "text/plain": [
              "<IPython.core.display.HTML object>"
            ],
            "text/html": [
              " View run at <a href='https://wandb.ai/subikksha-indian-institute-of-technology-madras/DA6401-Assignment-1/runs/d11jteye' target=\"_blank\">https://wandb.ai/subikksha-indian-institute-of-technology-madras/DA6401-Assignment-1/runs/d11jteye</a>"
            ]
          },
          "metadata": {}
        },
        {
          "output_type": "display_data",
          "data": {
            "text/plain": [
              "<IPython.core.display.HTML object>"
            ],
            "text/html": []
          },
          "metadata": {}
        },
        {
          "output_type": "display_data",
          "data": {
            "text/plain": [
              "<IPython.core.display.HTML object>"
            ],
            "text/html": [
              "<br>    <style><br>        .wandb-row {<br>            display: flex;<br>            flex-direction: row;<br>            flex-wrap: wrap;<br>            justify-content: flex-start;<br>            width: 100%;<br>        }<br>        .wandb-col {<br>            display: flex;<br>            flex-direction: column;<br>            flex-basis: 100%;<br>            flex: 1;<br>            padding: 10px;<br>        }<br>    </style><br><div class=\"wandb-row\"><div class=\"wandb-col\"><h3>Run history:</h3><br/><table class=\"wandb\"><tr><td>accuracy</td><td>▁▁▁▁▁</td></tr><tr><td>epoch</td><td>▁▃▅▆█</td></tr><tr><td>loss</td><td>▁▃▅▆█</td></tr><tr><td>val_accuracy</td><td>▁▁▁▁▁</td></tr><tr><td>val_loss</td><td>▁▃▅▆█</td></tr></table><br/></div><div class=\"wandb-col\"><h3>Run summary:</h3><br/><table class=\"wandb\"><tr><td>accuracy</td><td>0.09969</td></tr><tr><td>epoch</td><td>4</td></tr><tr><td>loss</td><td>0.78482</td></tr><tr><td>val_accuracy</td><td>0.10283</td></tr><tr><td>val_loss</td><td>0.78324</td></tr></table><br/></div></div>"
            ]
          },
          "metadata": {}
        },
        {
          "output_type": "display_data",
          "data": {
            "text/plain": [
              "<IPython.core.display.HTML object>"
            ],
            "text/html": [
              " View run <strong style=\"color:#cdcd00\">hl_5_bs_32_ac_sigmoid</strong> at: <a href='https://wandb.ai/subikksha-indian-institute-of-technology-madras/DA6401-Assignment-1/runs/d11jteye' target=\"_blank\">https://wandb.ai/subikksha-indian-institute-of-technology-madras/DA6401-Assignment-1/runs/d11jteye</a><br> View project at: <a href='https://wandb.ai/subikksha-indian-institute-of-technology-madras/DA6401-Assignment-1' target=\"_blank\">https://wandb.ai/subikksha-indian-institute-of-technology-madras/DA6401-Assignment-1</a><br>Synced 5 W&B file(s), 0 media file(s), 0 artifact file(s) and 0 other file(s)"
            ]
          },
          "metadata": {}
        },
        {
          "output_type": "display_data",
          "data": {
            "text/plain": [
              "<IPython.core.display.HTML object>"
            ],
            "text/html": [
              "Find logs at: <code>./wandb/run-20250309_132700-d11jteye/logs</code>"
            ]
          },
          "metadata": {}
        },
        {
          "output_type": "stream",
          "name": "stderr",
          "text": [
            "\u001b[34m\u001b[1mwandb\u001b[0m: Agent Starting Run: e5bgiekb with config:\n",
            "\u001b[34m\u001b[1mwandb\u001b[0m: \tactivation: tanh\n",
            "\u001b[34m\u001b[1mwandb\u001b[0m: \tbatch_size: 64\n",
            "\u001b[34m\u001b[1mwandb\u001b[0m: \tepochs: 10\n",
            "\u001b[34m\u001b[1mwandb\u001b[0m: \thidden_layers: 4\n",
            "\u001b[34m\u001b[1mwandb\u001b[0m: \thidden_size: 32\n",
            "\u001b[34m\u001b[1mwandb\u001b[0m: \tlearning_rate: 0.0001\n",
            "\u001b[34m\u001b[1mwandb\u001b[0m: \toptimizer: sgd\n",
            "\u001b[34m\u001b[1mwandb\u001b[0m: \tweight_init: random\n"
          ]
        },
        {
          "output_type": "display_data",
          "data": {
            "text/plain": [
              "<IPython.core.display.HTML object>"
            ],
            "text/html": [
              "Ignoring project 'DA6401-Assignment-1' when running a sweep."
            ]
          },
          "metadata": {}
        },
        {
          "output_type": "display_data",
          "data": {
            "text/plain": [
              "<IPython.core.display.HTML object>"
            ],
            "text/html": [
              "Tracking run with wandb version 0.19.7"
            ]
          },
          "metadata": {}
        },
        {
          "output_type": "display_data",
          "data": {
            "text/plain": [
              "<IPython.core.display.HTML object>"
            ],
            "text/html": [
              "Run data is saved locally in <code>/content/wandb/run-20250309_132711-e5bgiekb</code>"
            ]
          },
          "metadata": {}
        },
        {
          "output_type": "display_data",
          "data": {
            "text/plain": [
              "<IPython.core.display.HTML object>"
            ],
            "text/html": [
              "Syncing run <strong><a href='https://wandb.ai/subikksha-indian-institute-of-technology-madras/DA6401-Assignment-1/runs/e5bgiekb' target=\"_blank\">cosmic-sweep-9</a></strong> to <a href='https://wandb.ai/subikksha-indian-institute-of-technology-madras/DA6401-Assignment-1' target=\"_blank\">Weights & Biases</a> (<a href='https://wandb.me/developer-guide' target=\"_blank\">docs</a>)<br>Sweep page: <a href='https://wandb.ai/subikksha-indian-institute-of-technology-madras/DA6401-Assignment-1/sweeps/rjydpx8s' target=\"_blank\">https://wandb.ai/subikksha-indian-institute-of-technology-madras/DA6401-Assignment-1/sweeps/rjydpx8s</a>"
            ]
          },
          "metadata": {}
        },
        {
          "output_type": "display_data",
          "data": {
            "text/plain": [
              "<IPython.core.display.HTML object>"
            ],
            "text/html": [
              " View project at <a href='https://wandb.ai/subikksha-indian-institute-of-technology-madras/DA6401-Assignment-1' target=\"_blank\">https://wandb.ai/subikksha-indian-institute-of-technology-madras/DA6401-Assignment-1</a>"
            ]
          },
          "metadata": {}
        },
        {
          "output_type": "display_data",
          "data": {
            "text/plain": [
              "<IPython.core.display.HTML object>"
            ],
            "text/html": [
              " View sweep at <a href='https://wandb.ai/subikksha-indian-institute-of-technology-madras/DA6401-Assignment-1/sweeps/rjydpx8s' target=\"_blank\">https://wandb.ai/subikksha-indian-institute-of-technology-madras/DA6401-Assignment-1/sweeps/rjydpx8s</a>"
            ]
          },
          "metadata": {}
        },
        {
          "output_type": "display_data",
          "data": {
            "text/plain": [
              "<IPython.core.display.HTML object>"
            ],
            "text/html": [
              " View run at <a href='https://wandb.ai/subikksha-indian-institute-of-technology-madras/DA6401-Assignment-1/runs/e5bgiekb' target=\"_blank\">https://wandb.ai/subikksha-indian-institute-of-technology-madras/DA6401-Assignment-1/runs/e5bgiekb</a>"
            ]
          },
          "metadata": {}
        },
        {
          "output_type": "display_data",
          "data": {
            "text/plain": [
              "<IPython.core.display.HTML object>"
            ],
            "text/html": []
          },
          "metadata": {}
        },
        {
          "output_type": "display_data",
          "data": {
            "text/plain": [
              "<IPython.core.display.HTML object>"
            ],
            "text/html": [
              "<br>    <style><br>        .wandb-row {<br>            display: flex;<br>            flex-direction: row;<br>            flex-wrap: wrap;<br>            justify-content: flex-start;<br>            width: 100%;<br>        }<br>        .wandb-col {<br>            display: flex;<br>            flex-direction: column;<br>            flex-basis: 100%;<br>            flex: 1;<br>            padding: 10px;<br>        }<br>    </style><br><div class=\"wandb-row\"><div class=\"wandb-col\"><h3>Run history:</h3><br/><table class=\"wandb\"><tr><td>accuracy</td><td>▁▃▄▆▇███▇▆</td></tr><tr><td>epoch</td><td>▁▂▃▃▄▅▆▆▇█</td></tr><tr><td>loss</td><td> █▆▄▄▃▂▂▁▁</td></tr><tr><td>val_accuracy</td><td>▁▂▅▆▇▇██▇▄</td></tr><tr><td>val_loss</td><td>█▆▅▄▃▃▂▂▁▁</td></tr></table><br/></div><div class=\"wandb-col\"><h3>Run summary:</h3><br/><table class=\"wandb\"><tr><td>accuracy</td><td>0.11513</td></tr><tr><td>epoch</td><td>9</td></tr><tr><td>loss</td><td>9.31536</td></tr><tr><td>val_accuracy</td><td>0.10617</td></tr><tr><td>val_loss</td><td>9.21009</td></tr></table><br/></div></div>"
            ]
          },
          "metadata": {}
        },
        {
          "output_type": "display_data",
          "data": {
            "text/plain": [
              "<IPython.core.display.HTML object>"
            ],
            "text/html": [
              " View run <strong style=\"color:#cdcd00\">hl_4_bs_64_ac_tanh</strong> at: <a href='https://wandb.ai/subikksha-indian-institute-of-technology-madras/DA6401-Assignment-1/runs/e5bgiekb' target=\"_blank\">https://wandb.ai/subikksha-indian-institute-of-technology-madras/DA6401-Assignment-1/runs/e5bgiekb</a><br> View project at: <a href='https://wandb.ai/subikksha-indian-institute-of-technology-madras/DA6401-Assignment-1' target=\"_blank\">https://wandb.ai/subikksha-indian-institute-of-technology-madras/DA6401-Assignment-1</a><br>Synced 5 W&B file(s), 0 media file(s), 0 artifact file(s) and 0 other file(s)"
            ]
          },
          "metadata": {}
        },
        {
          "output_type": "display_data",
          "data": {
            "text/plain": [
              "<IPython.core.display.HTML object>"
            ],
            "text/html": [
              "Find logs at: <code>./wandb/run-20250309_132711-e5bgiekb/logs</code>"
            ]
          },
          "metadata": {}
        },
        {
          "output_type": "stream",
          "name": "stderr",
          "text": [
            "\u001b[34m\u001b[1mwandb\u001b[0m: Agent Starting Run: apawsqg3 with config:\n",
            "\u001b[34m\u001b[1mwandb\u001b[0m: \tactivation: sigmoid\n",
            "\u001b[34m\u001b[1mwandb\u001b[0m: \tbatch_size: 32\n",
            "\u001b[34m\u001b[1mwandb\u001b[0m: \tepochs: 10\n",
            "\u001b[34m\u001b[1mwandb\u001b[0m: \thidden_layers: 4\n",
            "\u001b[34m\u001b[1mwandb\u001b[0m: \thidden_size: 32\n",
            "\u001b[34m\u001b[1mwandb\u001b[0m: \tlearning_rate: 0.001\n",
            "\u001b[34m\u001b[1mwandb\u001b[0m: \toptimizer: adam\n",
            "\u001b[34m\u001b[1mwandb\u001b[0m: \tweight_init: random\n"
          ]
        },
        {
          "output_type": "display_data",
          "data": {
            "text/plain": [
              "<IPython.core.display.HTML object>"
            ],
            "text/html": [
              "Ignoring project 'DA6401-Assignment-1' when running a sweep."
            ]
          },
          "metadata": {}
        },
        {
          "output_type": "display_data",
          "data": {
            "text/plain": [
              "<IPython.core.display.HTML object>"
            ],
            "text/html": [
              "Tracking run with wandb version 0.19.7"
            ]
          },
          "metadata": {}
        },
        {
          "output_type": "display_data",
          "data": {
            "text/plain": [
              "<IPython.core.display.HTML object>"
            ],
            "text/html": [
              "Run data is saved locally in <code>/content/wandb/run-20250309_132737-apawsqg3</code>"
            ]
          },
          "metadata": {}
        },
        {
          "output_type": "display_data",
          "data": {
            "text/plain": [
              "<IPython.core.display.HTML object>"
            ],
            "text/html": [
              "Syncing run <strong><a href='https://wandb.ai/subikksha-indian-institute-of-technology-madras/DA6401-Assignment-1/runs/apawsqg3' target=\"_blank\">dutiful-sweep-10</a></strong> to <a href='https://wandb.ai/subikksha-indian-institute-of-technology-madras/DA6401-Assignment-1' target=\"_blank\">Weights & Biases</a> (<a href='https://wandb.me/developer-guide' target=\"_blank\">docs</a>)<br>Sweep page: <a href='https://wandb.ai/subikksha-indian-institute-of-technology-madras/DA6401-Assignment-1/sweeps/rjydpx8s' target=\"_blank\">https://wandb.ai/subikksha-indian-institute-of-technology-madras/DA6401-Assignment-1/sweeps/rjydpx8s</a>"
            ]
          },
          "metadata": {}
        },
        {
          "output_type": "display_data",
          "data": {
            "text/plain": [
              "<IPython.core.display.HTML object>"
            ],
            "text/html": [
              " View project at <a href='https://wandb.ai/subikksha-indian-institute-of-technology-madras/DA6401-Assignment-1' target=\"_blank\">https://wandb.ai/subikksha-indian-institute-of-technology-madras/DA6401-Assignment-1</a>"
            ]
          },
          "metadata": {}
        },
        {
          "output_type": "display_data",
          "data": {
            "text/plain": [
              "<IPython.core.display.HTML object>"
            ],
            "text/html": [
              " View sweep at <a href='https://wandb.ai/subikksha-indian-institute-of-technology-madras/DA6401-Assignment-1/sweeps/rjydpx8s' target=\"_blank\">https://wandb.ai/subikksha-indian-institute-of-technology-madras/DA6401-Assignment-1/sweeps/rjydpx8s</a>"
            ]
          },
          "metadata": {}
        },
        {
          "output_type": "display_data",
          "data": {
            "text/plain": [
              "<IPython.core.display.HTML object>"
            ],
            "text/html": [
              " View run at <a href='https://wandb.ai/subikksha-indian-institute-of-technology-madras/DA6401-Assignment-1/runs/apawsqg3' target=\"_blank\">https://wandb.ai/subikksha-indian-institute-of-technology-madras/DA6401-Assignment-1/runs/apawsqg3</a>"
            ]
          },
          "metadata": {}
        },
        {
          "output_type": "display_data",
          "data": {
            "text/plain": [
              "<IPython.core.display.HTML object>"
            ],
            "text/html": []
          },
          "metadata": {}
        },
        {
          "output_type": "display_data",
          "data": {
            "text/plain": [
              "<IPython.core.display.HTML object>"
            ],
            "text/html": [
              "<br>    <style><br>        .wandb-row {<br>            display: flex;<br>            flex-direction: row;<br>            flex-wrap: wrap;<br>            justify-content: flex-start;<br>            width: 100%;<br>        }<br>        .wandb-col {<br>            display: flex;<br>            flex-direction: column;<br>            flex-basis: 100%;<br>            flex: 1;<br>            padding: 10px;<br>        }<br>    </style><br><div class=\"wandb-row\"><div class=\"wandb-col\"><h3>Run history:</h3><br/><table class=\"wandb\"><tr><td>accuracy</td><td>▁▁▁▁▁▁▁▁▁▁</td></tr><tr><td>epoch</td><td>▁▂▃▃▄▅▆▆▇█</td></tr><tr><td>loss</td><td>▁▂▃▃▄▅▆▆▇█</td></tr><tr><td>val_accuracy</td><td>▁▁▁▁▁▁▁▁▁▁</td></tr><tr><td>val_loss</td><td>▁▂▃▃▄▅▆▆▇█</td></tr></table><br/></div><div class=\"wandb-col\"><h3>Run summary:</h3><br/><table class=\"wandb\"><tr><td>accuracy</td><td>0.1003</td></tr><tr><td>epoch</td><td>9</td></tr><tr><td>loss</td><td>0.70546</td></tr><tr><td>val_accuracy</td><td>0.09733</td></tr><tr><td>val_loss</td><td>0.70726</td></tr></table><br/></div></div>"
            ]
          },
          "metadata": {}
        },
        {
          "output_type": "display_data",
          "data": {
            "text/plain": [
              "<IPython.core.display.HTML object>"
            ],
            "text/html": [
              " View run <strong style=\"color:#cdcd00\">hl_4_bs_32_ac_sigmoid</strong> at: <a href='https://wandb.ai/subikksha-indian-institute-of-technology-madras/DA6401-Assignment-1/runs/apawsqg3' target=\"_blank\">https://wandb.ai/subikksha-indian-institute-of-technology-madras/DA6401-Assignment-1/runs/apawsqg3</a><br> View project at: <a href='https://wandb.ai/subikksha-indian-institute-of-technology-madras/DA6401-Assignment-1' target=\"_blank\">https://wandb.ai/subikksha-indian-institute-of-technology-madras/DA6401-Assignment-1</a><br>Synced 5 W&B file(s), 0 media file(s), 0 artifact file(s) and 0 other file(s)"
            ]
          },
          "metadata": {}
        },
        {
          "output_type": "display_data",
          "data": {
            "text/plain": [
              "<IPython.core.display.HTML object>"
            ],
            "text/html": [
              "Find logs at: <code>./wandb/run-20250309_132737-apawsqg3/logs</code>"
            ]
          },
          "metadata": {}
        }
      ]
    }
  ]
}