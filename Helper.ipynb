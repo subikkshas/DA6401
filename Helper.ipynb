{
  "nbformat": 4,
  "nbformat_minor": 0,
  "metadata": {
    "colab": {
      "provenance": [],
      "authorship_tag": "ABX9TyN2z+bIegVjyOxFjEdXufLS",
      "include_colab_link": true
    },
    "kernelspec": {
      "name": "python3",
      "display_name": "Python 3"
    },
    "language_info": {
      "name": "python"
    }
  },
  "cells": [
    {
      "cell_type": "markdown",
      "metadata": {
        "id": "view-in-github",
        "colab_type": "text"
      },
      "source": [
        "<a href=\"https://colab.research.google.com/github/subikkshas/DA6401/blob/main/Helper.ipynb\" target=\"_parent\"><img src=\"https://colab.research.google.com/assets/colab-badge.svg\" alt=\"Open In Colab\"/></a>"
      ]
    },
    {
      "cell_type": "code",
      "execution_count": 1,
      "metadata": {
        "id": "cH8WAMUrcIzS"
      },
      "outputs": [],
      "source": [
        "# Other Helper Functions\n",
        "\n",
        "import numpy as np\n",
        "\n",
        "class OneHotEncoder:\n",
        "    \"\"\"Encodes class labels into one-hot vectors.\"\"\"\n",
        "\n",
        "    def __init__(self):\n",
        "        self.num_classes = None\n",
        "\n",
        "    def fit(self, labels, num_classes):\n",
        "        \"\"\"Fits the encoder by storing the number of classes.\"\"\"\n",
        "        self.num_classes = num_classes\n",
        "        self.labels = labels\n",
        "\n",
        "    def transform(self):\n",
        "        \"\"\"Converts labels into one-hot encoded format.\"\"\"\n",
        "        if self.num_classes is None:\n",
        "            raise ValueError(\"Fit the encoder before calling transform.\")\n",
        "\n",
        "        one_hot_encoded = np.zeros((self.num_classes, self.labels.size))\n",
        "        one_hot_encoded[self.labels, np.arange(self.labels.size)] = 1\n",
        "        return one_hot_encoded\n",
        "\n",
        "    def fit_transform(self, labels, num_classes):\n",
        "        \"\"\"Fits and transforms the labels in one step.\"\"\"\n",
        "        self.fit(labels, num_classes)\n",
        "        return self.transform()\n",
        "\n",
        "    def inverse_transform(self, encoded_labels):\n",
        "        \"\"\"Converts one-hot encoded data back to class labels.\"\"\"\n",
        "        return np.argmax(encoded_labels, axis=0)\n",
        "\n",
        "\n",
        "class MinMaxScaler:\n",
        "    \"\"\"Scales features to a [0,1] range using min-max normalization.\"\"\"\n",
        "\n",
        "    def __init__(self):\n",
        "        self.min_vals = None\n",
        "        self.max_vals = None\n",
        "\n",
        "    def fit(self, X):\n",
        "        \"\"\"Calculates the min and max values for each feature.\"\"\"\n",
        "        self.min_vals = np.min(X, axis=0)\n",
        "        self.max_vals = np.max(X, axis=0)\n",
        "\n",
        "    def transform(self, X):\n",
        "        \"\"\"Applies min-max scaling to input data.\"\"\"\n",
        "        if self.min_vals is None or self.max_vals is None:\n",
        "            raise ValueError(\"Fit the scaler before calling transform.\")\n",
        "\n",
        "        return (X - self.min_vals) / (self.max_vals - self.min_vals)\n",
        "\n",
        "    def fit_transform(self, X):\n",
        "        \"\"\"Fits and transforms data in one step.\"\"\"\n",
        "        self.fit(X)\n",
        "        return self.transform(X)\n"
      ]
    }
  ]
}