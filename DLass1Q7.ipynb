{
  "nbformat": 4,
  "nbformat_minor": 0,
  "metadata": {
    "colab": {
      "provenance": [],
      "authorship_tag": "ABX9TyM23tg9op+maY+sJW+XiMjQ",
      "include_colab_link": true
    },
    "kernelspec": {
      "name": "python3",
      "display_name": "Python 3"
    },
    "language_info": {
      "name": "python"
    }
  },
  "cells": [
    {
      "cell_type": "markdown",
      "metadata": {
        "id": "view-in-github",
        "colab_type": "text"
      },
      "source": [
        "<a href=\"https://colab.research.google.com/github/subikkshas/DA6401/blob/main/DLass1Q7.ipynb\" target=\"_parent\"><img src=\"https://colab.research.google.com/assets/colab-badge.svg\" alt=\"Open In Colab\"/></a>"
      ]
    },
    {
      "cell_type": "code",
      "execution_count": 9,
      "metadata": {
        "colab": {
          "base_uri": "https://localhost:8080/",
          "height": 228
        },
        "id": "CGYdXKKdnRQF",
        "outputId": "32b6b08b-499a-406f-9f9e-2afba903cef2"
      },
      "outputs": [
        {
          "output_type": "stream",
          "name": "stdout",
          "text": [
            "Best Config Keys: dict_keys([])\n"
          ]
        },
        {
          "output_type": "error",
          "ename": "NameError",
          "evalue": "name 'forward_pass' is not defined",
          "traceback": [
            "\u001b[0;31m---------------------------------------------------------------------------\u001b[0m",
            "\u001b[0;31mNameError\u001b[0m                                 Traceback (most recent call last)",
            "\u001b[0;32m<ipython-input-9-1b87d8184488>\u001b[0m in \u001b[0;36m<cell line: 0>\u001b[0;34m()\u001b[0m\n\u001b[1;32m     74\u001b[0m \u001b[0;31m# 🔹 Train Best Model (Re-run with best hyperparameters)\u001b[0m\u001b[0;34m\u001b[0m\u001b[0;34m\u001b[0m\u001b[0m\n\u001b[1;32m     75\u001b[0m \u001b[0;32mfor\u001b[0m \u001b[0mepoch\u001b[0m \u001b[0;32min\u001b[0m \u001b[0mrange\u001b[0m\u001b[0;34m(\u001b[0m\u001b[0mepochs\u001b[0m\u001b[0;34m)\u001b[0m\u001b[0;34m:\u001b[0m\u001b[0;34m\u001b[0m\u001b[0;34m\u001b[0m\u001b[0m\n\u001b[0;32m---> 76\u001b[0;31m     \u001b[0mactivations_list\u001b[0m\u001b[0;34m,\u001b[0m \u001b[0mpre_activations\u001b[0m \u001b[0;34m=\u001b[0m \u001b[0mforward_pass\u001b[0m\u001b[0;34m(\u001b[0m\u001b[0mX_test\u001b[0m\u001b[0;34m,\u001b[0m \u001b[0mweights\u001b[0m\u001b[0;34m,\u001b[0m \u001b[0mbiases\u001b[0m\u001b[0;34m,\u001b[0m \u001b[0mactivation\u001b[0m\u001b[0;34m)\u001b[0m\u001b[0;34m\u001b[0m\u001b[0;34m\u001b[0m\u001b[0m\n\u001b[0m\u001b[1;32m     77\u001b[0m     \u001b[0mdW\u001b[0m\u001b[0;34m,\u001b[0m \u001b[0mdb\u001b[0m \u001b[0;34m=\u001b[0m \u001b[0mbackward_pass\u001b[0m\u001b[0;34m(\u001b[0m\u001b[0mactivations_list\u001b[0m\u001b[0;34m,\u001b[0m \u001b[0mpre_activations\u001b[0m\u001b[0;34m,\u001b[0m \u001b[0my_test\u001b[0m\u001b[0;34m,\u001b[0m \u001b[0mweights\u001b[0m\u001b[0;34m,\u001b[0m \u001b[0mbiases\u001b[0m\u001b[0;34m,\u001b[0m \u001b[0mactivation\u001b[0m\u001b[0;34m)\u001b[0m\u001b[0;34m\u001b[0m\u001b[0;34m\u001b[0m\u001b[0m\n\u001b[1;32m     78\u001b[0m     \u001b[0mweights\u001b[0m\u001b[0;34m,\u001b[0m \u001b[0mbiases\u001b[0m \u001b[0;34m=\u001b[0m \u001b[0moptimizer\u001b[0m\u001b[0;34m.\u001b[0m\u001b[0mupdate\u001b[0m\u001b[0;34m(\u001b[0m\u001b[0mweights\u001b[0m\u001b[0;34m,\u001b[0m \u001b[0mbiases\u001b[0m\u001b[0;34m,\u001b[0m \u001b[0mdW\u001b[0m\u001b[0;34m,\u001b[0m \u001b[0mdb\u001b[0m\u001b[0;34m)\u001b[0m\u001b[0;34m\u001b[0m\u001b[0;34m\u001b[0m\u001b[0m\n",
            "\u001b[0;31mNameError\u001b[0m: name 'forward_pass' is not defined"
          ]
        }
      ],
      "source": [
        "import numpy as np\n",
        "import matplotlib.pyplot as plt\n",
        "import seaborn as sns\n",
        "from sklearn.metrics import confusion_matrix\n",
        "import wandb\n",
        "from keras.datasets import fashion_mnist\n",
        "\n",
        "\n",
        "def initialize_weights(layers, method=\"Xavier\"):\n",
        "    weights, biases = [], []\n",
        "    for i in range(len(layers) - 1):\n",
        "        if method == \"random\":\n",
        "            weights.append(np.random.randn(layers[i], layers[i+1]) * 0.01)\n",
        "        elif method == \"Xavier\":\n",
        "            weights.append(np.random.randn(layers[i], layers[i+1]) * np.sqrt(1 / layers[i]))\n",
        "        elif method == \"He\":  # He initialization for ReLU\n",
        "            weights.append(np.random.randn(layers[i], layers[i+1]) * np.sqrt(2 / layers[i]))\n",
        "        biases.append(np.zeros((1, layers[i+1])))\n",
        "    return weights, biases\n",
        "\n",
        "\n",
        "class Optimizer:\n",
        "    def __init__(self, method=\"sgd\", lr=0.01):\n",
        "        self.method = method\n",
        "        self.lr = lr\n",
        "\n",
        "    def update(self, weights, biases, dW, db):\n",
        "        updated_weights, updated_biases = [], []\n",
        "        for i, (W, b, dW_i, db_i) in enumerate(zip(weights, biases, dW, db)):\n",
        "            W -= self.lr * dW_i\n",
        "            b -= self.lr * db_i\n",
        "            updated_weights.append(W)\n",
        "            updated_biases.append(b)\n",
        "        return updated_weights, updated_biases\n",
        "\n",
        "\n",
        "# Load Test Data\n",
        "(_, _), (X_test, y_test) = fashion_mnist.load_data()\n",
        "X_test = X_test.reshape(-1, 784) / 255.0  # Flatten images\n",
        "\n",
        "# 🔹 Retrieve Best Model from WandB\n",
        "# 🔹 Retrieve Best Model from WandB\n",
        "api = wandb.Api()\n",
        "runs = list(api.runs(\"DA6401-Assignment-1\"))  # Convert generator to list\n",
        "\n",
        "if not runs:\n",
        "    raise ValueError(\"No runs found in project 'DA6401-Assignment-1'. Check if sweeps have been completed.\")\n",
        "\n",
        "best_run = max(runs, key=lambda run: float(run.summary.get(\"val_accuracy\", 0)[0]) if isinstance(run.summary.get(\"val_accuracy\", 0), (list, tuple)) else run.summary.get(\"val_accuracy\", 0))\n",
        "\n",
        "if best_run is None:\n",
        "    raise ValueError(\"No valid runs found with 'val_accuracy'. Check WandB logs.\")\n",
        "\n",
        "best_config = best_run.config\n",
        "\n",
        "# Debugging: Print available keys\n",
        "print(\"Best Config Keys:\", best_config.keys())\n",
        "\n",
        "\n",
        "# Handle Missing Key: Use .get() to avoid KeyError\n",
        "hidden_size = best_config.get(\"hidden_size\", 64)  # Default value if missing\n",
        "hidden_layers = best_config.get(\"hidden_layers\", 3)  # Default value if missing\n",
        "weight_init = best_config.get(\"weight_init\", \"Xavier\")\n",
        "activation = best_config.get(\"activation\", \"ReLU\")\n",
        "optimizer_name = best_config.get(\"optimizer\", \"sgd\")\n",
        "learning_rate = best_config.get(\"learning_rate\", 0.001)\n",
        "epochs = best_config.get(\"epochs\", 10)\n",
        "\n",
        "# Initialize Model with Best Hyperparameters\n",
        "layers = [784] + [hidden_size] * hidden_layers + [10]\n",
        "weights, biases = initialize_weights(layers, method=weight_init)\n",
        "optimizer = Optimizer(optimizer_name, learning_rate)\n",
        "\n",
        "# 🔹 Train Best Model (Re-run with best hyperparameters)\n",
        "for epoch in range(epochs):\n",
        "    activations_list, pre_activations = forward_pass(X_test, weights, biases, activation)\n",
        "    dW, db = backward_pass(activations_list, pre_activations, y_test, weights, biases, activation)\n",
        "    weights, biases = optimizer.update(weights, biases, dW, db)\n",
        "\n",
        "# 🔹 Test Set Evaluation\n",
        "final_activations, _ = forward_pass(X_test, weights, biases, activation)\n",
        "test_preds = np.argmax(final_activations[-1], axis=1)\n",
        "test_accuracy = np.mean(test_preds == y_test)\n",
        "print(f\"Test Accuracy: {test_accuracy * 100:.2f}%\")\n",
        "\n",
        "# 🔹 Compute Confusion Matrix\n",
        "cm = confusion_matrix(y_test, test_preds)\n",
        "\n",
        "# 🔹 Creative Confusion Matrix Plot\n",
        "plt.figure(figsize=(10, 8))\n",
        "cmap = sns.color_palette(\"coolwarm\", as_cmap=True)\n",
        "sns.heatmap(cm, annot=True, fmt='d', cmap=cmap, linewidths=1, linecolor='black')\n",
        "plt.xlabel(\"Predicted Labels\")\n",
        "plt.ylabel(\"True Labels\")\n",
        "plt.title(\"Confusion Matrix - Fashion MNIST (Best Model)\")\n",
        "plt.show()\n",
        "\n",
        "# 🔹 Log Confusion Matrix to WandB\n",
        "wandb.init(project=\"DA6401-Assignment-1\", name=\"Confusion Matrix Logging\")\n",
        "wandb.log({\"confusion_matrix\": wandb.plot.confusion_matrix(probs=None,\n",
        "                                                            y_true=y_test,\n",
        "                                                            preds=test_preds,\n",
        "                                                            class_names=[str(i) for i in range(10)])})\n",
        "wandb.finish()"
      ]
    },
    {
      "cell_type": "code",
      "source": [
        "import numpy as np\n",
        "import matplotlib.pyplot as plt\n",
        "import seaborn as sns\n",
        "from sklearn.metrics import confusion_matrix\n",
        "import wandb\n",
        "from keras.datasets import fashion_mnist\n",
        "\n",
        "# 🔹 Activation Functions & Their Derivatives\n",
        "def sigmoid(x): return 1 / (1 + np.exp(-x))\n",
        "def tanh(x): return np.tanh(x)\n",
        "def relu(x): return np.maximum(0, x)\n",
        "\n",
        "def sigmoid_derivative(x): return x * (1 - x)\n",
        "def tanh_derivative(x): return 1 - np.tanh(x) ** 2\n",
        "def relu_derivative(x): return np.where(x > 0, 1, 0)\n",
        "\n",
        "activations = {\"sigmoid\": (sigmoid, sigmoid_derivative),\n",
        "               \"tanh\": (tanh, tanh_derivative),\n",
        "               \"ReLU\": (relu, relu_derivative)}\n",
        "\n",
        "# 🔹 Weight Initialization Function\n",
        "def initialize_weights(layers, method=\"Xavier\"):\n",
        "    weights, biases = [], []\n",
        "    for i in range(len(layers) - 1):\n",
        "        if method == \"random\":\n",
        "            weights.append(np.random.randn(layers[i], layers[i+1]) * 0.01)\n",
        "        elif method == \"Xavier\":\n",
        "            weights.append(np.random.randn(layers[i], layers[i+1]) * np.sqrt(1 / layers[i]))\n",
        "        elif method == \"He\":  # He initialization for ReLU\n",
        "            weights.append(np.random.randn(layers[i], layers[i+1]) * np.sqrt(2 / layers[i]))\n",
        "        biases.append(np.zeros((1, layers[i+1])))\n",
        "    return weights, biases\n",
        "\n",
        "# 🔹 Forward Pass\n",
        "def forward_pass(X, weights, biases, activation):\n",
        "    activ, deriv = activations[activation]\n",
        "    activations_list = [X]\n",
        "    pre_activations = []\n",
        "\n",
        "    for W, b in zip(weights, biases):\n",
        "        Z = np.dot(activations_list[-1], W) + b\n",
        "        pre_activations.append(Z)\n",
        "        A = activ(Z)\n",
        "        activations_list.append(A)\n",
        "\n",
        "    return activations_list, pre_activations\n",
        "\n",
        "# 🔹 Backpropagation\n",
        "def backward_pass(activations_list, pre_activations, y, weights, biases, activation):\n",
        "    m = y.shape[0]\n",
        "    activ, deriv = activations[activation]\n",
        "\n",
        "    # One-hot encode y\n",
        "    y_one_hot = np.zeros((m, 10))\n",
        "    y_one_hot[np.arange(m), y] = 1\n",
        "\n",
        "    dZ = activations_list[-1] - y_one_hot  # Softmax gradient\n",
        "    dW, db = [], []\n",
        "\n",
        "    for i in range(len(weights) - 1, -1, -1):\n",
        "        dW_i = np.dot(activations_list[i].T, dZ) / m\n",
        "        db_i = np.sum(dZ, axis=0, keepdims=True) / m\n",
        "        dW.insert(0, dW_i)\n",
        "        db.insert(0, db_i)\n",
        "\n",
        "        if i > 0:\n",
        "            dZ = np.dot(dZ, weights[i].T) * deriv(pre_activations[i-1])\n",
        "\n",
        "    return dW, db\n",
        "\n",
        "# 🔹 Optimizer Class\n",
        "class Optimizer:\n",
        "    def __init__(self, method=\"sgd\", lr=0.01):\n",
        "        self.method = method\n",
        "        self.lr = lr\n",
        "\n",
        "    def update(self, weights, biases, dW, db):\n",
        "        updated_weights, updated_biases = [], []\n",
        "        for i, (W, b, dW_i, db_i) in enumerate(zip(weights, biases, dW, db)):\n",
        "            W -= self.lr * dW_i\n",
        "            b -= self.lr * db_i\n",
        "            updated_weights.append(W)\n",
        "            updated_biases.append(b)\n",
        "        return updated_weights, updated_biases\n",
        "\n",
        "# Load Test Data\n",
        "(_, _), (X_test, y_test) = fashion_mnist.load_data()\n",
        "X_test = X_test.reshape(-1, 784) / 255.0  # Flatten images\n",
        "\n",
        "# 🔹 Retrieve Best Model from WandB\n",
        "api = wandb.Api()\n",
        "runs = api.runs(\"DA6401-Assignment-1\")\n",
        "best_run = max(runs, key=lambda run: float(run.summary.get(\"val_accuracy\", 0)[0]) if isinstance(run.summary.get(\"val_accuracy\", 0), (list, tuple)) else run.summary.get(\"val_accuracy\", 0))\n",
        "best_config = best_run.config\n",
        "\n",
        "# 🔹 Debug: Print available keys to check correct naming\n",
        "print(\"Best Config Keys:\", best_config.keys())\n",
        "\n",
        "# 🔹 Handle Missing Key: Use .get() to avoid KeyError\n",
        "hidden_size = best_config.get(\"hidden_size\", 64)  # Default value if missing\n",
        "hidden_layers = best_config.get(\"hidden_layers\", 3)  # Default value if missing\n",
        "weight_init = best_config.get(\"weight_init\", \"Xavier\")\n",
        "activation = best_config.get(\"activation\", \"ReLU\")\n",
        "optimizer_name = best_config.get(\"optimizer\", \"sgd\")\n",
        "learning_rate = best_config.get(\"learning_rate\", 0.001)\n",
        "epochs = best_config.get(\"epochs\", 10)\n",
        "\n",
        "# 🔹 Initialize Model with Best Hyperparameters\n",
        "layers = [784] + [hidden_size] * hidden_layers + [10]\n",
        "weights, biases = initialize_weights(layers, method=weight_init)\n",
        "optimizer = Optimizer(optimizer_name, learning_rate)\n",
        "\n",
        "# 🔹 Train Best Model (Re-run with best hyperparameters)\n",
        "for epoch in range(epochs):\n",
        "    activations_list, pre_activations = forward_pass(X_test, weights, biases, activation)\n",
        "    dW, db = backward_pass(activations_list, pre_activations, y_test, weights, biases, activation)\n",
        "    weights, biases = optimizer.update(weights, biases, dW, db)\n",
        "\n",
        "# 🔹 Test Set Evaluation\n",
        "final_activations, _ = forward_pass(X_test, weights, biases, activation)\n",
        "test_preds = np.argmax(final_activations[-1], axis=1)\n",
        "test_accuracy = np.mean(test_preds == y_test)\n",
        "print(f\"Test Accuracy: {test_accuracy * 100:.2f}%\")\n",
        "\n",
        "# 🔹 Compute Confusion Matrix\n",
        "cm = confusion_matrix(y_test, test_preds)\n",
        "\n",
        "# 🔹 Creative Confusion Matrix Plot\n",
        "plt.figure(figsize=(10, 8))\n",
        "cmap = sns.color_palette(\"coolwarm\", as_cmap=True)\n",
        "sns.heatmap(cm, annot=True, fmt='d', cmap=cmap, linewidths=1, linecolor='black')\n",
        "plt.xlabel(\"Predicted Labels\")\n",
        "plt.ylabel(\"True Labels\")\n",
        "plt.title(\"Confusion Matrix - Fashion MNIST (Best Model)\")\n",
        "plt.show()\n",
        "\n",
        "# 🔹 Log Confusion Matrix to WandB\n",
        "wandb.init(project=\"DA6401-Assignment-1\", name=\"Confusion Matrix Logging\")\n",
        "wandb.log({\"confusion_matrix\": wandb.plot.confusion_matrix(probs=None,\n",
        "                                                            y_true=y_test,\n",
        "                                                            preds=test_preds,\n",
        "                                                            class_names=[str(i) for i in range(10)])})\n",
        "wandb.finish()"
      ],
      "metadata": {
        "colab": {
          "base_uri": "https://localhost:8080/",
          "height": 1000
        },
        "id": "i0zyBROAV_gt",
        "outputId": "593da30f-c70f-41a0-8177-d776e8999f16"
      },
      "execution_count": 1,
      "outputs": [
        {
          "output_type": "stream",
          "name": "stdout",
          "text": [
            "Downloading data from https://storage.googleapis.com/tensorflow/tf-keras-datasets/train-labels-idx1-ubyte.gz\n",
            "\u001b[1m29515/29515\u001b[0m \u001b[32m━━━━━━━━━━━━━━━━━━━━\u001b[0m\u001b[37m\u001b[0m \u001b[1m0s\u001b[0m 0us/step\n",
            "Downloading data from https://storage.googleapis.com/tensorflow/tf-keras-datasets/train-images-idx3-ubyte.gz\n",
            "\u001b[1m26421880/26421880\u001b[0m \u001b[32m━━━━━━━━━━━━━━━━━━━━\u001b[0m\u001b[37m\u001b[0m \u001b[1m2s\u001b[0m 0us/step\n",
            "Downloading data from https://storage.googleapis.com/tensorflow/tf-keras-datasets/t10k-labels-idx1-ubyte.gz\n",
            "\u001b[1m5148/5148\u001b[0m \u001b[32m━━━━━━━━━━━━━━━━━━━━\u001b[0m\u001b[37m\u001b[0m \u001b[1m0s\u001b[0m 0us/step\n",
            "Downloading data from https://storage.googleapis.com/tensorflow/tf-keras-datasets/t10k-images-idx3-ubyte.gz\n",
            "\u001b[1m4422102/4422102\u001b[0m \u001b[32m━━━━━━━━━━━━━━━━━━━━\u001b[0m\u001b[37m\u001b[0m \u001b[1m1s\u001b[0m 0us/step\n"
          ]
        },
        {
          "output_type": "stream",
          "name": "stderr",
          "text": [
            "\u001b[34m\u001b[1mwandb\u001b[0m: Using wandb-core as the SDK backend.  Please refer to https://wandb.me/wandb-core for more information.\n"
          ]
        },
        {
          "output_type": "display_data",
          "data": {
            "text/plain": [
              "<IPython.core.display.Javascript object>"
            ],
            "application/javascript": [
              "\n",
              "        window._wandbApiKey = new Promise((resolve, reject) => {\n",
              "            function loadScript(url) {\n",
              "            return new Promise(function(resolve, reject) {\n",
              "                let newScript = document.createElement(\"script\");\n",
              "                newScript.onerror = reject;\n",
              "                newScript.onload = resolve;\n",
              "                document.body.appendChild(newScript);\n",
              "                newScript.src = url;\n",
              "            });\n",
              "            }\n",
              "            loadScript(\"https://cdn.jsdelivr.net/npm/postmate/build/postmate.min.js\").then(() => {\n",
              "            const iframe = document.createElement('iframe')\n",
              "            iframe.style.cssText = \"width:0;height:0;border:none\"\n",
              "            document.body.appendChild(iframe)\n",
              "            const handshake = new Postmate({\n",
              "                container: iframe,\n",
              "                url: 'https://wandb.ai/authorize'\n",
              "            });\n",
              "            const timeout = setTimeout(() => reject(\"Couldn't auto authenticate\"), 5000)\n",
              "            handshake.then(function(child) {\n",
              "                child.on('authorize', data => {\n",
              "                    clearTimeout(timeout)\n",
              "                    resolve(data)\n",
              "                });\n",
              "            });\n",
              "            })\n",
              "        });\n",
              "    "
            ]
          },
          "metadata": {}
        },
        {
          "output_type": "stream",
          "name": "stderr",
          "text": [
            "\u001b[34m\u001b[1mwandb\u001b[0m: Logging into wandb.ai. (Learn how to deploy a W&B server locally: https://wandb.me/wandb-server)\n",
            "\u001b[34m\u001b[1mwandb\u001b[0m: You can find your API key in your browser here: https://wandb.ai/authorize\n",
            "wandb: Paste an API key from your profile and hit enter:"
          ]
        },
        {
          "name": "stdout",
          "output_type": "stream",
          "text": [
            " ··········\n"
          ]
        },
        {
          "output_type": "stream",
          "name": "stderr",
          "text": [
            "\u001b[34m\u001b[1mwandb\u001b[0m: \u001b[33mWARNING\u001b[0m If you're specifying your api key in code, ensure this code is not shared publicly.\n",
            "\u001b[34m\u001b[1mwandb\u001b[0m: \u001b[33mWARNING\u001b[0m Consider setting the WANDB_API_KEY environment variable, or running `wandb login` from the command line.\n",
            "\u001b[34m\u001b[1mwandb\u001b[0m: No netrc file found, creating one.\n",
            "\u001b[34m\u001b[1mwandb\u001b[0m: Appending key for api.wandb.ai to your netrc file: /root/.netrc\n",
            "\u001b[34m\u001b[1mwandb\u001b[0m: Currently logged in as: \u001b[33msubikksha\u001b[0m (\u001b[33msubikksha-indian-institute-of-technology-madras\u001b[0m) to \u001b[32mhttps://api.wandb.ai\u001b[0m. Use \u001b[1m`wandb login --relogin`\u001b[0m to force relogin\n"
          ]
        },
        {
          "output_type": "stream",
          "name": "stdout",
          "text": [
            "Best Config Keys: dict_keys([])\n",
            "Test Accuracy: 10.26%\n"
          ]
        },
        {
          "output_type": "display_data",
          "data": {
            "text/plain": [
              "<Figure size 1000x800 with 2 Axes>"
            ],
            "image/png": "[encoded data removed]"
          },
          "metadata": {}
        },
        {
          "output_type": "display_data",
          "data": {
            "text/plain": [
              "<IPython.core.display.HTML object>"
            ],
            "text/html": [
              "Tracking run with wandb version 0.19.7"
            ]
          },
          "metadata": {}
        },
        {
          "output_type": "display_data",
          "data": {
            "text/plain": [
              "<IPython.core.display.HTML object>"
            ],
            "text/html": [
              "Run data is saved locally in <code>/content/wandb/run-20250310_044223-egv82y3g</code>"
            ]
          },
          "metadata": {}
        },
        {
          "output_type": "display_data",
          "data": {
            "text/plain": [
              "<IPython.core.display.HTML object>"
            ],
            "text/html": [
              "Syncing run <strong><a href='https://wandb.ai/subikksha-indian-institute-of-technology-madras/DA6401-Assignment-1/runs/egv82y3g' target=\"_blank\">Confusion Matrix Logging</a></strong> to <a href='https://wandb.ai/subikksha-indian-institute-of-technology-madras/DA6401-Assignment-1' target=\"_blank\">Weights & Biases</a> (<a href='https://wandb.me/developer-guide' target=\"_blank\">docs</a>)<br>"
            ]
          },
          "metadata": {}
        },
        {
          "output_type": "display_data",
          "data": {
            "text/plain": [
              "<IPython.core.display.HTML object>"
            ],
            "text/html": [
              " View project at <a href='https://wandb.ai/subikksha-indian-institute-of-technology-madras/DA6401-Assignment-1' target=\"_blank\">https://wandb.ai/subikksha-indian-institute-of-technology-madras/DA6401-Assignment-1</a>"
            ]
          },
          "metadata": {}
        },
        {
          "output_type": "display_data",
          "data": {
            "text/plain": [
              "<IPython.core.display.HTML object>"
            ],
            "text/html": [
              " View run at <a href='https://wandb.ai/subikksha-indian-institute-of-technology-madras/DA6401-Assignment-1/runs/egv82y3g' target=\"_blank\">https://wandb.ai/subikksha-indian-institute-of-technology-madras/DA6401-Assignment-1/runs/egv82y3g</a>"
            ]
          },
          "metadata": {}
        },
        {
          "output_type": "display_data",
          "data": {
            "text/plain": [
              "<IPython.core.display.HTML object>"
            ],
            "text/html": []
          },
          "metadata": {}
        },
        {
          "output_type": "display_data",
          "data": {
            "text/plain": [
              "<IPython.core.display.HTML object>"
            ],
            "text/html": [
              " View run <strong style=\"color:#cdcd00\">Confusion Matrix Logging</strong> at: <a href='https://wandb.ai/subikksha-indian-institute-of-technology-madras/DA6401-Assignment-1/runs/egv82y3g' target=\"_blank\">https://wandb.ai/subikksha-indian-institute-of-technology-madras/DA6401-Assignment-1/runs/egv82y3g</a><br> View project at: <a href='https://wandb.ai/subikksha-indian-institute-of-technology-madras/DA6401-Assignment-1' target=\"_blank\">https://wandb.ai/subikksha-indian-institute-of-technology-madras/DA6401-Assignment-1</a><br>Synced 5 W&B file(s), 1 media file(s), 2 artifact file(s) and 0 other file(s)"
            ]
          },
          "metadata": {}
        },
        {
          "output_type": "display_data",
          "data": {
            "text/plain": [
              "<IPython.core.display.HTML object>"
            ],
            "text/html": [
              "Find logs at: <code>./wandb/run-20250310_044223-egv82y3g/logs</code>"
            ]
          },
          "metadata": {}
        }
      ]
    }
  ]
}