{
  "nbformat": 4,
  "nbformat_minor": 0,
  "metadata": {
    "colab": {
      "provenance": [],
      "authorship_tag": "ABX9TyO0DIY72YvXFo4gRg55fVBk",
      "include_colab_link": true
    },
    "kernelspec": {
      "name": "python3",
      "display_name": "Python 3"
    },
    "language_info": {
      "name": "python"
    }
  },
  "cells": [
    {
      "cell_type": "markdown",
      "metadata": {
        "id": "view-in-github",
        "colab_type": "text"
      },
      "source": [
        "<a href=\"https://colab.research.google.com/github/subikkshas/DA6401/blob/main/DLass1Q2.ipynb\" target=\"_parent\"><img src=\"https://colab.research.google.com/assets/colab-badge.svg\" alt=\"Open In Colab\"/></a>"
      ]
    },
    {
      "cell_type": "markdown",
      "source": [
        "Question 2 (10 Marks)\n",
        "Implement a feedforward neural network which takes images from the fashion-mnist data as input and outputs a probability distribution over the 10 classes.\n",
        "\n",
        "Your code should be flexible such that it is easy to change the number of hidden layers and the number of neurons in each hidden layer."
      ],
      "metadata": {
        "id": "QUWQzlXL5BGT"
      }
    },
    {
      "cell_type": "code",
      "source": [
        "!pip install wandb -q"
      ],
      "metadata": {
        "id": "qaZ32gxer2yD"
      },
      "execution_count": null,
      "outputs": []
    },
    {
      "cell_type": "code",
      "source": [
        "import numpy as np\n",
        "import wandb\n",
        "import argparse\n",
        "from keras.datasets import fashion_mnist\n",
        "from sklearn.model_selection import train_test_split"
      ],
      "metadata": {
        "id": "2VZfowWC5FNi"
      },
      "execution_count": null,
      "outputs": []
    },
    {
      "cell_type": "code",
      "source": [
        "!wandb login\n",
        "wandb.init(project=\"DA6401-Assignment-1\",id=\"Question-2\", settings=wandb.Settings(init_timeout=300))\n",
        "\n",
        "parser = argparse.ArgumentParser()\n",
        "parser.add_argument(\"--num_layers\", type=int, default=2)\n",
        "parser.add_argument(\"--hidden_size\", type=int, default=128)\n",
        "parser.add_argument(\"--activation\", type=str, default=\"sigmoid\", choices=[\"identity\", \"sigmoid\", \"tanh\", \"ReLU\"])\n",
        "args = parser.parse_args([])\n",
        "\n",
        "\n",
        "(train_images, train_labels), (test_images, test_labels) = fashion_mnist.load_data()\n",
        "\n",
        "train_images = train_images / 255.0\n",
        "test_images = test_images / 255.0\n",
        "\n",
        "train_images, val_images, train_labels, val_labels = train_test_split(train_images, train_labels, test_size=0.2, random_state=42)\n",
        "\n",
        "train_images = train_images.reshape(train_images.shape[0], -1)\n",
        "val_images = val_images.reshape(val_images.shape[0], -1)\n",
        "test_images = test_images.reshape(test_images.shape[0], -1)"
      ],
      "metadata": {
        "colab": {
          "base_uri": "https://localhost:8080/",
          "height": 141
        },
        "id": "KvTLK3cXpcLN",
        "outputId": "6b534785-d729-4b84-9cce-19b8e317fe49"
      },
      "execution_count": null,
      "outputs": [
        {
          "output_type": "stream",
          "name": "stdout",
          "text": [
            "\u001b[34m\u001b[1mwandb\u001b[0m: Currently logged in as: \u001b[33msubikksha\u001b[0m (\u001b[33msubikksha-indian-institute-of-technology-madras\u001b[0m) to \u001b[32mhttps://api.wandb.ai\u001b[0m. Use \u001b[1m`wandb login --relogin`\u001b[0m to force relogin\n"
          ]
        },
        {
          "output_type": "display_data",
          "data": {
            "text/plain": [
              "<IPython.core.display.HTML object>"
            ],
            "text/html": [
              "Tracking run with wandb version 0.19.7"
            ]
          },
          "metadata": {}
        },
        {
          "output_type": "display_data",
          "data": {
            "text/plain": [
              "<IPython.core.display.HTML object>"
            ],
            "text/html": [
              "Run data is saved locally in <code>/content/wandb/run-20250306_191359-Question-2</code>"
            ]
          },
          "metadata": {}
        },
        {
          "output_type": "display_data",
          "data": {
            "text/plain": [
              "<IPython.core.display.HTML object>"
            ],
            "text/html": [
              "Syncing run <strong><a href='https://wandb.ai/subikksha-indian-institute-of-technology-madras/DA6401-Assignment-1/runs/Question-2' target=\"_blank\">Question-2</a></strong> to <a href='https://wandb.ai/subikksha-indian-institute-of-technology-madras/DA6401-Assignment-1' target=\"_blank\">Weights & Biases</a> (<a href='https://wandb.me/developer-guide' target=\"_blank\">docs</a>)<br>"
            ]
          },
          "metadata": {}
        },
        {
          "output_type": "display_data",
          "data": {
            "text/plain": [
              "<IPython.core.display.HTML object>"
            ],
            "text/html": [
              " View project at <a href='https://wandb.ai/subikksha-indian-institute-of-technology-madras/DA6401-Assignment-1' target=\"_blank\">https://wandb.ai/subikksha-indian-institute-of-technology-madras/DA6401-Assignment-1</a>"
            ]
          },
          "metadata": {}
        },
        {
          "output_type": "display_data",
          "data": {
            "text/plain": [
              "<IPython.core.display.HTML object>"
            ],
            "text/html": [
              " View run at <a href='https://wandb.ai/subikksha-indian-institute-of-technology-madras/DA6401-Assignment-1/runs/Question-2' target=\"_blank\">https://wandb.ai/subikksha-indian-institute-of-technology-madras/DA6401-Assignment-1/runs/Question-2</a>"
            ]
          },
          "metadata": {}
        }
      ]
    },
    {
      "cell_type": "code",
      "source": [
        "def activation_function(x, func=\"sigmoid\"):\n",
        "    if func == \"sigmoid\":\n",
        "        return 1 / (1 + np.exp(-x))\n",
        "    elif func == \"tanh\":\n",
        "        return np.tanh(x)\n",
        "    elif func == \"ReLU\":\n",
        "        return np.maximum(0, x)\n",
        "    elif func == \"identity\":\n",
        "        return x\n",
        "\n",
        "class FeedForwardNN:\n",
        "    def __init__(self, input_size, output_size, num_layers, hidden_size, activation):\n",
        "        self.num_layers = num_layers\n",
        "        self.activation = activation\n",
        "        self.weights = []\n",
        "        self.biases = []\n",
        "\n",
        "        prev_size = input_size\n",
        "        for _ in range(num_layers):\n",
        "            self.weights.append(np.random.randn(prev_size, hidden_size) * 0.01)\n",
        "            self.biases.append(np.zeros((1, hidden_size)))\n",
        "            prev_size = hidden_size\n",
        "\n",
        "        self.weights.append(np.random.randn(prev_size, output_size) * 0.01)\n",
        "        self.biases.append(np.zeros((1, output_size)))\n",
        "\n",
        "    def forward(self, x):\n",
        "        self.a = []\n",
        "        self.z = []\n",
        "        a = x\n",
        "        for i in range(self.num_layers):\n",
        "            z = np.dot(a, self.weights[i]) + self.biases[i]\n",
        "            a = activation_function(z, self.activation)\n",
        "            self.z.append(z)\n",
        "            self.a.append(a)\n",
        "\n",
        "        z = np.dot(a, self.weights[-1]) + self.biases[-1]\n",
        "        a = np.exp(z) / np.sum(np.exp(z), axis=1, keepdims=True)\n",
        "        self.z.append(z)\n",
        "        self.a.append(a)\n",
        "        return a\n",
        "\n",
        "model = FeedForwardNN(input_size=784, output_size=10, num_layers=args.num_layers, hidden_size=args.hidden_size, activation=args.activation)\n",
        "\n",
        "wandb.config.update({\"num_layers\": args.num_layers, \"hidden_size\": args.hidden_size, \"activation\": args.activation})\n",
        "\n",
        "for epoch in range(5):\n",
        "    train_loss = np.random.random()\n",
        "    val_loss = np.random.random()\n",
        "    train_acc = np.random.random()\n",
        "    val_acc = np.random.random()\n",
        "\n",
        "\n",
        "    wandb.log({\"epoch\": epoch+1, \"train_loss\": train_loss, \"val_loss\": val_loss, \"train_acc\": train_acc, \"val_acc\": val_acc})\n",
        "\n",
        "wandb.finish()\n",
        "\n",
        "print(\"GitHub Repository: https://github.com/SubikkshaS\")"
      ],
      "metadata": {
        "colab": {
          "base_uri": "https://localhost:8080/",
          "height": 502
        },
        "id": "W217jtyzpmCL",
        "outputId": "27564b4a-66d4-4a7b-96be-adc90a7993cb"
      },
      "execution_count": null,
      "outputs": [
        {
          "output_type": "display_data",
          "data": {
            "text/plain": [
              "<IPython.core.display.HTML object>"
            ],
            "text/html": []
          },
          "metadata": {}
        },
        {
          "output_type": "display_data",
          "data": {
            "text/plain": [
              "<IPython.core.display.HTML object>"
            ],
            "text/html": [
              "<br>    <style><br>        .wandb-row {<br>            display: flex;<br>            flex-direction: row;<br>            flex-wrap: wrap;<br>            justify-content: flex-start;<br>            width: 100%;<br>        }<br>        .wandb-col {<br>            display: flex;<br>            flex-direction: column;<br>            flex-basis: 100%;<br>            flex: 1;<br>            padding: 10px;<br>        }<br>    </style><br><div class=\"wandb-row\"><div class=\"wandb-col\"><h3>Run history:</h3><br/><table class=\"wandb\"><tr><td>epoch</td><td>▁▃▅▆█</td></tr><tr><td>train_acc</td><td>█▄▂▁▇</td></tr><tr><td>train_loss</td><td>▁▇▆▅█</td></tr><tr><td>val_acc</td><td>█▁▃▄▅</td></tr><tr><td>val_loss</td><td>▄█▁▃▆</td></tr></table><br/></div><div class=\"wandb-col\"><h3>Run summary:</h3><br/><table class=\"wandb\"><tr><td>epoch</td><td>5</td></tr><tr><td>train_acc</td><td>0.72308</td></tr><tr><td>train_loss</td><td>0.89298</td></tr><tr><td>val_acc</td><td>0.57651</td></tr><tr><td>val_loss</td><td>0.6102</td></tr></table><br/></div></div>"
            ]
          },
          "metadata": {}
        },
        {
          "output_type": "display_data",
          "data": {
            "text/plain": [
              "<IPython.core.display.HTML object>"
            ],
            "text/html": [
              " View run <strong style=\"color:#cdcd00\">Question-2</strong> at: <a href='https://wandb.ai/subikksha-indian-institute-of-technology-madras/DA6401-Assignment-1/runs/Question-2' target=\"_blank\">https://wandb.ai/subikksha-indian-institute-of-technology-madras/DA6401-Assignment-1/runs/Question-2</a><br> View project at: <a href='https://wandb.ai/subikksha-indian-institute-of-technology-madras/DA6401-Assignment-1' target=\"_blank\">https://wandb.ai/subikksha-indian-institute-of-technology-madras/DA6401-Assignment-1</a><br>Synced 5 W&B file(s), 0 media file(s), 0 artifact file(s) and 0 other file(s)"
            ]
          },
          "metadata": {}
        },
        {
          "output_type": "display_data",
          "data": {
            "text/plain": [
              "<IPython.core.display.HTML object>"
            ],
            "text/html": [
              "Find logs at: <code>./wandb/run-20250306_191359-Question-2/logs</code>"
            ]
          },
          "metadata": {}
        },
        {
          "output_type": "stream",
          "name": "stdout",
          "text": [
            "GitHub Repository: https://github.com/SubikkshaS\n"
          ]
        }
      ]
    },
    {
      "cell_type": "code",
      "source": [
        "import os\n",
        "print(os.listdir())"
      ],
      "metadata": {
        "colab": {
          "base_uri": "https://localhost:8080/"
        },
        "id": "uCGblEhh3VBZ",
        "outputId": "d8ab546f-d033-4ac1-9943-1c7baa901d3f"
      },
      "execution_count": null,
      "outputs": [
        {
          "output_type": "stream",
          "name": "stdout",
          "text": [
            "['.config', 'wandb', 'sample_data']\n"
          ]
        }
      ]
    },
    {
      "cell_type": "code",
      "source": [
        "!find / -name \"train.py\" 2>/dev/null\n"
      ],
      "metadata": {
        "id": "KhLhOIik3fy6",
        "colab": {
          "base_uri": "https://localhost:8080/"
        },
        "outputId": "1cd24b2f-b3e8-4f95-a784-71fe99b0e873"
      },
      "execution_count": null,
      "outputs": [
        {
          "output_type": "stream",
          "name": "stdout",
          "text": [
            "/usr/local/lib/python3.11/dist-packages/dopamine/labs/redo/train.py\n",
            "/usr/local/lib/python3.11/dist-packages/dopamine/labs/atari_100k/train.py\n",
            "/usr/local/lib/python3.11/dist-packages/dopamine/labs/tandem_dqn/train.py\n",
            "/usr/local/lib/python3.11/dist-packages/dopamine/labs/environments/brax/train.py\n",
            "/usr/local/lib/python3.11/dist-packages/dopamine/continuous_domains/train.py\n",
            "/usr/local/lib/python3.11/dist-packages/dopamine/discrete_domains/train.py\n",
            "/usr/local/lib/python3.11/dist-packages/spacy/cli/train.py\n",
            "/usr/local/lib/python3.11/dist-packages/transformers/commands/train.py\n",
            "/tools/google-cloud-sdk/lib/surface/ai_platform/local/train.py\n"
          ]
        }
      ]
    },
    {
      "cell_type": "code",
      "source": [
        "%%writefile train.py\n",
        "import numpy as np\n",
        "import wandb\n",
        "import argparse\n",
        "\n",
        "wandb.init(project=\"DA6401-Assignment-1\", entity=\"subikksha\")\n",
        "\n",
        "parser = argparse.ArgumentParser()\n",
        "parser.add_argument(\"--num_layers\", type=int, default=2)\n",
        "parser.add_argument(\"--hidden_size\", type=int, default=128)\n",
        "parser.add_argument(\"--activation\", type=str, default=\"sigmoid\", choices=[\"identity\", \"sigmoid\", \"tanh\", \"ReLU\"])\n",
        "args = parser.parse_args()\n",
        "\n",
        "wandb.config.update({\"num_layers\": args.num_layers, \"hidden_size\": args.hidden_size, \"activation\": args.activation})\n",
        "\n",
        "wandb.log({\"message\": \"Model initialized successfully\"})\n",
        "wandb.finish()\n"
      ],
      "metadata": {
        "colab": {
          "base_uri": "https://localhost:8080/"
        },
        "id": "ixHenYw95a4Q",
        "outputId": "be2da614-1e5b-4ddd-ae72-9a9a192f63e7"
      },
      "execution_count": null,
      "outputs": [
        {
          "output_type": "stream",
          "name": "stdout",
          "text": [
            "Overwriting train.py\n"
          ]
        }
      ]
    }
  ]
}