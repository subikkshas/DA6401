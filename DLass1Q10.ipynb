{
  "nbformat": 4,
  "nbformat_minor": 0,
  "metadata": {
    "colab": {
      "provenance": [],
      "authorship_tag": "ABX9TyMJS/pwZ1PE6OU7o0hsadw8",
      "include_colab_link": true
    },
    "kernelspec": {
      "name": "python3",
      "display_name": "Python 3"
    },
    "language_info": {
      "name": "python"
    }
  },
  "cells": [
    {
      "cell_type": "markdown",
      "metadata": {
        "id": "view-in-github",
        "colab_type": "text"
      },
      "source": [
        "<a href=\"https://colab.research.google.com/github/subikkshas/DA6401/blob/main/DLass1Q10.ipynb\" target=\"_parent\"><img src=\"https://colab.research.google.com/assets/colab-badge.svg\" alt=\"Open In Colab\"/></a>"
      ]
    },
    {
      "cell_type": "code",
      "execution_count": 4,
      "metadata": {
        "colab": {
          "base_uri": "https://localhost:8080/",
          "height": 1000
        },
        "id": "n93bppNDiwvw",
        "outputId": "962096a9-e64f-4bd5-c36c-92f196b70812"
      },
      "outputs": [
        {
          "output_type": "stream",
          "name": "stdout",
          "text": [
            "Requirement already satisfied: wandb in /usr/local/lib/python3.11/dist-packages (0.19.8)\n",
            "Requirement already satisfied: click!=8.0.0,>=7.1 in /usr/local/lib/python3.11/dist-packages (from wandb) (8.1.8)\n",
            "Requirement already satisfied: docker-pycreds>=0.4.0 in /usr/local/lib/python3.11/dist-packages (from wandb) (0.4.0)\n",
            "Requirement already satisfied: gitpython!=3.1.29,>=1.0.0 in /usr/local/lib/python3.11/dist-packages (from wandb) (3.1.44)\n",
            "Requirement already satisfied: platformdirs in /usr/local/lib/python3.11/dist-packages (from wandb) (4.3.6)\n",
            "Requirement already satisfied: protobuf!=4.21.0,!=5.28.0,<6,>=3.19.0 in /usr/local/lib/python3.11/dist-packages (from wandb) (4.25.6)\n",
            "Requirement already satisfied: psutil>=5.0.0 in /usr/local/lib/python3.11/dist-packages (from wandb) (5.9.5)\n",
            "Requirement already satisfied: pydantic<3,>=2.6 in /usr/local/lib/python3.11/dist-packages (from wandb) (2.10.6)\n",
            "Requirement already satisfied: pyyaml in /usr/local/lib/python3.11/dist-packages (from wandb) (6.0.2)\n",
            "Requirement already satisfied: requests<3,>=2.0.0 in /usr/local/lib/python3.11/dist-packages (from wandb) (2.32.3)\n",
            "Requirement already satisfied: sentry-sdk>=2.0.0 in /usr/local/lib/python3.11/dist-packages (from wandb) (2.22.0)\n",
            "Requirement already satisfied: setproctitle in /usr/local/lib/python3.11/dist-packages (from wandb) (1.3.5)\n",
            "Requirement already satisfied: setuptools in /usr/local/lib/python3.11/dist-packages (from wandb) (75.1.0)\n",
            "Requirement already satisfied: typing-extensions<5,>=4.4 in /usr/local/lib/python3.11/dist-packages (from wandb) (4.12.2)\n",
            "Requirement already satisfied: six>=1.4.0 in /usr/local/lib/python3.11/dist-packages (from docker-pycreds>=0.4.0->wandb) (1.17.0)\n",
            "Requirement already satisfied: gitdb<5,>=4.0.1 in /usr/local/lib/python3.11/dist-packages (from gitpython!=3.1.29,>=1.0.0->wandb) (4.0.12)\n",
            "Requirement already satisfied: annotated-types>=0.6.0 in /usr/local/lib/python3.11/dist-packages (from pydantic<3,>=2.6->wandb) (0.7.0)\n",
            "Requirement already satisfied: pydantic-core==2.27.2 in /usr/local/lib/python3.11/dist-packages (from pydantic<3,>=2.6->wandb) (2.27.2)\n",
            "Requirement already satisfied: charset-normalizer<4,>=2 in /usr/local/lib/python3.11/dist-packages (from requests<3,>=2.0.0->wandb) (3.4.1)\n",
            "Requirement already satisfied: idna<4,>=2.5 in /usr/local/lib/python3.11/dist-packages (from requests<3,>=2.0.0->wandb) (3.10)\n",
            "Requirement already satisfied: urllib3<3,>=1.21.1 in /usr/local/lib/python3.11/dist-packages (from requests<3,>=2.0.0->wandb) (2.3.0)\n",
            "Requirement already satisfied: certifi>=2017.4.17 in /usr/local/lib/python3.11/dist-packages (from requests<3,>=2.0.0->wandb) (2025.1.31)\n",
            "Requirement already satisfied: smmap<6,>=3.0.1 in /usr/local/lib/python3.11/dist-packages (from gitdb<5,>=4.0.1->gitpython!=3.1.29,>=1.0.0->wandb) (5.0.2)\n",
            "Train Dataset Shape:  (54000, 28, 28)\n",
            "Train Target Vector Shape:  (54000,)\n",
            "Test Dataset Shape: (10000, 28, 28)\n",
            "Test Target Vector Shape (10000,)\n",
            "Validation Dataset Shape: (6000, 28, 28)\n",
            "Validation Target Vector Shape (6000,)\n"
          ]
        },
        {
          "output_type": "display_data",
          "data": {
            "text/plain": [
              "<IPython.core.display.HTML object>"
            ],
            "text/html": [
              "Tracking run with wandb version 0.19.8"
            ]
          },
          "metadata": {}
        },
        {
          "output_type": "display_data",
          "data": {
            "text/plain": [
              "<IPython.core.display.HTML object>"
            ],
            "text/html": [
              "Run data is saved locally in <code>/content/wandb/run-20250316_112940-830a2jzb</code>"
            ]
          },
          "metadata": {}
        },
        {
          "output_type": "display_data",
          "data": {
            "text/plain": [
              "<IPython.core.display.HTML object>"
            ],
            "text/html": [
              "Syncing run <strong><a href='https://wandb.ai/subikksha-indian-institute-of-technology-madras/DA6401-Assignment-1/runs/830a2jzb' target=\"_blank\">config1-sgd</a></strong> to <a href='https://wandb.ai/subikksha-indian-institute-of-technology-madras/DA6401-Assignment-1' target=\"_blank\">Weights & Biases</a> (<a href='https://wandb.me/developer-guide' target=\"_blank\">docs</a>)<br>"
            ]
          },
          "metadata": {}
        },
        {
          "output_type": "display_data",
          "data": {
            "text/plain": [
              "<IPython.core.display.HTML object>"
            ],
            "text/html": [
              " View project at <a href='https://wandb.ai/subikksha-indian-institute-of-technology-madras/DA6401-Assignment-1' target=\"_blank\">https://wandb.ai/subikksha-indian-institute-of-technology-madras/DA6401-Assignment-1</a>"
            ]
          },
          "metadata": {}
        },
        {
          "output_type": "display_data",
          "data": {
            "text/plain": [
              "<IPython.core.display.HTML object>"
            ],
            "text/html": [
              " View run at <a href='https://wandb.ai/subikksha-indian-institute-of-technology-madras/DA6401-Assignment-1/runs/830a2jzb' target=\"_blank\">https://wandb.ai/subikksha-indian-institute-of-technology-madras/DA6401-Assignment-1/runs/830a2jzb</a>"
            ]
          },
          "metadata": {}
        },
        {
          "output_type": "display_data",
          "data": {
            "text/plain": [
              "<IPython.core.display.HTML object>"
            ],
            "text/html": []
          },
          "metadata": {}
        },
        {
          "output_type": "display_data",
          "data": {
            "text/plain": [
              "<IPython.core.display.HTML object>"
            ],
            "text/html": [
              " View run <strong style=\"color:#cdcd00\">config1-sgd</strong> at: <a href='https://wandb.ai/subikksha-indian-institute-of-technology-madras/DA6401-Assignment-1/runs/830a2jzb' target=\"_blank\">https://wandb.ai/subikksha-indian-institute-of-technology-madras/DA6401-Assignment-1/runs/830a2jzb</a><br> View project at: <a href='https://wandb.ai/subikksha-indian-institute-of-technology-madras/DA6401-Assignment-1' target=\"_blank\">https://wandb.ai/subikksha-indian-institute-of-technology-madras/DA6401-Assignment-1</a><br>Synced 5 W&B file(s), 0 media file(s), 0 artifact file(s) and 0 other file(s)"
            ]
          },
          "metadata": {}
        },
        {
          "output_type": "display_data",
          "data": {
            "text/plain": [
              "<IPython.core.display.HTML object>"
            ],
            "text/html": [
              "Find logs at: <code>./wandb/run-20250316_112940-830a2jzb/logs</code>"
            ]
          },
          "metadata": {}
        },
        {
          "output_type": "display_data",
          "data": {
            "text/plain": [
              "<IPython.core.display.HTML object>"
            ],
            "text/html": [
              "Tracking run with wandb version 0.19.8"
            ]
          },
          "metadata": {}
        },
        {
          "output_type": "display_data",
          "data": {
            "text/plain": [
              "<IPython.core.display.HTML object>"
            ],
            "text/html": [
              "Run data is saved locally in <code>/content/wandb/run-20250316_112942-ozlzrajm</code>"
            ]
          },
          "metadata": {}
        },
        {
          "output_type": "display_data",
          "data": {
            "text/plain": [
              "<IPython.core.display.HTML object>"
            ],
            "text/html": [
              "Syncing run <strong><a href='https://wandb.ai/subikksha-indian-institute-of-technology-madras/DA6401-Assignment-1/runs/ozlzrajm' target=\"_blank\">training-run</a></strong> to <a href='https://wandb.ai/subikksha-indian-institute-of-technology-madras/DA6401-Assignment-1' target=\"_blank\">Weights & Biases</a> (<a href='https://wandb.me/developer-guide' target=\"_blank\">docs</a>)<br>"
            ]
          },
          "metadata": {}
        },
        {
          "output_type": "display_data",
          "data": {
            "text/plain": [
              "<IPython.core.display.HTML object>"
            ],
            "text/html": [
              " View project at <a href='https://wandb.ai/subikksha-indian-institute-of-technology-madras/DA6401-Assignment-1' target=\"_blank\">https://wandb.ai/subikksha-indian-institute-of-technology-madras/DA6401-Assignment-1</a>"
            ]
          },
          "metadata": {}
        },
        {
          "output_type": "display_data",
          "data": {
            "text/plain": [
              "<IPython.core.display.HTML object>"
            ],
            "text/html": [
              " View run at <a href='https://wandb.ai/subikksha-indian-institute-of-technology-madras/DA6401-Assignment-1/runs/ozlzrajm' target=\"_blank\">https://wandb.ai/subikksha-indian-institute-of-technology-madras/DA6401-Assignment-1/runs/ozlzrajm</a>"
            ]
          },
          "metadata": {}
        },
        {
          "output_type": "stream",
          "name": "stdout",
          "text": [
            "🔹 Training with Loss Type: cross_entropy\n",
            "Epoch 0: Using Loss Type: cross_entropy\n",
            "Epoch 0: Train Loss = 2.0727, Train Accuracy = 42.5234, Val Loss = 0.8532, Val Accuracy = 69.2000\n",
            "Epoch 1: Using Loss Type: cross_entropy\n",
            "Epoch 1: Train Loss = 1.3448, Train Accuracy = 84.4502, Val Loss = 0.3003, Val Accuracy = 91.6667\n",
            "Epoch 2: Using Loss Type: cross_entropy\n",
            "Epoch 2: Train Loss = 1.2013, Train Accuracy = 91.9511, Val Loss = 0.2232, Val Accuracy = 93.8333\n",
            "Epoch 3: Using Loss Type: cross_entropy\n",
            "Epoch 3: Train Loss = 1.1861, Train Accuracy = 93.3756, Val Loss = 0.2076, Val Accuracy = 94.0667\n",
            "Epoch 4: Using Loss Type: cross_entropy\n",
            "Epoch 4: Train Loss = 1.1914, Train Accuracy = 94.0869, Val Loss = 0.1970, Val Accuracy = 94.3500\n",
            "Epoch 5: Using Loss Type: cross_entropy\n",
            "Epoch 5: Train Loss = 1.2016, Train Accuracy = 94.4951, Val Loss = 0.1970, Val Accuracy = 94.3833\n",
            "Epoch 6: Using Loss Type: cross_entropy\n",
            "Epoch 6: Train Loss = 1.2109, Train Accuracy = 94.8793, Val Loss = 0.1929, Val Accuracy = 94.6000\n",
            "Epoch 7: Using Loss Type: cross_entropy\n",
            "Epoch 7: Train Loss = 1.2237, Train Accuracy = 95.2043, Val Loss = 0.1851, Val Accuracy = 94.6833\n",
            "Epoch 8: Using Loss Type: cross_entropy\n",
            "Epoch 8: Train Loss = 1.2397, Train Accuracy = 95.4890, Val Loss = 0.1850, Val Accuracy = 94.7333\n",
            "Epoch 9: Using Loss Type: cross_entropy\n",
            "Epoch 9: Train Loss = 1.2596, Train Accuracy = 95.5592, Val Loss = 0.1744, Val Accuracy = 95.0500\n"
          ]
        },
        {
          "output_type": "display_data",
          "data": {
            "text/plain": [
              "<IPython.core.display.HTML object>"
            ],
            "text/html": []
          },
          "metadata": {}
        },
        {
          "output_type": "display_data",
          "data": {
            "text/plain": [
              "<IPython.core.display.HTML object>"
            ],
            "text/html": [
              "<br>    <style><br>        .wandb-row {<br>            display: flex;<br>            flex-direction: row;<br>            flex-wrap: wrap;<br>            justify-content: flex-start;<br>            width: 100%;<br>        }<br>        .wandb-col {<br>            display: flex;<br>            flex-direction: column;<br>            flex-basis: 100%;<br>            flex: 1;<br>            padding: 10px;<br>        }<br>    </style><br><div class=\"wandb-row\"><div class=\"wandb-col\"><h3>Run history:</h3><br/><table class=\"wandb\"><tr><td>Train_acc</td><td>▁▇████████</td></tr><tr><td>Train_loss</td><td>█▂▁▁▁▁▁▁▁▂</td></tr><tr><td>epoch</td><td>▁▂▃▃▄▅▆▆▇█</td></tr><tr><td>val_Accuracy</td><td>▁▇████████</td></tr><tr><td>val_loss</td><td>█▂▂▁▁▁▁▁▁▁</td></tr></table><br/></div><div class=\"wandb-col\"><h3>Run summary:</h3><br/><table class=\"wandb\"><tr><td>Train_acc</td><td>95.5592</td></tr><tr><td>Train_loss</td><td>1.25964</td></tr><tr><td>epoch</td><td>9</td></tr><tr><td>val_Accuracy</td><td>95.05</td></tr><tr><td>val_loss</td><td>0.17436</td></tr></table><br/></div></div>"
            ]
          },
          "metadata": {}
        },
        {
          "output_type": "display_data",
          "data": {
            "text/plain": [
              "<IPython.core.display.HTML object>"
            ],
            "text/html": [
              " View run <strong style=\"color:#cdcd00\">training-run</strong> at: <a href='https://wandb.ai/subikksha-indian-institute-of-technology-madras/DA6401-Assignment-1/runs/ozlzrajm' target=\"_blank\">https://wandb.ai/subikksha-indian-institute-of-technology-madras/DA6401-Assignment-1/runs/ozlzrajm</a><br> View project at: <a href='https://wandb.ai/subikksha-indian-institute-of-technology-madras/DA6401-Assignment-1' target=\"_blank\">https://wandb.ai/subikksha-indian-institute-of-technology-madras/DA6401-Assignment-1</a><br>Synced 5 W&B file(s), 0 media file(s), 0 artifact file(s) and 0 other file(s)"
            ]
          },
          "metadata": {}
        },
        {
          "output_type": "display_data",
          "data": {
            "text/plain": [
              "<IPython.core.display.HTML object>"
            ],
            "text/html": [
              "Find logs at: <code>./wandb/run-20250316_112942-ozlzrajm/logs</code>"
            ]
          },
          "metadata": {}
        },
        {
          "output_type": "stream",
          "name": "stdout",
          "text": [
            "Test Accuracy: 94.8800, Test Loss: 0.1958\n"
          ]
        },
        {
          "output_type": "display_data",
          "data": {
            "text/plain": [
              "<IPython.core.display.HTML object>"
            ],
            "text/html": [
              "Tracking run with wandb version 0.19.8"
            ]
          },
          "metadata": {}
        },
        {
          "output_type": "display_data",
          "data": {
            "text/plain": [
              "<IPython.core.display.HTML object>"
            ],
            "text/html": [
              "Run data is saved locally in <code>/content/wandb/run-20250316_113010-79flopuo</code>"
            ]
          },
          "metadata": {}
        },
        {
          "output_type": "display_data",
          "data": {
            "text/plain": [
              "<IPython.core.display.HTML object>"
            ],
            "text/html": [
              "Syncing run <strong><a href='https://wandb.ai/subikksha-indian-institute-of-technology-madras/DA6401-Assignment-1/runs/79flopuo' target=\"_blank\">config1-sgd</a></strong> to <a href='https://wandb.ai/subikksha-indian-institute-of-technology-madras/DA6401-Assignment-1' target=\"_blank\">Weights & Biases</a> (<a href='https://wandb.me/developer-guide' target=\"_blank\">docs</a>)<br>"
            ]
          },
          "metadata": {}
        },
        {
          "output_type": "display_data",
          "data": {
            "text/plain": [
              "<IPython.core.display.HTML object>"
            ],
            "text/html": [
              " View project at <a href='https://wandb.ai/subikksha-indian-institute-of-technology-madras/DA6401-Assignment-1' target=\"_blank\">https://wandb.ai/subikksha-indian-institute-of-technology-madras/DA6401-Assignment-1</a>"
            ]
          },
          "metadata": {}
        },
        {
          "output_type": "display_data",
          "data": {
            "text/plain": [
              "<IPython.core.display.HTML object>"
            ],
            "text/html": [
              " View run at <a href='https://wandb.ai/subikksha-indian-institute-of-technology-madras/DA6401-Assignment-1/runs/79flopuo' target=\"_blank\">https://wandb.ai/subikksha-indian-institute-of-technology-madras/DA6401-Assignment-1/runs/79flopuo</a>"
            ]
          },
          "metadata": {}
        },
        {
          "output_type": "display_data",
          "data": {
            "text/plain": [
              "<IPython.core.display.HTML object>"
            ],
            "text/html": []
          },
          "metadata": {}
        },
        {
          "output_type": "display_data",
          "data": {
            "text/plain": [
              "<IPython.core.display.HTML object>"
            ],
            "text/html": [
              "<br>    <style><br>        .wandb-row {<br>            display: flex;<br>            flex-direction: row;<br>            flex-wrap: wrap;<br>            justify-content: flex-start;<br>            width: 100%;<br>        }<br>        .wandb-col {<br>            display: flex;<br>            flex-direction: column;<br>            flex-basis: 100%;<br>            flex: 1;<br>            padding: 10px;<br>        }<br>    </style><br><div class=\"wandb-row\"><div class=\"wandb-col\"><h3>Run history:</h3><br/><table class=\"wandb\"><tr><td>Test Accuracy</td><td>▁</td></tr><tr><td>Test Loss</td><td>▁</td></tr></table><br/></div><div class=\"wandb-col\"><h3>Run summary:</h3><br/><table class=\"wandb\"><tr><td>Test Accuracy</td><td>94.88</td></tr><tr><td>Test Loss</td><td>0.19583</td></tr></table><br/></div></div>"
            ]
          },
          "metadata": {}
        },
        {
          "output_type": "display_data",
          "data": {
            "text/plain": [
              "<IPython.core.display.HTML object>"
            ],
            "text/html": [
              " View run <strong style=\"color:#cdcd00\">config1-sgd</strong> at: <a href='https://wandb.ai/subikksha-indian-institute-of-technology-madras/DA6401-Assignment-1/runs/79flopuo' target=\"_blank\">https://wandb.ai/subikksha-indian-institute-of-technology-madras/DA6401-Assignment-1/runs/79flopuo</a><br> View project at: <a href='https://wandb.ai/subikksha-indian-institute-of-technology-madras/DA6401-Assignment-1' target=\"_blank\">https://wandb.ai/subikksha-indian-institute-of-technology-madras/DA6401-Assignment-1</a><br>Synced 5 W&B file(s), 0 media file(s), 0 artifact file(s) and 0 other file(s)"
            ]
          },
          "metadata": {}
        },
        {
          "output_type": "display_data",
          "data": {
            "text/plain": [
              "<IPython.core.display.HTML object>"
            ],
            "text/html": [
              "Find logs at: <code>./wandb/run-20250316_113010-79flopuo/logs</code>"
            ]
          },
          "metadata": {}
        },
        {
          "output_type": "display_data",
          "data": {
            "text/plain": [
              "<IPython.core.display.HTML object>"
            ],
            "text/html": [
              "Tracking run with wandb version 0.19.8"
            ]
          },
          "metadata": {}
        },
        {
          "output_type": "display_data",
          "data": {
            "text/plain": [
              "<IPython.core.display.HTML object>"
            ],
            "text/html": [
              "Run data is saved locally in <code>/content/wandb/run-20250316_113012-pydryw84</code>"
            ]
          },
          "metadata": {}
        },
        {
          "output_type": "display_data",
          "data": {
            "text/plain": [
              "<IPython.core.display.HTML object>"
            ],
            "text/html": [
              "Syncing run <strong><a href='https://wandb.ai/subikksha-indian-institute-of-technology-madras/DA6401-Assignment-1/runs/pydryw84' target=\"_blank\">training-run</a></strong> to <a href='https://wandb.ai/subikksha-indian-institute-of-technology-madras/DA6401-Assignment-1' target=\"_blank\">Weights & Biases</a> (<a href='https://wandb.me/developer-guide' target=\"_blank\">docs</a>)<br>"
            ]
          },
          "metadata": {}
        },
        {
          "output_type": "display_data",
          "data": {
            "text/plain": [
              "<IPython.core.display.HTML object>"
            ],
            "text/html": [
              " View project at <a href='https://wandb.ai/subikksha-indian-institute-of-technology-madras/DA6401-Assignment-1' target=\"_blank\">https://wandb.ai/subikksha-indian-institute-of-technology-madras/DA6401-Assignment-1</a>"
            ]
          },
          "metadata": {}
        },
        {
          "output_type": "display_data",
          "data": {
            "text/plain": [
              "<IPython.core.display.HTML object>"
            ],
            "text/html": [
              " View run at <a href='https://wandb.ai/subikksha-indian-institute-of-technology-madras/DA6401-Assignment-1/runs/pydryw84' target=\"_blank\">https://wandb.ai/subikksha-indian-institute-of-technology-madras/DA6401-Assignment-1/runs/pydryw84</a>"
            ]
          },
          "metadata": {}
        },
        {
          "output_type": "stream",
          "name": "stdout",
          "text": [
            "🔹 Training with Loss Type: cross_entropy\n",
            "Epoch 0: Using Loss Type: cross_entropy\n",
            "Epoch 0: Train Loss = 2.3010, Train Accuracy = 9.7892, Val Loss = 2.6077, Val Accuracy = 10.4000\n",
            "Epoch 1: Using Loss Type: cross_entropy\n",
            "Epoch 1: Train Loss = 2.3010, Train Accuracy = 9.7892, Val Loss = 2.6077, Val Accuracy = 10.4000\n",
            "Epoch 2: Using Loss Type: cross_entropy\n",
            "Epoch 2: Train Loss = 2.3010, Train Accuracy = 9.7892, Val Loss = 2.6077, Val Accuracy = 10.4000\n",
            "Epoch 3: Using Loss Type: cross_entropy\n",
            "Epoch 3: Train Loss = 2.3010, Train Accuracy = 9.7892, Val Loss = 2.6077, Val Accuracy = 10.4000\n",
            "Epoch 4: Using Loss Type: cross_entropy\n",
            "Epoch 4: Train Loss = 2.3010, Train Accuracy = 9.7892, Val Loss = 2.6077, Val Accuracy = 10.4000\n",
            "Epoch 5: Using Loss Type: cross_entropy\n",
            "Epoch 5: Train Loss = 2.3010, Train Accuracy = 9.7892, Val Loss = 2.6077, Val Accuracy = 10.4000\n",
            "Epoch 6: Using Loss Type: cross_entropy\n",
            "Epoch 6: Train Loss = 2.3010, Train Accuracy = 9.7892, Val Loss = 2.6077, Val Accuracy = 10.4000\n",
            "Epoch 7: Using Loss Type: cross_entropy\n",
            "Epoch 7: Train Loss = 2.3010, Train Accuracy = 9.7892, Val Loss = 2.6077, Val Accuracy = 10.4000\n",
            "Epoch 8: Using Loss Type: cross_entropy\n",
            "Epoch 8: Train Loss = 2.3010, Train Accuracy = 9.7892, Val Loss = 2.6077, Val Accuracy = 10.4000\n",
            "Epoch 9: Using Loss Type: cross_entropy\n",
            "Epoch 9: Train Loss = 2.3010, Train Accuracy = 9.7892, Val Loss = 2.6077, Val Accuracy = 10.4000\n"
          ]
        },
        {
          "output_type": "display_data",
          "data": {
            "text/plain": [
              "<IPython.core.display.HTML object>"
            ],
            "text/html": []
          },
          "metadata": {}
        },
        {
          "output_type": "display_data",
          "data": {
            "text/plain": [
              "<IPython.core.display.HTML object>"
            ],
            "text/html": [
              "<br>    <style><br>        .wandb-row {<br>            display: flex;<br>            flex-direction: row;<br>            flex-wrap: wrap;<br>            justify-content: flex-start;<br>            width: 100%;<br>        }<br>        .wandb-col {<br>            display: flex;<br>            flex-direction: column;<br>            flex-basis: 100%;<br>            flex: 1;<br>            padding: 10px;<br>        }<br>    </style><br><div class=\"wandb-row\"><div class=\"wandb-col\"><h3>Run history:</h3><br/><table class=\"wandb\"><tr><td>Train_acc</td><td>▁▁▁▁▁▁▁▁▁▁</td></tr><tr><td>Train_loss</td><td>▁▁▁▁▁▁▁▁▁▁</td></tr><tr><td>epoch</td><td>▁▂▃▃▄▅▆▆▇█</td></tr><tr><td>val_Accuracy</td><td>▁▁▁▁▁▁▁▁▁▁</td></tr><tr><td>val_loss</td><td>▁▁▁▁▁▁▁▁▁▁</td></tr></table><br/></div><div class=\"wandb-col\"><h3>Run summary:</h3><br/><table class=\"wandb\"><tr><td>Train_acc</td><td>9.78924</td></tr><tr><td>Train_loss</td><td>2.30097</td></tr><tr><td>epoch</td><td>9</td></tr><tr><td>val_Accuracy</td><td>10.4</td></tr><tr><td>val_loss</td><td>2.60766</td></tr></table><br/></div></div>"
            ]
          },
          "metadata": {}
        },
        {
          "output_type": "display_data",
          "data": {
            "text/plain": [
              "<IPython.core.display.HTML object>"
            ],
            "text/html": [
              " View run <strong style=\"color:#cdcd00\">training-run</strong> at: <a href='https://wandb.ai/subikksha-indian-institute-of-technology-madras/DA6401-Assignment-1/runs/pydryw84' target=\"_blank\">https://wandb.ai/subikksha-indian-institute-of-technology-madras/DA6401-Assignment-1/runs/pydryw84</a><br> View project at: <a href='https://wandb.ai/subikksha-indian-institute-of-technology-madras/DA6401-Assignment-1' target=\"_blank\">https://wandb.ai/subikksha-indian-institute-of-technology-madras/DA6401-Assignment-1</a><br>Synced 5 W&B file(s), 0 media file(s), 0 artifact file(s) and 0 other file(s)"
            ]
          },
          "metadata": {}
        },
        {
          "output_type": "display_data",
          "data": {
            "text/plain": [
              "<IPython.core.display.HTML object>"
            ],
            "text/html": [
              "Find logs at: <code>./wandb/run-20250316_113012-pydryw84/logs</code>"
            ]
          },
          "metadata": {}
        },
        {
          "output_type": "stream",
          "name": "stdout",
          "text": [
            "Test Accuracy: 9.8000, Test Loss: 2.6186\n"
          ]
        },
        {
          "output_type": "display_data",
          "data": {
            "text/plain": [
              "<IPython.core.display.HTML object>"
            ],
            "text/html": [
              "Tracking run with wandb version 0.19.8"
            ]
          },
          "metadata": {}
        },
        {
          "output_type": "display_data",
          "data": {
            "text/plain": [
              "<IPython.core.display.HTML object>"
            ],
            "text/html": [
              "Run data is saved locally in <code>/content/wandb/run-20250316_113056-abk8xtua</code>"
            ]
          },
          "metadata": {}
        },
        {
          "output_type": "display_data",
          "data": {
            "text/plain": [
              "<IPython.core.display.HTML object>"
            ],
            "text/html": [
              "Syncing run <strong><a href='https://wandb.ai/subikksha-indian-institute-of-technology-madras/DA6401-Assignment-1/runs/abk8xtua' target=\"_blank\">config1-sgd</a></strong> to <a href='https://wandb.ai/subikksha-indian-institute-of-technology-madras/DA6401-Assignment-1' target=\"_blank\">Weights & Biases</a> (<a href='https://wandb.me/developer-guide' target=\"_blank\">docs</a>)<br>"
            ]
          },
          "metadata": {}
        },
        {
          "output_type": "display_data",
          "data": {
            "text/plain": [
              "<IPython.core.display.HTML object>"
            ],
            "text/html": [
              " View project at <a href='https://wandb.ai/subikksha-indian-institute-of-technology-madras/DA6401-Assignment-1' target=\"_blank\">https://wandb.ai/subikksha-indian-institute-of-technology-madras/DA6401-Assignment-1</a>"
            ]
          },
          "metadata": {}
        },
        {
          "output_type": "display_data",
          "data": {
            "text/plain": [
              "<IPython.core.display.HTML object>"
            ],
            "text/html": [
              " View run at <a href='https://wandb.ai/subikksha-indian-institute-of-technology-madras/DA6401-Assignment-1/runs/abk8xtua' target=\"_blank\">https://wandb.ai/subikksha-indian-institute-of-technology-madras/DA6401-Assignment-1/runs/abk8xtua</a>"
            ]
          },
          "metadata": {}
        },
        {
          "output_type": "display_data",
          "data": {
            "text/plain": [
              "<IPython.core.display.HTML object>"
            ],
            "text/html": []
          },
          "metadata": {}
        },
        {
          "output_type": "display_data",
          "data": {
            "text/plain": [
              "<IPython.core.display.HTML object>"
            ],
            "text/html": [
              "<br>    <style><br>        .wandb-row {<br>            display: flex;<br>            flex-direction: row;<br>            flex-wrap: wrap;<br>            justify-content: flex-start;<br>            width: 100%;<br>        }<br>        .wandb-col {<br>            display: flex;<br>            flex-direction: column;<br>            flex-basis: 100%;<br>            flex: 1;<br>            padding: 10px;<br>        }<br>    </style><br><div class=\"wandb-row\"><div class=\"wandb-col\"><h3>Run history:</h3><br/><table class=\"wandb\"><tr><td>Test Accuracy</td><td>▁</td></tr><tr><td>Test Loss</td><td>▁</td></tr></table><br/></div><div class=\"wandb-col\"><h3>Run summary:</h3><br/><table class=\"wandb\"><tr><td>Test Accuracy</td><td>9.8</td></tr><tr><td>Test Loss</td><td>2.61862</td></tr></table><br/></div></div>"
            ]
          },
          "metadata": {}
        },
        {
          "output_type": "display_data",
          "data": {
            "text/plain": [
              "<IPython.core.display.HTML object>"
            ],
            "text/html": [
              " View run <strong style=\"color:#cdcd00\">config1-sgd</strong> at: <a href='https://wandb.ai/subikksha-indian-institute-of-technology-madras/DA6401-Assignment-1/runs/abk8xtua' target=\"_blank\">https://wandb.ai/subikksha-indian-institute-of-technology-madras/DA6401-Assignment-1/runs/abk8xtua</a><br> View project at: <a href='https://wandb.ai/subikksha-indian-institute-of-technology-madras/DA6401-Assignment-1' target=\"_blank\">https://wandb.ai/subikksha-indian-institute-of-technology-madras/DA6401-Assignment-1</a><br>Synced 5 W&B file(s), 0 media file(s), 0 artifact file(s) and 0 other file(s)"
            ]
          },
          "metadata": {}
        },
        {
          "output_type": "display_data",
          "data": {
            "text/plain": [
              "<IPython.core.display.HTML object>"
            ],
            "text/html": [
              "Find logs at: <code>./wandb/run-20250316_113056-abk8xtua/logs</code>"
            ]
          },
          "metadata": {}
        },
        {
          "output_type": "display_data",
          "data": {
            "text/plain": [
              "<IPython.core.display.HTML object>"
            ],
            "text/html": [
              "Tracking run with wandb version 0.19.8"
            ]
          },
          "metadata": {}
        },
        {
          "output_type": "display_data",
          "data": {
            "text/plain": [
              "<IPython.core.display.HTML object>"
            ],
            "text/html": [
              "Run data is saved locally in <code>/content/wandb/run-20250316_113058-6dkw0onr</code>"
            ]
          },
          "metadata": {}
        },
        {
          "output_type": "display_data",
          "data": {
            "text/plain": [
              "<IPython.core.display.HTML object>"
            ],
            "text/html": [
              "Syncing run <strong><a href='https://wandb.ai/subikksha-indian-institute-of-technology-madras/DA6401-Assignment-1/runs/6dkw0onr' target=\"_blank\">training-run</a></strong> to <a href='https://wandb.ai/subikksha-indian-institute-of-technology-madras/DA6401-Assignment-1' target=\"_blank\">Weights & Biases</a> (<a href='https://wandb.me/developer-guide' target=\"_blank\">docs</a>)<br>"
            ]
          },
          "metadata": {}
        },
        {
          "output_type": "display_data",
          "data": {
            "text/plain": [
              "<IPython.core.display.HTML object>"
            ],
            "text/html": [
              " View project at <a href='https://wandb.ai/subikksha-indian-institute-of-technology-madras/DA6401-Assignment-1' target=\"_blank\">https://wandb.ai/subikksha-indian-institute-of-technology-madras/DA6401-Assignment-1</a>"
            ]
          },
          "metadata": {}
        },
        {
          "output_type": "display_data",
          "data": {
            "text/plain": [
              "<IPython.core.display.HTML object>"
            ],
            "text/html": [
              " View run at <a href='https://wandb.ai/subikksha-indian-institute-of-technology-madras/DA6401-Assignment-1/runs/6dkw0onr' target=\"_blank\">https://wandb.ai/subikksha-indian-institute-of-technology-madras/DA6401-Assignment-1/runs/6dkw0onr</a>"
            ]
          },
          "metadata": {}
        },
        {
          "output_type": "stream",
          "name": "stdout",
          "text": [
            "🔹 Training with Loss Type: cross_entropy\n",
            "Epoch 0: Using Loss Type: cross_entropy\n",
            "Epoch 0: Train Loss = 0.6640, Train Accuracy = 87.1725, Val Loss = 0.2614, Val Accuracy = 93.2500\n",
            "Epoch 1: Using Loss Type: cross_entropy\n",
            "Epoch 1: Train Loss = 0.5850, Train Accuracy = 93.4706, Val Loss = 0.2587, Val Accuracy = 94.3000\n",
            "Epoch 2: Using Loss Type: cross_entropy\n",
            "Epoch 2: Train Loss = 0.6854, Train Accuracy = 94.2958, Val Loss = 0.2774, Val Accuracy = 94.9000\n",
            "Epoch 3: Using Loss Type: cross_entropy\n",
            "Epoch 3: Train Loss = 0.7638, Train Accuracy = 94.9915, Val Loss = 0.2887, Val Accuracy = 95.1833\n",
            "Epoch 4: Using Loss Type: cross_entropy\n",
            "Epoch 4: Train Loss = 0.8337, Train Accuracy = 95.5169, Val Loss = 0.2902, Val Accuracy = 95.5667\n",
            "Epoch 5: Using Loss Type: cross_entropy\n"
          ]
        },
        {
          "output_type": "stream",
          "name": "stderr",
          "text": [
            "<ipython-input-4-518e3c8e7845>:136: RuntimeWarning: invalid value encountered in divide\n",
            "  grad_h[-1] = -1 * (y / y_hat)\n",
            "<ipython-input-4-518e3c8e7845>:73: RuntimeWarning: divide by zero encountered in log\n",
            "  err = -1 * np.sum(np.multiply(one_hot(y, n_class), np.log(y_hat))) / one_hot(y, n_class).shape[1]\n",
            "<ipython-input-4-518e3c8e7845>:73: RuntimeWarning: invalid value encountered in multiply\n",
            "  err = -1 * np.sum(np.multiply(one_hot(y, n_class), np.log(y_hat))) / one_hot(y, n_class).shape[1]\n",
            "<ipython-input-4-518e3c8e7845>:115: RuntimeWarning: invalid value encountered in divide\n",
            "  return np.exp(x) / np.sum(np.exp(x), axis=0)\n"
          ]
        },
        {
          "output_type": "stream",
          "name": "stdout",
          "text": [
            "Epoch 5: Train Loss = nan, Train Accuracy = 67.7231, Val Loss = nan, Val Accuracy = 10.4000\n",
            "Epoch 6: Using Loss Type: cross_entropy\n",
            "Epoch 6: Train Loss = nan, Train Accuracy = 9.8079, Val Loss = nan, Val Accuracy = 10.4000\n",
            "Epoch 7: Using Loss Type: cross_entropy\n",
            "Epoch 7: Train Loss = nan, Train Accuracy = 9.8079, Val Loss = nan, Val Accuracy = 10.4000\n",
            "Epoch 8: Using Loss Type: cross_entropy\n",
            "Epoch 8: Train Loss = nan, Train Accuracy = 9.8079, Val Loss = nan, Val Accuracy = 10.4000\n",
            "Epoch 9: Using Loss Type: cross_entropy\n",
            "Epoch 9: Train Loss = nan, Train Accuracy = 9.8079, Val Loss = nan, Val Accuracy = 10.4000\n"
          ]
        },
        {
          "output_type": "display_data",
          "data": {
            "text/plain": [
              "<IPython.core.display.HTML object>"
            ],
            "text/html": []
          },
          "metadata": {}
        },
        {
          "output_type": "display_data",
          "data": {
            "text/plain": [
              "<IPython.core.display.HTML object>"
            ],
            "text/html": [
              "<br>    <style><br>        .wandb-row {<br>            display: flex;<br>            flex-direction: row;<br>            flex-wrap: wrap;<br>            justify-content: flex-start;<br>            width: 100%;<br>        }<br>        .wandb-col {<br>            display: flex;<br>            flex-direction: column;<br>            flex-basis: 100%;<br>            flex: 1;<br>            padding: 10px;<br>        }<br>    </style><br><div class=\"wandb-row\"><div class=\"wandb-col\"><h3>Run history:</h3><br/><table class=\"wandb\"><tr><td>Train_acc</td><td>▇████▆▁▁▁▁</td></tr><tr><td>Train_loss</td><td>▃▁▄▆█     </td></tr><tr><td>epoch</td><td>▁▂▃▃▄▅▆▆▇█</td></tr><tr><td>val_Accuracy</td><td>█████▁▁▁▁▁</td></tr><tr><td>val_loss</td><td>▂▁▅██     </td></tr></table><br/></div><div class=\"wandb-col\"><h3>Run summary:</h3><br/><table class=\"wandb\"><tr><td>Train_acc</td><td>9.80795</td></tr><tr><td>Train_loss</td><td>nan</td></tr><tr><td>epoch</td><td>9</td></tr><tr><td>val_Accuracy</td><td>10.4</td></tr><tr><td>val_loss</td><td>nan</td></tr></table><br/></div></div>"
            ]
          },
          "metadata": {}
        },
        {
          "output_type": "display_data",
          "data": {
            "text/plain": [
              "<IPython.core.display.HTML object>"
            ],
            "text/html": [
              " View run <strong style=\"color:#cdcd00\">training-run</strong> at: <a href='https://wandb.ai/subikksha-indian-institute-of-technology-madras/DA6401-Assignment-1/runs/6dkw0onr' target=\"_blank\">https://wandb.ai/subikksha-indian-institute-of-technology-madras/DA6401-Assignment-1/runs/6dkw0onr</a><br> View project at: <a href='https://wandb.ai/subikksha-indian-institute-of-technology-madras/DA6401-Assignment-1' target=\"_blank\">https://wandb.ai/subikksha-indian-institute-of-technology-madras/DA6401-Assignment-1</a><br>Synced 5 W&B file(s), 0 media file(s), 0 artifact file(s) and 0 other file(s)"
            ]
          },
          "metadata": {}
        },
        {
          "output_type": "display_data",
          "data": {
            "text/plain": [
              "<IPython.core.display.HTML object>"
            ],
            "text/html": [
              "Find logs at: <code>./wandb/run-20250316_113058-6dkw0onr/logs</code>"
            ]
          },
          "metadata": {}
        },
        {
          "output_type": "stream",
          "name": "stdout",
          "text": [
            "Test Accuracy: 9.8000, Test Loss: nan\n"
          ]
        },
        {
          "output_type": "display_data",
          "data": {
            "text/plain": [
              "<IPython.core.display.HTML object>"
            ],
            "text/html": [
              "Tracking run with wandb version 0.19.8"
            ]
          },
          "metadata": {}
        },
        {
          "output_type": "display_data",
          "data": {
            "text/plain": [
              "<IPython.core.display.HTML object>"
            ],
            "text/html": [
              "Run data is saved locally in <code>/content/wandb/run-20250316_113217-93cc3a6p</code>"
            ]
          },
          "metadata": {}
        },
        {
          "output_type": "display_data",
          "data": {
            "text/plain": [
              "<IPython.core.display.HTML object>"
            ],
            "text/html": [
              "Syncing run <strong><a href='https://wandb.ai/subikksha-indian-institute-of-technology-madras/DA6401-Assignment-1/runs/93cc3a6p' target=\"_blank\">config1-sgd</a></strong> to <a href='https://wandb.ai/subikksha-indian-institute-of-technology-madras/DA6401-Assignment-1' target=\"_blank\">Weights & Biases</a> (<a href='https://wandb.me/developer-guide' target=\"_blank\">docs</a>)<br>"
            ]
          },
          "metadata": {}
        },
        {
          "output_type": "display_data",
          "data": {
            "text/plain": [
              "<IPython.core.display.HTML object>"
            ],
            "text/html": [
              " View project at <a href='https://wandb.ai/subikksha-indian-institute-of-technology-madras/DA6401-Assignment-1' target=\"_blank\">https://wandb.ai/subikksha-indian-institute-of-technology-madras/DA6401-Assignment-1</a>"
            ]
          },
          "metadata": {}
        },
        {
          "output_type": "display_data",
          "data": {
            "text/plain": [
              "<IPython.core.display.HTML object>"
            ],
            "text/html": [
              " View run at <a href='https://wandb.ai/subikksha-indian-institute-of-technology-madras/DA6401-Assignment-1/runs/93cc3a6p' target=\"_blank\">https://wandb.ai/subikksha-indian-institute-of-technology-madras/DA6401-Assignment-1/runs/93cc3a6p</a>"
            ]
          },
          "metadata": {}
        },
        {
          "output_type": "display_data",
          "data": {
            "text/plain": [
              "<IPython.core.display.HTML object>"
            ],
            "text/html": []
          },
          "metadata": {}
        },
        {
          "output_type": "display_data",
          "data": {
            "text/plain": [
              "<IPython.core.display.HTML object>"
            ],
            "text/html": [
              "<br>    <style><br>        .wandb-row {<br>            display: flex;<br>            flex-direction: row;<br>            flex-wrap: wrap;<br>            justify-content: flex-start;<br>            width: 100%;<br>        }<br>        .wandb-col {<br>            display: flex;<br>            flex-direction: column;<br>            flex-basis: 100%;<br>            flex: 1;<br>            padding: 10px;<br>        }<br>    </style><br><div class=\"wandb-row\"><div class=\"wandb-col\"><h3>Run history:</h3><br/><table class=\"wandb\"><tr><td>Test Accuracy</td><td>▁</td></tr></table><br/></div><div class=\"wandb-col\"><h3>Run summary:</h3><br/><table class=\"wandb\"><tr><td>Test Accuracy</td><td>9.8</td></tr><tr><td>Test Loss</td><td>nan</td></tr></table><br/></div></div>"
            ]
          },
          "metadata": {}
        },
        {
          "output_type": "display_data",
          "data": {
            "text/plain": [
              "<IPython.core.display.HTML object>"
            ],
            "text/html": [
              " View run <strong style=\"color:#cdcd00\">config1-sgd</strong> at: <a href='https://wandb.ai/subikksha-indian-institute-of-technology-madras/DA6401-Assignment-1/runs/93cc3a6p' target=\"_blank\">https://wandb.ai/subikksha-indian-institute-of-technology-madras/DA6401-Assignment-1/runs/93cc3a6p</a><br> View project at: <a href='https://wandb.ai/subikksha-indian-institute-of-technology-madras/DA6401-Assignment-1' target=\"_blank\">https://wandb.ai/subikksha-indian-institute-of-technology-madras/DA6401-Assignment-1</a><br>Synced 5 W&B file(s), 0 media file(s), 0 artifact file(s) and 0 other file(s)"
            ]
          },
          "metadata": {}
        },
        {
          "output_type": "display_data",
          "data": {
            "text/plain": [
              "<IPython.core.display.HTML object>"
            ],
            "text/html": [
              "Find logs at: <code>./wandb/run-20250316_113217-93cc3a6p/logs</code>"
            ]
          },
          "metadata": {}
        }
      ],
      "source": [
        "!pip install wandb\n",
        "import wandb\n",
        "from keras.datasets import mnist\n",
        "import numpy as np\n",
        "from  matplotlib import pyplot as plt\n",
        "import time\n",
        "import math\n",
        "from sklearn.model_selection import train_test_split\n",
        "from tqdm.auto import tqdm\n",
        "\n",
        "# Load the dataset\n",
        "dataset = mnist.load_data()\n",
        "(X_train_and_validation, y_train_and_validation), (X_test, y_test) = dataset\n",
        "\n",
        "# Split the dataset into training, validation, and test sets\n",
        "X_train, X_validation, y_train, y_validation = train_test_split(X_train_and_validation, y_train_and_validation, test_size=0.1, random_state=42)\n",
        "\n",
        "# Normalize the data\n",
        "X_train = (X_train / 255.0).astype(np.float32)\n",
        "X_validation = (X_validation / 255.0).astype(np.float32)\n",
        "X_test = (X_test / 255.0).astype(np.float32)\n",
        "\n",
        "# Print dataset shapes\n",
        "print(\"Train Dataset Shape: \", X_train.shape)\n",
        "print(\"Train Target Vector Shape: \", y_train.shape)\n",
        "print(\"Test Dataset Shape:\", X_test.shape)\n",
        "print(\"Test Target Vector Shape\", y_test.shape)\n",
        "print(\"Validation Dataset Shape:\", X_validation.shape)\n",
        "print(\"Validation Target Vector Shape\", y_validation.shape)\n",
        "\n",
        "# Reshape the data\n",
        "X_train = np.array(X_train.reshape(X_train.shape[0], 784, 1))\n",
        "X_test = np.array(X_test.reshape(X_test.shape[0], 784, 1))\n",
        "X_validation = np.array(X_validation.reshape(X_validation.shape[0], 784, 1))\n",
        "\n",
        "# Initialize parameters\n",
        "def param(layers, init_type):\n",
        "    W = []\n",
        "    B = []\n",
        "    for i in range(len(layers) - 1):\n",
        "        W = layer_init(W, layers[i + 1], layers[i], init_type)\n",
        "        B = layer_init(B, layers[i + 1], 1, init_type)\n",
        "    return W, B\n",
        "\n",
        "# Initialize layers\n",
        "def layer_init(arr, n1, n2, init_type):\n",
        "    np.random.seed(10)\n",
        "    if init_type == \"random\":\n",
        "        arr.append(np.random.randn(n1, n2) * 0.1)\n",
        "    elif init_type == \"xavier\":\n",
        "        arr.append(np.random.randn(n1, n2) * np.sqrt(2 / (n1 + n2)))\n",
        "    return arr\n",
        "\n",
        "# Initialize parameters\n",
        "def param(layers, init_type):\n",
        "    W = []\n",
        "    B = []\n",
        "    for i in range(len(layers) - 1):\n",
        "        W = layer_init(W, layers[i + 1], layers[i], init_type)\n",
        "        B = layer_init(B, layers[i + 1], 1, init_type)\n",
        "    return W, B\n",
        "\n",
        "# One-hot encoding\n",
        "def one_hot(y, num_output_nodes):\n",
        "    v = np.zeros((num_output_nodes, len(y)))\n",
        "    for i, j in enumerate(y):\n",
        "        v[j, i] = 1\n",
        "    return v\n",
        "\n",
        "# Loss function\n",
        "def loss(y, y_hat, l_type, W=None, reg=0, n_class=10):\n",
        "    if l_type == 'cross_entropy':\n",
        "        err = -1 * np.sum(np.multiply(one_hot(y, n_class), np.log(y_hat))) / one_hot(y, n_class).shape[1]\n",
        "    elif l_type == 'squared_error':\n",
        "        err = np.sum((one_hot(y, n_class) - y_hat) ** 2) / (2 * one_hot(y, n_class).shape[1])\n",
        "\n",
        "    if W:\n",
        "        r = 0\n",
        "        for i in range(len(W)):\n",
        "            r += np.sum((np.array(W, dtype=object) ** 2)[i])\n",
        "        err = err + reg * r\n",
        "    return err\n",
        "\n",
        "# Evaluate accuracy\n",
        "def eval_acc(y_hat, y_true):\n",
        "    return np.mean(np.argmax(y_hat, axis=0) == y_true) * 100\n",
        "\n",
        "# Activation functions\n",
        "def activation(activation_function):\n",
        "    if activation_function == 'sigmoid':\n",
        "        return sigmoid\n",
        "    elif activation_function == 'tanh':\n",
        "        return tanh\n",
        "    elif activation_function == 'ReLU':\n",
        "        return relu\n",
        "\n",
        "def sigmoid(x, derivative=False):\n",
        "    if derivative:\n",
        "        return sigmoid(x) * (1 - sigmoid(x))\n",
        "    return 1 / (1 + np.exp(-x))\n",
        "\n",
        "def tanh(x, derivative=False):\n",
        "    if derivative:\n",
        "        return 1 - tanh(x) ** 2\n",
        "    return (np.exp(x) - np.exp(-x)) / (np.exp(x) + np.exp(-x))\n",
        "\n",
        "def relu(x, derivative=False):\n",
        "    if derivative:\n",
        "        return (x > 0) * 1\n",
        "    return x * (x > 0)\n",
        "\n",
        "def softmax(x, derivative=False):\n",
        "    if derivative:\n",
        "        return softmax(x) * (1 - softmax(x))\n",
        "    return np.exp(x) / np.sum(np.exp(x), axis=0)\n",
        "\n",
        "# Forward propagation\n",
        "def forward(x, W, B, activation_type):\n",
        "    h = []\n",
        "    a = []\n",
        "    sigma = activation(activation_type)  # Activation function\n",
        "    h.append(x)  # h0 = x\n",
        "    a.append(np.dot(W[0], h[0]) + B[0])\n",
        "    for i in range(len(W) - 1):\n",
        "        h.append(sigma(a[-1]))\n",
        "        a.append(np.dot(W[i + 1], h[-1]) + B[i + 1])\n",
        "    y_hat = softmax(a[-1])\n",
        "    return y_hat, h, a\n",
        "\n",
        "# Backpropagation\n",
        "def back_prop(x, y, y_hat, a, h, W, B, batch_size, l_type, act_type):\n",
        "    grad_h, grad_a, grad_W, grad_B = [0] * len(h), [0] * len(a), [0] * len(W), [0] * len(B)\n",
        "    sigma = activation(act_type)\n",
        "\n",
        "    if l_type == \"cross_entropy\":\n",
        "        grad_h[-1] = -1 * (y / y_hat)\n",
        "        grad_a[-1] = -1 * (y - y_hat)\n",
        "    elif l_type == \"squared_error\":\n",
        "        grad_h[-1] = y_hat - y\n",
        "        grad_a[-1] = (y_hat - y) * softmax(a[-1]) * (1 - softmax(a[-1]))\n",
        "\n",
        "    for i in range(len(W) - 1, -1, -1):\n",
        "        grad_W[i] = np.dot(grad_a[i], h[i].T)\n",
        "        grad_B[i] = np.dot(grad_a[i], np.ones((grad_a[i].shape[1], 1)))\n",
        "        if i > 0:\n",
        "            grad_h[i - 1] = np.dot(W[i].T, grad_a[i])\n",
        "            grad_a[i - 1] = np.multiply(grad_h[i - 1], sigma(a[i - 1], derivative=True))\n",
        "\n",
        "    return grad_W, grad_B, grad_h, grad_a\n",
        "\n",
        "# Evaluate the model on the test set\n",
        "def evaluate_test_set(W, B, X_test, y_test, activation_type):\n",
        "    y_test_hat, _, _ = forward(np.squeeze(X_test).T, W, B, activation_type)\n",
        "    test_acc = eval_acc(y_test_hat, y_test)\n",
        "    test_loss = loss(y_test, y_test_hat, loss_type, W=None, reg=reg_lamda, n_class=10)\n",
        "    print(f\"Test Accuracy: {test_acc:.4f}, Test Loss: {test_loss:.4f}\")\n",
        "    return test_acc, test_loss\n",
        "\n",
        "# SGD step\n",
        "def sgd_step(W, B, grad_W, grad_B, lr, reg):\n",
        "    W = np.array(W, dtype=object)\n",
        "    B = np.array(B, dtype=object)\n",
        "    W -= lr * reg * W + lr * np.array(grad_W, dtype=object)\n",
        "    B -= lr * reg * B + lr * np.array(grad_B, dtype=object)\n",
        "    return W.tolist(), B.tolist()\n",
        "\n",
        "# Momentum step\n",
        "def momentum_step(w, b, gW, gB, lr=0.001, gamma=0.9, reg=0):\n",
        "    params = {'w': w, 'b': b}\n",
        "    Wmoments = [np.zeros_like(p) for p in params['w']]\n",
        "    Bmoments = [np.zeros_like(p) for p in params['b']]\n",
        "\n",
        "    Wmoments = gamma * np.array(Wmoments, dtype=object) + lr * np.array(gW, dtype=object)\n",
        "    W = (1 - lr * reg) * np.array(params['w'], dtype=object) - Wmoments\n",
        "    Wmoments = Wmoments.tolist()\n",
        "\n",
        "    Bmoments = gamma * np.array(Bmoments, dtype=object) + lr * np.array(gB, dtype=object)\n",
        "    B = (1 - lr * reg) * np.array(params['b'], dtype=object) - Bmoments\n",
        "    Bmoments = Bmoments.tolist()\n",
        "\n",
        "    return W.tolist(), B.tolist()\n",
        "\n",
        "# RMSprop step\n",
        "def RMSprop_step(w, b, gW, gB, lr=0.01, beta=0.99):\n",
        "    params = {'w': w, 'b': b}\n",
        "    vW = [np.zeros_like(p) for p in params['w']]\n",
        "    vB = [np.zeros_like(p) for p in params['b']]\n",
        "\n",
        "    vW = beta * np.array(vW, dtype=object) + (1 - beta) * (np.array(gW, dtype=object) ** 2)\n",
        "    W = np.array(params['w'], dtype=object) - (lr / ((vW + 1e-7) ** 0.5)) * np.array(gW, dtype=object)\n",
        "\n",
        "    vB = beta * np.array(vB, dtype=object) + (1 - beta) * (np.array(gB, dtype=object) ** 2)\n",
        "    B = np.array(params['b'], dtype=object) - (lr / ((vB + 1e-7) ** 0.5)) * np.array(gB, dtype=object)\n",
        "\n",
        "    return W.tolist(), B.tolist()\n",
        "\n",
        "def train(X_train, y_train, x_val, y_val, num_inputs_nodes, hidden_layers, out_num, init_type, epochs,\n",
        "          batch_size, l_type, act_type, op_name, lr_rate, reg):\n",
        "    # Ensure WandB starts fresh\n",
        "    wandb.finish()\n",
        "\n",
        "    run = wandb.init(project=\"DA6401-Assignment-1\", name=\"training-run\", reinit=True)\n",
        "\n",
        "    in_node = [num_inputs_nodes]\n",
        "    layers = []\n",
        "    layers.extend(in_node)\n",
        "    layers.extend(hidden_layers)\n",
        "    layers.extend([out_num])\n",
        "\n",
        "    W, B = param(layers, init_type)\n",
        "    N = X_train.shape[0]\n",
        "    n_batches = int(np.floor(N / batch_size))\n",
        "\n",
        "    print(f\"🔹 Training with Loss Type: {l_type}\")\n",
        "    for epoch in range(epochs):\n",
        "        print(f\"Epoch {epoch}: Using Loss Type: {l_type}\")\n",
        "        train_loss, train_accuracy, val_loss, val_accuracy = [], [], [], []\n",
        "        l, acc, ds, steps = 0, 0, 0, 1\n",
        "\n",
        "        while ds < N:\n",
        "            mini_batch_size = min((N - ds), batch_size)\n",
        "            x = np.squeeze(X_train[ds:ds + mini_batch_size]).T\n",
        "            y = one_hot(y_train[ds:ds + mini_batch_size], out_num)\n",
        "\n",
        "            y_hat, h, a = forward(x, W, B, act_type)\n",
        "            grad_W, grad_B, grad_h, grad_a = back_prop(x, y, y_hat, a, h, W, B, batch_size, l_type, act_type)\n",
        "\n",
        "            if op_name == 'sgd':\n",
        "                W, B = sgd_step(W, B, grad_W, grad_B, lr_rate, reg)\n",
        "            elif op_name == 'momentum':\n",
        "                W, B = momentum_step(W, B, grad_W, grad_B, lr_rate, reg)\n",
        "            elif op_name == 'rmsprop':\n",
        "                W, B = RMSprop_step(W, B, grad_W, grad_B, lr_rate, reg)\n",
        "\n",
        "            l += loss(y_train[ds:ds + mini_batch_size], y_hat, l_type, W, reg, out_num)\n",
        "            acc += eval_acc(y_hat, y_train[ds:ds + mini_batch_size])\n",
        "\n",
        "            steps += 1\n",
        "            ds += batch_size\n",
        "\n",
        "        l /= (n_batches + mini_batch_size)\n",
        "        acc /= steps\n",
        "\n",
        "        train_loss.append(l)\n",
        "        train_accuracy.append(acc)\n",
        "\n",
        "        y_val_hat, _, _ = forward(np.squeeze(x_val).T, W, B, act_type)\n",
        "        val_acc = eval_acc(y_val_hat, y_val)\n",
        "        val_l = loss(y_val, y_val_hat, l_type, W=None, reg=reg, n_class=out_num)\n",
        "\n",
        "        val_accuracy.append(val_acc)\n",
        "        val_loss.append(val_l)\n",
        "\n",
        "        wandb.log({\"epoch\": epoch, \"Train_loss\": l, \"Train_acc\": acc, \"val_loss\": val_l, \"val_Accuracy\": val_acc})\n",
        "\n",
        "        print(f\"Epoch {epoch}: Train Loss = {l:.4f}, Train Accuracy = {acc:.4f}, Val Loss = {val_l:.4f}, Val Accuracy = {val_acc:.4f}\")\n",
        "\n",
        "    wandb.finish()  # Explicitly finish the WandB run\n",
        "\n",
        "    return W, B, train_loss, train_accuracy, val_loss, val_accuracy\n",
        "\n",
        "# Configuration 1: SGD optimizer, learning rate = 0.01, batch size = 128, hidden layers = [128, 64]\n",
        "wandb.init(project=\"DA6401-Assignment-1\", name=\"config1-sgd\")\n",
        "epochs = 10\n",
        "hidden_layers = [128, 64]\n",
        "learning_rate = 0.01\n",
        "weight_decay = 0.0005\n",
        "optimizer_name = 'sgd'\n",
        "batch_size = 128\n",
        "init_type = 'xavier'\n",
        "activation_type = 'ReLU'\n",
        "loss_type = 'cross_entropy'\n",
        "reg_lamda = 0.0005\n",
        "\n",
        "# Train the model\n",
        "W, B, train_loss, train_accuracy, val_loss, val_accuracy = train(\n",
        "    X_train, y_train, X_validation, y_validation, 784, hidden_layers, 10, init_type, epochs, batch_size, loss_type, activation_type, optimizer_name, learning_rate, reg_lamda\n",
        ")\n",
        "\n",
        "# Evaluate on test set\n",
        "test_acc, test_loss = evaluate_test_set(W, B, X_test, y_test, activation_type)\n",
        "\n",
        "# Log test metrics within the same WandB run\n",
        "wandb.init(project=\"DA6401-Assignment-1\", name=\"config1-sgd\")\n",
        "wandb.log({\"Test Accuracy\": test_acc, \"Test Loss\": test_loss})\n",
        "\n",
        "\n",
        "# Configuration 2: Adam optimizer, learning rate = 0.001, batch size = 64, hidden layers = [256, 128]\n",
        "wandb.init(project=\"DA6401-Assignment-1\", name=\"config2-adam\")  # Initialize a new wandb run for this config\n",
        "hidden_layers = [256, 128]\n",
        "optimizer_name = 'adam'\n",
        "\n",
        "# Train the model\n",
        "W, B, train_loss, train_accuracy, val_loss, val_accuracy = train(\n",
        "    X_train, y_train, X_validation, y_validation, 784, hidden_layers, 10, init_type, epochs, batch_size, loss_type, activation_type, optimizer_name, learning_rate, reg_lamda\n",
        ")\n",
        "\n",
        "# Evaluate on test set\n",
        "test_acc, test_loss = evaluate_test_set(W, B, X_test, y_test, activation_type)\n",
        "\n",
        "# Log test metrics within the same WandB run\n",
        "wandb.init(project=\"DA6401-Assignment-1\", name=\"config1-sgd\")\n",
        "wandb.log({\"Test Accuracy\": test_acc, \"Test Loss\": test_loss})\n",
        "\n",
        "\n",
        "# Configuration 3: RMSprop optimizer, learning rate = 0.0005, batch size = 32, hidden layers = [128, 64, 32]\n",
        "wandb.init(project=\"DA6401-Assignment-1\", name=\"config3-rmsprop\")  # Initialize a new wandb run for this config\n",
        "hidden_layers = [128, 64, 32]\n",
        "learning_rate = 0.0005\n",
        "batch_size = 32\n",
        "optimizer_name = 'rmsprop'\n",
        "\n",
        "# Train the model\n",
        "W, B, train_loss, train_accuracy, val_loss, val_accuracy = train(\n",
        "    X_train, y_train, X_validation, y_validation, 784, hidden_layers, 10, init_type, epochs, batch_size, loss_type, activation_type, optimizer_name, learning_rate, reg_lamda\n",
        ")\n",
        "\n",
        "# Evaluate on test set\n",
        "test_acc, test_loss = evaluate_test_set(W, B, X_test, y_test, activation_type)\n",
        "\n",
        "# Log test metrics within the same WandB run\n",
        "wandb.init(project=\"DA6401-Assignment-1\", name=\"config1-sgd\")\n",
        "wandb.log({\"Test Accuracy\": test_acc, \"Test Loss\": test_loss})\n",
        "wandb.finish()  # Finish the run after logging the test metrics"
      ]
    }
  ]
}