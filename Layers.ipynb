{
  "nbformat": 4,
  "nbformat_minor": 0,
  "metadata": {
    "colab": {
      "provenance": [],
      "authorship_tag": "ABX9TyOZUZVUrf5lE5j0sr9j2dEM",
      "include_colab_link": true
    },
    "kernelspec": {
      "name": "python3",
      "display_name": "Python 3"
    },
    "language_info": {
      "name": "python"
    }
  },
  "cells": [
    {
      "cell_type": "markdown",
      "metadata": {
        "id": "view-in-github",
        "colab_type": "text"
      },
      "source": [
        "<a href=\"https://colab.research.google.com/github/subikkshas/DA6401/blob/main/Layers.ipynb\" target=\"_parent\"><img src=\"https://colab.research.google.com/assets/colab-badge.svg\" alt=\"Open In Colab\"/></a>"
      ]
    },
    {
      "cell_type": "code",
      "execution_count": 2,
      "metadata": {
        "id": "IKnVZtdMhafN"
      },
      "outputs": [],
      "source": [
        "import numpy as np\n",
        "from activations import Sigmoid, Tanh, ReLU, Softmax\n",
        "\n",
        "# Mapping activation function names to their respective classes\n",
        "activation_mapping = {\n",
        "    \"Sigmoid\": Sigmoid(),\n",
        "    \"Tanh\": Tanh(),\n",
        "    \"ReLU\": ReLU(),\n",
        "    \"Softmax\": Softmax()\n",
        "}\n",
        "\n",
        "\n",
        "# Layers\n",
        "\n",
        "class Input:\n",
        "    \"\"\"Represents the input layer of a neural network.\"\"\"\n",
        "\n",
        "    def __init__(self, data):\n",
        "        self.name = \"Input\"\n",
        "        self.input_data = data\n",
        "        self.size = self.input_data.shape[0]\n",
        "\n",
        "\n",
        "        self.a = self.input_data  # This ensures forward propagation doesn't break\n",
        "        self.layer_type = \"Input Layer\"\n",
        "\n",
        "    def __repr__(self):\n",
        "        return f\"{self.layer_type} - Size: {self.size}\"\n",
        "\n",
        "\n",
        "\n",
        "class Dense:\n",
        "    \"\"\"Represents a fully connected layer in a neural network.\"\"\"\n",
        "\n",
        "    def __init__(self, num_units, activation, layer_name, is_output_layer=False):\n",
        "        self.name = layer_name\n",
        "        self.size = num_units\n",
        "        self.activation_name = activation\n",
        "\n",
        "        # Use .get() to avoid key errors if an invalid activation is given\n",
        "        self.activation = activation_mapping.get(activation, None)\n",
        "\n",
        "        if self.activation is None:\n",
        "            raise ValueError(f\"Invalid activation function: {activation}\")\n",
        "\n",
        "        self.layer_type = \"Dense Layer\"\n",
        "        self.is_output_layer = is_output_layer\n",
        "\n",
        "    def __repr__(self):\n",
        "        return f\"{self.layer_type} - Size: {self.size}; Activation: {self.activation_name}\"\n"
      ]
    }
  ]
}