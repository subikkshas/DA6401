{
  "nbformat": 4,
  "nbformat_minor": 0,
  "metadata": {
    "colab": {
      "provenance": [],
      "authorship_tag": "ABX9TyNL+0eGcfHTgEGgsS5Vza6a",
      "include_colab_link": true
    },
    "kernelspec": {
      "name": "python3",
      "display_name": "Python 3"
    },
    "language_info": {
      "name": "python"
    }
  },
  "cells": [
    {
      "cell_type": "markdown",
      "metadata": {
        "id": "view-in-github",
        "colab_type": "text"
      },
      "source": [
        "<a href=\"https://colab.research.google.com/github/subikkshas/DA6401/blob/main/DLass1q3.ipynb\" target=\"_parent\"><img src=\"https://colab.research.google.com/assets/colab-badge.svg\" alt=\"Open In Colab\"/></a>"
      ]
    },
    {
      "cell_type": "code",
      "execution_count": 1,
      "metadata": {
        "id": "dXHxeyq5ySg9"
      },
      "outputs": [],
      "source": [
        "from keras.datasets import fashion_mnist\n",
        "import numpy as np\n",
        "from  matplotlib import pyplot as plt\n",
        "import time\n",
        "import math\n",
        "from sklearn.model_selection import train_test_split\n",
        "from tqdm.auto import tqdm"
      ]
    },
    {
      "cell_type": "code",
      "source": [],
      "metadata": {
        "colab": {
          "base_uri": "https://localhost:8080/"
        },
        "id": "RNuq0x46yUMo",
        "outputId": "0f2e79be-3f28-4e8f-85a3-ff96a3e13e53"
      },
      "execution_count": 2,
      "outputs": [
        {
          "output_type": "stream",
          "name": "stdout",
          "text": [
            "Downloading data from https://storage.googleapis.com/tensorflow/tf-keras-datasets/train-labels-idx1-ubyte.gz\n",
            "\u001b[1m29515/29515\u001b[0m \u001b[32m━━━━━━━━━━━━━━━━━━━━\u001b[0m\u001b[37m\u001b[0m \u001b[1m0s\u001b[0m 0us/step\n",
            "Downloading data from https://storage.googleapis.com/tensorflow/tf-keras-datasets/train-images-idx3-ubyte.gz\n",
            "\u001b[1m26421880/26421880\u001b[0m \u001b[32m━━━━━━━━━━━━━━━━━━━━\u001b[0m\u001b[37m\u001b[0m \u001b[1m0s\u001b[0m 0us/step\n",
            "Downloading data from https://storage.googleapis.com/tensorflow/tf-keras-datasets/t10k-labels-idx1-ubyte.gz\n",
            "\u001b[1m5148/5148\u001b[0m \u001b[32m━━━━━━━━━━━━━━━━━━━━\u001b[0m\u001b[37m\u001b[0m \u001b[1m0s\u001b[0m 0us/step\n",
            "Downloading data from https://storage.googleapis.com/tensorflow/tf-keras-datasets/t10k-images-idx3-ubyte.gz\n",
            "\u001b[1m4422102/4422102\u001b[0m \u001b[32m━━━━━━━━━━━━━━━━━━━━\u001b[0m\u001b[37m\u001b[0m \u001b[1m0s\u001b[0m 0us/step\n",
            "Train Dataset Shape:  (54000, 28, 28)\n",
            "Train Target Vector Shape:  (54000,)\n",
            "Test Dataset Shape: (10000, 28, 28)\n",
            "Test Target Vector Shape (10000,)\n",
            "Validation Dataset Shape: (6000, 28, 28)\n",
            "Validation Target Vector Shape (6000,)\n"
          ]
        }
      ]
    },
    {
      "cell_type": "code",
      "source": [
        "\n",
        "(X, y), (X_test, y_test) = fashion_mnist.load_data()\n",
        "\n",
        "X = X / 255.0\n",
        "X_test = X_test / 255.0\n",
        "\n",
        "X = X.reshape(X.shape[0], -1)\n",
        "X_test = X_test.reshape(X_test.shape[0], -1)\n",
        "\n",
        "def one_hot(y, num_classes=10):\n",
        "    return np.eye(num_classes)[y]\n",
        "\n",
        "y = one_hot(y)\n",
        "y_test = one_hot(y_test)\n",
        "\n",
        "X_train, X_validation, y_train, y_validation = train_test_split(X, y, test_size=0.2, random_state=42)\n",
        "\n",
        "print(\"X_train Shape:\", X_train.shape)\n",
        "print(\"X_validation Shape:\", X_validation.shape)\n",
        "print(\"X_test Shape:\", X_test.shape)\n",
        "print(\"Sample X_train Data:\", X_train[:5])\n",
        "print(\"Sample y_train Data:\", y_train[:5])"
      ],
      "metadata": {
        "colab": {
          "base_uri": "https://localhost:8080/"
        },
        "id": "vSwXP3e5ygIO",
        "outputId": "64fabc38-604a-47f1-d5e0-d5f0ad9d78a6"
      },
      "execution_count": 5,
      "outputs": [
        {
          "output_type": "stream",
          "name": "stdout",
          "text": [
            "X_train Shape: (48000, 784)\n",
            "X_validation Shape: (12000, 784)\n",
            "X_test Shape: (10000, 784)\n",
            "Sample X_train Data: [[0. 0. 0. ... 0. 0. 0.]\n",
            " [0. 0. 0. ... 0. 0. 0.]\n",
            " [0. 0. 0. ... 0. 0. 0.]\n",
            " [0. 0. 0. ... 0. 0. 0.]\n",
            " [0. 0. 0. ... 0. 0. 0.]]\n",
            "Sample y_train Data: [[0. 0. 0. 0. 0. 0. 0. 1. 0. 0.]\n",
            " [0. 0. 0. 1. 0. 0. 0. 0. 0. 0.]\n",
            " [0. 0. 0. 0. 0. 1. 0. 0. 0. 0.]\n",
            " [0. 0. 0. 0. 0. 0. 0. 0. 1. 0.]\n",
            " [0. 0. 0. 0. 0. 0. 1. 0. 0. 0.]]\n"
          ]
        }
      ]
    },
    {
      "cell_type": "code",
      "source": [
        "def relu(x):\n",
        "    return np.maximum(0, x)\n",
        "\n",
        "def relu_derivative(x):\n",
        "    return (x > 0).astype(float)\n",
        "\n",
        "def sigmoid(x):\n",
        "    return 1 / (1 + np.exp(-x))\n",
        "\n",
        "def sigmoid_derivative(x):\n",
        "    return sigmoid(x) * (1 - sigmoid(x))\n",
        "\n",
        "def tanh(x):\n",
        "    return np.tanh(x)\n",
        "\n",
        "def tanh_derivative(x):\n",
        "    return 1 - np.tanh(x) ** 2\n",
        "\n",
        "def softmax(x):\n",
        "    exp_x = np.exp(x - np.max(x, axis=1, keepdims=True))\n",
        "    return exp_x / np.sum(exp_x, axis=1, keepdims=True)\n",
        "\n",
        "def cross_entropy_loss(y_pred, y_true):\n",
        "    return -np.mean(np.sum(y_true * np.log(y_pred + 1e-9), axis=1))\n",
        "\n"
      ],
      "metadata": {
        "id": "JZH1vu95yxoA"
      },
      "execution_count": 6,
      "outputs": []
    },
    {
      "cell_type": "code",
      "source": [
        "class NeuralNetwork:\n",
        "    def __init__(self, input_size=784, hidden_layers=[128, 64], output_size=10, learning_rate=0.01, optimizer='sgd', activation='relu'):\n",
        "        self.layers = []\n",
        "        self.biases = []\n",
        "        self.learning_rate = learning_rate\n",
        "        self.optimizer = optimizer\n",
        "        self.activation = activation\n",
        "        self.momentum = 0.9\n",
        "        self.beta1 = 0.9\n",
        "        self.beta2 = 0.999\n",
        "        self.epsilon = 1e-8\n",
        "        self.velocities = []\n",
        "        self.squared_gradients = []\n",
        "        self.m_t = []\n",
        "        self.v_t = []\n",
        "\n",
        "        layer_sizes = [input_size] + hidden_layers + [output_size]\n",
        "        for i in range(len(layer_sizes) - 1):\n",
        "            self.layers.append(np.random.randn(layer_sizes[i], layer_sizes[i+1]) * 0.01)\n",
        "            self.biases.append(np.zeros((1, layer_sizes[i+1])))\n",
        "            self.velocities.append(np.zeros_like(self.layers[i]))\n",
        "            self.squared_gradients.append(np.zeros_like(self.layers[i]))\n",
        "            self.m_t.append(np.zeros_like(self.layers[i]))\n",
        "            self.v_t.append(np.zeros_like(self.layers[i]))\n",
        "\n",
        "    def activate(self, x):\n",
        "        if self.activation == 'relu':\n",
        "            return relu(x)\n",
        "        elif self.activation == 'sigmoid':\n",
        "            return sigmoid(x)\n",
        "        elif self.activation == 'tanh':\n",
        "            return tanh(x)\n",
        "        return x\n",
        "\n",
        "    def activation_derivative(self, x):\n",
        "        if self.activation == 'relu':\n",
        "            return relu_derivative(x)\n",
        "        elif self.activation == 'sigmoid':\n",
        "            return sigmoid_derivative(x)\n",
        "        elif self.activation == 'tanh':\n",
        "            return tanh_derivative(x)\n",
        "        return np.ones_like(x)\n",
        "\n",
        "    def forward(self, x):\n",
        "        self.a = [x]\n",
        "        self.z = []\n",
        "\n",
        "        for i in range(len(self.layers) - 1):\n",
        "            z = np.dot(self.a[-1], self.layers[i]) + self.biases[i]\n",
        "            self.z.append(z)\n",
        "            self.a.append(self.activate(z))\n",
        "\n",
        "        final_z = np.dot(self.a[-1], self.layers[-1]) + self.biases[-1]\n",
        "        self.z.append(final_z)\n",
        "        self.a.append(softmax(final_z))\n",
        "\n",
        "        return self.a[-1]\n",
        "\n",
        "    def update_weights(self, dw, db, i):\n",
        "        if self.optimizer == 'sgd':\n",
        "            self.layers[i] -= self.learning_rate * dw\n",
        "            self.biases[i] -= self.learning_rate * db\n",
        "\n",
        "    def backward(self, y_true):\n",
        "        m = y_true.shape[0]\n",
        "        dz = self.a[-1] - y_true\n",
        "\n",
        "        for i in reversed(range(len(self.layers))):\n",
        "            dw = np.dot(self.a[i].T, dz) / m\n",
        "            db = np.sum(dz, axis=0, keepdims=True) / m\n",
        "\n",
        "            self.update_weights(dw, db, i)\n",
        "\n",
        "            if i > 0:\n",
        "                dz = np.dot(dz, self.layers[i].T) * self.activation_derivative(self.z[i-1])\n",
        "\n",
        "    def train(self, X_train, y_train, epochs=10, batch_size=32):\n",
        "        for epoch in range(epochs):\n",
        "            for i in range(0, len(X_train), batch_size):\n",
        "                x_batch = X_train[i:i+batch_size]\n",
        "                y_batch = y_train[i:i+batch_size]\n",
        "\n",
        "                y_pred = self.forward(x_batch)\n",
        "                self.backward(y_batch)\n",
        "\n",
        "            y_pred_train = self.forward(X_train)\n",
        "            loss = cross_entropy_loss(y_pred_train, y_train)\n",
        "            accuracy = np.mean(np.argmax(y_pred_train, axis=1) == np.argmax(y_train, axis=1))\n",
        "\n",
        "            print(f\"Epoch {epoch+1}: Loss = {loss:.4f}, Accuracy = {accuracy:.4f}\")\n",
        "\n",
        "nn = NeuralNetwork(hidden_layers=[128, 64], learning_rate=0.01, optimizer='adam', activation='relu')\n",
        "nn.train(X_train, y_train, epochs=10, batch_size=32)"
      ],
      "metadata": {
        "colab": {
          "base_uri": "https://localhost:8080/"
        },
        "id": "t0nWHGpe4o6d",
        "outputId": "16f8ebea-d3df-4f2d-b6f9-ef5ba4a34fe7"
      },
      "execution_count": 7,
      "outputs": [
        {
          "output_type": "stream",
          "name": "stdout",
          "text": [
            "Epoch 1: Loss = 2.3026, Accuracy = 0.1082\n",
            "Epoch 2: Loss = 2.3026, Accuracy = 0.1082\n",
            "Epoch 3: Loss = 2.3026, Accuracy = 0.1082\n",
            "Epoch 4: Loss = 2.3026, Accuracy = 0.1082\n",
            "Epoch 5: Loss = 2.3026, Accuracy = 0.1082\n",
            "Epoch 6: Loss = 2.3026, Accuracy = 0.1082\n",
            "Epoch 7: Loss = 2.3026, Accuracy = 0.1082\n",
            "Epoch 8: Loss = 2.3026, Accuracy = 0.1082\n",
            "Epoch 9: Loss = 2.3026, Accuracy = 0.1082\n",
            "Epoch 10: Loss = 2.3026, Accuracy = 0.1082\n"
          ]
        }
      ]
    },
    {
      "cell_type": "code",
      "source": [],
      "metadata": {
        "id": "icbflxTP4sUG"
      },
      "execution_count": null,
      "outputs": []
    }
  ]
}