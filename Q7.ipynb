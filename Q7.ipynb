{
  "nbformat": 4,
  "nbformat_minor": 0,
  "metadata": {
    "colab": {
      "provenance": [],
      "authorship_tag": "ABX9TyMiXULMIYOIeRrHiyvng/QI",
      "include_colab_link": true
    },
    "kernelspec": {
      "name": "python3",
      "display_name": "Python 3"
    },
    "language_info": {
      "name": "python"
    }
  },
  "cells": [
    {
      "cell_type": "markdown",
      "metadata": {
        "id": "view-in-github",
        "colab_type": "text"
      },
      "source": [
        "<a href=\"https://colab.research.google.com/github/subikkshas/DA6401/blob/main/Q7.ipynb\" target=\"_parent\"><img src=\"https://colab.research.google.com/assets/colab-badge.svg\" alt=\"Open In Colab\"/></a>"
      ]
    },
    {
      "cell_type": "code",
      "execution_count": null,
      "metadata": {
        "id": "IA7KJwZm8-aQ"
      },
      "outputs": [],
      "source": [
        "from keras.datasets import fashion_mnist\n",
        "import numpy as np\n",
        "from  matplotlib import pyplot as plt\n",
        "import time\n",
        "import math\n",
        "from sklearn.model_selection import train_test_split\n",
        "from tqdm.auto import tqdm"
      ]
    },
    {
      "cell_type": "code",
      "source": [
        "import wandb\n",
        "!wandb login"
      ],
      "metadata": {
        "colab": {
          "base_uri": "https://localhost:8080/"
        },
        "id": "aitnE9wrCpwg",
        "outputId": "98bd2d38-17fd-4136-f3d0-3ae53e92fea7"
      },
      "execution_count": null,
      "outputs": [
        {
          "output_type": "stream",
          "name": "stdout",
          "text": [
            "\u001b[34m\u001b[1mwandb\u001b[0m: Currently logged in as: \u001b[33msubikksha\u001b[0m (\u001b[33msubikksha-indian-institute-of-technology-madras\u001b[0m) to \u001b[32mhttps://api.wandb.ai\u001b[0m. Use \u001b[1m`wandb login --relogin`\u001b[0m to force relogin\n"
          ]
        }
      ]
    },
    {
      "cell_type": "code",
      "source": [
        "dataset= fashion_mnist.load_data()\n",
        "(X_train_and_validation, y_train_and_validation), (X_test, y_test) = dataset\n",
        "X_train, X_validation, y_train, y_validation = train_test_split(X_train_and_validation, y_train_and_validation, test_size=0.1, random_state=42)\n",
        "X_train = (X_train/255.0).astype(np.float32)\n",
        "X_validation = (X_validation/255.0).astype(np.float32)\n",
        "X_test = (X_test/255.0).astype(np.float32)\n",
        "\n",
        "print(\"Train Dataset Shape: \", X_train.shape)\n",
        "print(\"Train Target Vector Shape: \", y_train.shape)\n",
        "print(\"Test Dataset Shape:\", X_test.shape)\n",
        "print(\"Test Target Vector Shape\", y_test.shape)\n",
        "print(\"Validation Dataset Shape:\", X_validation.shape)\n",
        "print(\"Validation Target Vector Shape\", y_validation.shape)"
      ],
      "metadata": {
        "colab": {
          "base_uri": "https://localhost:8080/"
        },
        "id": "4-Lh1dJ8CuUu",
        "outputId": "728192e4-8215-479a-f2a2-5f1b62d97646"
      },
      "execution_count": null,
      "outputs": [
        {
          "output_type": "stream",
          "name": "stdout",
          "text": [
            "Train Dataset Shape:  (54000, 28, 28)\n",
            "Train Target Vector Shape:  (54000,)\n",
            "Test Dataset Shape: (10000, 28, 28)\n",
            "Test Target Vector Shape (10000,)\n",
            "Validation Dataset Shape: (6000, 28, 28)\n",
            "Validation Target Vector Shape (6000,)\n"
          ]
        }
      ]
    },
    {
      "cell_type": "code",
      "source": [
        "X_train = np.array(X_train.reshape(X_train.shape[0], 784,1))\n",
        "X_test = np.array(X_test.reshape(X_test.shape[0], 784,1))\n",
        "X_validation = np.array(X_validation.reshape(X_validation.shape[0], 784,1))"
      ],
      "metadata": {
        "id": "rCZrE5wgCvuR"
      },
      "execution_count": null,
      "outputs": []
    },
    {
      "cell_type": "code",
      "source": [
        "def layer_init(arr,n1,n2,init_type):\n",
        "    np.random.seed(10)\n",
        "    if init_type==\"random\":\n",
        "        arr.append(np.random.randn(n1,n2)*0.1)\n",
        "    elif init_type==\"xavier\":\n",
        "        arr.append(np.random.randn(n1,n2)*np.sqrt(2/(n1+n2)))\n",
        "    return arr\n",
        "\n",
        "def param(layers,init_type):\n",
        "    W=[]\n",
        "    B=[]\n",
        "    for i in range(len(layers)-1):\n",
        "        W=layer_init(W,layers[i+1],layers[i],init_type)\n",
        "        B=layer_init(B,layers[i+1],1,init_type)\n",
        "    return W,B\n",
        "\n",
        "#Activation function\n",
        "def activation(activation_function):\n",
        "    if activation_function == 'sigmoid':\n",
        "        return sigmoid\n",
        "    if activation_function == 'tanh':\n",
        "        return tanh\n",
        "    if activation_function == 'ReLU':\n",
        "        return relu\n",
        "\n",
        "def sigmoid(x, derivative = False):\n",
        "    if derivative:\n",
        "        return sigmoid(x)*(1-sigmoid(x))\n",
        "    return 1/(1 + np.exp(-x))\n",
        "\n",
        "def tanh(x, derivative = False):\n",
        "    if derivative:\n",
        "        return 1 - tanh(x)**2\n",
        "    return (np.exp(x)-np.exp(-x))/(np.exp(x)+np.exp(-x))\n",
        "\n",
        "def relu(x, derivative = False):\n",
        "    if derivative:\n",
        "        return (x>0)*1\n",
        "    return x*(x>0)\n",
        "\n",
        "def softmax(x,derivative = False):\n",
        "    if derivative:\n",
        "        return softmax(x)*(1- softmax(x))\n",
        "    return np.exp(x)/np.sum(np.exp(x), axis = 0)\n",
        "\n",
        "def one_hot(y, num_output_nodes):\n",
        "    v = np.zeros((num_output_nodes, len(y)))\n",
        "    for i,j in enumerate(y):\n",
        "        v[j,i] = 1\n",
        "    return v\n",
        "\n",
        "\n",
        "def forward(x, W, B, activation_type):\n",
        "    h = []\n",
        "    a = []\n",
        "    sigma = activation(activation_type)  #activation\n",
        "    h.append(x)   #h0 = x\n",
        "    a.append(np.dot(W[0], h[0]) + B[0])\n",
        "    for i in range(len(W)-1):\n",
        "        h.append(sigma(a[-1]))\n",
        "        a.append(np.dot(W[i+1], h[-1]) + B[i+1])\n",
        "    y_hat = softmax(a[-1])\n",
        "\n",
        "    return y_hat, h, a\n",
        "\n",
        "\n",
        "\n",
        "def loss(y,y_hat,l_type,W,reg,n_class):\n",
        "    if l_type=='cross_entropy':\n",
        "        err=-1*np.sum(np.multiply(one_hot(y,n_class),np.log(y_hat)))/one_hot(y,n_class).shape[1]\n",
        "    elif l_type=='squared_error':\n",
        "        err=np.sum((one_hot(y,n_class)-y_hat)**2)/(2*one_hot(y,n_class)).shape[1]\n",
        "\n",
        "    if W:\n",
        "        r=0\n",
        "        for i in range(len(W)):\n",
        "            r+=np.sum((np.array(W,dtype=object)**2)[i])\n",
        "        err=err+reg*r\n",
        "    return err\n",
        "\n",
        "def eval_acc(y_hat, y_true):\n",
        "    return np.mean(np.argmax(y_hat, axis = 0) ==y_true )*100\n"
      ],
      "metadata": {
        "id": "QL_nydADC4J2"
      },
      "execution_count": null,
      "outputs": []
    },
    {
      "cell_type": "code",
      "source": [
        "def back_prop(x, y, y_hat, a, h , W, B, batch_size,l_type,act_type):\n",
        "    grad_h,grad_a,grad_W,grad_B = [0]*len(h),[0]*len(a),[0]*len(W),[0]*len(B)\n",
        "    sigma = activation(act_type)\n",
        "\n",
        "    if l_type == \"cross_entropy\":\n",
        "        grad_h[-1] = -1*(y/y_hat)\n",
        "        grad_a[-1] = -1*(y-y_hat)\n",
        "    if l_type == \"squared_error\":   ##### edit this\n",
        "        grad_h[-1] = y_hat - y\n",
        "        grad_a[-1] = (y_hat - y)*softmax(a[-1])*(1-softmax(a[-1]))\n",
        "\n",
        "    for i in range(len(W)-1, -1, -1):\n",
        "        grad_W[i] = np.dot(grad_a[i], h[i].T)\n",
        "        grad_B[i] = np.dot(grad_a[i], np.ones((grad_a[i].shape[1], 1)))\n",
        "        if i > 0:\n",
        "            grad_h[i-1] = np.dot(W[i].T, grad_a[i])\n",
        "            grad_a[i-1]  = np.multiply(grad_h[i-1],sigma(a[i-1], derivative = True))\n",
        "\n",
        "    return grad_W, grad_B, grad_h, grad_a"
      ],
      "metadata": {
        "id": "iGZEqQ9tC1p4"
      },
      "execution_count": null,
      "outputs": []
    },
    {
      "cell_type": "code",
      "source": [
        "def sgd_step(W,B,grad_W,grad_B,lr,reg):\n",
        "    W=np.array(W,dtype=object)\n",
        "    B=np.array(B,dtype=object)\n",
        "    W-=lr*reg*W+lr*np.array(grad_W,dtype=object)\n",
        "    B-=lr*reg*B+lr*np.array(grad_B,dtype=object)\n",
        "\n",
        "    return W.tolist(),B.tolist()\n",
        "\n",
        "\n",
        "\n",
        "def momentum_step(w, b, gW, gB, lr=0.001, gamma=0.9, reg=0):\n",
        "    params = {'w': w, 'b': b}\n",
        "\n",
        "    Wmoments = [np.zeros_like(p) for p in params['w']]\n",
        "    Bmoments = [np.zeros_like(p) for p in params['b']]\n",
        "\n",
        "    Wmoments = gamma * np.array(Wmoments,dtype=object) + lr * np.array(gW,dtype=object)\n",
        "    W = (1 - lr * reg) * np.array(params['w'],dtype=object) - Wmoments\n",
        "    Wmoments = Wmoments.tolist()\n",
        "\n",
        "    Bmoments = gamma * np.array(Bmoments,dtype=object) + lr * np.array(gB,dtype=object)\n",
        "    B = (1 - lr * reg) * np.array(params['b'],dtype=object) - Bmoments\n",
        "    Bmoments = Bmoments.tolist()\n",
        "\n",
        "    return W.tolist(), B.tolist()\n",
        "\n",
        "\n",
        "def RMSprop_step(w, b, gW, gB, lr=0.01, beta=0.99):\n",
        "    params = {'w': w, 'b': b}\n",
        "\n",
        "    vW = [np.zeros_like(p) for p in params['w']]\n",
        "    vB = [np.zeros_like(p) for p in params['b']]\n",
        "\n",
        "    vW = beta * np.array(vW, dtype=object) + (1 - beta) * (np.array(gW, dtype=object) ** 2)\n",
        "    W = np.array(params['w'], dtype=object) - (lr / ((vW + 1e-7) ** 0.5)) * np.array(gW, dtype=object)\n",
        "\n",
        "    vB = beta * np.array(vB, dtype=object) + (1 - beta) * (np.array(gB, dtype=object) ** 2)\n",
        "    B = np.array(params['b'], dtype=object) - (lr / ((vB + 1e-7) ** 0.5)) * np.array(gB, dtype=object)\n",
        "\n",
        "    return W.tolist(), B.tolist()\n",
        "\n"
      ],
      "metadata": {
        "id": "P3IRZ0z4C88c"
      },
      "execution_count": null,
      "outputs": []
    },
    {
      "cell_type": "code",
      "source": [
        "import wandb\n",
        "\n",
        "def train(X_train, y_train, x_val, y_val, num_inputs_nodes, hidden_layers, out_num, init_type, epochs,\n",
        "          batch_size, l_type, act_type, op_name, lr_rate, reg):\n",
        "\n",
        "    # Ensure WandB starts fresh\n",
        "    wandb.finish()\n",
        "\n",
        "    run = wandb.init(project=\"DA6401-Assignment-1\", name=\"training-run\", reinit=True)\n",
        "\n",
        "    in_node = [num_inputs_nodes]\n",
        "    layers = []\n",
        "    layers.extend(in_node)\n",
        "    layers.extend(hidden_layers)\n",
        "    layers.extend([out_num])\n",
        "\n",
        "    W, B = param(layers, init_type)\n",
        "    N = X_train.shape[0]\n",
        "    n_batches = int(np.floor(N / batch_size))\n",
        "\n",
        "    for epoch in range(epochs):\n",
        "        train_loss, train_accuracy, val_loss, val_accuracy = [], [], [], []\n",
        "        l, acc, ds, steps = 0, 0, 0, 1\n",
        "\n",
        "        while ds < N:\n",
        "            mini_batch_size = min((N - ds), batch_size)\n",
        "            x = np.squeeze(X_train[ds:ds + mini_batch_size]).T\n",
        "            y = one_hot(y_train[ds:ds + mini_batch_size], out_num)\n",
        "\n",
        "            y_hat, h, a = forward(x, W, B, act_type)\n",
        "            grad_W, grad_B, grad_h, grad_a = back_prop(x, y, y_hat, a, h, W, B, batch_size, l_type, act_type)\n",
        "\n",
        "            if op_name == 'sgd':\n",
        "                W, B = sgd_step(W, B, grad_W, grad_B, lr_rate, reg)\n",
        "            elif op_name == 'momentum':\n",
        "                W, B = momentum_step(W, B, grad_W, grad_B, lr_rate, reg)\n",
        "            elif op_name == 'rmsprop':\n",
        "                W, B = RMSprop_step(W, B, grad_W, grad_B, lr_rate, reg)\n",
        "\n",
        "            l += loss(y_train[ds:ds + mini_batch_size], y_hat, l_type, W, reg, out_num)\n",
        "            acc += eval_acc(y_hat, y_train[ds:ds + mini_batch_size])\n",
        "\n",
        "            steps += 1\n",
        "            ds += batch_size\n",
        "\n",
        "        l /= (n_batches + mini_batch_size)\n",
        "        acc /= steps\n",
        "\n",
        "        train_loss.append(l)\n",
        "        train_accuracy.append(acc)\n",
        "\n",
        "        y_val_hat, _, _ = forward(np.squeeze(x_val).T, W, B, act_type)\n",
        "        val_acc = eval_acc(y_val_hat, y_val)\n",
        "        val_l = loss(y_val, y_val_hat, l_type, W=None, reg=reg, n_class=out_num)\n",
        "\n",
        "        val_accuracy.append(val_acc)\n",
        "        val_loss.append(val_l)\n",
        "\n",
        "        wandb.log({\"epoch\": epoch, \"Train_loss\": l, \"Train_acc\": acc, \"val_loss\": val_l, \"val_Accuracy\": val_acc})\n",
        "\n",
        "        print(f\"Epoch {epoch}: Train Loss = {l:.4f}, Train Accuracy = {acc:.4f}, Val Loss = {val_l:.4f}, Val Accuracy = {val_acc:.4f}\")\n",
        "\n",
        "    wandb.finish()  # Explicitly finish the WandB run\n",
        "\n",
        "    return W, B, train_loss, train_accuracy, val_loss, val_accuracy\n"
      ],
      "metadata": {
        "id": "vl8VIPFTC_do"
      },
      "execution_count": null,
      "outputs": []
    },
    {
      "cell_type": "code",
      "source": [
        "!wandb login 7ea09f7c4132c66373b03708516876ea8ecc67cc\n",
        "\n",
        "# 🔹 Load Fashion-MNIST Dataset\n",
        "(_, _), (X_test, y_test) = fashion_mnist.load_data()\n",
        "X_test = X_test.reshape(-1, 784) / 255.0  # Flatten images for the model\n",
        "\n",
        "# 🔹 Train the Model\n",
        "W_new, B_new, _, _, _, _ = train(\n",
        "    X_train, y_train, X_validation, y_validation, 784,\n",
        "    [128, 64, 32], 10, \"xavier\", 10, 64, \"cross_entropy\",\n",
        "    \"sigmoid\", 'momentum', 0.001, 0\n",
        ")\n",
        "\n",
        "# 🔹 Forward Pass to Get Predictions\n",
        "Y, _, _ = forward(np.squeeze(X_validation).T, W_new, B_new, \"sigmoid\")\n",
        "Y_prediction = np.argmax(Y, axis=0)\n",
        "\n",
        "# 🔹 Define Class Labels\n",
        "labels_dict_names = [\n",
        "    \"T-shirt/top\", \"Trouser\", \"Pullover\", \"Dress\", \"Coat\",\n",
        "    \"Sandal\", \"Shirt\", \"Sneaker\", \"Bag\", \"Ankle boot\"\n",
        "]\n",
        "\n",
        "wandb.init(project=\"DA6401-Assignment-1\", name=\"Q7_Confusion_Matrix\", reinit=True)\n",
        "# 🔹 Log the confusion matrix within the same WandB run\n",
        "wandb.log({\n",
        "    \"Confusion Matrix\": wandb.plot.confusion_matrix(\n",
        "        probs=None, y_true=y_validation, preds=Y_prediction, class_names=labels_dict_names\n",
        "    )\n",
        "})\n",
        "\n",
        "# 🔹 Finish WandB Logging\n",
        "wandb.finish()"
      ],
      "metadata": {
        "colab": {
          "base_uri": "https://localhost:8080/",
          "height": 1000
        },
        "id": "uUjTl7BCDCnA",
        "outputId": "c639dd93-2c62-4f90-db7c-0fa9d77d2165"
      },
      "execution_count": null,
      "outputs": [
        {
          "output_type": "stream",
          "name": "stdout",
          "text": [
            "\u001b[34m\u001b[1mwandb\u001b[0m: Appending key for api.wandb.ai to your netrc file: /root/.netrc\n",
            "\u001b[34m\u001b[1mwandb\u001b[0m: W&B API key is configured. Use \u001b[1m`wandb login --relogin`\u001b[0m to force relogin\n"
          ]
        },
        {
          "output_type": "display_data",
          "data": {
            "text/plain": [
              "<IPython.core.display.HTML object>"
            ],
            "text/html": []
          },
          "metadata": {}
        },
        {
          "output_type": "display_data",
          "data": {
            "text/plain": [
              "<IPython.core.display.HTML object>"
            ],
            "text/html": [
              " View run <strong style=\"color:#cdcd00\">training-run</strong> at: <a href='https://wandb.ai/subikksha-indian-institute-of-technology-madras/DA6401-Assignment-1/runs/o84ns9et' target=\"_blank\">https://wandb.ai/subikksha-indian-institute-of-technology-madras/DA6401-Assignment-1/runs/o84ns9et</a><br> View project at: <a href='https://wandb.ai/subikksha-indian-institute-of-technology-madras/DA6401-Assignment-1' target=\"_blank\">https://wandb.ai/subikksha-indian-institute-of-technology-madras/DA6401-Assignment-1</a><br>Synced 5 W&B file(s), 0 media file(s), 0 artifact file(s) and 0 other file(s)"
            ]
          },
          "metadata": {}
        },
        {
          "output_type": "display_data",
          "data": {
            "text/plain": [
              "<IPython.core.display.HTML object>"
            ],
            "text/html": [
              "Find logs at: <code>./wandb/run-20250315_135918-o84ns9et/logs</code>"
            ]
          },
          "metadata": {}
        },
        {
          "output_type": "display_data",
          "data": {
            "text/plain": [
              "<IPython.core.display.HTML object>"
            ],
            "text/html": [
              "Tracking run with wandb version 0.19.8"
            ]
          },
          "metadata": {}
        },
        {
          "output_type": "display_data",
          "data": {
            "text/plain": [
              "<IPython.core.display.HTML object>"
            ],
            "text/html": [
              "Run data is saved locally in <code>/content/wandb/run-20250315_135952-689wdjbb</code>"
            ]
          },
          "metadata": {}
        },
        {
          "output_type": "display_data",
          "data": {
            "text/plain": [
              "<IPython.core.display.HTML object>"
            ],
            "text/html": [
              "Syncing run <strong><a href='https://wandb.ai/subikksha-indian-institute-of-technology-madras/DA6401-Assignment-1/runs/689wdjbb' target=\"_blank\">training-run</a></strong> to <a href='https://wandb.ai/subikksha-indian-institute-of-technology-madras/DA6401-Assignment-1' target=\"_blank\">Weights & Biases</a> (<a href='https://wandb.me/developer-guide' target=\"_blank\">docs</a>)<br>"
            ]
          },
          "metadata": {}
        },
        {
          "output_type": "display_data",
          "data": {
            "text/plain": [
              "<IPython.core.display.HTML object>"
            ],
            "text/html": [
              " View project at <a href='https://wandb.ai/subikksha-indian-institute-of-technology-madras/DA6401-Assignment-1' target=\"_blank\">https://wandb.ai/subikksha-indian-institute-of-technology-madras/DA6401-Assignment-1</a>"
            ]
          },
          "metadata": {}
        },
        {
          "output_type": "display_data",
          "data": {
            "text/plain": [
              "<IPython.core.display.HTML object>"
            ],
            "text/html": [
              " View run at <a href='https://wandb.ai/subikksha-indian-institute-of-technology-madras/DA6401-Assignment-1/runs/689wdjbb' target=\"_blank\">https://wandb.ai/subikksha-indian-institute-of-technology-madras/DA6401-Assignment-1/runs/689wdjbb</a>"
            ]
          },
          "metadata": {}
        },
        {
          "output_type": "stream",
          "name": "stdout",
          "text": [
            "Epoch 0: Train Loss = 2.0926, Train Accuracy = 20.6990, Val Loss = 1.8619, Val Accuracy = 33.0333\n",
            "Epoch 1: Train Loss = 1.3749, Train Accuracy = 47.6177, Val Loss = 1.1828, Val Accuracy = 58.0667\n",
            "Epoch 2: Train Loss = 1.0001, Train Accuracy = 60.5510, Val Loss = 0.9513, Val Accuracy = 63.8167\n",
            "Epoch 3: Train Loss = 0.8362, Train Accuracy = 66.3622, Val Loss = 0.8302, Val Accuracy = 70.4500\n",
            "Epoch 4: Train Loss = 0.7418, Train Accuracy = 70.6182, Val Loss = 0.7435, Val Accuracy = 73.2000\n",
            "Epoch 5: Train Loss = 0.6695, Train Accuracy = 74.2745, Val Loss = 0.6735, Val Accuracy = 75.4500\n",
            "Epoch 6: Train Loss = 0.6115, Train Accuracy = 76.4016, Val Loss = 0.6169, Val Accuracy = 77.2000\n",
            "Epoch 7: Train Loss = 0.5671, Train Accuracy = 77.8667, Val Loss = 0.5757, Val Accuracy = 78.5333\n",
            "Epoch 8: Train Loss = 0.5343, Train Accuracy = 79.1032, Val Loss = 0.5448, Val Accuracy = 79.9667\n",
            "Epoch 9: Train Loss = 0.5082, Train Accuracy = 80.4629, Val Loss = 0.5193, Val Accuracy = 81.3500\n"
          ]
        },
        {
          "output_type": "display_data",
          "data": {
            "text/plain": [
              "<IPython.core.display.HTML object>"
            ],
            "text/html": []
          },
          "metadata": {}
        },
        {
          "output_type": "display_data",
          "data": {
            "text/plain": [
              "<IPython.core.display.HTML object>"
            ],
            "text/html": [
              "<br>    <style><br>        .wandb-row {<br>            display: flex;<br>            flex-direction: row;<br>            flex-wrap: wrap;<br>            justify-content: flex-start;<br>            width: 100%;<br>        }<br>        .wandb-col {<br>            display: flex;<br>            flex-direction: column;<br>            flex-basis: 100%;<br>            flex: 1;<br>            padding: 10px;<br>        }<br>    </style><br><div class=\"wandb-row\"><div class=\"wandb-col\"><h3>Run history:</h3><br/><table class=\"wandb\"><tr><td>Train_acc</td><td>▁▄▆▆▇▇████</td></tr><tr><td>Train_loss</td><td>█▅▃▂▂▂▁▁▁▁</td></tr><tr><td>epoch</td><td>▁▂▃▃▄▅▆▆▇█</td></tr><tr><td>val_Accuracy</td><td>▁▅▅▆▇▇▇███</td></tr><tr><td>val_loss</td><td>█▄▃▃▂▂▂▁▁▁</td></tr></table><br/></div><div class=\"wandb-col\"><h3>Run summary:</h3><br/><table class=\"wandb\"><tr><td>Train_acc</td><td>80.46289</td></tr><tr><td>Train_loss</td><td>0.50823</td></tr><tr><td>epoch</td><td>9</td></tr><tr><td>val_Accuracy</td><td>81.35</td></tr><tr><td>val_loss</td><td>0.51931</td></tr></table><br/></div></div>"
            ]
          },
          "metadata": {}
        },
        {
          "output_type": "display_data",
          "data": {
            "text/plain": [
              "<IPython.core.display.HTML object>"
            ],
            "text/html": [
              " View run <strong style=\"color:#cdcd00\">training-run</strong> at: <a href='https://wandb.ai/subikksha-indian-institute-of-technology-madras/DA6401-Assignment-1/runs/689wdjbb' target=\"_blank\">https://wandb.ai/subikksha-indian-institute-of-technology-madras/DA6401-Assignment-1/runs/689wdjbb</a><br> View project at: <a href='https://wandb.ai/subikksha-indian-institute-of-technology-madras/DA6401-Assignment-1' target=\"_blank\">https://wandb.ai/subikksha-indian-institute-of-technology-madras/DA6401-Assignment-1</a><br>Synced 5 W&B file(s), 0 media file(s), 0 artifact file(s) and 0 other file(s)"
            ]
          },
          "metadata": {}
        },
        {
          "output_type": "display_data",
          "data": {
            "text/plain": [
              "<IPython.core.display.HTML object>"
            ],
            "text/html": [
              "Find logs at: <code>./wandb/run-20250315_135952-689wdjbb/logs</code>"
            ]
          },
          "metadata": {}
        },
        {
          "output_type": "display_data",
          "data": {
            "text/plain": [
              "<IPython.core.display.HTML object>"
            ],
            "text/html": [
              "Tracking run with wandb version 0.19.8"
            ]
          },
          "metadata": {}
        },
        {
          "output_type": "display_data",
          "data": {
            "text/plain": [
              "<IPython.core.display.HTML object>"
            ],
            "text/html": [
              "Run data is saved locally in <code>/content/wandb/run-20250315_140043-ukk90lu7</code>"
            ]
          },
          "metadata": {}
        },
        {
          "output_type": "display_data",
          "data": {
            "text/plain": [
              "<IPython.core.display.HTML object>"
            ],
            "text/html": [
              "Syncing run <strong><a href='https://wandb.ai/subikksha-indian-institute-of-technology-madras/DA6401-Assignment-1/runs/ukk90lu7' target=\"_blank\">Q7_Confusion_Matrix</a></strong> to <a href='https://wandb.ai/subikksha-indian-institute-of-technology-madras/DA6401-Assignment-1' target=\"_blank\">Weights & Biases</a> (<a href='https://wandb.me/developer-guide' target=\"_blank\">docs</a>)<br>"
            ]
          },
          "metadata": {}
        },
        {
          "output_type": "display_data",
          "data": {
            "text/plain": [
              "<IPython.core.display.HTML object>"
            ],
            "text/html": [
              " View project at <a href='https://wandb.ai/subikksha-indian-institute-of-technology-madras/DA6401-Assignment-1' target=\"_blank\">https://wandb.ai/subikksha-indian-institute-of-technology-madras/DA6401-Assignment-1</a>"
            ]
          },
          "metadata": {}
        },
        {
          "output_type": "display_data",
          "data": {
            "text/plain": [
              "<IPython.core.display.HTML object>"
            ],
            "text/html": [
              " View run at <a href='https://wandb.ai/subikksha-indian-institute-of-technology-madras/DA6401-Assignment-1/runs/ukk90lu7' target=\"_blank\">https://wandb.ai/subikksha-indian-institute-of-technology-madras/DA6401-Assignment-1/runs/ukk90lu7</a>"
            ]
          },
          "metadata": {}
        },
        {
          "output_type": "display_data",
          "data": {
            "text/plain": [
              "<IPython.core.display.HTML object>"
            ],
            "text/html": []
          },
          "metadata": {}
        },
        {
          "output_type": "display_data",
          "data": {
            "text/plain": [
              "<IPython.core.display.HTML object>"
            ],
            "text/html": [
              " View run <strong style=\"color:#cdcd00\">Q7_Confusion_Matrix</strong> at: <a href='https://wandb.ai/subikksha-indian-institute-of-technology-madras/DA6401-Assignment-1/runs/ukk90lu7' target=\"_blank\">https://wandb.ai/subikksha-indian-institute-of-technology-madras/DA6401-Assignment-1/runs/ukk90lu7</a><br> View project at: <a href='https://wandb.ai/subikksha-indian-institute-of-technology-madras/DA6401-Assignment-1' target=\"_blank\">https://wandb.ai/subikksha-indian-institute-of-technology-madras/DA6401-Assignment-1</a><br>Synced 5 W&B file(s), 1 media file(s), 2 artifact file(s) and 0 other file(s)"
            ]
          },
          "metadata": {}
        },
        {
          "output_type": "display_data",
          "data": {
            "text/plain": [
              "<IPython.core.display.HTML object>"
            ],
            "text/html": [
              "Find logs at: <code>./wandb/run-20250315_140043-ukk90lu7/logs</code>"
            ]
          },
          "metadata": {}
        }
      ]
    }
  ]
}