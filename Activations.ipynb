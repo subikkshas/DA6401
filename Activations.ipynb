{
  "nbformat": 4,
  "nbformat_minor": 0,
  "metadata": {
    "colab": {
      "provenance": [],
      "authorship_tag": "ABX9TyMJ5bnc2xpJAADYbs3Uko/V",
      "include_colab_link": true
    },
    "kernelspec": {
      "name": "python3",
      "display_name": "Python 3"
    },
    "language_info": {
      "name": "python"
    }
  },
  "cells": [
    {
      "cell_type": "markdown",
      "metadata": {
        "id": "view-in-github",
        "colab_type": "text"
      },
      "source": [
        "<a href=\"https://colab.research.google.com/github/subikkshas/DA6401/blob/main/Activations.ipynb\" target=\"_parent\"><img src=\"https://colab.research.google.com/assets/colab-badge.svg\" alt=\"Open In Colab\"/></a>"
      ]
    },
    {
      "cell_type": "code",
      "execution_count": 1,
      "metadata": {
        "id": "TqZ7XUkMXQt2"
      },
      "outputs": [],
      "source": [
        "# Activation Functions\n",
        "\n",
        "import numpy as np\n",
        "\n",
        "class Sigmoid:\n",
        "    def __init__(self, coefficient=1, bias=0):\n",
        "        self.coefficient = coefficient\n",
        "        self.bias = bias\n",
        "\n",
        "    def compute(self, x):\n",
        "        \"\"\"Computes the sigmoid activation.\"\"\"\n",
        "        return 1 / (1 + np.exp(-self.coefficient * (x + self.bias)))\n",
        "\n",
        "    def derivative(self, x, exclude_last=False):\n",
        "        \"\"\"Computes the derivative of the sigmoid function.\"\"\"\n",
        "        sigmoid_val = self.compute(x)\n",
        "        if exclude_last:\n",
        "            sigmoid_val = sigmoid_val[:-1, :]\n",
        "        return self.coefficient * sigmoid_val * (1 - sigmoid_val)\n",
        "\n",
        "\n",
        "class Tanh:\n",
        "    def compute(self, x):\n",
        "        \"\"\"Computes the tanh activation function.\"\"\"\n",
        "        exp_x = np.exp(x)\n",
        "        exp_neg_x = np.exp(-x)\n",
        "        return (exp_x - exp_neg_x) / (exp_x + exp_neg_x)\n",
        "\n",
        "    def derivative(self, x):\n",
        "        \"\"\"Computes the derivative of tanh.\"\"\"\n",
        "        tanh_val = self.compute(x)\n",
        "        return 1 - tanh_val**2\n",
        "\n",
        "\n",
        "class ReLU:\n",
        "    def compute(self, x):\n",
        "        \"\"\"Computes the ReLU activation.\"\"\"\n",
        "        return np.maximum(0, x)\n",
        "\n",
        "    def derivative(self, x):\n",
        "        \"\"\"Computes the derivative of ReLU.\"\"\"\n",
        "        grad = np.where(x > 0, 1, 0)\n",
        "        return grad\n",
        "\n",
        "\n",
        "class Softmax:\n",
        "    def compute(self, x):\n",
        "        \"\"\"Computes the softmax activation.\"\"\"\n",
        "        exp_vals = np.exp(x - np.max(x, axis=0, keepdims=True))  # Prevents overflow\n",
        "        return exp_vals / np.sum(exp_vals, axis=0, keepdims=True)\n",
        "\n",
        "    def derivative(self, x):\n",
        "        \"\"\"Computes the softmax derivative.\"\"\"\n",
        "        softmax_vals = self.compute(x)\n",
        "        diag_matrix = np.diag(softmax_vals.flatten())\n",
        "        outer_product = np.outer(softmax_vals, softmax_vals)\n",
        "        return diag_matrix - outer_product\n"
      ]
    }
  ]
}