{
  "nbformat": 4,
  "nbformat_minor": 0,
  "metadata": {
    "colab": {
      "provenance": [],
      "authorship_tag": "ABX9TyMOY81/xti0Sogg71UWVwtv",
      "include_colab_link": true
    },
    "kernelspec": {
      "name": "python3",
      "display_name": "Python 3"
    },
    "language_info": {
      "name": "python"
    }
  },
  "cells": [
    {
      "cell_type": "markdown",
      "metadata": {
        "id": "view-in-github",
        "colab_type": "text"
      },
      "source": [
        "<a href=\"https://colab.research.google.com/github/subikkshas/DA6401/blob/main/DLass1q4.ipynb\" target=\"_parent\"><img src=\"https://colab.research.google.com/assets/colab-badge.svg\" alt=\"Open In Colab\"/></a>"
      ]
    },
    {
      "cell_type": "code",
      "source": [
        "import numpy as np\n",
        "import wandb\n",
        "from tensorflow.keras.datasets import fashion_mnist\n",
        "from sklearn.model_selection import train_test_split\n",
        "\n",
        "wandb.login()\n",
        "\n",
        "# Load Fashion MNIST dataset\n",
        "(X_train_and_validation, y_train_and_validation), (X_test, y_test) = fashion_mnist.load_data()\n",
        "\n",
        "# Split into train and validation\n",
        "X_train, X_validation, y_train, y_validation = train_test_split(\n",
        "    X_train_and_validation, y_train_and_validation, test_size=0.1, random_state=42)\n",
        "\n",
        "# Normalize data\n",
        "X_train = (X_train / 255.0).astype(np.float32)\n",
        "X_validation = (X_validation / 255.0).astype(np.float32)\n",
        "X_test = (X_test / 255.0).astype(np.float32)\n",
        "\n",
        "# Reshape for input layer\n",
        "X_train = X_train.reshape(X_train.shape[0], 784, 1)\n",
        "X_validation = X_validation.reshape(X_validation.shape[0], 784, 1)\n",
        "X_test = X_test.reshape(X_test.shape[0], 784, 1)\n",
        "\n",
        "# One-hot encode labels\n",
        "def one_hot(y, num_classes=10):\n",
        "    return np.eye(num_classes)[y].T\n",
        "\n",
        "def layer_init(arr, n1, n2, init_type):\n",
        "    np.random.seed(10)\n",
        "    if init_type == \"random\":\n",
        "        arr.append(np.random.randn(n1, n2) * 0.1)\n",
        "    elif init_type == \"xavier\":\n",
        "        arr.append(np.random.randn(n1, n2) * np.sqrt(2 / (n1 + n2)))\n",
        "    return arr\n",
        "\n",
        "def param(layers, init_type):\n",
        "    W, B = [], []\n",
        "    for i in range(len(layers) - 1):\n",
        "        W = layer_init(W, layers[i + 1], layers[i], init_type)\n",
        "        B = layer_init(B, layers[i + 1], 1, init_type)\n",
        "    return W, B\n",
        "\n",
        "def activation(act_type):\n",
        "    return {\n",
        "        'sigmoid': lambda x, deriv=False: x * (1 - x) if deriv else 1 / (1 + np.exp(-x)),\n",
        "        'tanh': lambda x, deriv=False: 1 - np.tanh(x) ** 2 if deriv else np.tanh(x),\n",
        "        'ReLU': lambda x, deriv=False: (x > 0) * 1 if deriv else x * (x > 0)\n",
        "    }[act_type]\n",
        "\n",
        "def softmax(x):\n",
        "    exps = np.exp(x - np.max(x))\n",
        "    return exps / np.sum(exps, axis=0)\n",
        "\n",
        "def forward(x, W, B, act_type):\n",
        "    h, a = [x], []\n",
        "    sigma = activation(act_type)\n",
        "    for i in range(len(W)):\n",
        "        a.append(np.dot(W[i], h[-1]) + B[i])\n",
        "        h.append(sigma(a[-1]) if i < len(W) - 1 else softmax(a[-1]))\n",
        "    return h[-1], h, a\n",
        "\n",
        "def loss(y, y_hat, l_type):\n",
        "    if l_type == 'cross_entropy':\n",
        "        return -np.sum(y * np.log(y_hat)) / y.shape[1]\n",
        "\n",
        "def eval_acc(y_hat, y_true):\n",
        "    return np.mean(np.argmax(y_hat, axis=0) == y_true) * 100\n",
        "\n",
        "def backprop(x, y, y_hat, a, h, W, B, batch_size, act_type):\n",
        "    grad_h, grad_a, grad_W, grad_B = [0] * len(h), [0] * len(a), [0] * len(W), [0] * len(B)\n",
        "    sigma = activation(act_type)\n",
        "    grad_h[-1] = y_hat - y\n",
        "    grad_a[-1] = grad_h[-1] * softmax(a[-1]) * (1 - softmax(a[-1]))\n",
        "    for i in range(len(W) - 1, -1, -1):\n",
        "        grad_W[i] = np.dot(grad_a[i], h[i].T)\n",
        "        grad_B[i] = np.sum(grad_a[i], axis=1, keepdims=True)\n",
        "        if i > 0:\n",
        "            grad_h[i - 1] = np.dot(W[i].T, grad_a[i])\n",
        "            grad_a[i - 1] = grad_h[i - 1] * sigma(a[i - 1], deriv=True)\n",
        "    return grad_W, grad_B\n",
        "\n",
        "def optimizer_step(optimizer, W, B, grad_W, grad_B, lr):\n",
        "    if optimizer == 'sgd':\n",
        "        W = [w - lr * gw for w, gw in zip(W, grad_W)]\n",
        "        B = [b - lr * gb for b, gb in zip(B, grad_B)]\n",
        "    return W, B\n",
        "\n",
        "def train(X_train, y_train, X_val, y_val, layers, init_type, epochs, batch_size, loss_type, act_type, optimizer, lr):\n",
        "    W, B = param(layers, init_type)\n",
        "    wandb.init(project=\"DA6401-Assignment-1\")\n",
        "\n",
        "    for epoch in range(epochs):\n",
        "        train_loss, train_acc = [], []\n",
        "        for i in range(0, X_train.shape[0], batch_size):\n",
        "            x_batch = X_train[i:i + batch_size].reshape(784, -1)\n",
        "            y_batch = one_hot(y_train[i:i + batch_size])\n",
        "            y_hat, h, a = forward(x_batch, W, B, act_type)\n",
        "            grad_W, grad_B = backprop(x_batch, y_batch, y_hat, a, h, W, B, batch_size, act_type)\n",
        "            W, B = optimizer_step(optimizer, W, B, grad_W, grad_B, lr)\n",
        "            train_loss.append(loss(y_batch, y_hat, loss_type))\n",
        "            train_acc.append(eval_acc(y_hat, y_train[i:i + batch_size]))\n",
        "\n",
        "        val_hat, _, _ = forward(X_val.reshape(784, -1), W, B, act_type)\n",
        "        val_acc = eval_acc(val_hat, y_val)\n",
        "\n",
        "        wandb.log({\"epoch\": epoch, \"train_loss\": np.mean(train_loss), \"train_acc\": np.mean(train_acc), \"val_acc\": val_acc})\n",
        "\n",
        "    return W, B\n",
        "\n",
        "def sweep_train():\n",
        "    wandb.init(project=\"DA6401-Assignment-1\", id=\"Question-4\", config=sweep_config)\n",
        "    config = wandb.config\n",
        "    layers = [784] + config.hidden_layers + [10]\n",
        "    train(X_train, y_train, X_validation, y_validation, layers, 'random', config.epochs, config.batch_size, 'cross_entropy', config.activation_type, config.optimizer, config.learning_rate)\n",
        "\n",
        "sweep_config = {\n",
        "    'method': 'random',\n",
        "    'metric': {'name': 'val_Accuracy', 'goal': 'maximize'},\n",
        "    'parameters': {\n",
        "        'epochs': {'values': [5, 10]},\n",
        "        'hidden_layers': {'values': [[64, 32], [128, 64, 32]]},  # Ensure valid structure\n",
        "        'learning_rate': {'values': [1e-3, 1e-4]},\n",
        "        'optimizer': {'values': ['sgd', 'momentum', 'nesterov', 'rmsprop', 'adam', 'nadam']},\n",
        "        'batch_size': {'values': [16, 32, 64]},\n",
        "        'init_type': {'values': ['random', 'xavier']},\n",
        "        'activation_type': {'values': ['sigmoid', 'tanh', 'ReLU']},\n",
        "        'loss_type': {'values': ['cross_entropy']}\n",
        "    }\n",
        "}\n",
        "\n",
        "\n",
        "sweep_id = wandb.sweep(sweep_config, project=\"DA6401-Assignment-1\")\n",
        "wandb.agent(sweep_id, function=sweep_train, count=10)\n"
      ],
      "metadata": {
        "colab": {
          "base_uri": "https://localhost:8080/",
          "height": 1000
        },
        "id": "VFYC_xjI2FNY",
        "outputId": "64bf0bc9-df51-4d48-ec8c-7cc0016ec028"
      },
      "execution_count": 4,
      "outputs": [
        {
          "output_type": "stream",
          "name": "stdout",
          "text": [
            "Create sweep with ID: 6v09fkzk\n",
            "Sweep URL: https://wandb.ai/subikksha-indian-institute-of-technology-madras/DA6401-Assignment-1/sweeps/6v09fkzk\n"
          ]
        },
        {
          "output_type": "stream",
          "name": "stderr",
          "text": [
            "\u001b[34m\u001b[1mwandb\u001b[0m: Agent Starting Run: 4z8svcnc with config:\n",
            "\u001b[34m\u001b[1mwandb\u001b[0m: \tactivation_type: ReLU\n",
            "\u001b[34m\u001b[1mwandb\u001b[0m: \tbatch_size: 16\n",
            "\u001b[34m\u001b[1mwandb\u001b[0m: \tepochs: 10\n",
            "\u001b[34m\u001b[1mwandb\u001b[0m: \thidden_layers: [64, 32]\n",
            "\u001b[34m\u001b[1mwandb\u001b[0m: \tinit_type: random\n",
            "\u001b[34m\u001b[1mwandb\u001b[0m: \tlearning_rate: 0.001\n",
            "\u001b[34m\u001b[1mwandb\u001b[0m: \tloss_type: cross_entropy\n",
            "\u001b[34m\u001b[1mwandb\u001b[0m: \toptimizer: nesterov\n"
          ]
        },
        {
          "output_type": "display_data",
          "data": {
            "text/plain": [
              "<IPython.core.display.HTML object>"
            ],
            "text/html": [
              "Ignoring project 'DA6401-Assignment-1' when running a sweep."
            ]
          },
          "metadata": {}
        },
        {
          "output_type": "display_data",
          "data": {
            "text/plain": [
              "<IPython.core.display.HTML object>"
            ],
            "text/html": [
              "Ignoring run_id 'Question-4' when running a sweep."
            ]
          },
          "metadata": {}
        },
        {
          "output_type": "display_data",
          "data": {
            "text/plain": [
              "<IPython.core.display.HTML object>"
            ],
            "text/html": [
              "Tracking run with wandb version 0.19.7"
            ]
          },
          "metadata": {}
        },
        {
          "output_type": "display_data",
          "data": {
            "text/plain": [
              "<IPython.core.display.HTML object>"
            ],
            "text/html": [
              "Run data is saved locally in <code>/content/wandb/run-20250307_231042-4z8svcnc</code>"
            ]
          },
          "metadata": {}
        },
        {
          "output_type": "display_data",
          "data": {
            "text/plain": [
              "<IPython.core.display.HTML object>"
            ],
            "text/html": [
              "Syncing run <strong><a href='https://wandb.ai/subikksha-indian-institute-of-technology-madras/DA6401-Assignment-1/runs/4z8svcnc' target=\"_blank\">giddy-sweep-1</a></strong> to <a href='https://wandb.ai/subikksha-indian-institute-of-technology-madras/DA6401-Assignment-1' target=\"_blank\">Weights & Biases</a> (<a href='https://wandb.me/developer-guide' target=\"_blank\">docs</a>)<br>Sweep page: <a href='https://wandb.ai/subikksha-indian-institute-of-technology-madras/DA6401-Assignment-1/sweeps/6v09fkzk' target=\"_blank\">https://wandb.ai/subikksha-indian-institute-of-technology-madras/DA6401-Assignment-1/sweeps/6v09fkzk</a>"
            ]
          },
          "metadata": {}
        },
        {
          "output_type": "display_data",
          "data": {
            "text/plain": [
              "<IPython.core.display.HTML object>"
            ],
            "text/html": [
              " View project at <a href='https://wandb.ai/subikksha-indian-institute-of-technology-madras/DA6401-Assignment-1' target=\"_blank\">https://wandb.ai/subikksha-indian-institute-of-technology-madras/DA6401-Assignment-1</a>"
            ]
          },
          "metadata": {}
        },
        {
          "output_type": "display_data",
          "data": {
            "text/plain": [
              "<IPython.core.display.HTML object>"
            ],
            "text/html": [
              " View sweep at <a href='https://wandb.ai/subikksha-indian-institute-of-technology-madras/DA6401-Assignment-1/sweeps/6v09fkzk' target=\"_blank\">https://wandb.ai/subikksha-indian-institute-of-technology-madras/DA6401-Assignment-1/sweeps/6v09fkzk</a>"
            ]
          },
          "metadata": {}
        },
        {
          "output_type": "display_data",
          "data": {
            "text/plain": [
              "<IPython.core.display.HTML object>"
            ],
            "text/html": [
              " View run at <a href='https://wandb.ai/subikksha-indian-institute-of-technology-madras/DA6401-Assignment-1/runs/4z8svcnc' target=\"_blank\">https://wandb.ai/subikksha-indian-institute-of-technology-madras/DA6401-Assignment-1/runs/4z8svcnc</a>"
            ]
          },
          "metadata": {}
        },
        {
          "output_type": "display_data",
          "data": {
            "text/plain": [
              "<IPython.core.display.HTML object>"
            ],
            "text/html": [
              "Ignoring project 'DA6401-Assignment-1' when running a sweep."
            ]
          },
          "metadata": {}
        },
        {
          "output_type": "display_data",
          "data": {
            "text/plain": [
              "<IPython.core.display.HTML object>"
            ],
            "text/html": []
          },
          "metadata": {}
        },
        {
          "output_type": "display_data",
          "data": {
            "text/plain": [
              "<IPython.core.display.HTML object>"
            ],
            "text/html": [
              "<br>    <style><br>        .wandb-row {<br>            display: flex;<br>            flex-direction: row;<br>            flex-wrap: wrap;<br>            justify-content: flex-start;<br>            width: 100%;<br>        }<br>        .wandb-col {<br>            display: flex;<br>            flex-direction: column;<br>            flex-basis: 100%;<br>            flex: 1;<br>            padding: 10px;<br>        }<br>    </style><br><div class=\"wandb-row\"><div class=\"wandb-col\"><h3>Run history:</h3><br/><table class=\"wandb\"><tr><td>epoch</td><td>▁▂▃▃▄▅▆▆▇█</td></tr><tr><td>train_acc</td><td>▁▁▁▁▁▁▁▁▁▁</td></tr><tr><td>train_loss</td><td>▁▁▁▁▁▁▁▁▁▁</td></tr><tr><td>val_acc</td><td>▁▁▁▁▁▁▁▁▁▁</td></tr></table><br/></div><div class=\"wandb-col\"><h3>Run summary:</h3><br/><table class=\"wandb\"><tr><td>epoch</td><td>9</td></tr><tr><td>train_acc</td><td>9.88333</td></tr><tr><td>train_loss</td><td>2.34843</td></tr><tr><td>val_acc</td><td>9.9</td></tr></table><br/></div></div>"
            ]
          },
          "metadata": {}
        },
        {
          "output_type": "display_data",
          "data": {
            "text/plain": [
              "<IPython.core.display.HTML object>"
            ],
            "text/html": [
              " View run <strong style=\"color:#cdcd00\">giddy-sweep-1</strong> at: <a href='https://wandb.ai/subikksha-indian-institute-of-technology-madras/DA6401-Assignment-1/runs/4z8svcnc' target=\"_blank\">https://wandb.ai/subikksha-indian-institute-of-technology-madras/DA6401-Assignment-1/runs/4z8svcnc</a><br> View project at: <a href='https://wandb.ai/subikksha-indian-institute-of-technology-madras/DA6401-Assignment-1' target=\"_blank\">https://wandb.ai/subikksha-indian-institute-of-technology-madras/DA6401-Assignment-1</a><br>Synced 5 W&B file(s), 0 media file(s), 0 artifact file(s) and 0 other file(s)"
            ]
          },
          "metadata": {}
        },
        {
          "output_type": "display_data",
          "data": {
            "text/plain": [
              "<IPython.core.display.HTML object>"
            ],
            "text/html": [
              "Find logs at: <code>./wandb/run-20250307_231042-4z8svcnc/logs</code>"
            ]
          },
          "metadata": {}
        },
        {
          "output_type": "stream",
          "name": "stderr",
          "text": [
            "\u001b[34m\u001b[1mwandb\u001b[0m: Agent Starting Run: stcafski with config:\n",
            "\u001b[34m\u001b[1mwandb\u001b[0m: \tactivation_type: tanh\n",
            "\u001b[34m\u001b[1mwandb\u001b[0m: \tbatch_size: 16\n",
            "\u001b[34m\u001b[1mwandb\u001b[0m: \tepochs: 10\n",
            "\u001b[34m\u001b[1mwandb\u001b[0m: \thidden_layers: [128, 64, 32]\n",
            "\u001b[34m\u001b[1mwandb\u001b[0m: \tinit_type: xavier\n",
            "\u001b[34m\u001b[1mwandb\u001b[0m: \tlearning_rate: 0.0001\n",
            "\u001b[34m\u001b[1mwandb\u001b[0m: \tloss_type: cross_entropy\n",
            "\u001b[34m\u001b[1mwandb\u001b[0m: \toptimizer: nadam\n"
          ]
        },
        {
          "output_type": "display_data",
          "data": {
            "text/plain": [
              "<IPython.core.display.HTML object>"
            ],
            "text/html": [
              "Ignoring project 'DA6401-Assignment-1' when running a sweep."
            ]
          },
          "metadata": {}
        },
        {
          "output_type": "display_data",
          "data": {
            "text/plain": [
              "<IPython.core.display.HTML object>"
            ],
            "text/html": [
              "Ignoring run_id 'Question-4' when running a sweep."
            ]
          },
          "metadata": {}
        },
        {
          "output_type": "display_data",
          "data": {
            "text/plain": [
              "<IPython.core.display.HTML object>"
            ],
            "text/html": [
              "Tracking run with wandb version 0.19.7"
            ]
          },
          "metadata": {}
        },
        {
          "output_type": "display_data",
          "data": {
            "text/plain": [
              "<IPython.core.display.HTML object>"
            ],
            "text/html": [
              "Run data is saved locally in <code>/content/wandb/run-20250307_231118-stcafski</code>"
            ]
          },
          "metadata": {}
        },
        {
          "output_type": "display_data",
          "data": {
            "text/plain": [
              "<IPython.core.display.HTML object>"
            ],
            "text/html": [
              "Syncing run <strong><a href='https://wandb.ai/subikksha-indian-institute-of-technology-madras/DA6401-Assignment-1/runs/stcafski' target=\"_blank\">light-sweep-2</a></strong> to <a href='https://wandb.ai/subikksha-indian-institute-of-technology-madras/DA6401-Assignment-1' target=\"_blank\">Weights & Biases</a> (<a href='https://wandb.me/developer-guide' target=\"_blank\">docs</a>)<br>Sweep page: <a href='https://wandb.ai/subikksha-indian-institute-of-technology-madras/DA6401-Assignment-1/sweeps/6v09fkzk' target=\"_blank\">https://wandb.ai/subikksha-indian-institute-of-technology-madras/DA6401-Assignment-1/sweeps/6v09fkzk</a>"
            ]
          },
          "metadata": {}
        },
        {
          "output_type": "display_data",
          "data": {
            "text/plain": [
              "<IPython.core.display.HTML object>"
            ],
            "text/html": [
              " View project at <a href='https://wandb.ai/subikksha-indian-institute-of-technology-madras/DA6401-Assignment-1' target=\"_blank\">https://wandb.ai/subikksha-indian-institute-of-technology-madras/DA6401-Assignment-1</a>"
            ]
          },
          "metadata": {}
        },
        {
          "output_type": "display_data",
          "data": {
            "text/plain": [
              "<IPython.core.display.HTML object>"
            ],
            "text/html": [
              " View sweep at <a href='https://wandb.ai/subikksha-indian-institute-of-technology-madras/DA6401-Assignment-1/sweeps/6v09fkzk' target=\"_blank\">https://wandb.ai/subikksha-indian-institute-of-technology-madras/DA6401-Assignment-1/sweeps/6v09fkzk</a>"
            ]
          },
          "metadata": {}
        },
        {
          "output_type": "display_data",
          "data": {
            "text/plain": [
              "<IPython.core.display.HTML object>"
            ],
            "text/html": [
              " View run at <a href='https://wandb.ai/subikksha-indian-institute-of-technology-madras/DA6401-Assignment-1/runs/stcafski' target=\"_blank\">https://wandb.ai/subikksha-indian-institute-of-technology-madras/DA6401-Assignment-1/runs/stcafski</a>"
            ]
          },
          "metadata": {}
        },
        {
          "output_type": "display_data",
          "data": {
            "text/plain": [
              "<IPython.core.display.HTML object>"
            ],
            "text/html": [
              "Ignoring project 'DA6401-Assignment-1' when running a sweep."
            ]
          },
          "metadata": {}
        },
        {
          "output_type": "display_data",
          "data": {
            "text/plain": [
              "<IPython.core.display.HTML object>"
            ],
            "text/html": []
          },
          "metadata": {}
        },
        {
          "output_type": "display_data",
          "data": {
            "text/plain": [
              "<IPython.core.display.HTML object>"
            ],
            "text/html": [
              "<br>    <style><br>        .wandb-row {<br>            display: flex;<br>            flex-direction: row;<br>            flex-wrap: wrap;<br>            justify-content: flex-start;<br>            width: 100%;<br>        }<br>        .wandb-col {<br>            display: flex;<br>            flex-direction: column;<br>            flex-basis: 100%;<br>            flex: 1;<br>            padding: 10px;<br>        }<br>    </style><br><div class=\"wandb-row\"><div class=\"wandb-col\"><h3>Run history:</h3><br/><table class=\"wandb\"><tr><td>epoch</td><td>▁▂▃▃▄▅▆▆▇█</td></tr><tr><td>train_acc</td><td>▁▁▁▁▁▁▁▁▁▁</td></tr><tr><td>train_loss</td><td>▁▁▁▁▁▁▁▁▁▁</td></tr><tr><td>val_acc</td><td>▁▁▁▁▁▁▁▁▁▁</td></tr></table><br/></div><div class=\"wandb-col\"><h3>Run summary:</h3><br/><table class=\"wandb\"><tr><td>epoch</td><td>9</td></tr><tr><td>train_acc</td><td>10.12593</td></tr><tr><td>train_loss</td><td>2.33754</td></tr><tr><td>val_acc</td><td>10.26667</td></tr></table><br/></div></div>"
            ]
          },
          "metadata": {}
        },
        {
          "output_type": "display_data",
          "data": {
            "text/plain": [
              "<IPython.core.display.HTML object>"
            ],
            "text/html": [
              " View run <strong style=\"color:#cdcd00\">light-sweep-2</strong> at: <a href='https://wandb.ai/subikksha-indian-institute-of-technology-madras/DA6401-Assignment-1/runs/stcafski' target=\"_blank\">https://wandb.ai/subikksha-indian-institute-of-technology-madras/DA6401-Assignment-1/runs/stcafski</a><br> View project at: <a href='https://wandb.ai/subikksha-indian-institute-of-technology-madras/DA6401-Assignment-1' target=\"_blank\">https://wandb.ai/subikksha-indian-institute-of-technology-madras/DA6401-Assignment-1</a><br>Synced 5 W&B file(s), 0 media file(s), 0 artifact file(s) and 0 other file(s)"
            ]
          },
          "metadata": {}
        },
        {
          "output_type": "display_data",
          "data": {
            "text/plain": [
              "<IPython.core.display.HTML object>"
            ],
            "text/html": [
              "Find logs at: <code>./wandb/run-20250307_231118-stcafski/logs</code>"
            ]
          },
          "metadata": {}
        },
        {
          "output_type": "stream",
          "name": "stderr",
          "text": [
            "\u001b[34m\u001b[1mwandb\u001b[0m: Sweep Agent: Waiting for job.\n",
            "\u001b[34m\u001b[1mwandb\u001b[0m: Job received.\n",
            "\u001b[34m\u001b[1mwandb\u001b[0m: Agent Starting Run: fjxjzokj with config:\n",
            "\u001b[34m\u001b[1mwandb\u001b[0m: \tactivation_type: tanh\n",
            "\u001b[34m\u001b[1mwandb\u001b[0m: \tbatch_size: 32\n",
            "\u001b[34m\u001b[1mwandb\u001b[0m: \tepochs: 10\n",
            "\u001b[34m\u001b[1mwandb\u001b[0m: \thidden_layers: [128, 64, 32]\n",
            "\u001b[34m\u001b[1mwandb\u001b[0m: \tinit_type: random\n",
            "\u001b[34m\u001b[1mwandb\u001b[0m: \tlearning_rate: 0.0001\n",
            "\u001b[34m\u001b[1mwandb\u001b[0m: \tloss_type: cross_entropy\n",
            "\u001b[34m\u001b[1mwandb\u001b[0m: \toptimizer: nadam\n"
          ]
        },
        {
          "output_type": "display_data",
          "data": {
            "text/plain": [
              "<IPython.core.display.HTML object>"
            ],
            "text/html": [
              "Ignoring project 'DA6401-Assignment-1' when running a sweep."
            ]
          },
          "metadata": {}
        },
        {
          "output_type": "display_data",
          "data": {
            "text/plain": [
              "<IPython.core.display.HTML object>"
            ],
            "text/html": [
              "Ignoring run_id 'Question-4' when running a sweep."
            ]
          },
          "metadata": {}
        },
        {
          "output_type": "display_data",
          "data": {
            "text/plain": [
              "<IPython.core.display.HTML object>"
            ],
            "text/html": [
              "Tracking run with wandb version 0.19.7"
            ]
          },
          "metadata": {}
        },
        {
          "output_type": "display_data",
          "data": {
            "text/plain": [
              "<IPython.core.display.HTML object>"
            ],
            "text/html": [
              "Run data is saved locally in <code>/content/wandb/run-20250307_231259-fjxjzokj</code>"
            ]
          },
          "metadata": {}
        },
        {
          "output_type": "display_data",
          "data": {
            "text/plain": [
              "<IPython.core.display.HTML object>"
            ],
            "text/html": [
              "Syncing run <strong><a href='https://wandb.ai/subikksha-indian-institute-of-technology-madras/DA6401-Assignment-1/runs/fjxjzokj' target=\"_blank\">breezy-sweep-3</a></strong> to <a href='https://wandb.ai/subikksha-indian-institute-of-technology-madras/DA6401-Assignment-1' target=\"_blank\">Weights & Biases</a> (<a href='https://wandb.me/developer-guide' target=\"_blank\">docs</a>)<br>Sweep page: <a href='https://wandb.ai/subikksha-indian-institute-of-technology-madras/DA6401-Assignment-1/sweeps/6v09fkzk' target=\"_blank\">https://wandb.ai/subikksha-indian-institute-of-technology-madras/DA6401-Assignment-1/sweeps/6v09fkzk</a>"
            ]
          },
          "metadata": {}
        },
        {
          "output_type": "display_data",
          "data": {
            "text/plain": [
              "<IPython.core.display.HTML object>"
            ],
            "text/html": [
              " View project at <a href='https://wandb.ai/subikksha-indian-institute-of-technology-madras/DA6401-Assignment-1' target=\"_blank\">https://wandb.ai/subikksha-indian-institute-of-technology-madras/DA6401-Assignment-1</a>"
            ]
          },
          "metadata": {}
        },
        {
          "output_type": "display_data",
          "data": {
            "text/plain": [
              "<IPython.core.display.HTML object>"
            ],
            "text/html": [
              " View sweep at <a href='https://wandb.ai/subikksha-indian-institute-of-technology-madras/DA6401-Assignment-1/sweeps/6v09fkzk' target=\"_blank\">https://wandb.ai/subikksha-indian-institute-of-technology-madras/DA6401-Assignment-1/sweeps/6v09fkzk</a>"
            ]
          },
          "metadata": {}
        },
        {
          "output_type": "display_data",
          "data": {
            "text/plain": [
              "<IPython.core.display.HTML object>"
            ],
            "text/html": [
              " View run at <a href='https://wandb.ai/subikksha-indian-institute-of-technology-madras/DA6401-Assignment-1/runs/fjxjzokj' target=\"_blank\">https://wandb.ai/subikksha-indian-institute-of-technology-madras/DA6401-Assignment-1/runs/fjxjzokj</a>"
            ]
          },
          "metadata": {}
        },
        {
          "output_type": "display_data",
          "data": {
            "text/plain": [
              "<IPython.core.display.HTML object>"
            ],
            "text/html": [
              "Ignoring project 'DA6401-Assignment-1' when running a sweep."
            ]
          },
          "metadata": {}
        },
        {
          "output_type": "display_data",
          "data": {
            "text/plain": [
              "<IPython.core.display.HTML object>"
            ],
            "text/html": []
          },
          "metadata": {}
        },
        {
          "output_type": "display_data",
          "data": {
            "text/plain": [
              "<IPython.core.display.HTML object>"
            ],
            "text/html": [
              "<br>    <style><br>        .wandb-row {<br>            display: flex;<br>            flex-direction: row;<br>            flex-wrap: wrap;<br>            justify-content: flex-start;<br>            width: 100%;<br>        }<br>        .wandb-col {<br>            display: flex;<br>            flex-direction: column;<br>            flex-basis: 100%;<br>            flex: 1;<br>            padding: 10px;<br>        }<br>    </style><br><div class=\"wandb-row\"><div class=\"wandb-col\"><h3>Run history:</h3><br/><table class=\"wandb\"><tr><td>epoch</td><td>▁▂▃▃▄▅▆▆▇█</td></tr><tr><td>train_acc</td><td>▁▁▁▁▁▁▁▁▁▁</td></tr><tr><td>train_loss</td><td>▁▁▁▁▁▁▁▁▁▁</td></tr><tr><td>val_acc</td><td>▁▁▁▁▁▁▁▁▁▁</td></tr></table><br/></div><div class=\"wandb-col\"><h3>Run summary:</h3><br/><table class=\"wandb\"><tr><td>epoch</td><td>9</td></tr><tr><td>train_acc</td><td>10.09701</td></tr><tr><td>train_loss</td><td>2.33905</td></tr><tr><td>val_acc</td><td>10.26667</td></tr></table><br/></div></div>"
            ]
          },
          "metadata": {}
        },
        {
          "output_type": "display_data",
          "data": {
            "text/plain": [
              "<IPython.core.display.HTML object>"
            ],
            "text/html": [
              " View run <strong style=\"color:#cdcd00\">breezy-sweep-3</strong> at: <a href='https://wandb.ai/subikksha-indian-institute-of-technology-madras/DA6401-Assignment-1/runs/fjxjzokj' target=\"_blank\">https://wandb.ai/subikksha-indian-institute-of-technology-madras/DA6401-Assignment-1/runs/fjxjzokj</a><br> View project at: <a href='https://wandb.ai/subikksha-indian-institute-of-technology-madras/DA6401-Assignment-1' target=\"_blank\">https://wandb.ai/subikksha-indian-institute-of-technology-madras/DA6401-Assignment-1</a><br>Synced 5 W&B file(s), 0 media file(s), 0 artifact file(s) and 0 other file(s)"
            ]
          },
          "metadata": {}
        },
        {
          "output_type": "display_data",
          "data": {
            "text/plain": [
              "<IPython.core.display.HTML object>"
            ],
            "text/html": [
              "Find logs at: <code>./wandb/run-20250307_231259-fjxjzokj/logs</code>"
            ]
          },
          "metadata": {}
        },
        {
          "output_type": "stream",
          "name": "stderr",
          "text": [
            "\u001b[34m\u001b[1mwandb\u001b[0m: Agent Starting Run: hdcukpaa with config:\n",
            "\u001b[34m\u001b[1mwandb\u001b[0m: \tactivation_type: tanh\n",
            "\u001b[34m\u001b[1mwandb\u001b[0m: \tbatch_size: 64\n",
            "\u001b[34m\u001b[1mwandb\u001b[0m: \tepochs: 10\n",
            "\u001b[34m\u001b[1mwandb\u001b[0m: \thidden_layers: [64, 32]\n",
            "\u001b[34m\u001b[1mwandb\u001b[0m: \tinit_type: xavier\n",
            "\u001b[34m\u001b[1mwandb\u001b[0m: \tlearning_rate: 0.0001\n",
            "\u001b[34m\u001b[1mwandb\u001b[0m: \tloss_type: cross_entropy\n",
            "\u001b[34m\u001b[1mwandb\u001b[0m: \toptimizer: rmsprop\n"
          ]
        },
        {
          "output_type": "display_data",
          "data": {
            "text/plain": [
              "<IPython.core.display.HTML object>"
            ],
            "text/html": [
              "Ignoring project 'DA6401-Assignment-1' when running a sweep."
            ]
          },
          "metadata": {}
        },
        {
          "output_type": "display_data",
          "data": {
            "text/plain": [
              "<IPython.core.display.HTML object>"
            ],
            "text/html": [
              "Ignoring run_id 'Question-4' when running a sweep."
            ]
          },
          "metadata": {}
        },
        {
          "output_type": "display_data",
          "data": {
            "text/plain": [
              "<IPython.core.display.HTML object>"
            ],
            "text/html": [
              "Tracking run with wandb version 0.19.7"
            ]
          },
          "metadata": {}
        },
        {
          "output_type": "display_data",
          "data": {
            "text/plain": [
              "<IPython.core.display.HTML object>"
            ],
            "text/html": [
              "Run data is saved locally in <code>/content/wandb/run-20250307_231415-hdcukpaa</code>"
            ]
          },
          "metadata": {}
        },
        {
          "output_type": "display_data",
          "data": {
            "text/plain": [
              "<IPython.core.display.HTML object>"
            ],
            "text/html": [
              "Syncing run <strong><a href='https://wandb.ai/subikksha-indian-institute-of-technology-madras/DA6401-Assignment-1/runs/hdcukpaa' target=\"_blank\">expert-sweep-4</a></strong> to <a href='https://wandb.ai/subikksha-indian-institute-of-technology-madras/DA6401-Assignment-1' target=\"_blank\">Weights & Biases</a> (<a href='https://wandb.me/developer-guide' target=\"_blank\">docs</a>)<br>Sweep page: <a href='https://wandb.ai/subikksha-indian-institute-of-technology-madras/DA6401-Assignment-1/sweeps/6v09fkzk' target=\"_blank\">https://wandb.ai/subikksha-indian-institute-of-technology-madras/DA6401-Assignment-1/sweeps/6v09fkzk</a>"
            ]
          },
          "metadata": {}
        },
        {
          "output_type": "display_data",
          "data": {
            "text/plain": [
              "<IPython.core.display.HTML object>"
            ],
            "text/html": [
              " View project at <a href='https://wandb.ai/subikksha-indian-institute-of-technology-madras/DA6401-Assignment-1' target=\"_blank\">https://wandb.ai/subikksha-indian-institute-of-technology-madras/DA6401-Assignment-1</a>"
            ]
          },
          "metadata": {}
        },
        {
          "output_type": "display_data",
          "data": {
            "text/plain": [
              "<IPython.core.display.HTML object>"
            ],
            "text/html": [
              " View sweep at <a href='https://wandb.ai/subikksha-indian-institute-of-technology-madras/DA6401-Assignment-1/sweeps/6v09fkzk' target=\"_blank\">https://wandb.ai/subikksha-indian-institute-of-technology-madras/DA6401-Assignment-1/sweeps/6v09fkzk</a>"
            ]
          },
          "metadata": {}
        },
        {
          "output_type": "display_data",
          "data": {
            "text/plain": [
              "<IPython.core.display.HTML object>"
            ],
            "text/html": [
              " View run at <a href='https://wandb.ai/subikksha-indian-institute-of-technology-madras/DA6401-Assignment-1/runs/hdcukpaa' target=\"_blank\">https://wandb.ai/subikksha-indian-institute-of-technology-madras/DA6401-Assignment-1/runs/hdcukpaa</a>"
            ]
          },
          "metadata": {}
        },
        {
          "output_type": "display_data",
          "data": {
            "text/plain": [
              "<IPython.core.display.HTML object>"
            ],
            "text/html": [
              "Ignoring project 'DA6401-Assignment-1' when running a sweep."
            ]
          },
          "metadata": {}
        },
        {
          "output_type": "display_data",
          "data": {
            "text/plain": [
              "<IPython.core.display.HTML object>"
            ],
            "text/html": []
          },
          "metadata": {}
        },
        {
          "output_type": "display_data",
          "data": {
            "text/plain": [
              "<IPython.core.display.HTML object>"
            ],
            "text/html": [
              "<br>    <style><br>        .wandb-row {<br>            display: flex;<br>            flex-direction: row;<br>            flex-wrap: wrap;<br>            justify-content: flex-start;<br>            width: 100%;<br>        }<br>        .wandb-col {<br>            display: flex;<br>            flex-direction: column;<br>            flex-basis: 100%;<br>            flex: 1;<br>            padding: 10px;<br>        }<br>    </style><br><div class=\"wandb-row\"><div class=\"wandb-col\"><h3>Run history:</h3><br/><table class=\"wandb\"><tr><td>epoch</td><td>▁▂▃▃▄▅▆▆▇█</td></tr><tr><td>train_acc</td><td>▁▁▁▁▁▁▁▁▁▁</td></tr><tr><td>train_loss</td><td>▁▁▁▁▁▁▁▁▁▁</td></tr><tr><td>val_acc</td><td>▁▁▁▁▁▁▁▁▁▁</td></tr></table><br/></div><div class=\"wandb-col\"><h3>Run summary:</h3><br/><table class=\"wandb\"><tr><td>epoch</td><td>9</td></tr><tr><td>train_acc</td><td>10.19698</td></tr><tr><td>train_loss</td><td>2.33243</td></tr><tr><td>val_acc</td><td>9.91667</td></tr></table><br/></div></div>"
            ]
          },
          "metadata": {}
        },
        {
          "output_type": "display_data",
          "data": {
            "text/plain": [
              "<IPython.core.display.HTML object>"
            ],
            "text/html": [
              " View run <strong style=\"color:#cdcd00\">expert-sweep-4</strong> at: <a href='https://wandb.ai/subikksha-indian-institute-of-technology-madras/DA6401-Assignment-1/runs/hdcukpaa' target=\"_blank\">https://wandb.ai/subikksha-indian-institute-of-technology-madras/DA6401-Assignment-1/runs/hdcukpaa</a><br> View project at: <a href='https://wandb.ai/subikksha-indian-institute-of-technology-madras/DA6401-Assignment-1' target=\"_blank\">https://wandb.ai/subikksha-indian-institute-of-technology-madras/DA6401-Assignment-1</a><br>Synced 5 W&B file(s), 0 media file(s), 0 artifact file(s) and 0 other file(s)"
            ]
          },
          "metadata": {}
        },
        {
          "output_type": "display_data",
          "data": {
            "text/plain": [
              "<IPython.core.display.HTML object>"
            ],
            "text/html": [
              "Find logs at: <code>./wandb/run-20250307_231415-hdcukpaa/logs</code>"
            ]
          },
          "metadata": {}
        },
        {
          "output_type": "stream",
          "name": "stderr",
          "text": [
            "\u001b[34m\u001b[1mwandb\u001b[0m: Agent Starting Run: mx9lxb8m with config:\n",
            "\u001b[34m\u001b[1mwandb\u001b[0m: \tactivation_type: ReLU\n",
            "\u001b[34m\u001b[1mwandb\u001b[0m: \tbatch_size: 32\n",
            "\u001b[34m\u001b[1mwandb\u001b[0m: \tepochs: 10\n",
            "\u001b[34m\u001b[1mwandb\u001b[0m: \thidden_layers: [128, 64, 32]\n",
            "\u001b[34m\u001b[1mwandb\u001b[0m: \tinit_type: random\n",
            "\u001b[34m\u001b[1mwandb\u001b[0m: \tlearning_rate: 0.0001\n",
            "\u001b[34m\u001b[1mwandb\u001b[0m: \tloss_type: cross_entropy\n",
            "\u001b[34m\u001b[1mwandb\u001b[0m: \toptimizer: adam\n"
          ]
        },
        {
          "output_type": "display_data",
          "data": {
            "text/plain": [
              "<IPython.core.display.HTML object>"
            ],
            "text/html": [
              "Ignoring project 'DA6401-Assignment-1' when running a sweep."
            ]
          },
          "metadata": {}
        },
        {
          "output_type": "display_data",
          "data": {
            "text/plain": [
              "<IPython.core.display.HTML object>"
            ],
            "text/html": [
              "Ignoring run_id 'Question-4' when running a sweep."
            ]
          },
          "metadata": {}
        },
        {
          "output_type": "display_data",
          "data": {
            "text/plain": [
              "<IPython.core.display.HTML object>"
            ],
            "text/html": [
              "Tracking run with wandb version 0.19.7"
            ]
          },
          "metadata": {}
        },
        {
          "output_type": "display_data",
          "data": {
            "text/plain": [
              "<IPython.core.display.HTML object>"
            ],
            "text/html": [
              "Run data is saved locally in <code>/content/wandb/run-20250307_231451-mx9lxb8m</code>"
            ]
          },
          "metadata": {}
        },
        {
          "output_type": "display_data",
          "data": {
            "text/plain": [
              "<IPython.core.display.HTML object>"
            ],
            "text/html": [
              "Syncing run <strong><a href='https://wandb.ai/subikksha-indian-institute-of-technology-madras/DA6401-Assignment-1/runs/mx9lxb8m' target=\"_blank\">balmy-sweep-5</a></strong> to <a href='https://wandb.ai/subikksha-indian-institute-of-technology-madras/DA6401-Assignment-1' target=\"_blank\">Weights & Biases</a> (<a href='https://wandb.me/developer-guide' target=\"_blank\">docs</a>)<br>Sweep page: <a href='https://wandb.ai/subikksha-indian-institute-of-technology-madras/DA6401-Assignment-1/sweeps/6v09fkzk' target=\"_blank\">https://wandb.ai/subikksha-indian-institute-of-technology-madras/DA6401-Assignment-1/sweeps/6v09fkzk</a>"
            ]
          },
          "metadata": {}
        },
        {
          "output_type": "display_data",
          "data": {
            "text/plain": [
              "<IPython.core.display.HTML object>"
            ],
            "text/html": [
              " View project at <a href='https://wandb.ai/subikksha-indian-institute-of-technology-madras/DA6401-Assignment-1' target=\"_blank\">https://wandb.ai/subikksha-indian-institute-of-technology-madras/DA6401-Assignment-1</a>"
            ]
          },
          "metadata": {}
        },
        {
          "output_type": "display_data",
          "data": {
            "text/plain": [
              "<IPython.core.display.HTML object>"
            ],
            "text/html": [
              " View sweep at <a href='https://wandb.ai/subikksha-indian-institute-of-technology-madras/DA6401-Assignment-1/sweeps/6v09fkzk' target=\"_blank\">https://wandb.ai/subikksha-indian-institute-of-technology-madras/DA6401-Assignment-1/sweeps/6v09fkzk</a>"
            ]
          },
          "metadata": {}
        },
        {
          "output_type": "display_data",
          "data": {
            "text/plain": [
              "<IPython.core.display.HTML object>"
            ],
            "text/html": [
              " View run at <a href='https://wandb.ai/subikksha-indian-institute-of-technology-madras/DA6401-Assignment-1/runs/mx9lxb8m' target=\"_blank\">https://wandb.ai/subikksha-indian-institute-of-technology-madras/DA6401-Assignment-1/runs/mx9lxb8m</a>"
            ]
          },
          "metadata": {}
        },
        {
          "output_type": "display_data",
          "data": {
            "text/plain": [
              "<IPython.core.display.HTML object>"
            ],
            "text/html": [
              "Ignoring project 'DA6401-Assignment-1' when running a sweep."
            ]
          },
          "metadata": {}
        },
        {
          "output_type": "display_data",
          "data": {
            "text/plain": [
              "<IPython.core.display.HTML object>"
            ],
            "text/html": []
          },
          "metadata": {}
        },
        {
          "output_type": "display_data",
          "data": {
            "text/plain": [
              "<IPython.core.display.HTML object>"
            ],
            "text/html": [
              "<br>    <style><br>        .wandb-row {<br>            display: flex;<br>            flex-direction: row;<br>            flex-wrap: wrap;<br>            justify-content: flex-start;<br>            width: 100%;<br>        }<br>        .wandb-col {<br>            display: flex;<br>            flex-direction: column;<br>            flex-basis: 100%;<br>            flex: 1;<br>            padding: 10px;<br>        }<br>    </style><br><div class=\"wandb-row\"><div class=\"wandb-col\"><h3>Run history:</h3><br/><table class=\"wandb\"><tr><td>epoch</td><td>▁▂▃▃▄▅▆▆▇█</td></tr><tr><td>train_acc</td><td>▁▁▁▁▁▁▁▁▁▁</td></tr><tr><td>train_loss</td><td>▁▁▁▁▁▁▁▁▁▁</td></tr><tr><td>val_acc</td><td>▁▁▁▁▁▁▁▁▁▁</td></tr></table><br/></div><div class=\"wandb-col\"><h3>Run summary:</h3><br/><table class=\"wandb\"><tr><td>epoch</td><td>9</td></tr><tr><td>train_acc</td><td>10.1507</td></tr><tr><td>train_loss</td><td>2.33662</td></tr><tr><td>val_acc</td><td>10.53333</td></tr></table><br/></div></div>"
            ]
          },
          "metadata": {}
        },
        {
          "output_type": "display_data",
          "data": {
            "text/plain": [
              "<IPython.core.display.HTML object>"
            ],
            "text/html": [
              " View run <strong style=\"color:#cdcd00\">balmy-sweep-5</strong> at: <a href='https://wandb.ai/subikksha-indian-institute-of-technology-madras/DA6401-Assignment-1/runs/mx9lxb8m' target=\"_blank\">https://wandb.ai/subikksha-indian-institute-of-technology-madras/DA6401-Assignment-1/runs/mx9lxb8m</a><br> View project at: <a href='https://wandb.ai/subikksha-indian-institute-of-technology-madras/DA6401-Assignment-1' target=\"_blank\">https://wandb.ai/subikksha-indian-institute-of-technology-madras/DA6401-Assignment-1</a><br>Synced 5 W&B file(s), 0 media file(s), 0 artifact file(s) and 0 other file(s)"
            ]
          },
          "metadata": {}
        },
        {
          "output_type": "display_data",
          "data": {
            "text/plain": [
              "<IPython.core.display.HTML object>"
            ],
            "text/html": [
              "Find logs at: <code>./wandb/run-20250307_231451-mx9lxb8m/logs</code>"
            ]
          },
          "metadata": {}
        },
        {
          "output_type": "stream",
          "name": "stderr",
          "text": [
            "\u001b[34m\u001b[1mwandb\u001b[0m: Agent Starting Run: 99xt64x4 with config:\n",
            "\u001b[34m\u001b[1mwandb\u001b[0m: \tactivation_type: sigmoid\n",
            "\u001b[34m\u001b[1mwandb\u001b[0m: \tbatch_size: 32\n",
            "\u001b[34m\u001b[1mwandb\u001b[0m: \tepochs: 5\n",
            "\u001b[34m\u001b[1mwandb\u001b[0m: \thidden_layers: [128, 64, 32]\n",
            "\u001b[34m\u001b[1mwandb\u001b[0m: \tinit_type: xavier\n",
            "\u001b[34m\u001b[1mwandb\u001b[0m: \tlearning_rate: 0.001\n",
            "\u001b[34m\u001b[1mwandb\u001b[0m: \tloss_type: cross_entropy\n",
            "\u001b[34m\u001b[1mwandb\u001b[0m: \toptimizer: sgd\n"
          ]
        },
        {
          "output_type": "display_data",
          "data": {
            "text/plain": [
              "<IPython.core.display.HTML object>"
            ],
            "text/html": [
              "Ignoring project 'DA6401-Assignment-1' when running a sweep."
            ]
          },
          "metadata": {}
        },
        {
          "output_type": "display_data",
          "data": {
            "text/plain": [
              "<IPython.core.display.HTML object>"
            ],
            "text/html": [
              "Ignoring run_id 'Question-4' when running a sweep."
            ]
          },
          "metadata": {}
        },
        {
          "output_type": "display_data",
          "data": {
            "text/plain": [
              "<IPython.core.display.HTML object>"
            ],
            "text/html": [
              "Tracking run with wandb version 0.19.7"
            ]
          },
          "metadata": {}
        },
        {
          "output_type": "display_data",
          "data": {
            "text/plain": [
              "<IPython.core.display.HTML object>"
            ],
            "text/html": [
              "Run data is saved locally in <code>/content/wandb/run-20250307_231536-99xt64x4</code>"
            ]
          },
          "metadata": {}
        },
        {
          "output_type": "display_data",
          "data": {
            "text/plain": [
              "<IPython.core.display.HTML object>"
            ],
            "text/html": [
              "Syncing run <strong><a href='https://wandb.ai/subikksha-indian-institute-of-technology-madras/DA6401-Assignment-1/runs/99xt64x4' target=\"_blank\">jumping-sweep-6</a></strong> to <a href='https://wandb.ai/subikksha-indian-institute-of-technology-madras/DA6401-Assignment-1' target=\"_blank\">Weights & Biases</a> (<a href='https://wandb.me/developer-guide' target=\"_blank\">docs</a>)<br>Sweep page: <a href='https://wandb.ai/subikksha-indian-institute-of-technology-madras/DA6401-Assignment-1/sweeps/6v09fkzk' target=\"_blank\">https://wandb.ai/subikksha-indian-institute-of-technology-madras/DA6401-Assignment-1/sweeps/6v09fkzk</a>"
            ]
          },
          "metadata": {}
        },
        {
          "output_type": "display_data",
          "data": {
            "text/plain": [
              "<IPython.core.display.HTML object>"
            ],
            "text/html": [
              " View project at <a href='https://wandb.ai/subikksha-indian-institute-of-technology-madras/DA6401-Assignment-1' target=\"_blank\">https://wandb.ai/subikksha-indian-institute-of-technology-madras/DA6401-Assignment-1</a>"
            ]
          },
          "metadata": {}
        },
        {
          "output_type": "display_data",
          "data": {
            "text/plain": [
              "<IPython.core.display.HTML object>"
            ],
            "text/html": [
              " View sweep at <a href='https://wandb.ai/subikksha-indian-institute-of-technology-madras/DA6401-Assignment-1/sweeps/6v09fkzk' target=\"_blank\">https://wandb.ai/subikksha-indian-institute-of-technology-madras/DA6401-Assignment-1/sweeps/6v09fkzk</a>"
            ]
          },
          "metadata": {}
        },
        {
          "output_type": "display_data",
          "data": {
            "text/plain": [
              "<IPython.core.display.HTML object>"
            ],
            "text/html": [
              " View run at <a href='https://wandb.ai/subikksha-indian-institute-of-technology-madras/DA6401-Assignment-1/runs/99xt64x4' target=\"_blank\">https://wandb.ai/subikksha-indian-institute-of-technology-madras/DA6401-Assignment-1/runs/99xt64x4</a>"
            ]
          },
          "metadata": {}
        },
        {
          "output_type": "display_data",
          "data": {
            "text/plain": [
              "<IPython.core.display.HTML object>"
            ],
            "text/html": [
              "Ignoring project 'DA6401-Assignment-1' when running a sweep."
            ]
          },
          "metadata": {}
        },
        {
          "output_type": "stream",
          "name": "stderr",
          "text": [
            "<ipython-input-4-5e246427448d>:46: RuntimeWarning: overflow encountered in exp\n",
            "  'sigmoid': lambda x, deriv=False: x * (1 - x) if deriv else 1 / (1 + np.exp(-x)),\n",
            "<ipython-input-4-5e246427448d>:46: RuntimeWarning: overflow encountered in multiply\n",
            "  'sigmoid': lambda x, deriv=False: x * (1 - x) if deriv else 1 / (1 + np.exp(-x)),\n",
            "/usr/local/lib/python3.11/dist-packages/numpy/core/fromnumeric.py:88: RuntimeWarning: invalid value encountered in reduce\n",
            "  return ufunc.reduce(obj, axis, dtype, out, **passkwargs)\n"
          ]
        },
        {
          "output_type": "display_data",
          "data": {
            "text/plain": [
              "<IPython.core.display.HTML object>"
            ],
            "text/html": []
          },
          "metadata": {}
        },
        {
          "output_type": "display_data",
          "data": {
            "text/plain": [
              "<IPython.core.display.HTML object>"
            ],
            "text/html": [
              "<br>    <style><br>        .wandb-row {<br>            display: flex;<br>            flex-direction: row;<br>            flex-wrap: wrap;<br>            justify-content: flex-start;<br>            width: 100%;<br>        }<br>        .wandb-col {<br>            display: flex;<br>            flex-direction: column;<br>            flex-basis: 100%;<br>            flex: 1;<br>            padding: 10px;<br>        }<br>    </style><br><div class=\"wandb-row\"><div class=\"wandb-col\"><h3>Run history:</h3><br/><table class=\"wandb\"><tr><td>epoch</td><td>▁▃▅▆█</td></tr><tr><td>train_acc</td><td>█▁▁▃▅</td></tr><tr><td>train_loss</td><td>█▁▁▁ </td></tr><tr><td>val_acc</td><td>█▃▁▃▁</td></tr></table><br/></div><div class=\"wandb-col\"><h3>Run summary:</h3><br/><table class=\"wandb\"><tr><td>epoch</td><td>4</td></tr><tr><td>train_acc</td><td>9.68787</td></tr><tr><td>train_loss</td><td>nan</td></tr><tr><td>val_acc</td><td>9.95</td></tr></table><br/></div></div>"
            ]
          },
          "metadata": {}
        },
        {
          "output_type": "display_data",
          "data": {
            "text/plain": [
              "<IPython.core.display.HTML object>"
            ],
            "text/html": [
              " View run <strong style=\"color:#cdcd00\">jumping-sweep-6</strong> at: <a href='https://wandb.ai/subikksha-indian-institute-of-technology-madras/DA6401-Assignment-1/runs/99xt64x4' target=\"_blank\">https://wandb.ai/subikksha-indian-institute-of-technology-madras/DA6401-Assignment-1/runs/99xt64x4</a><br> View project at: <a href='https://wandb.ai/subikksha-indian-institute-of-technology-madras/DA6401-Assignment-1' target=\"_blank\">https://wandb.ai/subikksha-indian-institute-of-technology-madras/DA6401-Assignment-1</a><br>Synced 5 W&B file(s), 0 media file(s), 0 artifact file(s) and 0 other file(s)"
            ]
          },
          "metadata": {}
        },
        {
          "output_type": "display_data",
          "data": {
            "text/plain": [
              "<IPython.core.display.HTML object>"
            ],
            "text/html": [
              "Find logs at: <code>./wandb/run-20250307_231536-99xt64x4/logs</code>"
            ]
          },
          "metadata": {}
        },
        {
          "output_type": "stream",
          "name": "stderr",
          "text": [
            "\u001b[34m\u001b[1mwandb\u001b[0m: Agent Starting Run: q4zp3zf1 with config:\n",
            "\u001b[34m\u001b[1mwandb\u001b[0m: \tactivation_type: ReLU\n",
            "\u001b[34m\u001b[1mwandb\u001b[0m: \tbatch_size: 32\n",
            "\u001b[34m\u001b[1mwandb\u001b[0m: \tepochs: 10\n",
            "\u001b[34m\u001b[1mwandb\u001b[0m: \thidden_layers: [64, 32]\n",
            "\u001b[34m\u001b[1mwandb\u001b[0m: \tinit_type: random\n",
            "\u001b[34m\u001b[1mwandb\u001b[0m: \tlearning_rate: 0.0001\n",
            "\u001b[34m\u001b[1mwandb\u001b[0m: \tloss_type: cross_entropy\n",
            "\u001b[34m\u001b[1mwandb\u001b[0m: \toptimizer: nadam\n"
          ]
        },
        {
          "output_type": "display_data",
          "data": {
            "text/plain": [
              "<IPython.core.display.HTML object>"
            ],
            "text/html": [
              "Ignoring project 'DA6401-Assignment-1' when running a sweep."
            ]
          },
          "metadata": {}
        },
        {
          "output_type": "display_data",
          "data": {
            "text/plain": [
              "<IPython.core.display.HTML object>"
            ],
            "text/html": [
              "Ignoring run_id 'Question-4' when running a sweep."
            ]
          },
          "metadata": {}
        },
        {
          "output_type": "display_data",
          "data": {
            "text/plain": [
              "<IPython.core.display.HTML object>"
            ],
            "text/html": [
              "Tracking run with wandb version 0.19.7"
            ]
          },
          "metadata": {}
        },
        {
          "output_type": "display_data",
          "data": {
            "text/plain": [
              "<IPython.core.display.HTML object>"
            ],
            "text/html": [
              "Run data is saved locally in <code>/content/wandb/run-20250307_231612-q4zp3zf1</code>"
            ]
          },
          "metadata": {}
        },
        {
          "output_type": "display_data",
          "data": {
            "text/plain": [
              "<IPython.core.display.HTML object>"
            ],
            "text/html": [
              "Syncing run <strong><a href='https://wandb.ai/subikksha-indian-institute-of-technology-madras/DA6401-Assignment-1/runs/q4zp3zf1' target=\"_blank\">vivid-sweep-7</a></strong> to <a href='https://wandb.ai/subikksha-indian-institute-of-technology-madras/DA6401-Assignment-1' target=\"_blank\">Weights & Biases</a> (<a href='https://wandb.me/developer-guide' target=\"_blank\">docs</a>)<br>Sweep page: <a href='https://wandb.ai/subikksha-indian-institute-of-technology-madras/DA6401-Assignment-1/sweeps/6v09fkzk' target=\"_blank\">https://wandb.ai/subikksha-indian-institute-of-technology-madras/DA6401-Assignment-1/sweeps/6v09fkzk</a>"
            ]
          },
          "metadata": {}
        },
        {
          "output_type": "display_data",
          "data": {
            "text/plain": [
              "<IPython.core.display.HTML object>"
            ],
            "text/html": [
              " View project at <a href='https://wandb.ai/subikksha-indian-institute-of-technology-madras/DA6401-Assignment-1' target=\"_blank\">https://wandb.ai/subikksha-indian-institute-of-technology-madras/DA6401-Assignment-1</a>"
            ]
          },
          "metadata": {}
        },
        {
          "output_type": "display_data",
          "data": {
            "text/plain": [
              "<IPython.core.display.HTML object>"
            ],
            "text/html": [
              " View sweep at <a href='https://wandb.ai/subikksha-indian-institute-of-technology-madras/DA6401-Assignment-1/sweeps/6v09fkzk' target=\"_blank\">https://wandb.ai/subikksha-indian-institute-of-technology-madras/DA6401-Assignment-1/sweeps/6v09fkzk</a>"
            ]
          },
          "metadata": {}
        },
        {
          "output_type": "display_data",
          "data": {
            "text/plain": [
              "<IPython.core.display.HTML object>"
            ],
            "text/html": [
              " View run at <a href='https://wandb.ai/subikksha-indian-institute-of-technology-madras/DA6401-Assignment-1/runs/q4zp3zf1' target=\"_blank\">https://wandb.ai/subikksha-indian-institute-of-technology-madras/DA6401-Assignment-1/runs/q4zp3zf1</a>"
            ]
          },
          "metadata": {}
        },
        {
          "output_type": "display_data",
          "data": {
            "text/plain": [
              "<IPython.core.display.HTML object>"
            ],
            "text/html": [
              "Ignoring project 'DA6401-Assignment-1' when running a sweep."
            ]
          },
          "metadata": {}
        },
        {
          "output_type": "display_data",
          "data": {
            "text/plain": [
              "<IPython.core.display.HTML object>"
            ],
            "text/html": []
          },
          "metadata": {}
        },
        {
          "output_type": "display_data",
          "data": {
            "text/plain": [
              "<IPython.core.display.HTML object>"
            ],
            "text/html": [
              "<br>    <style><br>        .wandb-row {<br>            display: flex;<br>            flex-direction: row;<br>            flex-wrap: wrap;<br>            justify-content: flex-start;<br>            width: 100%;<br>        }<br>        .wandb-col {<br>            display: flex;<br>            flex-direction: column;<br>            flex-basis: 100%;<br>            flex: 1;<br>            padding: 10px;<br>        }<br>    </style><br><div class=\"wandb-row\"><div class=\"wandb-col\"><h3>Run history:</h3><br/><table class=\"wandb\"><tr><td>epoch</td><td>▁▂▃▃▄▅▆▆▇█</td></tr><tr><td>train_acc</td><td>▁▁▁▁▁▁▁▁▁▁</td></tr><tr><td>train_loss</td><td>▁▁▁▁▁▁▁▁▁▁</td></tr><tr><td>val_acc</td><td>▁▁▁▁▁▁▁▁▁▁</td></tr></table><br/></div><div class=\"wandb-col\"><h3>Run summary:</h3><br/><table class=\"wandb\"><tr><td>epoch</td><td>9</td></tr><tr><td>train_acc</td><td>9.96371</td></tr><tr><td>train_loss</td><td>2.34974</td></tr><tr><td>val_acc</td><td>9.9</td></tr></table><br/></div></div>"
            ]
          },
          "metadata": {}
        },
        {
          "output_type": "display_data",
          "data": {
            "text/plain": [
              "<IPython.core.display.HTML object>"
            ],
            "text/html": [
              " View run <strong style=\"color:#cdcd00\">vivid-sweep-7</strong> at: <a href='https://wandb.ai/subikksha-indian-institute-of-technology-madras/DA6401-Assignment-1/runs/q4zp3zf1' target=\"_blank\">https://wandb.ai/subikksha-indian-institute-of-technology-madras/DA6401-Assignment-1/runs/q4zp3zf1</a><br> View project at: <a href='https://wandb.ai/subikksha-indian-institute-of-technology-madras/DA6401-Assignment-1' target=\"_blank\">https://wandb.ai/subikksha-indian-institute-of-technology-madras/DA6401-Assignment-1</a><br>Synced 5 W&B file(s), 0 media file(s), 0 artifact file(s) and 0 other file(s)"
            ]
          },
          "metadata": {}
        },
        {
          "output_type": "display_data",
          "data": {
            "text/plain": [
              "<IPython.core.display.HTML object>"
            ],
            "text/html": [
              "Find logs at: <code>./wandb/run-20250307_231612-q4zp3zf1/logs</code>"
            ]
          },
          "metadata": {}
        },
        {
          "output_type": "stream",
          "name": "stderr",
          "text": [
            "\u001b[34m\u001b[1mwandb\u001b[0m: Sweep Agent: Waiting for job.\n",
            "\u001b[34m\u001b[1mwandb\u001b[0m: Job received.\n",
            "\u001b[34m\u001b[1mwandb\u001b[0m: Agent Starting Run: d831ifdz with config:\n",
            "\u001b[34m\u001b[1mwandb\u001b[0m: \tactivation_type: ReLU\n",
            "\u001b[34m\u001b[1mwandb\u001b[0m: \tbatch_size: 32\n",
            "\u001b[34m\u001b[1mwandb\u001b[0m: \tepochs: 10\n",
            "\u001b[34m\u001b[1mwandb\u001b[0m: \thidden_layers: [64, 32]\n",
            "\u001b[34m\u001b[1mwandb\u001b[0m: \tinit_type: random\n",
            "\u001b[34m\u001b[1mwandb\u001b[0m: \tlearning_rate: 0.001\n",
            "\u001b[34m\u001b[1mwandb\u001b[0m: \tloss_type: cross_entropy\n",
            "\u001b[34m\u001b[1mwandb\u001b[0m: \toptimizer: adam\n"
          ]
        },
        {
          "output_type": "display_data",
          "data": {
            "text/plain": [
              "<IPython.core.display.HTML object>"
            ],
            "text/html": [
              "Ignoring project 'DA6401-Assignment-1' when running a sweep."
            ]
          },
          "metadata": {}
        },
        {
          "output_type": "display_data",
          "data": {
            "text/plain": [
              "<IPython.core.display.HTML object>"
            ],
            "text/html": [
              "Ignoring run_id 'Question-4' when running a sweep."
            ]
          },
          "metadata": {}
        },
        {
          "output_type": "display_data",
          "data": {
            "text/plain": [
              "<IPython.core.display.HTML object>"
            ],
            "text/html": [
              "Tracking run with wandb version 0.19.7"
            ]
          },
          "metadata": {}
        },
        {
          "output_type": "display_data",
          "data": {
            "text/plain": [
              "<IPython.core.display.HTML object>"
            ],
            "text/html": [
              "Run data is saved locally in <code>/content/wandb/run-20250307_231647-d831ifdz</code>"
            ]
          },
          "metadata": {}
        },
        {
          "output_type": "display_data",
          "data": {
            "text/plain": [
              "<IPython.core.display.HTML object>"
            ],
            "text/html": [
              "Syncing run <strong><a href='https://wandb.ai/subikksha-indian-institute-of-technology-madras/DA6401-Assignment-1/runs/d831ifdz' target=\"_blank\">splendid-sweep-8</a></strong> to <a href='https://wandb.ai/subikksha-indian-institute-of-technology-madras/DA6401-Assignment-1' target=\"_blank\">Weights & Biases</a> (<a href='https://wandb.me/developer-guide' target=\"_blank\">docs</a>)<br>Sweep page: <a href='https://wandb.ai/subikksha-indian-institute-of-technology-madras/DA6401-Assignment-1/sweeps/6v09fkzk' target=\"_blank\">https://wandb.ai/subikksha-indian-institute-of-technology-madras/DA6401-Assignment-1/sweeps/6v09fkzk</a>"
            ]
          },
          "metadata": {}
        },
        {
          "output_type": "display_data",
          "data": {
            "text/plain": [
              "<IPython.core.display.HTML object>"
            ],
            "text/html": [
              " View project at <a href='https://wandb.ai/subikksha-indian-institute-of-technology-madras/DA6401-Assignment-1' target=\"_blank\">https://wandb.ai/subikksha-indian-institute-of-technology-madras/DA6401-Assignment-1</a>"
            ]
          },
          "metadata": {}
        },
        {
          "output_type": "display_data",
          "data": {
            "text/plain": [
              "<IPython.core.display.HTML object>"
            ],
            "text/html": [
              " View sweep at <a href='https://wandb.ai/subikksha-indian-institute-of-technology-madras/DA6401-Assignment-1/sweeps/6v09fkzk' target=\"_blank\">https://wandb.ai/subikksha-indian-institute-of-technology-madras/DA6401-Assignment-1/sweeps/6v09fkzk</a>"
            ]
          },
          "metadata": {}
        },
        {
          "output_type": "display_data",
          "data": {
            "text/plain": [
              "<IPython.core.display.HTML object>"
            ],
            "text/html": [
              " View run at <a href='https://wandb.ai/subikksha-indian-institute-of-technology-madras/DA6401-Assignment-1/runs/d831ifdz' target=\"_blank\">https://wandb.ai/subikksha-indian-institute-of-technology-madras/DA6401-Assignment-1/runs/d831ifdz</a>"
            ]
          },
          "metadata": {}
        },
        {
          "output_type": "display_data",
          "data": {
            "text/plain": [
              "<IPython.core.display.HTML object>"
            ],
            "text/html": [
              "Ignoring project 'DA6401-Assignment-1' when running a sweep."
            ]
          },
          "metadata": {}
        },
        {
          "output_type": "display_data",
          "data": {
            "text/plain": [
              "<IPython.core.display.HTML object>"
            ],
            "text/html": []
          },
          "metadata": {}
        },
        {
          "output_type": "display_data",
          "data": {
            "text/plain": [
              "<IPython.core.display.HTML object>"
            ],
            "text/html": [
              "<br>    <style><br>        .wandb-row {<br>            display: flex;<br>            flex-direction: row;<br>            flex-wrap: wrap;<br>            justify-content: flex-start;<br>            width: 100%;<br>        }<br>        .wandb-col {<br>            display: flex;<br>            flex-direction: column;<br>            flex-basis: 100%;<br>            flex: 1;<br>            padding: 10px;<br>        }<br>    </style><br><div class=\"wandb-row\"><div class=\"wandb-col\"><h3>Run history:</h3><br/><table class=\"wandb\"><tr><td>epoch</td><td>▁▂▃▃▄▅▆▆▇█</td></tr><tr><td>train_acc</td><td>▁▁▁▁▁▁▁▁▁▁</td></tr><tr><td>train_loss</td><td>▁▁▁▁▁▁▁▁▁▁</td></tr><tr><td>val_acc</td><td>▁▁▁▁▁▁▁▁▁▁</td></tr></table><br/></div><div class=\"wandb-col\"><h3>Run summary:</h3><br/><table class=\"wandb\"><tr><td>epoch</td><td>9</td></tr><tr><td>train_acc</td><td>9.96371</td></tr><tr><td>train_loss</td><td>2.34974</td></tr><tr><td>val_acc</td><td>9.9</td></tr></table><br/></div></div>"
            ]
          },
          "metadata": {}
        },
        {
          "output_type": "display_data",
          "data": {
            "text/plain": [
              "<IPython.core.display.HTML object>"
            ],
            "text/html": [
              " View run <strong style=\"color:#cdcd00\">splendid-sweep-8</strong> at: <a href='https://wandb.ai/subikksha-indian-institute-of-technology-madras/DA6401-Assignment-1/runs/d831ifdz' target=\"_blank\">https://wandb.ai/subikksha-indian-institute-of-technology-madras/DA6401-Assignment-1/runs/d831ifdz</a><br> View project at: <a href='https://wandb.ai/subikksha-indian-institute-of-technology-madras/DA6401-Assignment-1' target=\"_blank\">https://wandb.ai/subikksha-indian-institute-of-technology-madras/DA6401-Assignment-1</a><br>Synced 5 W&B file(s), 0 media file(s), 0 artifact file(s) and 0 other file(s)"
            ]
          },
          "metadata": {}
        },
        {
          "output_type": "display_data",
          "data": {
            "text/plain": [
              "<IPython.core.display.HTML object>"
            ],
            "text/html": [
              "Find logs at: <code>./wandb/run-20250307_231647-d831ifdz/logs</code>"
            ]
          },
          "metadata": {}
        },
        {
          "output_type": "stream",
          "name": "stderr",
          "text": [
            "\u001b[34m\u001b[1mwandb\u001b[0m: Agent Starting Run: bw7ekzfn with config:\n",
            "\u001b[34m\u001b[1mwandb\u001b[0m: \tactivation_type: sigmoid\n",
            "\u001b[34m\u001b[1mwandb\u001b[0m: \tbatch_size: 32\n",
            "\u001b[34m\u001b[1mwandb\u001b[0m: \tepochs: 5\n",
            "\u001b[34m\u001b[1mwandb\u001b[0m: \thidden_layers: [64, 32]\n",
            "\u001b[34m\u001b[1mwandb\u001b[0m: \tinit_type: random\n",
            "\u001b[34m\u001b[1mwandb\u001b[0m: \tlearning_rate: 0.0001\n",
            "\u001b[34m\u001b[1mwandb\u001b[0m: \tloss_type: cross_entropy\n",
            "\u001b[34m\u001b[1mwandb\u001b[0m: \toptimizer: momentum\n"
          ]
        },
        {
          "output_type": "display_data",
          "data": {
            "text/plain": [
              "<IPython.core.display.HTML object>"
            ],
            "text/html": [
              "Ignoring project 'DA6401-Assignment-1' when running a sweep."
            ]
          },
          "metadata": {}
        },
        {
          "output_type": "display_data",
          "data": {
            "text/plain": [
              "<IPython.core.display.HTML object>"
            ],
            "text/html": [
              "Ignoring run_id 'Question-4' when running a sweep."
            ]
          },
          "metadata": {}
        },
        {
          "output_type": "display_data",
          "data": {
            "text/plain": [
              "<IPython.core.display.HTML object>"
            ],
            "text/html": [
              "Tracking run with wandb version 0.19.7"
            ]
          },
          "metadata": {}
        },
        {
          "output_type": "display_data",
          "data": {
            "text/plain": [
              "<IPython.core.display.HTML object>"
            ],
            "text/html": [
              "Run data is saved locally in <code>/content/wandb/run-20250307_231718-bw7ekzfn</code>"
            ]
          },
          "metadata": {}
        },
        {
          "output_type": "display_data",
          "data": {
            "text/plain": [
              "<IPython.core.display.HTML object>"
            ],
            "text/html": [
              "Syncing run <strong><a href='https://wandb.ai/subikksha-indian-institute-of-technology-madras/DA6401-Assignment-1/runs/bw7ekzfn' target=\"_blank\">elated-sweep-9</a></strong> to <a href='https://wandb.ai/subikksha-indian-institute-of-technology-madras/DA6401-Assignment-1' target=\"_blank\">Weights & Biases</a> (<a href='https://wandb.me/developer-guide' target=\"_blank\">docs</a>)<br>Sweep page: <a href='https://wandb.ai/subikksha-indian-institute-of-technology-madras/DA6401-Assignment-1/sweeps/6v09fkzk' target=\"_blank\">https://wandb.ai/subikksha-indian-institute-of-technology-madras/DA6401-Assignment-1/sweeps/6v09fkzk</a>"
            ]
          },
          "metadata": {}
        },
        {
          "output_type": "display_data",
          "data": {
            "text/plain": [
              "<IPython.core.display.HTML object>"
            ],
            "text/html": [
              " View project at <a href='https://wandb.ai/subikksha-indian-institute-of-technology-madras/DA6401-Assignment-1' target=\"_blank\">https://wandb.ai/subikksha-indian-institute-of-technology-madras/DA6401-Assignment-1</a>"
            ]
          },
          "metadata": {}
        },
        {
          "output_type": "display_data",
          "data": {
            "text/plain": [
              "<IPython.core.display.HTML object>"
            ],
            "text/html": [
              " View sweep at <a href='https://wandb.ai/subikksha-indian-institute-of-technology-madras/DA6401-Assignment-1/sweeps/6v09fkzk' target=\"_blank\">https://wandb.ai/subikksha-indian-institute-of-technology-madras/DA6401-Assignment-1/sweeps/6v09fkzk</a>"
            ]
          },
          "metadata": {}
        },
        {
          "output_type": "display_data",
          "data": {
            "text/plain": [
              "<IPython.core.display.HTML object>"
            ],
            "text/html": [
              " View run at <a href='https://wandb.ai/subikksha-indian-institute-of-technology-madras/DA6401-Assignment-1/runs/bw7ekzfn' target=\"_blank\">https://wandb.ai/subikksha-indian-institute-of-technology-madras/DA6401-Assignment-1/runs/bw7ekzfn</a>"
            ]
          },
          "metadata": {}
        },
        {
          "output_type": "display_data",
          "data": {
            "text/plain": [
              "<IPython.core.display.HTML object>"
            ],
            "text/html": [
              "Ignoring project 'DA6401-Assignment-1' when running a sweep."
            ]
          },
          "metadata": {}
        },
        {
          "output_type": "display_data",
          "data": {
            "text/plain": [
              "<IPython.core.display.HTML object>"
            ],
            "text/html": []
          },
          "metadata": {}
        },
        {
          "output_type": "display_data",
          "data": {
            "text/plain": [
              "<IPython.core.display.HTML object>"
            ],
            "text/html": [
              "<br>    <style><br>        .wandb-row {<br>            display: flex;<br>            flex-direction: row;<br>            flex-wrap: wrap;<br>            justify-content: flex-start;<br>            width: 100%;<br>        }<br>        .wandb-col {<br>            display: flex;<br>            flex-direction: column;<br>            flex-basis: 100%;<br>            flex: 1;<br>            padding: 10px;<br>        }<br>    </style><br><div class=\"wandb-row\"><div class=\"wandb-col\"><h3>Run history:</h3><br/><table class=\"wandb\"><tr><td>epoch</td><td>▁▃▅▆█</td></tr><tr><td>train_acc</td><td>▁▁▁▁▁</td></tr><tr><td>train_loss</td><td>▁▁▁▁▁</td></tr><tr><td>val_acc</td><td>▁▁▁▁▁</td></tr></table><br/></div><div class=\"wandb-col\"><h3>Run summary:</h3><br/><table class=\"wandb\"><tr><td>epoch</td><td>4</td></tr><tr><td>train_acc</td><td>10.00629</td></tr><tr><td>train_loss</td><td>2.32553</td></tr><tr><td>val_acc</td><td>9.95</td></tr></table><br/></div></div>"
            ]
          },
          "metadata": {}
        },
        {
          "output_type": "display_data",
          "data": {
            "text/plain": [
              "<IPython.core.display.HTML object>"
            ],
            "text/html": [
              " View run <strong style=\"color:#cdcd00\">elated-sweep-9</strong> at: <a href='https://wandb.ai/subikksha-indian-institute-of-technology-madras/DA6401-Assignment-1/runs/bw7ekzfn' target=\"_blank\">https://wandb.ai/subikksha-indian-institute-of-technology-madras/DA6401-Assignment-1/runs/bw7ekzfn</a><br> View project at: <a href='https://wandb.ai/subikksha-indian-institute-of-technology-madras/DA6401-Assignment-1' target=\"_blank\">https://wandb.ai/subikksha-indian-institute-of-technology-madras/DA6401-Assignment-1</a><br>Synced 5 W&B file(s), 0 media file(s), 0 artifact file(s) and 0 other file(s)"
            ]
          },
          "metadata": {}
        },
        {
          "output_type": "display_data",
          "data": {
            "text/plain": [
              "<IPython.core.display.HTML object>"
            ],
            "text/html": [
              "Find logs at: <code>./wandb/run-20250307_231718-bw7ekzfn/logs</code>"
            ]
          },
          "metadata": {}
        },
        {
          "output_type": "stream",
          "name": "stderr",
          "text": [
            "\u001b[34m\u001b[1mwandb\u001b[0m: Agent Starting Run: sfomgght with config:\n",
            "\u001b[34m\u001b[1mwandb\u001b[0m: \tactivation_type: tanh\n",
            "\u001b[34m\u001b[1mwandb\u001b[0m: \tbatch_size: 64\n",
            "\u001b[34m\u001b[1mwandb\u001b[0m: \tepochs: 5\n",
            "\u001b[34m\u001b[1mwandb\u001b[0m: \thidden_layers: [64, 32]\n",
            "\u001b[34m\u001b[1mwandb\u001b[0m: \tinit_type: random\n",
            "\u001b[34m\u001b[1mwandb\u001b[0m: \tlearning_rate: 0.001\n",
            "\u001b[34m\u001b[1mwandb\u001b[0m: \tloss_type: cross_entropy\n",
            "\u001b[34m\u001b[1mwandb\u001b[0m: \toptimizer: rmsprop\n"
          ]
        },
        {
          "output_type": "display_data",
          "data": {
            "text/plain": [
              "<IPython.core.display.HTML object>"
            ],
            "text/html": [
              "Ignoring project 'DA6401-Assignment-1' when running a sweep."
            ]
          },
          "metadata": {}
        },
        {
          "output_type": "display_data",
          "data": {
            "text/plain": [
              "<IPython.core.display.HTML object>"
            ],
            "text/html": [
              "Ignoring run_id 'Question-4' when running a sweep."
            ]
          },
          "metadata": {}
        },
        {
          "output_type": "display_data",
          "data": {
            "text/plain": [
              "<IPython.core.display.HTML object>"
            ],
            "text/html": [
              "Tracking run with wandb version 0.19.7"
            ]
          },
          "metadata": {}
        },
        {
          "output_type": "display_data",
          "data": {
            "text/plain": [
              "<IPython.core.display.HTML object>"
            ],
            "text/html": [
              "Run data is saved locally in <code>/content/wandb/run-20250307_231738-sfomgght</code>"
            ]
          },
          "metadata": {}
        },
        {
          "output_type": "display_data",
          "data": {
            "text/plain": [
              "<IPython.core.display.HTML object>"
            ],
            "text/html": [
              "Syncing run <strong><a href='https://wandb.ai/subikksha-indian-institute-of-technology-madras/DA6401-Assignment-1/runs/sfomgght' target=\"_blank\">fast-sweep-10</a></strong> to <a href='https://wandb.ai/subikksha-indian-institute-of-technology-madras/DA6401-Assignment-1' target=\"_blank\">Weights & Biases</a> (<a href='https://wandb.me/developer-guide' target=\"_blank\">docs</a>)<br>Sweep page: <a href='https://wandb.ai/subikksha-indian-institute-of-technology-madras/DA6401-Assignment-1/sweeps/6v09fkzk' target=\"_blank\">https://wandb.ai/subikksha-indian-institute-of-technology-madras/DA6401-Assignment-1/sweeps/6v09fkzk</a>"
            ]
          },
          "metadata": {}
        },
        {
          "output_type": "display_data",
          "data": {
            "text/plain": [
              "<IPython.core.display.HTML object>"
            ],
            "text/html": [
              " View project at <a href='https://wandb.ai/subikksha-indian-institute-of-technology-madras/DA6401-Assignment-1' target=\"_blank\">https://wandb.ai/subikksha-indian-institute-of-technology-madras/DA6401-Assignment-1</a>"
            ]
          },
          "metadata": {}
        },
        {
          "output_type": "display_data",
          "data": {
            "text/plain": [
              "<IPython.core.display.HTML object>"
            ],
            "text/html": [
              " View sweep at <a href='https://wandb.ai/subikksha-indian-institute-of-technology-madras/DA6401-Assignment-1/sweeps/6v09fkzk' target=\"_blank\">https://wandb.ai/subikksha-indian-institute-of-technology-madras/DA6401-Assignment-1/sweeps/6v09fkzk</a>"
            ]
          },
          "metadata": {}
        },
        {
          "output_type": "display_data",
          "data": {
            "text/plain": [
              "<IPython.core.display.HTML object>"
            ],
            "text/html": [
              " View run at <a href='https://wandb.ai/subikksha-indian-institute-of-technology-madras/DA6401-Assignment-1/runs/sfomgght' target=\"_blank\">https://wandb.ai/subikksha-indian-institute-of-technology-madras/DA6401-Assignment-1/runs/sfomgght</a>"
            ]
          },
          "metadata": {}
        },
        {
          "output_type": "display_data",
          "data": {
            "text/plain": [
              "<IPython.core.display.HTML object>"
            ],
            "text/html": [
              "Ignoring project 'DA6401-Assignment-1' when running a sweep."
            ]
          },
          "metadata": {}
        },
        {
          "output_type": "display_data",
          "data": {
            "text/plain": [
              "<IPython.core.display.HTML object>"
            ],
            "text/html": []
          },
          "metadata": {}
        },
        {
          "output_type": "display_data",
          "data": {
            "text/plain": [
              "<IPython.core.display.HTML object>"
            ],
            "text/html": [
              "<br>    <style><br>        .wandb-row {<br>            display: flex;<br>            flex-direction: row;<br>            flex-wrap: wrap;<br>            justify-content: flex-start;<br>            width: 100%;<br>        }<br>        .wandb-col {<br>            display: flex;<br>            flex-direction: column;<br>            flex-basis: 100%;<br>            flex: 1;<br>            padding: 10px;<br>        }<br>    </style><br><div class=\"wandb-row\"><div class=\"wandb-col\"><h3>Run history:</h3><br/><table class=\"wandb\"><tr><td>epoch</td><td>▁▃▅▆█</td></tr><tr><td>train_acc</td><td>▁▁▁▁▁</td></tr><tr><td>train_loss</td><td>▁▁▁▁▁</td></tr><tr><td>val_acc</td><td>▁▁▁▁▁</td></tr></table><br/></div><div class=\"wandb-col\"><h3>Run summary:</h3><br/><table class=\"wandb\"><tr><td>epoch</td><td>4</td></tr><tr><td>train_acc</td><td>10.19698</td></tr><tr><td>train_loss</td><td>2.33243</td></tr><tr><td>val_acc</td><td>9.91667</td></tr></table><br/></div></div>"
            ]
          },
          "metadata": {}
        },
        {
          "output_type": "display_data",
          "data": {
            "text/plain": [
              "<IPython.core.display.HTML object>"
            ],
            "text/html": [
              " View run <strong style=\"color:#cdcd00\">fast-sweep-10</strong> at: <a href='https://wandb.ai/subikksha-indian-institute-of-technology-madras/DA6401-Assignment-1/runs/sfomgght' target=\"_blank\">https://wandb.ai/subikksha-indian-institute-of-technology-madras/DA6401-Assignment-1/runs/sfomgght</a><br> View project at: <a href='https://wandb.ai/subikksha-indian-institute-of-technology-madras/DA6401-Assignment-1' target=\"_blank\">https://wandb.ai/subikksha-indian-institute-of-technology-madras/DA6401-Assignment-1</a><br>Synced 5 W&B file(s), 0 media file(s), 0 artifact file(s) and 0 other file(s)"
            ]
          },
          "metadata": {}
        },
        {
          "output_type": "display_data",
          "data": {
            "text/plain": [
              "<IPython.core.display.HTML object>"
            ],
            "text/html": [
              "Find logs at: <code>./wandb/run-20250307_231738-sfomgght/logs</code>"
            ]
          },
          "metadata": {}
        }
      ]
    }
  ]
}