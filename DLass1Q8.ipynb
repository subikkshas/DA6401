{
  "nbformat": 4,
  "nbformat_minor": 0,
  "metadata": {
    "colab": {
      "provenance": [],
      "authorship_tag": "ABX9TyMFlpS0SpUwsvOIuQKEHHg/",
      "include_colab_link": true
    },
    "kernelspec": {
      "name": "python3",
      "display_name": "Python 3"
    },
    "language_info": {
      "name": "python"
    }
  },
  "cells": [
    {
      "cell_type": "markdown",
      "metadata": {
        "id": "view-in-github",
        "colab_type": "text"
      },
      "source": [
        "<a href=\"https://colab.research.google.com/github/subikkshas/DA6401/blob/main/DLass1Q8.ipynb\" target=\"_parent\"><img src=\"https://colab.research.google.com/assets/colab-badge.svg\" alt=\"Open In Colab\"/></a>"
      ]
    },
    {
      "cell_type": "code",
      "source": [
        "\n",
        "\n",
        "from keras.datasets import fashion_mnist\n",
        "import numpy as np\n",
        "from matplotlib import pyplot as plt\n",
        "import time\n",
        "import math\n",
        "from sklearn.model_selection import train_test_split\n",
        "from tqdm.auto import tqdm\n",
        "\n",
        "import wandb\n",
        "!wandb login\n",
        "\n",
        "# Load the dataset\n",
        "dataset = fashion_mnist.load_data()\n",
        "(X_train_and_validation, y_train_and_validation), (X_test, y_test) = dataset\n",
        "\n",
        "# Split the dataset into training, validation, and test sets\n",
        "X_train, X_validation, y_train, y_validation = train_test_split(X_train_and_validation, y_train_and_validation, test_size=0.1, random_state=42)\n",
        "\n",
        "# Normalize the data\n",
        "X_train = (X_train / 255.0).astype(np.float32)\n",
        "X_validation = (X_validation / 255.0).astype(np.float32)\n",
        "X_test = (X_test / 255.0).astype(np.float32)\n",
        "\n",
        "# Print dataset shapes\n",
        "print(\"Train Dataset Shape: \", X_train.shape)\n",
        "print(\"Train Target Vector Shape: \", y_train.shape)\n",
        "print(\"Test Dataset Shape:\", X_test.shape)\n",
        "print(\"Test Target Vector Shape\", y_test.shape)\n",
        "print(\"Validation Dataset Shape:\", X_validation.shape)\n",
        "print(\"Validation Target Vector Shape\", y_validation.shape)\n",
        "\n",
        "# Reshape the data\n",
        "X_train = np.array(X_train.reshape(X_train.shape[0], 784, 1))\n",
        "X_test = np.array(X_test.reshape(X_test.shape[0], 784, 1))\n",
        "X_validation = np.array(X_validation.reshape(X_validation.shape[0], 784, 1))\n",
        "\n",
        "# Initialize layers\n",
        "def layer_init(arr, n1, n2, init_type):\n",
        "    np.random.seed(10)\n",
        "    if init_type == \"random\":\n",
        "        arr.append(np.random.randn(n1, n2) * 0.1)\n",
        "    elif init_type == \"xavier\":\n",
        "        arr.append(np.random.randn(n1, n2) * np.sqrt(2 / (n1 + n2)))\n",
        "    return arr\n",
        "\n",
        "# Initialize parameters\n",
        "def param(layers, init_type):\n",
        "    W = []\n",
        "    B = []\n",
        "    for i in range(len(layers) - 1):\n",
        "        W = layer_init(W, layers[i + 1], layers[i], init_type)\n",
        "        B = layer_init(B, layers[i + 1], 1, init_type)\n",
        "    return W, B\n",
        "\n",
        "# Activation functions\n",
        "def activation(activation_function):\n",
        "    if activation_function == 'sigmoid':\n",
        "        return sigmoid\n",
        "    elif activation_function == 'tanh':\n",
        "        return tanh\n",
        "    elif activation_function == 'ReLU':\n",
        "        return relu\n",
        "\n",
        "def sigmoid(x, derivative=False):\n",
        "    if derivative:\n",
        "        return sigmoid(x) * (1 - sigmoid(x))\n",
        "    return 1 / (1 + np.exp(-x))\n",
        "\n",
        "def tanh(x, derivative=False):\n",
        "    if derivative:\n",
        "        return 1 - tanh(x) ** 2\n",
        "    return (np.exp(x) - np.exp(-x)) / (np.exp(x) + np.exp(-x))\n",
        "\n",
        "def relu(x, derivative=False):\n",
        "    if derivative:\n",
        "        return (x > 0) * 1\n",
        "    return x * (x > 0)\n",
        "\n",
        "def softmax(x, derivative=False):\n",
        "    if derivative:\n",
        "        return softmax(x) * (1 - softmax(x))\n",
        "    return np.exp(x) / np.sum(np.exp(x), axis=0)\n",
        "\n",
        "# One-hot encoding\n",
        "def one_hot(y, num_output_nodes):\n",
        "    v = np.zeros((num_output_nodes, len(y)))\n",
        "    for i, j in enumerate(y):\n",
        "        v[j, i] = 1\n",
        "    return v\n",
        "\n",
        "# Forward propagation\n",
        "def forward(x, W, B, activation_type):\n",
        "    h = []\n",
        "    a = []\n",
        "    sigma = activation(activation_type)  # Activation function\n",
        "    h.append(x)  # h0 = x\n",
        "    a.append(np.dot(W[0], h[0]) + B[0])\n",
        "    for i in range(len(W) - 1):\n",
        "        h.append(sigma(a[-1]))\n",
        "        a.append(np.dot(W[i + 1], h[-1]) + B[i + 1])\n",
        "    y_hat = softmax(a[-1])\n",
        "    return y_hat, h, a\n",
        "\n",
        "# Loss function\n",
        "def loss(y, y_hat, l_type, W=None, reg=0, n_class=10):\n",
        "    if l_type == 'cross_entropy':\n",
        "        err = -1 * np.sum(np.multiply(one_hot(y, n_class), np.log(y_hat))) / one_hot(y, n_class).shape[1]\n",
        "    elif l_type == 'squared_error':\n",
        "        err = np.sum((one_hot(y, n_class) - y_hat) ** 2) / (2 * one_hot(y, n_class).shape[1])\n",
        "\n",
        "    if W:\n",
        "        r = 0\n",
        "        for i in range(len(W)):\n",
        "            r += np.sum((np.array(W, dtype=object) ** 2)[i])\n",
        "        err = err + reg * r\n",
        "    return err\n",
        "\n",
        "# Evaluate accuracy\n",
        "def eval_acc(y_hat, y_true):\n",
        "    return np.mean(np.argmax(y_hat, axis=0) == y_true) * 100\n",
        "\n",
        "# Backpropagation\n",
        "def back_prop(x, y, y_hat, a, h, W, B, batch_size, l_type, act_type):\n",
        "    grad_h, grad_a, grad_W, grad_B = [0] * len(h), [0] * len(a), [0] * len(W), [0] * len(B)\n",
        "    sigma = activation(act_type)\n",
        "\n",
        "    if l_type == \"cross_entropy\":\n",
        "        grad_h[-1] = -1 * (y / y_hat)\n",
        "        grad_a[-1] = -1 * (y - y_hat)\n",
        "    elif l_type == \"squared_error\":\n",
        "        grad_h[-1] = y_hat - y\n",
        "        grad_a[-1] = (y_hat - y) * softmax(a[-1]) * (1 - softmax(a[-1]))\n",
        "\n",
        "    for i in range(len(W) - 1, -1, -1):\n",
        "        grad_W[i] = np.dot(grad_a[i], h[i].T)\n",
        "        grad_B[i] = np.dot(grad_a[i], np.ones((grad_a[i].shape[1], 1)))\n",
        "        if i > 0:\n",
        "            grad_h[i - 1] = np.dot(W[i].T, grad_a[i])\n",
        "            grad_a[i - 1] = np.multiply(grad_h[i - 1], sigma(a[i - 1], derivative=True))\n",
        "\n",
        "    return grad_W, grad_B, grad_h, grad_a\n",
        "\n",
        "# SGD step\n",
        "def sgd_step(W, B, grad_W, grad_B, lr, reg):\n",
        "    W = np.array(W, dtype=object)\n",
        "    B = np.array(B, dtype=object)\n",
        "    W -= lr * reg * W + lr * np.array(grad_W, dtype=object)\n",
        "    B -= lr * reg * B + lr * np.array(grad_B, dtype=object)\n",
        "    return W.tolist(), B.tolist()\n",
        "\n",
        "# Momentum step\n",
        "def momentum_step(w, b, gW, gB, lr=0.001, gamma=0.9, reg=0):\n",
        "    params = {'w': w, 'b': b}\n",
        "    Wmoments = [np.zeros_like(p) for p in params['w']]\n",
        "    Bmoments = [np.zeros_like(p) for p in params['b']]\n",
        "\n",
        "    Wmoments = gamma * np.array(Wmoments, dtype=object) + lr * np.array(gW, dtype=object)\n",
        "    W = (1 - lr * reg) * np.array(params['w'], dtype=object) - Wmoments\n",
        "    Wmoments = Wmoments.tolist()\n",
        "\n",
        "    Bmoments = gamma * np.array(Bmoments, dtype=object) + lr * np.array(gB, dtype=object)\n",
        "    B = (1 - lr * reg) * np.array(params['b'], dtype=object) - Bmoments\n",
        "    Bmoments = Bmoments.tolist()\n",
        "\n",
        "    return W.tolist(), B.tolist()\n",
        "\n",
        "# RMSprop step\n",
        "def RMSprop_step(w, b, gW, gB, lr=0.01, beta=0.99):\n",
        "    params = {'w': w, 'b': b}\n",
        "    vW = [np.zeros_like(p) for p in params['w']]\n",
        "    vB = [np.zeros_like(p) for p in params['b']]\n",
        "\n",
        "    vW = beta * np.array(vW, dtype=object) + (1 - beta) * (np.array(gW, dtype=object) ** 2)\n",
        "    W = np.array(params['w'], dtype=object) - (lr / ((vW + 1e-7) ** 0.5)) * np.array(gW, dtype=object)\n",
        "\n",
        "    vB = beta * np.array(vB, dtype=object) + (1 - beta) * (np.array(gB, dtype=object) ** 2)\n",
        "    B = np.array(params['b'], dtype=object) - (lr / ((vB + 1e-7) ** 0.5)) * np.array(gB, dtype=object)\n",
        "\n",
        "    return W.tolist(), B.tolist()\n",
        "\n",
        "# Training function\n",
        "def train(X_train, y_train, x_val, y_val, num_inputs_nodes, hidden_layers, out_num, init_type, epochs,\n",
        "          batch_size, l_type, act_type, op_name, lr_rate, reg):\n",
        "    # Ensure WandB starts fresh\n",
        "    wandb.finish()\n",
        "\n",
        "    run = wandb.init(project=\"DA6401-Assignment-1\", name=\"training-run\", reinit=True)\n",
        "\n",
        "    in_node = [num_inputs_nodes]\n",
        "    layers = []\n",
        "    layers.extend(in_node)\n",
        "    layers.extend(hidden_layers)\n",
        "    layers.extend([out_num])\n",
        "\n",
        "    W, B = param(layers, init_type)\n",
        "    N = X_train.shape[0]\n",
        "    n_batches = int(np.floor(N / batch_size))\n",
        "\n",
        "    print(f\"🔹 Training with Loss Type: {l_type}\")\n",
        "    for epoch in range(epochs):\n",
        "        print(f\"Epoch {epoch}: Using Loss Type: {l_type}\")\n",
        "        train_loss, train_accuracy, val_loss, val_accuracy = [], [], [], []\n",
        "        l, acc, ds, steps = 0, 0, 0, 1\n",
        "\n",
        "        while ds < N:\n",
        "            mini_batch_size = min((N - ds), batch_size)\n",
        "            x = np.squeeze(X_train[ds:ds + mini_batch_size]).T\n",
        "            y = one_hot(y_train[ds:ds + mini_batch_size], out_num)\n",
        "\n",
        "            y_hat, h, a = forward(x, W, B, act_type)\n",
        "            grad_W, grad_B, grad_h, grad_a = back_prop(x, y, y_hat, a, h, W, B, batch_size, l_type, act_type)\n",
        "\n",
        "            if op_name == 'sgd':\n",
        "                W, B = sgd_step(W, B, grad_W, grad_B, lr_rate, reg)\n",
        "            elif op_name == 'momentum':\n",
        "                W, B = momentum_step(W, B, grad_W, grad_B, lr_rate, reg)\n",
        "            elif op_name == 'rmsprop':\n",
        "                W, B = RMSprop_step(W, B, grad_W, grad_B, lr_rate, reg)\n",
        "\n",
        "            l += loss(y_train[ds:ds + mini_batch_size], y_hat, l_type, W, reg, out_num)\n",
        "            acc += eval_acc(y_hat, y_train[ds:ds + mini_batch_size])\n",
        "\n",
        "            steps += 1\n",
        "            ds += batch_size\n",
        "\n",
        "        l /= (n_batches + mini_batch_size)\n",
        "        acc /= steps\n",
        "\n",
        "        train_loss.append(l)\n",
        "        train_accuracy.append(acc)\n",
        "\n",
        "        y_val_hat, _, _ = forward(np.squeeze(x_val).T, W, B, act_type)\n",
        "        val_acc = eval_acc(y_val_hat, y_val)\n",
        "        val_l = loss(y_val, y_val_hat, l_type, W=None, reg=reg, n_class=out_num)\n",
        "\n",
        "        val_accuracy.append(val_acc)\n",
        "        val_loss.append(val_l)\n",
        "\n",
        "        wandb.log({\"epoch\": epoch, \"Train_loss\": l, \"Train_acc\": acc, \"val_loss\": val_l, \"val_Accuracy\": val_acc})\n",
        "\n",
        "        print(f\"Epoch {epoch}: Train Loss = {l:.4f}, Train Accuracy = {acc:.4f}, Val Loss = {val_l:.4f}, Val Accuracy = {val_acc:.4f}\")\n",
        "\n",
        "    wandb.finish()  # Explicitly finish the WandB run\n",
        "\n",
        "    return W, B, train_loss, train_accuracy, val_loss, val_accuracy\n",
        "\n",
        "# Sweep configuration\n",
        "sweep_configuration = {\n",
        "    'method': \"grid\",  # Use grid search to ensure both loss types are used\n",
        "    'metric': {'name': 'val_Accuracy', 'goal': 'maximize'},\n",
        "    'parameters': {\n",
        "        'epochs': {'values': [5]},\n",
        "        'hidden_layers': {'values': [[64, 32]]},\n",
        "        'learning_rate': {'values': [1e-3]},\n",
        "        'weight_decay': {'values': [0.0005]},\n",
        "        'optimizer_name': {'values': ['sgd']},\n",
        "        'batch_size': {'values': [16]},\n",
        "        'init_type': {'values': ['xavier']},\n",
        "        'activation_type': {'values': ['sigmoid']},\n",
        "        'loss_type': {'values': ['cross_entropy', 'squared_error']}  # Both loss types\n",
        "    }\n",
        "}\n",
        "\n",
        "# Sweep training function\n",
        "def sweep_train():\n",
        "    wandb.init(project=\"DA6401-Assignment-1\", entity=\"MSE\")\n",
        "    config = wandb.config\n",
        "\n",
        "    print(f\"Running Sweep with Loss Function: {config.loss_type}\")\n",
        "    epochs = config.epochs\n",
        "    hidden_layers = config.hidden_layers\n",
        "    learning_rate = config.learning_rate\n",
        "    weight_decay = config.weight_decay\n",
        "    optimizer_name = config.optimizer_name\n",
        "    batch_size = config.batch_size\n",
        "    init_type = config.init_type\n",
        "    activation_type = config.activation_type\n",
        "    loss_type = config.loss_type\n",
        "    reg_lamda = config.weight_decay\n",
        "\n",
        "    wandb.run.name = \"e_{}_hl_{}_lr_{}_wd_{}_o_{}_bs_{}_winit_{}_ac_{}_los_{}_r_{}\".format(\n",
        "        epochs, hidden_layers, learning_rate, weight_decay, optimizer_name, batch_size, init_type, activation_type, loss_type, reg_lamda\n",
        "    )\n",
        "\n",
        "    _, _, train_loss, train_accuracy, val_loss, val_accuracy = train(\n",
        "        X_train, y_train, X_validation, y_validation, 784, hidden_layers, 10, init_type, epochs, batch_size, loss_type, activation_type, optimizer_name, learning_rate, reg_lamda\n",
        "    )\n",
        "\n",
        "# Run the sweep\n",
        "sweep_id = wandb.sweep(sweep_configuration, project='DA6401-Assignment-1')\n",
        "wandb.agent(sweep_id, function=sweep_train, project='DA6401-Assignment-1', count=2)"
      ],
      "metadata": {
        "colab": {
          "base_uri": "https://localhost:8080/",
          "height": 1000
        },
        "id": "5y_Z0RfNT3V4",
        "outputId": "ae09f29d-f1ea-41ea-a3a7-fd145fb8fcbd"
      },
      "execution_count": 21,
      "outputs": [
        {
          "output_type": "stream",
          "name": "stdout",
          "text": [
            "\u001b[34m\u001b[1mwandb\u001b[0m: Currently logged in as: \u001b[33msubikksha\u001b[0m (\u001b[33msubikksha-indian-institute-of-technology-madras\u001b[0m) to \u001b[32mhttps://api.wandb.ai\u001b[0m. Use \u001b[1m`wandb login --relogin`\u001b[0m to force relogin\n",
            "Train Dataset Shape:  (54000, 28, 28)\n",
            "Train Target Vector Shape:  (54000,)\n",
            "Test Dataset Shape: (10000, 28, 28)\n",
            "Test Target Vector Shape (10000,)\n",
            "Validation Dataset Shape: (6000, 28, 28)\n",
            "Validation Target Vector Shape (6000,)\n",
            "Create sweep with ID: w6e17oba\n",
            "Sweep URL: https://wandb.ai/subikksha-indian-institute-of-technology-madras/DA6401-Assignment-1/sweeps/w6e17oba\n"
          ]
        },
        {
          "output_type": "stream",
          "name": "stderr",
          "text": [
            "\u001b[34m\u001b[1mwandb\u001b[0m: Agent Starting Run: dhwovvxp with config:\n",
            "\u001b[34m\u001b[1mwandb\u001b[0m: \tactivation_type: sigmoid\n",
            "\u001b[34m\u001b[1mwandb\u001b[0m: \tbatch_size: 16\n",
            "\u001b[34m\u001b[1mwandb\u001b[0m: \tepochs: 5\n",
            "\u001b[34m\u001b[1mwandb\u001b[0m: \thidden_layers: [64, 32]\n",
            "\u001b[34m\u001b[1mwandb\u001b[0m: \tinit_type: xavier\n",
            "\u001b[34m\u001b[1mwandb\u001b[0m: \tlearning_rate: 0.001\n",
            "\u001b[34m\u001b[1mwandb\u001b[0m: \tloss_type: cross_entropy\n",
            "\u001b[34m\u001b[1mwandb\u001b[0m: \toptimizer_name: sgd\n",
            "\u001b[34m\u001b[1mwandb\u001b[0m: \tweight_decay: 0.0005\n"
          ]
        },
        {
          "output_type": "display_data",
          "data": {
            "text/plain": [
              "<IPython.core.display.HTML object>"
            ],
            "text/html": [
              "Ignoring project 'DA6401-Assignment-1' when running a sweep."
            ]
          },
          "metadata": {}
        },
        {
          "output_type": "display_data",
          "data": {
            "text/plain": [
              "<IPython.core.display.HTML object>"
            ],
            "text/html": [
              "Ignoring entity 'MSE' when running a sweep."
            ]
          },
          "metadata": {}
        },
        {
          "output_type": "display_data",
          "data": {
            "text/plain": [
              "<IPython.core.display.HTML object>"
            ],
            "text/html": [
              "Tracking run with wandb version 0.19.8"
            ]
          },
          "metadata": {}
        },
        {
          "output_type": "display_data",
          "data": {
            "text/plain": [
              "<IPython.core.display.HTML object>"
            ],
            "text/html": [
              "Run data is saved locally in <code>/content/wandb/run-20250316_101625-dhwovvxp</code>"
            ]
          },
          "metadata": {}
        },
        {
          "output_type": "display_data",
          "data": {
            "text/plain": [
              "<IPython.core.display.HTML object>"
            ],
            "text/html": [
              "Syncing run <strong><a href='https://wandb.ai/subikksha-indian-institute-of-technology-madras/DA6401-Assignment-1/runs/dhwovvxp' target=\"_blank\">glamorous-sweep-1</a></strong> to <a href='https://wandb.ai/subikksha-indian-institute-of-technology-madras/DA6401-Assignment-1' target=\"_blank\">Weights & Biases</a> (<a href='https://wandb.me/developer-guide' target=\"_blank\">docs</a>)<br>Sweep page: <a href='https://wandb.ai/subikksha-indian-institute-of-technology-madras/DA6401-Assignment-1/sweeps/w6e17oba' target=\"_blank\">https://wandb.ai/subikksha-indian-institute-of-technology-madras/DA6401-Assignment-1/sweeps/w6e17oba</a>"
            ]
          },
          "metadata": {}
        },
        {
          "output_type": "display_data",
          "data": {
            "text/plain": [
              "<IPython.core.display.HTML object>"
            ],
            "text/html": [
              " View project at <a href='https://wandb.ai/subikksha-indian-institute-of-technology-madras/DA6401-Assignment-1' target=\"_blank\">https://wandb.ai/subikksha-indian-institute-of-technology-madras/DA6401-Assignment-1</a>"
            ]
          },
          "metadata": {}
        },
        {
          "output_type": "display_data",
          "data": {
            "text/plain": [
              "<IPython.core.display.HTML object>"
            ],
            "text/html": [
              " View sweep at <a href='https://wandb.ai/subikksha-indian-institute-of-technology-madras/DA6401-Assignment-1/sweeps/w6e17oba' target=\"_blank\">https://wandb.ai/subikksha-indian-institute-of-technology-madras/DA6401-Assignment-1/sweeps/w6e17oba</a>"
            ]
          },
          "metadata": {}
        },
        {
          "output_type": "display_data",
          "data": {
            "text/plain": [
              "<IPython.core.display.HTML object>"
            ],
            "text/html": [
              " View run at <a href='https://wandb.ai/subikksha-indian-institute-of-technology-madras/DA6401-Assignment-1/runs/dhwovvxp' target=\"_blank\">https://wandb.ai/subikksha-indian-institute-of-technology-madras/DA6401-Assignment-1/runs/dhwovvxp</a>"
            ]
          },
          "metadata": {}
        },
        {
          "output_type": "stream",
          "name": "stdout",
          "text": [
            "Running Sweep with Loss Function: cross_entropy\n"
          ]
        },
        {
          "output_type": "display_data",
          "data": {
            "text/plain": [
              "<IPython.core.display.HTML object>"
            ],
            "text/html": []
          },
          "metadata": {}
        },
        {
          "output_type": "display_data",
          "data": {
            "text/plain": [
              "<IPython.core.display.HTML object>"
            ],
            "text/html": [
              " View run <strong style=\"color:#cdcd00\">e_5_hl_[64, 32]_lr_0.001_wd_0.0005_o_sgd_bs_16_winit_xavier_ac_sigmoid_los_cross_entropy_r_0.0005</strong> at: <a href='https://wandb.ai/subikksha-indian-institute-of-technology-madras/DA6401-Assignment-1/runs/dhwovvxp' target=\"_blank\">https://wandb.ai/subikksha-indian-institute-of-technology-madras/DA6401-Assignment-1/runs/dhwovvxp</a><br> View project at: <a href='https://wandb.ai/subikksha-indian-institute-of-technology-madras/DA6401-Assignment-1' target=\"_blank\">https://wandb.ai/subikksha-indian-institute-of-technology-madras/DA6401-Assignment-1</a><br>Synced 5 W&B file(s), 0 media file(s), 0 artifact file(s) and 0 other file(s)"
            ]
          },
          "metadata": {}
        },
        {
          "output_type": "display_data",
          "data": {
            "text/plain": [
              "<IPython.core.display.HTML object>"
            ],
            "text/html": [
              "Find logs at: <code>./wandb/run-20250316_101625-dhwovvxp/logs</code>"
            ]
          },
          "metadata": {}
        },
        {
          "output_type": "display_data",
          "data": {
            "text/plain": [
              "<IPython.core.display.HTML object>"
            ],
            "text/html": [
              "Ignoring project 'DA6401-Assignment-1' when running a sweep."
            ]
          },
          "metadata": {}
        },
        {
          "output_type": "display_data",
          "data": {
            "text/plain": [
              "<IPython.core.display.HTML object>"
            ],
            "text/html": [
              "Tracking run with wandb version 0.19.8"
            ]
          },
          "metadata": {}
        },
        {
          "output_type": "display_data",
          "data": {
            "text/plain": [
              "<IPython.core.display.HTML object>"
            ],
            "text/html": [
              "Run data is saved locally in <code>/content/wandb/run-20250316_101628-dhwovvxp</code>"
            ]
          },
          "metadata": {}
        },
        {
          "output_type": "display_data",
          "data": {
            "text/plain": [
              "<IPython.core.display.HTML object>"
            ],
            "text/html": [
              "Syncing run <strong><a href='https://wandb.ai/subikksha-indian-institute-of-technology-madras/DA6401-Assignment-1/runs/dhwovvxp' target=\"_blank\">training-run</a></strong> to <a href='https://wandb.ai/subikksha-indian-institute-of-technology-madras/DA6401-Assignment-1' target=\"_blank\">Weights & Biases</a> (<a href='https://wandb.me/developer-guide' target=\"_blank\">docs</a>)<br>Sweep page: <a href='https://wandb.ai/subikksha-indian-institute-of-technology-madras/DA6401-Assignment-1/sweeps/w6e17oba' target=\"_blank\">https://wandb.ai/subikksha-indian-institute-of-technology-madras/DA6401-Assignment-1/sweeps/w6e17oba</a>"
            ]
          },
          "metadata": {}
        },
        {
          "output_type": "display_data",
          "data": {
            "text/plain": [
              "<IPython.core.display.HTML object>"
            ],
            "text/html": [
              " View project at <a href='https://wandb.ai/subikksha-indian-institute-of-technology-madras/DA6401-Assignment-1' target=\"_blank\">https://wandb.ai/subikksha-indian-institute-of-technology-madras/DA6401-Assignment-1</a>"
            ]
          },
          "metadata": {}
        },
        {
          "output_type": "display_data",
          "data": {
            "text/plain": [
              "<IPython.core.display.HTML object>"
            ],
            "text/html": [
              " View sweep at <a href='https://wandb.ai/subikksha-indian-institute-of-technology-madras/DA6401-Assignment-1/sweeps/w6e17oba' target=\"_blank\">https://wandb.ai/subikksha-indian-institute-of-technology-madras/DA6401-Assignment-1/sweeps/w6e17oba</a>"
            ]
          },
          "metadata": {}
        },
        {
          "output_type": "display_data",
          "data": {
            "text/plain": [
              "<IPython.core.display.HTML object>"
            ],
            "text/html": [
              " View run at <a href='https://wandb.ai/subikksha-indian-institute-of-technology-madras/DA6401-Assignment-1/runs/dhwovvxp' target=\"_blank\">https://wandb.ai/subikksha-indian-institute-of-technology-madras/DA6401-Assignment-1/runs/dhwovvxp</a>"
            ]
          },
          "metadata": {}
        },
        {
          "output_type": "stream",
          "name": "stdout",
          "text": [
            "🔹 Training with Loss Type: cross_entropy\n",
            "Epoch 0: Using Loss Type: cross_entropy\n",
            "Epoch 0: Train Loss = 1.7502, Train Accuracy = 48.0228, Val Loss = 1.1351, Val Accuracy = 65.5500\n",
            "Epoch 1: Using Loss Type: cross_entropy\n",
            "Epoch 1: Train Loss = 1.0679, Train Accuracy = 68.1206, Val Loss = 0.7920, Val Accuracy = 72.3833\n",
            "Epoch 2: Using Loss Type: cross_entropy\n",
            "Epoch 2: Train Loss = 0.8891, Train Accuracy = 74.0484, Val Loss = 0.6559, Val Accuracy = 76.5333\n",
            "Epoch 3: Using Loss Type: cross_entropy\n",
            "Epoch 3: Train Loss = 0.8149, Train Accuracy = 77.6103, Val Loss = 0.5825, Val Accuracy = 79.1500\n",
            "Epoch 4: Using Loss Type: cross_entropy\n",
            "Epoch 4: Train Loss = 0.7761, Train Accuracy = 80.1355, Val Loss = 0.5352, Val Accuracy = 80.8500\n"
          ]
        },
        {
          "output_type": "display_data",
          "data": {
            "text/plain": [
              "<IPython.core.display.HTML object>"
            ],
            "text/html": []
          },
          "metadata": {}
        },
        {
          "output_type": "display_data",
          "data": {
            "text/plain": [
              "<IPython.core.display.HTML object>"
            ],
            "text/html": [
              "<br>    <style><br>        .wandb-row {<br>            display: flex;<br>            flex-direction: row;<br>            flex-wrap: wrap;<br>            justify-content: flex-start;<br>            width: 100%;<br>        }<br>        .wandb-col {<br>            display: flex;<br>            flex-direction: column;<br>            flex-basis: 100%;<br>            flex: 1;<br>            padding: 10px;<br>        }<br>    </style><br><div class=\"wandb-row\"><div class=\"wandb-col\"><h3>Run history:</h3><br/><table class=\"wandb\"><tr><td>Train_acc</td><td>▁▅▇▇█</td></tr><tr><td>Train_loss</td><td>█▃▂▁▁</td></tr><tr><td>epoch</td><td>▁▃▅▆█</td></tr><tr><td>val_Accuracy</td><td>▁▄▆▇█</td></tr><tr><td>val_loss</td><td>█▄▂▂▁</td></tr></table><br/></div><div class=\"wandb-col\"><h3>Run summary:</h3><br/><table class=\"wandb\"><tr><td>Train_acc</td><td>80.13552</td></tr><tr><td>Train_loss</td><td>0.77607</td></tr><tr><td>epoch</td><td>4</td></tr><tr><td>val_Accuracy</td><td>80.85</td></tr><tr><td>val_loss</td><td>0.53522</td></tr></table><br/></div></div>"
            ]
          },
          "metadata": {}
        },
        {
          "output_type": "display_data",
          "data": {
            "text/plain": [
              "<IPython.core.display.HTML object>"
            ],
            "text/html": [
              " View run <strong style=\"color:#cdcd00\">training-run</strong> at: <a href='https://wandb.ai/subikksha-indian-institute-of-technology-madras/DA6401-Assignment-1/runs/dhwovvxp' target=\"_blank\">https://wandb.ai/subikksha-indian-institute-of-technology-madras/DA6401-Assignment-1/runs/dhwovvxp</a><br> View project at: <a href='https://wandb.ai/subikksha-indian-institute-of-technology-madras/DA6401-Assignment-1' target=\"_blank\">https://wandb.ai/subikksha-indian-institute-of-technology-madras/DA6401-Assignment-1</a><br>Synced 5 W&B file(s), 0 media file(s), 0 artifact file(s) and 0 other file(s)"
            ]
          },
          "metadata": {}
        },
        {
          "output_type": "display_data",
          "data": {
            "text/plain": [
              "<IPython.core.display.HTML object>"
            ],
            "text/html": [
              "Find logs at: <code>./wandb/run-20250316_101628-dhwovvxp/logs</code>"
            ]
          },
          "metadata": {}
        },
        {
          "output_type": "stream",
          "name": "stderr",
          "text": [
            "\u001b[34m\u001b[1mwandb\u001b[0m: Agent Starting Run: w6cwclue with config:\n",
            "\u001b[34m\u001b[1mwandb\u001b[0m: \tactivation_type: sigmoid\n",
            "\u001b[34m\u001b[1mwandb\u001b[0m: \tbatch_size: 16\n",
            "\u001b[34m\u001b[1mwandb\u001b[0m: \tepochs: 5\n",
            "\u001b[34m\u001b[1mwandb\u001b[0m: \thidden_layers: [64, 32]\n",
            "\u001b[34m\u001b[1mwandb\u001b[0m: \tinit_type: xavier\n",
            "\u001b[34m\u001b[1mwandb\u001b[0m: \tlearning_rate: 0.001\n",
            "\u001b[34m\u001b[1mwandb\u001b[0m: \tloss_type: squared_error\n",
            "\u001b[34m\u001b[1mwandb\u001b[0m: \toptimizer_name: sgd\n",
            "\u001b[34m\u001b[1mwandb\u001b[0m: \tweight_decay: 0.0005\n"
          ]
        },
        {
          "output_type": "display_data",
          "data": {
            "text/plain": [
              "<IPython.core.display.HTML object>"
            ],
            "text/html": [
              "Ignoring project 'DA6401-Assignment-1' when running a sweep."
            ]
          },
          "metadata": {}
        },
        {
          "output_type": "display_data",
          "data": {
            "text/plain": [
              "<IPython.core.display.HTML object>"
            ],
            "text/html": [
              "Ignoring entity 'MSE' when running a sweep."
            ]
          },
          "metadata": {}
        },
        {
          "output_type": "display_data",
          "data": {
            "text/plain": [
              "<IPython.core.display.HTML object>"
            ],
            "text/html": [
              "Tracking run with wandb version 0.19.8"
            ]
          },
          "metadata": {}
        },
        {
          "output_type": "display_data",
          "data": {
            "text/plain": [
              "<IPython.core.display.HTML object>"
            ],
            "text/html": [
              "Run data is saved locally in <code>/content/wandb/run-20250316_101712-w6cwclue</code>"
            ]
          },
          "metadata": {}
        },
        {
          "output_type": "display_data",
          "data": {
            "text/plain": [
              "<IPython.core.display.HTML object>"
            ],
            "text/html": [
              "Syncing run <strong><a href='https://wandb.ai/subikksha-indian-institute-of-technology-madras/DA6401-Assignment-1/runs/w6cwclue' target=\"_blank\">fresh-sweep-2</a></strong> to <a href='https://wandb.ai/subikksha-indian-institute-of-technology-madras/DA6401-Assignment-1' target=\"_blank\">Weights & Biases</a> (<a href='https://wandb.me/developer-guide' target=\"_blank\">docs</a>)<br>Sweep page: <a href='https://wandb.ai/subikksha-indian-institute-of-technology-madras/DA6401-Assignment-1/sweeps/w6e17oba' target=\"_blank\">https://wandb.ai/subikksha-indian-institute-of-technology-madras/DA6401-Assignment-1/sweeps/w6e17oba</a>"
            ]
          },
          "metadata": {}
        },
        {
          "output_type": "display_data",
          "data": {
            "text/plain": [
              "<IPython.core.display.HTML object>"
            ],
            "text/html": [
              " View project at <a href='https://wandb.ai/subikksha-indian-institute-of-technology-madras/DA6401-Assignment-1' target=\"_blank\">https://wandb.ai/subikksha-indian-institute-of-technology-madras/DA6401-Assignment-1</a>"
            ]
          },
          "metadata": {}
        },
        {
          "output_type": "display_data",
          "data": {
            "text/plain": [
              "<IPython.core.display.HTML object>"
            ],
            "text/html": [
              " View sweep at <a href='https://wandb.ai/subikksha-indian-institute-of-technology-madras/DA6401-Assignment-1/sweeps/w6e17oba' target=\"_blank\">https://wandb.ai/subikksha-indian-institute-of-technology-madras/DA6401-Assignment-1/sweeps/w6e17oba</a>"
            ]
          },
          "metadata": {}
        },
        {
          "output_type": "display_data",
          "data": {
            "text/plain": [
              "<IPython.core.display.HTML object>"
            ],
            "text/html": [
              " View run at <a href='https://wandb.ai/subikksha-indian-institute-of-technology-madras/DA6401-Assignment-1/runs/w6cwclue' target=\"_blank\">https://wandb.ai/subikksha-indian-institute-of-technology-madras/DA6401-Assignment-1/runs/w6cwclue</a>"
            ]
          },
          "metadata": {}
        },
        {
          "output_type": "stream",
          "name": "stdout",
          "text": [
            "Running Sweep with Loss Function: squared_error\n"
          ]
        },
        {
          "output_type": "display_data",
          "data": {
            "text/plain": [
              "<IPython.core.display.HTML object>"
            ],
            "text/html": []
          },
          "metadata": {}
        },
        {
          "output_type": "display_data",
          "data": {
            "text/plain": [
              "<IPython.core.display.HTML object>"
            ],
            "text/html": [
              " View run <strong style=\"color:#cdcd00\">e_5_hl_[64, 32]_lr_0.001_wd_0.0005_o_sgd_bs_16_winit_xavier_ac_sigmoid_los_squared_error_r_0.0005</strong> at: <a href='https://wandb.ai/subikksha-indian-institute-of-technology-madras/DA6401-Assignment-1/runs/w6cwclue' target=\"_blank\">https://wandb.ai/subikksha-indian-institute-of-technology-madras/DA6401-Assignment-1/runs/w6cwclue</a><br> View project at: <a href='https://wandb.ai/subikksha-indian-institute-of-technology-madras/DA6401-Assignment-1' target=\"_blank\">https://wandb.ai/subikksha-indian-institute-of-technology-madras/DA6401-Assignment-1</a><br>Synced 5 W&B file(s), 0 media file(s), 0 artifact file(s) and 0 other file(s)"
            ]
          },
          "metadata": {}
        },
        {
          "output_type": "display_data",
          "data": {
            "text/plain": [
              "<IPython.core.display.HTML object>"
            ],
            "text/html": [
              "Find logs at: <code>./wandb/run-20250316_101712-w6cwclue/logs</code>"
            ]
          },
          "metadata": {}
        },
        {
          "output_type": "display_data",
          "data": {
            "text/plain": [
              "<IPython.core.display.HTML object>"
            ],
            "text/html": [
              "Ignoring project 'DA6401-Assignment-1' when running a sweep."
            ]
          },
          "metadata": {}
        },
        {
          "output_type": "display_data",
          "data": {
            "text/plain": [
              "<IPython.core.display.HTML object>"
            ],
            "text/html": [
              "Tracking run with wandb version 0.19.8"
            ]
          },
          "metadata": {}
        },
        {
          "output_type": "display_data",
          "data": {
            "text/plain": [
              "<IPython.core.display.HTML object>"
            ],
            "text/html": [
              "Run data is saved locally in <code>/content/wandb/run-20250316_101715-w6cwclue</code>"
            ]
          },
          "metadata": {}
        },
        {
          "output_type": "display_data",
          "data": {
            "text/plain": [
              "<IPython.core.display.HTML object>"
            ],
            "text/html": [
              "Syncing run <strong><a href='https://wandb.ai/subikksha-indian-institute-of-technology-madras/DA6401-Assignment-1/runs/w6cwclue' target=\"_blank\">training-run</a></strong> to <a href='https://wandb.ai/subikksha-indian-institute-of-technology-madras/DA6401-Assignment-1' target=\"_blank\">Weights & Biases</a> (<a href='https://wandb.me/developer-guide' target=\"_blank\">docs</a>)<br>Sweep page: <a href='https://wandb.ai/subikksha-indian-institute-of-technology-madras/DA6401-Assignment-1/sweeps/w6e17oba' target=\"_blank\">https://wandb.ai/subikksha-indian-institute-of-technology-madras/DA6401-Assignment-1/sweeps/w6e17oba</a>"
            ]
          },
          "metadata": {}
        },
        {
          "output_type": "display_data",
          "data": {
            "text/plain": [
              "<IPython.core.display.HTML object>"
            ],
            "text/html": [
              " View project at <a href='https://wandb.ai/subikksha-indian-institute-of-technology-madras/DA6401-Assignment-1' target=\"_blank\">https://wandb.ai/subikksha-indian-institute-of-technology-madras/DA6401-Assignment-1</a>"
            ]
          },
          "metadata": {}
        },
        {
          "output_type": "display_data",
          "data": {
            "text/plain": [
              "<IPython.core.display.HTML object>"
            ],
            "text/html": [
              " View sweep at <a href='https://wandb.ai/subikksha-indian-institute-of-technology-madras/DA6401-Assignment-1/sweeps/w6e17oba' target=\"_blank\">https://wandb.ai/subikksha-indian-institute-of-technology-madras/DA6401-Assignment-1/sweeps/w6e17oba</a>"
            ]
          },
          "metadata": {}
        },
        {
          "output_type": "display_data",
          "data": {
            "text/plain": [
              "<IPython.core.display.HTML object>"
            ],
            "text/html": [
              " View run at <a href='https://wandb.ai/subikksha-indian-institute-of-technology-madras/DA6401-Assignment-1/runs/w6cwclue' target=\"_blank\">https://wandb.ai/subikksha-indian-institute-of-technology-madras/DA6401-Assignment-1/runs/w6cwclue</a>"
            ]
          },
          "metadata": {}
        },
        {
          "output_type": "stream",
          "name": "stdout",
          "text": [
            "🔹 Training with Loss Type: squared_error\n",
            "Epoch 0: Using Loss Type: squared_error\n",
            "Epoch 0: Train Loss = 0.5309, Train Accuracy = 22.0546, Val Loss = 0.4417, Val Accuracy = 26.7500\n",
            "Epoch 1: Using Loss Type: squared_error\n",
            "Epoch 1: Train Loss = 0.5209, Train Accuracy = 29.5635, Val Loss = 0.4292, Val Accuracy = 32.4833\n",
            "Epoch 2: Using Loss Type: squared_error\n",
            "Epoch 2: Train Loss = 0.5072, Train Accuracy = 31.7276, Val Loss = 0.4084, Val Accuracy = 28.5833\n",
            "Epoch 3: Using Loss Type: squared_error\n",
            "Epoch 3: Train Loss = 0.4921, Train Accuracy = 32.7921, Val Loss = 0.3857, Val Accuracy = 38.1500\n",
            "Epoch 4: Using Loss Type: squared_error\n",
            "Epoch 4: Train Loss = 0.4851, Train Accuracy = 42.0690, Val Loss = 0.3663, Val Accuracy = 45.8000\n"
          ]
        },
        {
          "output_type": "display_data",
          "data": {
            "text/plain": [
              "<IPython.core.display.HTML object>"
            ],
            "text/html": []
          },
          "metadata": {}
        },
        {
          "output_type": "display_data",
          "data": {
            "text/plain": [
              "<IPython.core.display.HTML object>"
            ],
            "text/html": [
              "<br>    <style><br>        .wandb-row {<br>            display: flex;<br>            flex-direction: row;<br>            flex-wrap: wrap;<br>            justify-content: flex-start;<br>            width: 100%;<br>        }<br>        .wandb-col {<br>            display: flex;<br>            flex-direction: column;<br>            flex-basis: 100%;<br>            flex: 1;<br>            padding: 10px;<br>        }<br>    </style><br><div class=\"wandb-row\"><div class=\"wandb-col\"><h3>Run history:</h3><br/><table class=\"wandb\"><tr><td>Train_acc</td><td>▁▄▄▅█</td></tr><tr><td>Train_loss</td><td>█▆▄▂▁</td></tr><tr><td>epoch</td><td>▁▃▅▆█</td></tr><tr><td>val_Accuracy</td><td>▁▃▂▅█</td></tr><tr><td>val_loss</td><td>█▇▅▃▁</td></tr></table><br/></div><div class=\"wandb-col\"><h3>Run summary:</h3><br/><table class=\"wandb\"><tr><td>Train_acc</td><td>42.06902</td></tr><tr><td>Train_loss</td><td>0.48514</td></tr><tr><td>epoch</td><td>4</td></tr><tr><td>val_Accuracy</td><td>45.8</td></tr><tr><td>val_loss</td><td>0.36625</td></tr></table><br/></div></div>"
            ]
          },
          "metadata": {}
        },
        {
          "output_type": "display_data",
          "data": {
            "text/plain": [
              "<IPython.core.display.HTML object>"
            ],
            "text/html": [
              " View run <strong style=\"color:#cdcd00\">training-run</strong> at: <a href='https://wandb.ai/subikksha-indian-institute-of-technology-madras/DA6401-Assignment-1/runs/w6cwclue' target=\"_blank\">https://wandb.ai/subikksha-indian-institute-of-technology-madras/DA6401-Assignment-1/runs/w6cwclue</a><br> View project at: <a href='https://wandb.ai/subikksha-indian-institute-of-technology-madras/DA6401-Assignment-1' target=\"_blank\">https://wandb.ai/subikksha-indian-institute-of-technology-madras/DA6401-Assignment-1</a><br>Synced 5 W&B file(s), 0 media file(s), 0 artifact file(s) and 0 other file(s)"
            ]
          },
          "metadata": {}
        },
        {
          "output_type": "display_data",
          "data": {
            "text/plain": [
              "<IPython.core.display.HTML object>"
            ],
            "text/html": [
              "Find logs at: <code>./wandb/run-20250316_101715-w6cwclue/logs</code>"
            ]
          },
          "metadata": {}
        }
      ]
    },
    {
      "cell_type": "code",
      "source": [],
      "metadata": {
        "id": "scIVOJ5zT4Rx"
      },
      "execution_count": null,
      "outputs": []
    }
  ]
}